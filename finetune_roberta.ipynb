{
 "cells": [
  {
   "cell_type": "markdown",
   "metadata": {
    "application/vnd.databricks.v1+cell": {
     "cellMetadata": {
      "byteLimit": 2048000,
      "rowLimit": 10000
     },
     "inputWidgets": {},
     "nuid": "dd4c0092-a5b1-4dea-9cb8-1cc2d8f0d533",
     "showTitle": false,
     "title": ""
    }
   },
   "source": [
    "Steps - \n",
    "1. Import datasets\n",
    "2. Create Pytorch dataset - which can load comments from the dataset, tokenize them using huggingface \n",
    "3. Pytorch data module to create training and validation data loaders\n",
    "4. Create model by fine tuning pretrained roberta model and initialize classification head (helps classify each label in data corpus).\n",
    "5. Train the model and evaluate its performance. \n",
    "\n",
    "Steps 2,4,5 require pytorch and hugging face\n",
    "\n",
    "Steps 3,4,5 require pytorch lightning framework"
   ]
  },
  {
   "cell_type": "code",
   "execution_count": 0,
   "metadata": {
    "application/vnd.databricks.v1+cell": {
     "cellMetadata": {
      "byteLimit": 2048000,
      "rowLimit": 10000
     },
     "inputWidgets": {},
     "nuid": "10756606-b58e-429e-8c24-d57c4658bcc7",
     "showTitle": false,
     "title": ""
    }
   },
   "outputs": [
    {
     "output_type": "stream",
     "name": "stdout",
     "output_type": "stream",
     "text": [
      "Python interpreter will be restarted.\nCollecting transformers\n  Using cached transformers-4.33.0-py3-none-any.whl (7.6 MB)\nCollecting pytorch-lightning\n  Using cached pytorch_lightning-2.0.8-py3-none-any.whl (727 kB)\nCollecting sentencepiece\n  Using cached sentencepiece-0.1.99-cp39-cp39-manylinux_2_17_x86_64.manylinux2014_x86_64.whl (1.3 MB)\nCollecting mlflow\n  Using cached mlflow-2.6.0-py3-none-any.whl (18.3 MB)\nRequirement already satisfied: packaging>=20.0 in /databricks/python3/lib/python3.9/site-packages (from transformers) (21.3)\nCollecting pyyaml>=5.1\n  Using cached PyYAML-6.0.1-cp39-cp39-manylinux_2_17_x86_64.manylinux2014_x86_64.whl (738 kB)\nCollecting safetensors>=0.3.1\n  Using cached safetensors-0.3.3-cp39-cp39-manylinux_2_17_x86_64.manylinux2014_x86_64.whl (1.3 MB)\nRequirement already satisfied: filelock in /usr/local/lib/python3.9/dist-packages (from transformers) (3.9.0)\nRequirement already satisfied: numpy>=1.17 in /local_disk0/.ephemeral_nfs/cluster_libraries/python/lib/python3.9/site-packages (from transformers) (1.24.3)\nCollecting regex!=2019.12.17\n  Using cached regex-2023.8.8-cp39-cp39-manylinux_2_17_x86_64.manylinux2014_x86_64.whl (771 kB)\nCollecting huggingface-hub<1.0,>=0.15.1\n  Using cached huggingface_hub-0.16.4-py3-none-any.whl (268 kB)\nCollecting tokenizers!=0.11.3,<0.14,>=0.11.1\n  Using cached tokenizers-0.13.3-cp39-cp39-manylinux_2_17_x86_64.manylinux2014_x86_64.whl (7.8 MB)\nCollecting tqdm>=4.27\n  Using cached tqdm-4.66.1-py3-none-any.whl (78 kB)\nRequirement already satisfied: requests in /databricks/python3/lib/python3.9/site-packages (from transformers) (2.27.1)\nCollecting torch>=1.11.0\n  Using cached torch-2.0.1-cp39-cp39-manylinux1_x86_64.whl (619.9 MB)\nCollecting fsspec[http]>2021.06.0\n  Using cached fsspec-2023.9.0-py3-none-any.whl (173 kB)\nRequirement already satisfied: typing-extensions>=4.0.0 in /databricks/python3/lib/python3.9/site-packages (from pytorch-lightning) (4.1.1)\nCollecting lightning-utilities>=0.7.0\n  Using cached lightning_utilities-0.9.0-py3-none-any.whl (23 kB)\nCollecting torchmetrics>=0.7.0\n  Using cached torchmetrics-1.1.1-py3-none-any.whl (763 kB)\nCollecting docker<7,>=4.0.0\n  Using cached docker-6.1.3-py3-none-any.whl (148 kB)\nRequirement already satisfied: pytz<2024 in /databricks/python3/lib/python3.9/site-packages (from mlflow) (2021.3)\nCollecting gitpython<4,>=2.1.0\n  Using cached GitPython-3.1.34-py3-none-any.whl (188 kB)\nCollecting cloudpickle<3\n  Using cached cloudpickle-2.2.1-py3-none-any.whl (25 kB)\nRequirement already satisfied: protobuf<5,>=3.12.0 in /local_disk0/.ephemeral_nfs/cluster_libraries/python/lib/python3.9/site-packages (from mlflow) (4.24.2)\nCollecting alembic!=1.10.0,<2\n  Using cached alembic-1.12.0-py3-none-any.whl (226 kB)\nRequirement already satisfied: Jinja2<4,>=2.11 in /databricks/python3/lib/python3.9/site-packages (from mlflow) (2.11.3)\nRequirement already satisfied: scipy<2 in /databricks/python3/lib/python3.9/site-packages (from mlflow) (1.7.3)\nCollecting Flask<3\n  Using cached flask-2.3.3-py3-none-any.whl (96 kB)\nRequirement already satisfied: pyarrow<13,>=4.0.0 in /databricks/python3/lib/python3.9/site-packages (from mlflow) (7.0.0)\nRequirement already satisfied: matplotlib<4 in /databricks/python3/lib/python3.9/site-packages (from mlflow) (3.5.1)\nRequirement already satisfied: scikit-learn<2 in /databricks/python3/lib/python3.9/site-packages (from mlflow) (1.0.2)\nRequirement already satisfied: entrypoints<1 in /databricks/python3/lib/python3.9/site-packages (from mlflow) (0.4)\nRequirement already satisfied: markdown<4,>=3.3 in /local_disk0/.ephemeral_nfs/cluster_libraries/python/lib/python3.9/site-packages (from mlflow) (3.4.4)\nRequirement already satisfied: pandas<3 in /databricks/python3/lib/python3.9/site-packages (from mlflow) (1.4.2)\nCollecting querystring-parser<2\n  Using cached querystring_parser-1.2.4-py2.py3-none-any.whl (7.9 kB)\nCollecting gunicorn<22\n  Using cached gunicorn-21.2.0-py3-none-any.whl (80 kB)\nRequirement already satisfied: importlib-metadata!=4.7.0,<7,>=3.7.0 in /local_disk0/.ephemeral_nfs/cluster_libraries/python/lib/python3.9/site-packages (from mlflow) (6.8.0)\nCollecting sqlalchemy<3,>=1.4.0\n  Using cached SQLAlchemy-2.0.20-cp39-cp39-manylinux_2_17_x86_64.manylinux2014_x86_64.whl (3.0 MB)\nCollecting sqlparse<1,>=0.4.0\n  Using cached sqlparse-0.4.4-py3-none-any.whl (41 kB)\nCollecting databricks-cli<1,>=0.8.7\n  Using cached databricks_cli-0.17.7-py3-none-any.whl\nRequirement already satisfied: click<9,>=7.0 in /databricks/python3/lib/python3.9/site-packages (from mlflow) (8.0.4)\nCollecting Mako\n  Using cached Mako-1.2.4-py3-none-any.whl (78 kB)\nRequirement already satisfied: urllib3<2.0.0,>=1.26.7 in /databricks/python3/lib/python3.9/site-packages (from databricks-cli<1,>=0.8.7->mlflow) (1.26.9)\nCollecting tabulate>=0.7.7\n  Using cached tabulate-0.9.0-py3-none-any.whl (35 kB)\nRequirement already satisfied: six>=1.10.0 in /databricks/python3/lib/python3.9/site-packages (from databricks-cli<1,>=0.8.7->mlflow) (1.16.0)\nRequirement already satisfied: oauthlib>=3.1.0 in /local_disk0/.ephemeral_nfs/cluster_libraries/python/lib/python3.9/site-packages (from databricks-cli<1,>=0.8.7->mlflow) (3.2.2)\nCollecting pyjwt>=1.7.0\n  Using cached PyJWT-2.8.0-py3-none-any.whl (22 kB)\nCollecting websocket-client>=0.32.0\n  Using cached websocket_client-1.6.2-py3-none-any.whl (57 kB)\nRequirement already satisfied: Werkzeug>=2.3.7 in /local_disk0/.ephemeral_nfs/cluster_libraries/python/lib/python3.9/site-packages (from Flask<3->mlflow) (2.3.7)\nCollecting click<9,>=7.0\n  Using cached click-8.1.7-py3-none-any.whl (97 kB)\nCollecting itsdangerous>=2.1.2\n  Using cached itsdangerous-2.1.2-py3-none-any.whl (15 kB)\nCollecting blinker>=1.6.2\n  Using cached blinker-1.6.2-py3-none-any.whl (13 kB)\nCollecting Jinja2<4,>=2.11\n  Using cached Jinja2-3.1.2-py3-none-any.whl (133 kB)\nCollecting aiohttp!=4.0.0a0,!=4.0.0a1\n  Using cached aiohttp-3.8.5-cp39-cp39-manylinux_2_17_x86_64.manylinux2014_x86_64.whl (1.1 MB)\nCollecting frozenlist>=1.1.1\n  Using cached frozenlist-1.4.0-cp39-cp39-manylinux_2_5_x86_64.manylinux1_x86_64.manylinux_2_17_x86_64.manylinux2014_x86_64.whl (228 kB)\nRequirement already satisfied: charset-normalizer<4.0,>=2.0 in /databricks/python3/lib/python3.9/site-packages (from aiohttp!=4.0.0a0,!=4.0.0a1->fsspec[http]>2021.06.0->pytorch-lightning) (2.0.4)\nCollecting yarl<2.0,>=1.0\n  Using cached yarl-1.9.2-cp39-cp39-manylinux_2_17_x86_64.manylinux2014_x86_64.whl (269 kB)\nCollecting async-timeout<5.0,>=4.0.0a3\n  Using cached async_timeout-4.0.3-py3-none-any.whl (5.7 kB)\nCollecting aiosignal>=1.1.2\n  Using cached aiosignal-1.3.1-py3-none-any.whl (7.6 kB)\nCollecting multidict<7.0,>=4.5\n  Using cached multidict-6.0.4-cp39-cp39-manylinux_2_17_x86_64.manylinux2014_x86_64.whl (114 kB)\nRequirement already satisfied: attrs>=17.3.0 in /databricks/python3/lib/python3.9/site-packages (from aiohttp!=4.0.0a0,!=4.0.0a1->fsspec[http]>2021.06.0->pytorch-lightning) (21.4.0)\nCollecting gitdb<5,>=4.0.1\n  Using cached gitdb-4.0.10-py3-none-any.whl (62 kB)\nCollecting smmap<6,>=3.0.1\n  Using cached smmap-5.0.0-py3-none-any.whl (24 kB)\nRequirement already satisfied: zipp>=0.5 in /local_disk0/.ephemeral_nfs/cluster_libraries/python/lib/python3.9/site-packages (from importlib-metadata!=4.7.0,<7,>=3.7.0->mlflow) (3.16.2)\nRequirement already satisfied: MarkupSafe>=2.0 in /local_disk0/.ephemeral_nfs/cluster_libraries/python/lib/python3.9/site-packages (from Jinja2<4,>=2.11->mlflow) (2.1.3)\nRequirement already satisfied: python-dateutil>=2.7 in /databricks/python3/lib/python3.9/site-packages (from matplotlib<4->mlflow) (2.8.2)\nRequirement already satisfied: fonttools>=4.22.0 in /databricks/python3/lib/python3.9/site-packages (from matplotlib<4->mlflow) (4.25.0)\nRequirement already satisfied: kiwisolver>=1.0.1 in /databricks/python3/lib/python3.9/site-packages (from matplotlib<4->mlflow) (1.3.2)\nRequirement already satisfied: pyparsing>=2.2.1 in /databricks/python3/lib/python3.9/site-packages (from matplotlib<4->mlflow) (3.0.4)\nRequirement already satisfied: cycler>=0.10 in /databricks/python3/lib/python3.9/site-packages (from matplotlib<4->mlflow) (0.11.0)\nRequirement already satisfied: pillow>=6.2.0 in /databricks/python3/lib/python3.9/site-packages (from matplotlib<4->mlflow) (9.0.1)\nRequirement already satisfied: idna<4,>=2.5 in /databricks/python3/lib/python3.9/site-packages (from requests->transformers) (3.3)\nRequirement already satisfied: certifi>=2017.4.17 in /databricks/python3/lib/python3.9/site-packages (from requests->transformers) (2021.10.8)\nRequirement already satisfied: threadpoolctl>=2.0.0 in /databricks/python3/lib/python3.9/site-packages (from scikit-learn<2->mlflow) (2.2.0)\nRequirement already satisfied: joblib>=0.11 in /databricks/python3/lib/python3.9/site-packages (from scikit-learn<2->mlflow) (1.1.1)\nCollecting numpy>=1.17\n  Using cached numpy-1.22.4-cp39-cp39-manylinux_2_17_x86_64.manylinux2014_x86_64.whl (16.8 MB)\nCollecting typing-extensions>=4.0.0\n  Using cached typing_extensions-4.7.1-py3-none-any.whl (33 kB)\nCollecting greenlet!=0.4.17\n  Using cached greenlet-2.0.2-cp39-cp39-manylinux_2_17_x86_64.manylinux2014_x86_64.whl (610 kB)\nCollecting nvidia-cuda-nvrtc-cu11==11.7.99\n  Using cached nvidia_cuda_nvrtc_cu11-11.7.99-2-py3-none-manylinux1_x86_64.whl (21.0 MB)\nCollecting nvidia-curand-cu11==10.2.10.91\n  Using cached nvidia_curand_cu11-10.2.10.91-py3-none-manylinux1_x86_64.whl (54.6 MB)\nCollecting nvidia-cuda-runtime-cu11==11.7.99\n  Using cached nvidia_cuda_runtime_cu11-11.7.99-py3-none-manylinux1_x86_64.whl (849 kB)\nCollecting nvidia-cuda-cupti-cu11==11.7.101\n  Using cached nvidia_cuda_cupti_cu11-11.7.101-py3-none-manylinux1_x86_64.whl (11.8 MB)\nCollecting nvidia-cusparse-cu11==11.7.4.91\n  Using cached nvidia_cusparse_cu11-11.7.4.91-py3-none-manylinux1_x86_64.whl (173.2 MB)\nCollecting nvidia-cublas-cu11==11.10.3.66\n  Using cached nvidia_cublas_cu11-11.10.3.66-py3-none-manylinux1_x86_64.whl (317.1 MB)\nCollecting nvidia-cusolver-cu11==11.4.0.1\n  Using cached nvidia_cusolver_cu11-11.4.0.1-2-py3-none-manylinux1_x86_64.whl (102.6 MB)\nCollecting nvidia-nccl-cu11==2.14.3\n  Using cached nvidia_nccl_cu11-2.14.3-py3-none-manylinux1_x86_64.whl (177.1 MB)\nCollecting triton==2.0.0\n  Using cached triton-2.0.0-1-cp39-cp39-manylinux2014_x86_64.manylinux_2_17_x86_64.whl (63.3 MB)\nCollecting sympy\n  Using cached sympy-1.12-py3-none-any.whl (5.7 MB)\nCollecting nvidia-nvtx-cu11==11.7.91\n  Using cached nvidia_nvtx_cu11-11.7.91-py3-none-manylinux1_x86_64.whl (98 kB)\nCollecting nvidia-cufft-cu11==10.9.0.58\n  Using cached nvidia_cufft_cu11-10.9.0.58-py3-none-manylinux1_x86_64.whl (168.4 MB)\nCollecting networkx\n  Using cached networkx-3.1-py3-none-any.whl (2.1 MB)\nCollecting nvidia-cudnn-cu11==8.5.0.96\n  Using cached nvidia_cudnn_cu11-8.5.0.96-2-py3-none-manylinux1_x86_64.whl (557.1 MB)\nRequirement already satisfied: wheel in /databricks/python3/lib/python3.9/site-packages (from nvidia-cublas-cu11==11.10.3.66->torch>=1.11.0->pytorch-lightning) (0.37.0)\nRequirement already satisfied: setuptools in /databricks/python3/lib/python3.9/site-packages (from nvidia-cublas-cu11==11.10.3.66->torch>=1.11.0->pytorch-lightning) (61.2.0)\nCollecting lit\n  Using cached lit-16.0.6-py3-none-any.whl\nCollecting cmake\n  Using cached cmake-3.27.4.1-py2.py3-none-manylinux2014_x86_64.manylinux_2_17_x86_64.whl (26.1 MB)\nCollecting mpmath>=0.19\n  Using cached mpmath-1.3.0-py3-none-any.whl (536 kB)\nInstalling collected packages: nvidia-cublas-cu11, multidict, mpmath, lit, frozenlist, cmake, yarl, typing-extensions, triton, sympy, smmap, nvidia-nvtx-cu11, nvidia-nccl-cu11, nvidia-cusparse-cu11, nvidia-cusolver-cu11, nvidia-curand-cu11, nvidia-cufft-cu11, nvidia-cudnn-cu11, nvidia-cuda-runtime-cu11, nvidia-cuda-nvrtc-cu11, nvidia-cuda-cupti-cu11, numpy, networkx, Jinja2, greenlet, async-timeout, aiosignal, websocket-client, tqdm, torch, tabulate, sqlalchemy, pyyaml, pyjwt, Mako, lightning-utilities, itsdangerous, gitdb, fsspec, click, blinker, aiohttp, torchmetrics, tokenizers, sqlparse, safetensors, regex, querystring-parser, huggingface-hub, gunicorn, gitpython, Flask, docker, databricks-cli, cloudpickle, alembic, transformers, sentencepiece, pytorch-lightning, mlflow\n  Attempting uninstall: typing-extensions\n    Found existing installation: typing-extensions 4.1.1\n    Not uninstalling typing-extensions at /databricks/python3/lib/python3.9/site-packages, outside environment /local_disk0/.ephemeral_nfs/envs/pythonEnv-5a86d48b-3879-4478-a446-900ab77cf994\n    Can't uninstall 'typing-extensions'. No files were found to uninstall.\n  Attempting uninstall: numpy\n    Found existing installation: numpy 1.24.3\n    Not uninstalling numpy at /local_disk0/.ephemeral_nfs/cluster_libraries/python/lib/python3.9/site-packages, outside environment /local_disk0/.ephemeral_nfs/envs/pythonEnv-5a86d48b-3879-4478-a446-900ab77cf994\n    Can't uninstall 'numpy'. No files were found to uninstall.\n  Attempting uninstall: Jinja2\n    Found existing installation: Jinja2 2.11.3\n    Not uninstalling jinja2 at /databricks/python3/lib/python3.9/site-packages, outside environment /local_disk0/.ephemeral_nfs/envs/pythonEnv-5a86d48b-3879-4478-a446-900ab77cf994\n    Can't uninstall 'Jinja2'. No files were found to uninstall.\n  Attempting uninstall: torch\n    Found existing installation: torch 1.8.1\n    Not uninstalling torch at /local_disk0/.ephemeral_nfs/cluster_libraries/python/lib/python3.9/site-packages, outside environment /local_disk0/.ephemeral_nfs/envs/pythonEnv-5a86d48b-3879-4478-a446-900ab77cf994\n    Can't uninstall 'torch'. No files were found to uninstall.\n  Attempting uninstall: click\n    Found existing installation: click 8.0.4\n    Not uninstalling click at /databricks/python3/lib/python3.9/site-packages, outside environment /local_disk0/.ephemeral_nfs/envs/pythonEnv-5a86d48b-3879-4478-a446-900ab77cf994\n    Can't uninstall 'click'. No files were found to uninstall.\nERROR: pip's dependency resolver does not currently take into account all the packages that are installed. This behaviour is the source of the following dependency conflicts.\ntensorflow 2.13.0 requires typing-extensions<4.6.0,>=3.6.6, but you have typing-extensions 4.7.1 which is incompatible.\nSuccessfully installed Flask-2.3.3 Jinja2-3.1.2 Mako-1.2.4 aiohttp-3.8.5 aiosignal-1.3.1 alembic-1.12.0 async-timeout-4.0.3 blinker-1.6.2 click-8.1.7 cloudpickle-2.2.1 cmake-3.27.4.1 databricks-cli-0.17.7 docker-6.1.3 frozenlist-1.4.0 fsspec-2023.9.0 gitdb-4.0.10 gitpython-3.1.34 greenlet-2.0.2 gunicorn-21.2.0 huggingface-hub-0.16.4 itsdangerous-2.1.2 lightning-utilities-0.9.0 lit-16.0.6 mlflow-2.6.0 mpmath-1.3.0 multidict-6.0.4 networkx-3.1 numpy-1.22.4 nvidia-cublas-cu11-11.10.3.66 nvidia-cuda-cupti-cu11-11.7.101 nvidia-cuda-nvrtc-cu11-11.7.99 nvidia-cuda-runtime-cu11-11.7.99 nvidia-cudnn-cu11-8.5.0.96 nvidia-cufft-cu11-10.9.0.58 nvidia-curand-cu11-10.2.10.91 nvidia-cusolver-cu11-11.4.0.1 nvidia-cusparse-cu11-11.7.4.91 nvidia-nccl-cu11-2.14.3 nvidia-nvtx-cu11-11.7.91 pyjwt-2.8.0 pytorch-lightning-2.0.8 pyyaml-6.0.1 querystring-parser-1.2.4 regex-2023.8.8 safetensors-0.3.3 sentencepiece-0.1.99 smmap-5.0.0 sqlalchemy-2.0.20 sqlparse-0.4.4 sympy-1.12 tabulate-0.9.0 tokenizers-0.13.3 torch-2.0.1 torchmetrics-1.1.1 tqdm-4.66.1 transformers-4.33.0 triton-2.0.0 typing-extensions-4.7.1 websocket-client-1.6.2 yarl-1.9.2\nPython interpreter will be restarted.\n"
     ]
    }
   ],
   "source": [
    "pip install transformers pytorch-lightning sentencepiece mlflow"
   ]
  },
  {
   "cell_type": "code",
   "execution_count": 0,
   "metadata": {
    "application/vnd.databricks.v1+cell": {
     "cellMetadata": {
      "byteLimit": 2048000,
      "rowLimit": 10000
     },
     "inputWidgets": {},
     "nuid": "f61de1d0-f05c-481e-ab16-8455793b9ee9",
     "showTitle": false,
     "title": ""
    }
   },
   "outputs": [
    {
     "output_type": "display_data",
     "data": {
      "application/vnd.databricks.v1+bamboolib_hint": "{\"pd.DataFrames\": [], \"version\": \"0.0.1\"}",
      "text/plain": []
     },
     "metadata": {},
     "output_type": "display_data"
    }
   ],
   "source": [
    "#import the data\n",
    "import pandas as pd"
   ]
  },
  {
   "cell_type": "code",
   "execution_count": 0,
   "metadata": {
    "application/vnd.databricks.v1+cell": {
     "cellMetadata": {
      "byteLimit": 2048000,
      "rowLimit": 10000
     },
     "inputWidgets": {},
     "nuid": "d1a34a26-0f5d-467e-8e18-5fb29817d8e9",
     "showTitle": false,
     "title": ""
    }
   },
   "outputs": [],
   "source": [
    "train_path = '/dbfs/FileStore/tables/train_df.csv'\n",
    "val_path = '/dbfs/FileStore/tables/val_df.csv'\n",
    "test_path = '/dbfs/FileStore/tables/test_df.csv'\n",
    "\n",
    "train_data = pd.read_csv(train_path)\n",
    "val_data = pd.read_csv(val_path)\n",
    "test_data = pd.read_csv(test_path)"
   ]
  },
  {
   "cell_type": "code",
   "execution_count": 0,
   "metadata": {
    "application/vnd.databricks.v1+cell": {
     "cellMetadata": {
      "byteLimit": 2048000,
      "rowLimit": 10000
     },
     "inputWidgets": {},
     "nuid": "fd48d805-15fe-43dc-ab1a-e3a93681165d",
     "showTitle": false,
     "title": ""
    }
   },
   "outputs": [
    {
     "output_type": "stream",
     "name": "stdout",
     "output_type": "stream",
     "text": [
      "31232\n5205\n5206\n"
     ]
    }
   ],
   "source": [
    "print(len(train_data))\n",
    "print(len(val_data))\n",
    "print(len(test_data))"
   ]
  },
  {
   "cell_type": "code",
   "execution_count": 0,
   "metadata": {
    "application/vnd.databricks.v1+cell": {
     "cellMetadata": {
      "byteLimit": 2048000,
      "rowLimit": 10000
     },
     "inputWidgets": {},
     "nuid": "15297451-33d4-4089-b923-7935d99f5a34",
     "showTitle": false,
     "title": ""
    }
   },
   "outputs": [
    {
     "output_type": "stream",
     "name": "stdout",
     "output_type": "stream",
     "text": [
      "1500\n1500\n"
     ]
    }
   ],
   "source": [
    "# Shuffle the data to ensure randomness\n",
    "train_data = train_data.sample(frac=1, random_state=42).reset_index(drop=True)\n",
    "val_data = val_data.sample(frac=1, random_state=42).reset_index(drop=True)\n",
    "\n",
    "# Select 500 samples for each sentiment in the training data\n",
    "train_data = train_data.groupby('sentiment', group_keys=False).apply(lambda x: x.sample(500, random_state=42)).reset_index(drop=True)\n",
    "\n",
    "# Select 500 samples for each sentiment in the validation data\n",
    "val_data = val_data.groupby('sentiment', group_keys=False).apply(lambda x: x.sample(500, random_state=42)).reset_index(drop=True)\n",
    "\n",
    "train_data = pd.get_dummies(train_data, columns=['sentiment'], prefix='', prefix_sep='')\n",
    "val_data = pd.get_dummies(val_data, columns=['sentiment'], prefix='', prefix_sep='')\n",
    "\n",
    "# Save the modified datasets back to CSV files\n",
    "train_data.to_csv('/dbfs/FileStore/tables/train_df_filtered.csv', index=False)\n",
    "val_data.to_csv('/dbfs/FileStore/tables/val_df_filtered.csv', index=False)\n",
    "\n",
    "# Verify the length of the filtered datasets\n",
    "print(len(train_data))\n",
    "print(len(val_data))"
   ]
  },
  {
   "cell_type": "code",
   "execution_count": 0,
   "metadata": {
    "application/vnd.databricks.v1+cell": {
     "cellMetadata": {
      "byteLimit": 2048000,
      "rowLimit": 10000
     },
     "inputWidgets": {},
     "nuid": "366ca4ca-cd04-42b8-9ca8-36a4391dec68",
     "showTitle": false,
     "title": ""
    }
   },
   "outputs": [
    {
     "output_type": "display_data",
     "data": {
      "text/html": [
       "<div>\n",
       "<style scoped>\n",
       "    .dataframe tbody tr th:only-of-type {\n",
       "        vertical-align: middle;\n",
       "    }\n",
       "\n",
       "    .dataframe tbody tr th {\n",
       "        vertical-align: top;\n",
       "    }\n",
       "\n",
       "    .dataframe thead th {\n",
       "        text-align: right;\n",
       "    }\n",
       "</style>\n",
       "<table border=\"1\" class=\"dataframe\">\n",
       "  <thead>\n",
       "    <tr style=\"text-align: right;\">\n",
       "      <th></th>\n",
       "      <th>id</th>\n",
       "      <th>text</th>\n",
       "      <th>label</th>\n",
       "      <th>negative</th>\n",
       "      <th>neutral</th>\n",
       "      <th>positive</th>\n",
       "    </tr>\n",
       "  </thead>\n",
       "  <tbody>\n",
       "    <tr>\n",
       "      <th>0</th>\n",
       "      <td>4181</td>\n",
       "      <td>Why are you counting inactive habits for the 5...</td>\n",
       "      <td>0</td>\n",
       "      <td>1</td>\n",
       "      <td>0</td>\n",
       "      <td>0</td>\n",
       "    </tr>\n",
       "    <tr>\n",
       "      <th>1</th>\n",
       "      <td>19956</td>\n",
       "      <td>nope no love</td>\n",
       "      <td>0</td>\n",
       "      <td>1</td>\n",
       "      <td>0</td>\n",
       "      <td>0</td>\n",
       "    </tr>\n",
       "    <tr>\n",
       "      <th>2</th>\n",
       "      <td>22049</td>\n",
       "      <td>ugh. trying to respond to all of the emails/vo...</td>\n",
       "      <td>0</td>\n",
       "      <td>1</td>\n",
       "      <td>0</td>\n",
       "      <td>0</td>\n",
       "    </tr>\n",
       "    <tr>\n",
       "      <th>3</th>\n",
       "      <td>15944</td>\n",
       "      <td>Twitter is useful in that it reminds people wh...</td>\n",
       "      <td>0</td>\n",
       "      <td>1</td>\n",
       "      <td>0</td>\n",
       "      <td>0</td>\n",
       "    </tr>\n",
       "    <tr>\n",
       "      <th>4</th>\n",
       "      <td>8408</td>\n",
       "      <td>that makes me sad for you</td>\n",
       "      <td>0</td>\n",
       "      <td>1</td>\n",
       "      <td>0</td>\n",
       "      <td>0</td>\n",
       "    </tr>\n",
       "    <tr>\n",
       "      <th>...</th>\n",
       "      <td>...</td>\n",
       "      <td>...</td>\n",
       "      <td>...</td>\n",
       "      <td>...</td>\n",
       "      <td>...</td>\n",
       "      <td>...</td>\n",
       "    </tr>\n",
       "    <tr>\n",
       "      <th>1495</th>\n",
       "      <td>5974</td>\n",
       "      <td>morning darlin`  Hope you`re feelin` tip-top  ...</td>\n",
       "      <td>2</td>\n",
       "      <td>0</td>\n",
       "      <td>0</td>\n",
       "      <td>1</td>\n",
       "    </tr>\n",
       "    <tr>\n",
       "      <th>1496</th>\n",
       "      <td>10104</td>\n",
       "      <td>Allow notes and tasks sync to Google drive wit...</td>\n",
       "      <td>2</td>\n",
       "      <td>0</td>\n",
       "      <td>0</td>\n",
       "      <td>1</td>\n",
       "    </tr>\n",
       "    <tr>\n",
       "      <th>1497</th>\n",
       "      <td>18073</td>\n",
       "      <td>unhooking my pt`s, then home to SLEEP! SLEEP I...</td>\n",
       "      <td>2</td>\n",
       "      <td>0</td>\n",
       "      <td>0</td>\n",
       "      <td>1</td>\n",
       "    </tr>\n",
       "    <tr>\n",
       "      <th>1498</th>\n",
       "      <td>1782</td>\n",
       "      <td>looking forward to coffee and driving tomorrow...</td>\n",
       "      <td>2</td>\n",
       "      <td>0</td>\n",
       "      <td>0</td>\n",
       "      <td>1</td>\n",
       "    </tr>\n",
       "    <tr>\n",
       "      <th>1499</th>\n",
       "      <td>7745</td>\n",
       "      <td>😐😐😘😘😘😘😘😘😘😘😘😘😘😘😘</td>\n",
       "      <td>2</td>\n",
       "      <td>0</td>\n",
       "      <td>0</td>\n",
       "      <td>1</td>\n",
       "    </tr>\n",
       "  </tbody>\n",
       "</table>\n",
       "<p>1500 rows × 6 columns</p>\n",
       "</div>"
      ]
     },
     "metadata": {
      "application/vnd.databricks.v1+output": {
       "addedWidgets": {},
       "arguments": {},
       "data": "<div>\n<style scoped>\n    .dataframe tbody tr th:only-of-type {\n        vertical-align: middle;\n    }\n\n    .dataframe tbody tr th {\n        vertical-align: top;\n    }\n\n    .dataframe thead th {\n        text-align: right;\n    }\n</style>\n<table border=\"1\" class=\"dataframe\">\n  <thead>\n    <tr style=\"text-align: right;\">\n      <th></th>\n      <th>id</th>\n      <th>text</th>\n      <th>label</th>\n      <th>negative</th>\n      <th>neutral</th>\n      <th>positive</th>\n    </tr>\n  </thead>\n  <tbody>\n    <tr>\n      <th>0</th>\n      <td>4181</td>\n      <td>Why are you counting inactive habits for the 5...</td>\n      <td>0</td>\n      <td>1</td>\n      <td>0</td>\n      <td>0</td>\n    </tr>\n    <tr>\n      <th>1</th>\n      <td>19956</td>\n      <td>nope no love</td>\n      <td>0</td>\n      <td>1</td>\n      <td>0</td>\n      <td>0</td>\n    </tr>\n    <tr>\n      <th>2</th>\n      <td>22049</td>\n      <td>ugh. trying to respond to all of the emails/vo...</td>\n      <td>0</td>\n      <td>1</td>\n      <td>0</td>\n      <td>0</td>\n    </tr>\n    <tr>\n      <th>3</th>\n      <td>15944</td>\n      <td>Twitter is useful in that it reminds people wh...</td>\n      <td>0</td>\n      <td>1</td>\n      <td>0</td>\n      <td>0</td>\n    </tr>\n    <tr>\n      <th>4</th>\n      <td>8408</td>\n      <td>that makes me sad for you</td>\n      <td>0</td>\n      <td>1</td>\n      <td>0</td>\n      <td>0</td>\n    </tr>\n    <tr>\n      <th>...</th>\n      <td>...</td>\n      <td>...</td>\n      <td>...</td>\n      <td>...</td>\n      <td>...</td>\n      <td>...</td>\n    </tr>\n    <tr>\n      <th>1495</th>\n      <td>5974</td>\n      <td>morning darlin`  Hope you`re feelin` tip-top  ...</td>\n      <td>2</td>\n      <td>0</td>\n      <td>0</td>\n      <td>1</td>\n    </tr>\n    <tr>\n      <th>1496</th>\n      <td>10104</td>\n      <td>Allow notes and tasks sync to Google drive wit...</td>\n      <td>2</td>\n      <td>0</td>\n      <td>0</td>\n      <td>1</td>\n    </tr>\n    <tr>\n      <th>1497</th>\n      <td>18073</td>\n      <td>unhooking my pt`s, then home to SLEEP! SLEEP I...</td>\n      <td>2</td>\n      <td>0</td>\n      <td>0</td>\n      <td>1</td>\n    </tr>\n    <tr>\n      <th>1498</th>\n      <td>1782</td>\n      <td>looking forward to coffee and driving tomorrow...</td>\n      <td>2</td>\n      <td>0</td>\n      <td>0</td>\n      <td>1</td>\n    </tr>\n    <tr>\n      <th>1499</th>\n      <td>7745</td>\n      <td>😐😐😘😘😘😘😘😘😘😘😘😘😘😘😘</td>\n      <td>2</td>\n      <td>0</td>\n      <td>0</td>\n      <td>1</td>\n    </tr>\n  </tbody>\n</table>\n<p>1500 rows × 6 columns</p>\n</div>",
       "datasetInfos": [],
       "metadata": {},
       "removedWidgets": [],
       "textData": null,
       "type": "htmlSandbox"
      }
     },
     "output_type": "display_data"
    }
   ],
   "source": [
    "train_data"
   ]
  },
  {
   "cell_type": "code",
   "execution_count": 0,
   "metadata": {
    "application/vnd.databricks.v1+cell": {
     "cellMetadata": {
      "byteLimit": 2048000,
      "rowLimit": 10000
     },
     "inputWidgets": {},
     "nuid": "f2d8f924-85b4-4525-8241-f9f0b2d7931b",
     "showTitle": false,
     "title": ""
    }
   },
   "outputs": [],
   "source": [
    "# Replace the original data file paths with the filtered data file paths\n",
    "train_path = '/dbfs/FileStore/tables/train_df_filtered.csv'\n",
    "val_path = '/dbfs/FileStore/tables/val_df_filtered.csv'\n",
    "#test_path = '/dbfs/FileStore/tables/test_data.csv'"
   ]
  },
  {
   "cell_type": "code",
   "execution_count": 0,
   "metadata": {
    "application/vnd.databricks.v1+cell": {
     "cellMetadata": {
      "byteLimit": 2048000,
      "rowLimit": 10000
     },
     "inputWidgets": {},
     "nuid": "341a7453-30da-440b-bf1d-46f4e80d534e",
     "showTitle": false,
     "title": ""
    }
   },
   "outputs": [],
   "source": [
    "#train_data.to_csv(train_path, index=False)  \n",
    "#val_data.to_csv(val_path, index=False)\n",
    "#test_data.to_csv(test_path, index=False)"
   ]
  },
  {
   "cell_type": "code",
   "execution_count": 0,
   "metadata": {
    "application/vnd.databricks.v1+cell": {
     "cellMetadata": {},
     "inputWidgets": {},
     "nuid": "92242644-9213-4489-968a-9df80dde058e",
     "showTitle": false,
     "title": ""
    }
   },
   "outputs": [],
   "source": []
  },
  {
   "cell_type": "code",
   "execution_count": 0,
   "metadata": {
    "application/vnd.databricks.v1+cell": {
     "cellMetadata": {
      "byteLimit": 2048000,
      "rowLimit": 10000
     },
     "inputWidgets": {},
     "nuid": "66418ac1-e0fd-4961-9a03-f48942a06410",
     "showTitle": false,
     "title": ""
    }
   },
   "outputs": [],
   "source": [
    "#inspect the data \n",
    "import matplotlib.pyplot as plt\n",
    "import seaborn as sns"
   ]
  },
  {
   "cell_type": "code",
   "execution_count": 0,
   "metadata": {
    "application/vnd.databricks.v1+cell": {
     "cellMetadata": {
      "byteLimit": 2048000,
      "rowLimit": 10000
     },
     "inputWidgets": {},
     "nuid": "af511fbc-cedb-4d75-8ac4-5e43528f5d29",
     "showTitle": false,
     "title": ""
    }
   },
   "outputs": [
    {
     "output_type": "display_data",
     "data": {
      "image/png": "[encoded data removed]"
     },
     "metadata": {
      "application/vnd.databricks.v1+output": {
       "addedWidgets": {},
       "arguments": {},
       "data": "data:image/png;base64,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\n",
       "datasetInfos": [],
       "metadata": {},
       "removedWidgets": [],
       "type": "image"
      }
     },
     "output_type": "display_data"
    }
   ],
   "source": [
    "custom_palette = [\"#FF5733\", \"#33FF57\", \"#3366FF\"] \n",
    "sentiment_counts = train_data['label'].value_counts()\n",
    "\n",
    "# Plot sentiment distribution\n",
    "plt.figure(figsize=(8, 6))\n",
    "ax = sns.barplot(x=sentiment_counts.index, y=sentiment_counts.values, palette=custom_palette)\n",
    "plt.title('Distribution of Sentiments in the Dataset')\n",
    "plt.xlabel('Sentiment')\n",
    "plt.ylabel('Count')\n",
    "plt.xticks(rotation=45)\n",
    "\n",
    "# Display count to check for class balancing\n",
    "for p in ax.patches:\n",
    "    ax.annotate(f'{int(p.get_height())}', (p.get_x() + p.get_width() / 2., p.get_height()), ha='center', va='center', fontsize=12, color='black', xytext=(0, 5), textcoords='offset points')\n",
    "\n",
    "plt.show()"
   ]
  },
  {
   "cell_type": "code",
   "execution_count": 0,
   "metadata": {
    "application/vnd.databricks.v1+cell": {
     "cellMetadata": {
      "byteLimit": 2048000,
      "rowLimit": 10000
     },
     "inputWidgets": {},
     "nuid": "387bd848-50b6-4ec5-b67d-b8c1fa19436c",
     "showTitle": false,
     "title": ""
    }
   },
   "outputs": [],
   "source": [
    "#pytorch dataset\n",
    "\n",
    "from torch.utils.data import Dataset\n",
    "import torch\n",
    "from transformers import AutoTokenizer"
   ]
  },
  {
   "cell_type": "code",
   "execution_count": 0,
   "metadata": {
    "application/vnd.databricks.v1+cell": {
     "cellMetadata": {
      "byteLimit": 2048000,
      "rowLimit": 10000
     },
     "inputWidgets": {},
     "nuid": "bb76ee64-6805-45fe-9203-61d67626787b",
     "showTitle": false,
     "title": ""
    }
   },
   "outputs": [],
   "source": [
    "attributes = ['negative','neutral','positive']"
   ]
  },
  {
   "cell_type": "code",
   "execution_count": 0,
   "metadata": {
    "application/vnd.databricks.v1+cell": {
     "cellMetadata": {
      "byteLimit": 2048000,
      "rowLimit": 10000
     },
     "inputWidgets": {},
     "nuid": "bf37bcef-fac2-4c83-a2b8-a4e72fde2a41",
     "showTitle": false,
     "title": ""
    }
   },
   "outputs": [],
   "source": [
    "class Senti_Dataset(Dataset):\n",
    "\n",
    "  def __init__(self, data_path, tokenizer, attributes, max_token_len: int = 128):\n",
    "    self.data_path = data_path\n",
    "    self.tokenizer = tokenizer\n",
    "    self.attributes = attributes\n",
    "    self.max_token_len = max_token_len\n",
    "    self._prepare_data() #sets up the data in the format we want\n",
    "\n",
    "\n",
    "  def _prepare_data(self):\n",
    "    data = pd.read_csv(self.data_path)\n",
    "    self.data = data\n",
    "    #any data prep/class balancing falls here (use if/else for train and val)\n",
    "    \n",
    "  def __len__(self):\n",
    "    return len(self.data)\n",
    "\n",
    "  def __getitem__(self, index):\n",
    "    item = self.data.iloc[index]\n",
    "    comment = str(item.text)\n",
    "    attributes = torch.FloatTensor(item[self.attributes])\n",
    "    tokens = self.tokenizer.encode_plus(comment,\n",
    "                                        add_special_tokens=True,\n",
    "                                        return_tensors='pt',\n",
    "                                        truncation=True,\n",
    "                                        padding='max_length',\n",
    "                                        max_length=self.max_token_len,\n",
    "                                        return_attention_mask = True)\n",
    "    return {'input_ids': tokens.input_ids.flatten(), 'attention_mask': tokens.attention_mask.flatten(),'labels': attributes}\n",
    "\n",
    "\n"
   ]
  },
  {
   "cell_type": "code",
   "execution_count": 0,
   "metadata": {
    "application/vnd.databricks.v1+cell": {
     "cellMetadata": {
      "byteLimit": 2048000,
      "rowLimit": 10000
     },
     "inputWidgets": {},
     "nuid": "532cfeb2-35e2-483a-a0ee-b63317ec355e",
     "showTitle": false,
     "title": ""
    }
   },
   "outputs": [],
   "source": [
    "#model_name = 'cardiffnlp/twitter-xlm-roberta-base-sentiment'\n",
    "model_name = 'roberta-base'\n",
    "tokenizer = AutoTokenizer.from_pretrained(model_name)\n",
    "senti_ds = Senti_Dataset(train_path, tokenizer, attributes=attributes) #train dataset\n",
    "senti_ds_val = Senti_Dataset(val_path, tokenizer, attributes=attributes) #validation dataset"
   ]
  },
  {
   "cell_type": "code",
   "execution_count": 0,
   "metadata": {
    "application/vnd.databricks.v1+cell": {
     "cellMetadata": {
      "byteLimit": 2048000,
      "rowLimit": 10000
     },
     "inputWidgets": {},
     "nuid": "ec084124-baf5-4f78-a5f3-3f1297e11a54",
     "showTitle": false,
     "title": ""
    }
   },
   "outputs": [
    {
     "output_type": "stream",
     "name": "stdout",
     "output_type": "stream",
     "text": [
      "Out[14]: (torch.Size([3]), torch.Size([128]), torch.Size([128]))"
     ]
    }
   ],
   "source": [
    "senti_ds.__getitem__(0)['labels'].shape, senti_ds.__getitem__(0)['input_ids'].shape, senti_ds.__getitem__(0)['attention_mask'].shape"
   ]
  },
  {
   "cell_type": "code",
   "execution_count": 0,
   "metadata": {
    "application/vnd.databricks.v1+cell": {
     "cellMetadata": {
      "byteLimit": 2048000,
      "rowLimit": 10000
     },
     "inputWidgets": {},
     "nuid": "f7b097e7-7949-426c-98ab-166e11ab21ce",
     "showTitle": false,
     "title": ""
    }
   },
   "outputs": [
    {
     "output_type": "stream",
     "name": "stdout",
     "output_type": "stream",
     "text": [
      "Out[15]: 1500"
     ]
    }
   ],
   "source": [
    "len(senti_ds)"
   ]
  },
  {
   "cell_type": "code",
   "execution_count": 0,
   "metadata": {
    "application/vnd.databricks.v1+cell": {
     "cellMetadata": {
      "byteLimit": 2048000,
      "rowLimit": 10000
     },
     "inputWidgets": {},
     "nuid": "5c21907e-17ae-48cc-960c-952d2058e912",
     "showTitle": false,
     "title": ""
    }
   },
   "outputs": [
    {
     "output_type": "stream",
     "name": "stdout",
     "output_type": "stream",
     "text": [
      "Out[16]: 1500"
     ]
    }
   ],
   "source": [
    "len(senti_ds_val)"
   ]
  },
  {
   "cell_type": "code",
   "execution_count": 0,
   "metadata": {
    "application/vnd.databricks.v1+cell": {
     "cellMetadata": {
      "byteLimit": 2048000,
      "rowLimit": 10000
     },
     "inputWidgets": {},
     "nuid": "edd16070-c05d-4798-9951-c45941986387",
     "showTitle": false,
     "title": ""
    }
   },
   "outputs": [],
   "source": [
    "#Data module \n",
    "\n",
    "import pytorch_lightning as pl\n",
    "from torch.utils.data import DataLoader"
   ]
  },
  {
   "cell_type": "code",
   "execution_count": 0,
   "metadata": {
    "application/vnd.databricks.v1+cell": {
     "cellMetadata": {
      "byteLimit": 2048000,
      "rowLimit": 10000
     },
     "inputWidgets": {},
     "nuid": "5e487a68-4c64-4a2e-a7c5-9998c9db561c",
     "showTitle": false,
     "title": ""
    }
   },
   "outputs": [],
   "source": [
    "class Senti_Data_Module(pl.LightningDataModule):\n",
    "    def __init__(self, train_path, val_path, test_path, attributes, batch_size=16, max_token_length=128,\n",
    "                 model_name='roberta-base'):\n",
    "        super().__init__()\n",
    "        self.train_path = train_path\n",
    "        self.val_path = val_path\n",
    "        self.test_path = test_path\n",
    "        self.attributes = attributes\n",
    "        self.batch_size = batch_size\n",
    "        self.max_token_length = max_token_length\n",
    "        self.model_name = model_name\n",
    "        self.tokenizer = AutoTokenizer.from_pretrained(model_name)\n",
    "\n",
    "    def setup(self, stage = None):\n",
    "        if stage in (None, \"fit\"):\n",
    "            self.train_dataset = Senti_Dataset(self.train_path, attributes=self.attributes, tokenizer=self.tokenizer)\n",
    "            self.val_dataset = Senti_Dataset(self.val_path, attributes=self.attributes, tokenizer=self.tokenizer)\n",
    "        if stage == 'predict':\n",
    "            self.text_dataset = Senti_Dataset(self.text_path, attributes=self.attributes, tokenizer=self.tokenizer)\n",
    "\n",
    "    def train_dataloader(self):\n",
    "        return DataLoader(self.train_dataset, batch_size=self.batch_size, num_workers=4, shuffle=True)\n",
    "\n",
    "    def val_dataloader(self):\n",
    "        return DataLoader(self.val_dataset, batch_size = self.batch_size, num_workers=4, shuffle=False)\n",
    "\n",
    "    def predict_dataloader(self):\n",
    "        return DataLoader(self.test_dataset, batch_size = self.batch_size, num_workers=4, shuffle=False)\n"
   ]
  },
  {
   "cell_type": "code",
   "execution_count": 0,
   "metadata": {
    "application/vnd.databricks.v1+cell": {
     "cellMetadata": {
      "byteLimit": 2048000,
      "rowLimit": 10000
     },
     "inputWidgets": {},
     "nuid": "99d2d6ac-a468-4d7e-b7f3-3b9107cd046c",
     "showTitle": false,
     "title": ""
    }
   },
   "outputs": [],
   "source": [
    "senti_data_module = Senti_Data_Module(train_path, val_path, test_path, attributes=attributes)"
   ]
  },
  {
   "cell_type": "code",
   "execution_count": 0,
   "metadata": {
    "application/vnd.databricks.v1+cell": {
     "cellMetadata": {
      "byteLimit": 2048000,
      "rowLimit": 10000
     },
     "inputWidgets": {},
     "nuid": "41e8f602-87e6-449a-8ea2-2c762e90141f",
     "showTitle": false,
     "title": ""
    }
   },
   "outputs": [],
   "source": [
    "senti_data_module.setup()"
   ]
  },
  {
   "cell_type": "code",
   "execution_count": 0,
   "metadata": {
    "application/vnd.databricks.v1+cell": {
     "cellMetadata": {
      "byteLimit": 2048000,
      "rowLimit": 10000
     },
     "inputWidgets": {},
     "nuid": "26869f65-d33e-4980-b0c8-10dde84e68a5",
     "showTitle": false,
     "title": ""
    }
   },
   "outputs": [
    {
     "output_type": "stream",
     "name": "stdout",
     "output_type": "stream",
     "text": [
      "Out[21]: <torch.utils.data.dataloader.DataLoader at 0x7fcbb6d72790>"
     ]
    }
   ],
   "source": [
    "senti_data_module.train_dataloader()"
   ]
  },
  {
   "cell_type": "code",
   "execution_count": 0,
   "metadata": {
    "application/vnd.databricks.v1+cell": {
     "cellMetadata": {
      "byteLimit": 2048000,
      "rowLimit": 10000
     },
     "inputWidgets": {},
     "nuid": "40da75d4-7506-4334-a0d7-cb143e431d5e",
     "showTitle": false,
     "title": ""
    }
   },
   "outputs": [
    {
     "output_type": "stream",
     "name": "stdout",
     "output_type": "stream",
     "text": [
      "Out[22]: 94"
     ]
    }
   ],
   "source": [
    "len(senti_data_module.train_dataloader()) #Number of batches in training dataset"
   ]
  },
  {
   "cell_type": "code",
   "execution_count": 0,
   "metadata": {
    "application/vnd.databricks.v1+cell": {
     "cellMetadata": {
      "byteLimit": 2048000,
      "rowLimit": 10000
     },
     "inputWidgets": {},
     "nuid": "c395537d-2832-4964-b260-d46f7ebfca20",
     "showTitle": false,
     "title": ""
    }
   },
   "outputs": [],
   "source": [
    "#Create model\n",
    "\n",
    "from transformers import AutoModel, AdamW, get_cosine_schedule_with_warmup\n",
    "import torch.nn as nn\n",
    "import math\n",
    "from torchmetrics.functional.classification import auroc\n",
    "import torch.nn.functional as F"
   ]
  },
  {
   "cell_type": "code",
   "execution_count": 0,
   "metadata": {
    "application/vnd.databricks.v1+cell": {
     "cellMetadata": {
      "byteLimit": 2048000,
      "rowLimit": 10000
     },
     "inputWidgets": {},
     "nuid": "42e2a272-37c6-4463-acbe-fd717c97b7a5",
     "showTitle": false,
     "title": ""
    }
   },
   "outputs": [],
   "source": [
    "class Senti_Comment_Classifier(pl.LightningModule):\n",
    "\n",
    "  def __init__(self, config: dict):\n",
    "    super().__init__()\n",
    "    self.config = config\n",
    "    self.pretrained_model = AutoModel.from_pretrained(config['model_name'], return_dict = True)\n",
    "    self.hidden = torch.nn.Linear(self.pretrained_model.config.hidden_size, self.pretrained_model.config.hidden_size)\n",
    "    self.classifier = torch.nn.Linear(self.pretrained_model.config.hidden_size, self.config['n_labels'])\n",
    "    torch.nn.init.xavier_uniform_(self.classifier.weight)\n",
    "    self.loss_func = nn.BCEWithLogitsLoss(reduction='mean')\n",
    "    self.dropout = nn.Dropout()\n",
    "    \n",
    "  def forward(self, input_ids, attention_mask, labels=None):\n",
    "    # roberta layer\n",
    "    output = self.pretrained_model(input_ids=input_ids, attention_mask=attention_mask)\n",
    "    pooled_output = torch.mean(output.last_hidden_state, 1)\n",
    "    # final logits\n",
    "    pooled_output = self.dropout(pooled_output)\n",
    "    pooled_output = self.hidden(pooled_output)\n",
    "    pooled_output = F.relu(pooled_output)\n",
    "    pooled_output = self.dropout(pooled_output)\n",
    "    logits = self.classifier(pooled_output)\n",
    "    # calculate loss\n",
    "    loss = 0\n",
    "    if labels is not None:\n",
    "      loss = self.loss_func(logits.view(-1, self.config['n_labels']), labels.view(-1, self.config['n_labels']))\n",
    "    return loss, logits\n",
    "\n",
    "  def training_step(self, batch, batch_index):\n",
    "    loss, outputs = self(**batch)\n",
    "    self.log(\"train loss \", loss, prog_bar = True, logger=True)\n",
    "    return {\"loss\":loss, \"predictions\":outputs, \"labels\": batch[\"labels\"]}\n",
    "\n",
    "  def validation_step(self, batch, batch_index):\n",
    "    loss, outputs = self(**batch)\n",
    "    self.log(\"validation loss \", loss, prog_bar = True, logger=True)\n",
    "    return {\"val_loss\": loss, \"predictions\":outputs, \"labels\": batch[\"labels\"]}\n",
    "\n",
    "  def predict_step(self, batch, batch_index):\n",
    "    loss, outputs = self(**batch)\n",
    "    return outputs\n",
    "\n",
    "  def configure_optimizers(self):\n",
    "    optimizer = AdamW(self.parameters(), lr=self.config['lr'], weight_decay=self.config['weight_decay'])\n",
    "    total_steps = self.config['train_size']/self.config['batch_size']\n",
    "    warmup_steps = math.floor(total_steps * self.config['warmup'])\n",
    "    warmup_steps = math.floor(total_steps * self.config['warmup'])\n",
    "    scheduler = get_cosine_schedule_with_warmup(optimizer, warmup_steps, total_steps)\n",
    "    return [optimizer],[scheduler]"
   ]
  },
  {
   "cell_type": "code",
   "execution_count": 0,
   "metadata": {
    "application/vnd.databricks.v1+cell": {
     "cellMetadata": {
      "byteLimit": 2048000,
      "rowLimit": 10000
     },
     "inputWidgets": {},
     "nuid": "e8c42b64-51db-46f5-8c48-d61768886995",
     "showTitle": false,
     "title": ""
    }
   },
   "outputs": [
    {
     "output_type": "stream",
     "name": "stderr",
     "output_type": "stream",
     "text": [
      "Some weights of RobertaModel were not initialized from the model checkpoint at roberta-base and are newly initialized: ['roberta.pooler.dense.bias', 'roberta.pooler.dense.weight']\nYou should probably TRAIN this model on a down-stream task to be able to use it for predictions and inference.\n"
     ]
    }
   ],
   "source": [
    "config = {\n",
    "    'model_name': 'roberta-base',\n",
    "    'n_labels': len(attributes),\n",
    "    'log_every_n_steps': 5,\n",
    "    'batch_size': 128,\n",
    "    'lr': 1.5e-6,\n",
    "    'warmup': 0.2, \n",
    "    'train_size': len(senti_data_module.train_dataloader()),\n",
    "    'weight_decay': 0.001,\n",
    "    'n_epochs': 6\n",
    "}\n",
    "\n",
    "model = Senti_Comment_Classifier(config)"
   ]
  },
  {
   "cell_type": "code",
   "execution_count": 0,
   "metadata": {
    "application/vnd.databricks.v1+cell": {
     "cellMetadata": {
      "byteLimit": 2048000,
      "rowLimit": 10000
     },
     "inputWidgets": {},
     "nuid": "b6c9b38b-7299-4c19-b074-6d4add870bb8",
     "showTitle": false,
     "title": ""
    }
   },
   "outputs": [
    {
     "output_type": "stream",
     "name": "stdout",
     "output_type": "stream",
     "text": [
      "torch.Size([3]) torch.Size([1, 3]) tensor([[ 0.6793, -0.7744,  0.3417]], grad_fn=<AddmmBackward0>)\n"
     ]
    }
   ],
   "source": [
    "idx=0\n",
    "input_ids = senti_ds.__getitem__(idx)['input_ids']\n",
    "attention_mask = senti_ds.__getitem__(idx)['attention_mask']\n",
    "labels = senti_ds.__getitem__(idx)['labels']\n",
    "model.cpu()\n",
    "loss, output = model(input_ids.unsqueeze(dim=0), attention_mask.unsqueeze(dim=0), labels.unsqueeze(dim=0))\n",
    "print(labels.shape, output.shape, output)"
   ]
  },
  {
   "cell_type": "code",
   "execution_count": 0,
   "metadata": {
    "application/vnd.databricks.v1+cell": {
     "cellMetadata": {
      "byteLimit": 2048000,
      "rowLimit": 10000
     },
     "inputWidgets": {},
     "nuid": "057a5bb8-5d89-4570-9fd2-d7fd8173bd76",
     "showTitle": false,
     "title": ""
    }
   },
   "outputs": [],
   "source": [
    "#train model"
   ]
  },
  {
   "cell_type": "code",
   "execution_count": 0,
   "metadata": {
    "application/vnd.databricks.v1+cell": {
     "cellMetadata": {
      "byteLimit": 2048000,
      "rowLimit": 10000
     },
     "inputWidgets": {},
     "nuid": "76f632f2-c460-4fb7-a4bb-f6db54daf180",
     "showTitle": false,
     "title": ""
    }
   },
   "outputs": [],
   "source": [
    "import mlflow\n",
    "import mlflow.pytorch\n",
    "import pytorch_lightning as pl\n",
    "\n",
    "import mlflow\n",
    "from pytorch_lightning.loggers import MLFlowLogger"
   ]
  },
  {
   "cell_type": "code",
   "execution_count": 0,
   "metadata": {
    "application/vnd.databricks.v1+cell": {
     "cellMetadata": {
      "byteLimit": 2048000,
      "rowLimit": 10000
     },
     "inputWidgets": {},
     "nuid": "2b1c9b5d-d02b-4610-823d-8e0fb3e10ba4",
     "showTitle": false,
     "title": ""
    }
   },
   "outputs": [],
   "source": [
    "mlflow.end_run()"
   ]
  },
  {
   "cell_type": "code",
   "execution_count": 0,
   "metadata": {
    "application/vnd.databricks.v1+cell": {
     "cellMetadata": {
      "byteLimit": 2048000,
      "rowLimit": 10000
     },
     "inputWidgets": {},
     "nuid": "bd5bcb70-6d45-496a-bc8a-212ac4683a3c",
     "showTitle": false,
     "title": ""
    }
   },
   "outputs": [
    {
     "output_type": "display_data",
     "data": {
      "text/plain": [
       "\u001B[0;31m---------------------------------------------------------------------------\u001B[0m\n",
       "\u001B[0;31mThe Python process exited with exit code 137 (SIGKILL: Killed). This may have been caused by an OOM error. Check your command's memory usage.\u001B[0m\n",
       "\u001B[0;31m\u001B[0m\n",
       "\u001B[0;31m---------------------------------------------------------------------------\u001B[0m\n",
       "\u001B[0;31mThe last 10 KB of the process's stderr and stdout can be found below. See driver logs for full logs.\u001B[0m\n",
       "\u001B[0;31m---------------------------------------------------------------------------\u001B[0m\n",
       "\u001B[0;31mLast messages on stderr:\u001B[0m\n",
       "\u001B[0;31mWed Sep  6 06:54:11 2023 Connection to spark from PID  9618\u001B[0m\n",
       "\u001B[0;31mWed Sep  6 06:54:11 2023 Initialized gateway on port 36263\u001B[0m\n",
       "\u001B[0;31mWed Sep  6 06:54:12 2023 Connected to spark.\u001B[0m\n",
       "\u001B[0;31m2023-09-06 06:54:30.429075: I tensorflow/core/platform/cpu_feature_guard.cc:182] This TensorFlow binary is optimized to use available CPU instructions in performance-critical operations.\u001B[0m\n",
       "\u001B[0;31mTo enable the following instructions: AVX2 FMA, in other operations, rebuild TensorFlow with the appropriate compiler flags.\u001B[0m\n",
       "\u001B[0;31m2023-09-06 06:54:32.727962: W tensorflow/compiler/tf2tensorrt/utils/py_utils.cc:38] TF-TRT Warning: Could not find TensorRT\u001B[0m\n",
       "\u001B[0;31mSome weights of RobertaModel were not initialized from the model checkpoint at roberta-base and are newly initialized: ['roberta.pooler.dense.bias', 'roberta.pooler.dense.weight']\u001B[0m\n",
       "\u001B[0;31mYou should probably TRAIN this model on a down-stream task to be able to use it for predictions and inference.\u001B[0m\n",
       "\u001B[0;31mSome weights of RobertaModel were not initialized from the model checkpoint at roberta-base and are newly initialized: ['roberta.pooler.dense.bias', 'roberta.pooler.dense.weight']\u001B[0m\n",
       "\u001B[0;31mYou should probably TRAIN this model on a down-stream task to be able to use it for predictions and inference.\u001B[0m\n",
       "\u001B[0;31mGPU available: False, used: False\u001B[0m\n",
       "\u001B[0;31mTPU available: False, using: 0 TPU cores\u001B[0m\n",
       "\u001B[0;31mIPU available: False, using: 0 IPUs\u001B[0m\n",
       "\u001B[0;31mHPU available: False, using: 0 HPUs\u001B[0m\n",
       "\u001B[0;31m/local_disk0/.ephemeral_nfs/envs/pythonEnv-5a86d48b-3879-4478-a446-900ab77cf994/lib/python3.9/site-packages/transformers/optimization.py:411: FutureWarning: This implementation of AdamW is deprecated and will be removed in a future version. Use the PyTorch implementation torch.optim.AdamW instead, or set `no_deprecation_warning=True` to disable this warning\u001B[0m\n",
       "\u001B[0;31m  warnings.warn(\u001B[0m\n",
       "\u001B[0;31m\u001B[0m\n",
       "\u001B[0;31m Name             | Type              | Params\u001B[0m\n",
       "\u001B[0;31m-------------------------------------------------------\u001B[0m\n",
       "\u001B[0;31m0 | pretrained_model | RobertaModel      | 124 M \u001B[0m\n",
       "\u001B[0;31m1 | hidden           | Linear            | 590 K \u001B[0m\n",
       "\u001B[0;31m2 | classifier       | Linear            | 2.3 K \u001B[0m\n",
       "\u001B[0;31m3 | loss_func        | BCEWithLogitsLoss | 0     \u001B[0m\n",
       "\u001B[0;31m4 | dropout          | Dropout           | 0     \u001B[0m\n",
       "\u001B[0;31m-------------------------------------------------------\u001B[0m\n",
       "\u001B[0;31m125 M     Trainable params\u001B[0m\n",
       "\u001B[0;31m0         Non-trainable params\u001B[0m\n",
       "\u001B[0;31m125 M     Total params\u001B[0m\n",
       "\u001B[0;31m500.954   Total estimated model params size (MB)\u001B[0m\n",
       "\u001B[0;31m/local_disk0/.ephemeral_nfs/envs/pythonEnv-5a86d48b-3879-4478-a446-900ab77cf994/lib/python3.9/site-packages/pytorch_lightning/loops/fit_loop.py:281: PossibleUserWarning: The number of training batches (12) is smaller than the logging interval Trainer(log_every_n_steps=50). Set a lower value for log_every_n_steps if you want to see logs for the training epoch.\u001B[0m\n",
       "\u001B[0;31m  rank_zero_warn(\u001B[0m\n",
       "\u001B[0;31m---------------------------------------------------------------------------\u001B[0m\n",
       "\u001B[0;31mLast messages on stdout:\u001B[0m\n",
       "\u001B[0;31mNOTE: When using the `ipython kernel` entry point, Ctrl-C will not work.\u001B[0m\n",
       "\u001B[0;31m\u001B[0m\n",
       "\u001B[0;31mTo exit, you will have to explicitly quit this process, by either sending\u001B[0m\n",
       "\u001B[0;31m\"quit\" from a client, or using Ctrl-\\ in UNIX-like environments.\u001B[0m\n",
       "\u001B[0;31m\u001B[0m\n",
       "\u001B[0;31mTo read more about this, see https://github.com/ipython/ipython/issues/2049\u001B[0m\n",
       "\u001B[0;31m\u001B[0m\n",
       "\u001B[0;31m\u001B[0m\n",
       "\u001B[0;31mTo connect another client to this kernel, use:\u001B[0m\n",
       "\u001B[0;31m    --existing /databricks/kernel-connections/7549111c5cd87fda5b488bdc766c661d332a0e4ef7ebd0d2a611fa3996cd7d82.json\u001B[0m\n",
       "\u001B[0;31m31232\u001B[0m\n",
       "\u001B[0;31m5205\u001B[0m\n",
       "\u001B[0;31m5206\u001B[0m\n",
       "\u001B[0;31m1500\u001B[0m\n",
       "\u001B[0;31m1500\u001B[0m\n",
       "\u001B[0;31mtorch.Size([3]) torch.Size([1, 3]) tensor([[ 0.6793, -0.7744,  0.3417]], grad_fn=<AddmmBackward0>)\u001B[0m\n",
       "\u001B[0;31mhuggingface/tokenizers: The current process just got forked, after parallelism has already been used. Disabling parallelism to avoid deadlocks...\u001B[0m\n",
       "\u001B[0;31mTo disable this warning, you can either:\u001B[0m\n",
       "\u001B[0;31m\t- Avoid using `tokenizers` before the fork if possible\u001B[0m\n",
       "\u001B[0;31m\t- Explicitly set the environment variable TOKENIZERS_PARALLELISM=(true | false)\u001B[0m\n",
       "\u001B[0;31mhuggingface/tokenizers: The current process just got forked, after parallelism has already been used. Disabling parallelism to avoid deadlocks...\u001B[0m\n",
       "\u001B[0;31mTo disable this warning, you can either:\u001B[0m\n",
       "\u001B[0;31m\t- Avoid using `tokenizers` before the fork if possible\u001B[0m\n",
       "\u001B[0;31m\t- Explicitly set the environment variable TOKENIZERS_PARALLELISM=(true | false)\u001B[0m\n",
       "\u001B[0;31mhuggingface/tokenizers: The current process just got forked, after parallelism has already been used. Disabling parallelism to avoid deadlocks...\u001B[0m\n",
       "\u001B[0;31mTo disable this warning, you can either:\u001B[0m\n",
       "\u001B[0;31m\t- Avoid using `tokenizers` before the fork if possible\u001B[0m\n",
       "\u001B[0;31m\t- Explicitly set the environment variable TOKENIZERS_PARALLELISM=(true | false)\u001B[0m\n",
       "\u001B[0;31mhuggingface/tokenizers: The current process just got forked, after parallelism has already been used. Disabling parallelism to avoid deadlocks...\u001B[0m\n",
       "\u001B[0;31mTo disable this warning, you can either:\u001B[0m\n",
       "\u001B[0;31m\t- Avoid using `tokenizers` before the fork if possible\u001B[0m\n",
       "\u001B[0;31m\t- Explicitly set the environment variable TOKENIZERS_PARALLELISM=(true | false)\u001B[0m\n",
       "\u001B[0;31mhuggingface/tokenizers: The current process just got forked, after parallelism has already been used. Disabling parallelism to avoid deadlocks...\u001B[0m\n",
       "\u001B[0;31mTo disable this warning, you can either:\u001B[0m\n",
       "\u001B[0;31m\t- Avoid using `tokenizers` before the fork if possible\u001B[0m\n",
       "\u001B[0;31m\t- Explicitly set the environment variable TOKENIZERS_PARALLELISM=(true | false)\u001B[0m\n",
       "\u001B[0;31mhuggingface/tokenizers: The current process just got forked, after parallelism has already been used. Disabling parallelism to avoid deadlocks...\u001B[0m\n",
       "\u001B[0;31mTo disable this warning, you can either:\u001B[0m\n",
       "\u001B[0;31m\t- Avoid using `tokenizers` before the fork if possible\u001B[0m\n",
       "\u001B[0;31m\t- Explicitly set the environment variable TOKENIZERS_PARALLELISM=(true | false)\u001B[0m\n",
       "\u001B[0;31mhuggingface/tokenizers: The current process just got forked, after parallelism has already been used. Disabling parallelism to avoid deadlocks...\u001B[0m\n",
       "\u001B[0;31mTo disable this warning, you can either:\u001B[0m\n",
       "\u001B[0;31m\t- Avoid using `tokenizers` before the fork if possible\u001B[0m\n",
       "\u001B[0;31m\t- Explicitly set the environment variable TOKENIZERS_PARALLELISM=(true | false)\u001B[0m\n",
       "\u001B[0;31mhuggingface/tokenizers: The current process just got forked, after parallelism has already been used. Disabling parallelism to avoid deadlocks...\u001B[0m\n",
       "\u001B[0;31mTo disable this warning, you can either:\u001B[0m\n",
       "\u001B[0;31m\t- Avoid using `tokenizers` before the fork if possible\u001B[0m\n",
       "\u001B[0;31m\t- Explicitly set the environment variable TOKENIZERS_PARALLELISM=(true | false)\u001B[0m\n",
       "\u001B[0;31mhuggingface/tokenizers: The current process just got forked, after parallelism has already been used. Disabling parallelism to avoid deadlocks...\u001B[0m\n",
       "\u001B[0;31mTo disable this warning, you can either:\u001B[0m\n",
       "\u001B[0;31m\t- Avoid using `tokenizers` before the fork if possible\u001B[0m\n",
       "\u001B[0;31m\t- Explicitly set the environment variable TOKENIZERS_PARALLELISM=(true | false)\u001B[0m\n",
       "\u001B[0;31mhuggingface/tokenizers: The current process just got forked, after parallelism has already been used. Disabling parallelism to avoid deadlocks...\u001B[0m\n",
       "\u001B[0;31mTo disable this warning, you can either:\u001B[0m\n",
       "\u001B[0;31m\t- Avoid using `tokenizers` before the fork if possible\u001B[0m\n",
       "\u001B[0;31m\t- Explicitly set the environment variable TOKENIZERS_PARALLELISM=(true | false)\u001B[0m\n",
       "\u001B[0;31mhuggingface/tokenizers: The current process just got forked, after parallelism has already been used. Disabling parallelism to avoid deadlocks...\u001B[0m\n",
       "\u001B[0;31mTo disable this warning, you can either:\u001B[0m\n",
       "\u001B[0;31m\t- Avoid using `tokenizers` before the fork if possible\u001B[0m\n",
       "\u001B[0;31m\t- Explicitly set the environment variable TOKENIZERS_PARALLELISM=(true | false)\u001B[0m"
      ]
     },
     "metadata": {
      "application/vnd.databricks.v1+output": {
       "arguments": {},
       "data": "\u001B[0;31m---------------------------------------------------------------------------\u001B[0m\n\u001B[0;31mThe Python process exited with exit code 137 (SIGKILL: Killed). This may have been caused by an OOM error. Check your command's memory usage.\u001B[0m\n\u001B[0;31m\u001B[0m\n\u001B[0;31m---------------------------------------------------------------------------\u001B[0m\n\u001B[0;31mThe last 10 KB of the process's stderr and stdout can be found below. See driver logs for full logs.\u001B[0m\n\u001B[0;31m---------------------------------------------------------------------------\u001B[0m\n\u001B[0;31mLast messages on stderr:\u001B[0m\n\u001B[0;31mWed Sep  6 06:54:11 2023 Connection to spark from PID  9618\u001B[0m\n\u001B[0;31mWed Sep  6 06:54:11 2023 Initialized gateway on port 36263\u001B[0m\n\u001B[0;31mWed Sep  6 06:54:12 2023 Connected to spark.\u001B[0m\n\u001B[0;31m2023-09-06 06:54:30.429075: I tensorflow/core/platform/cpu_feature_guard.cc:182] This TensorFlow binary is optimized to use available CPU instructions in performance-critical operations.\u001B[0m\n\u001B[0;31mTo enable the following instructions: AVX2 FMA, in other operations, rebuild TensorFlow with the appropriate compiler flags.\u001B[0m\n\u001B[0;31m2023-09-06 06:54:32.727962: W tensorflow/compiler/tf2tensorrt/utils/py_utils.cc:38] TF-TRT Warning: Could not find TensorRT\u001B[0m\n\u001B[0;31mSome weights of RobertaModel were not initialized from the model checkpoint at roberta-base and are newly initialized: ['roberta.pooler.dense.bias', 'roberta.pooler.dense.weight']\u001B[0m\n\u001B[0;31mYou should probably TRAIN this model on a down-stream task to be able to use it for predictions and inference.\u001B[0m\n\u001B[0;31mSome weights of RobertaModel were not initialized from the model checkpoint at roberta-base and are newly initialized: ['roberta.pooler.dense.bias', 'roberta.pooler.dense.weight']\u001B[0m\n\u001B[0;31mYou should probably TRAIN this model on a down-stream task to be able to use it for predictions and inference.\u001B[0m\n\u001B[0;31mGPU available: False, used: False\u001B[0m\n\u001B[0;31mTPU available: False, using: 0 TPU cores\u001B[0m\n\u001B[0;31mIPU available: False, using: 0 IPUs\u001B[0m\n\u001B[0;31mHPU available: False, using: 0 HPUs\u001B[0m\n\u001B[0;31m/local_disk0/.ephemeral_nfs/envs/pythonEnv-5a86d48b-3879-4478-a446-900ab77cf994/lib/python3.9/site-packages/transformers/optimization.py:411: FutureWarning: This implementation of AdamW is deprecated and will be removed in a future version. Use the PyTorch implementation torch.optim.AdamW instead, or set `no_deprecation_warning=True` to disable this warning\u001B[0m\n\u001B[0;31m  warnings.warn(\u001B[0m\n\u001B[0;31m\u001B[0m\n\u001B[0;31m Name             | Type              | Params\u001B[0m\n\u001B[0;31m-------------------------------------------------------\u001B[0m\n\u001B[0;31m0 | pretrained_model | RobertaModel      | 124 M \u001B[0m\n\u001B[0;31m1 | hidden           | Linear            | 590 K \u001B[0m\n\u001B[0;31m2 | classifier       | Linear            | 2.3 K \u001B[0m\n\u001B[0;31m3 | loss_func        | BCEWithLogitsLoss | 0     \u001B[0m\n\u001B[0;31m4 | dropout          | Dropout           | 0     \u001B[0m\n\u001B[0;31m-------------------------------------------------------\u001B[0m\n\u001B[0;31m125 M     Trainable params\u001B[0m\n\u001B[0;31m0         Non-trainable params\u001B[0m\n\u001B[0;31m125 M     Total params\u001B[0m\n\u001B[0;31m500.954   Total estimated model params size (MB)\u001B[0m\n\u001B[0;31m/local_disk0/.ephemeral_nfs/envs/pythonEnv-5a86d48b-3879-4478-a446-900ab77cf994/lib/python3.9/site-packages/pytorch_lightning/loops/fit_loop.py:281: PossibleUserWarning: The number of training batches (12) is smaller than the logging interval Trainer(log_every_n_steps=50). Set a lower value for log_every_n_steps if you want to see logs for the training epoch.\u001B[0m\n\u001B[0;31m  rank_zero_warn(\u001B[0m\n\u001B[0;31m---------------------------------------------------------------------------\u001B[0m\n\u001B[0;31mLast messages on stdout:\u001B[0m\n\u001B[0;31mNOTE: When using the `ipython kernel` entry point, Ctrl-C will not work.\u001B[0m\n\u001B[0;31m\u001B[0m\n\u001B[0;31mTo exit, you will have to explicitly quit this process, by either sending\u001B[0m\n\u001B[0;31m\"quit\" from a client, or using Ctrl-\\ in UNIX-like environments.\u001B[0m\n\u001B[0;31m\u001B[0m\n\u001B[0;31mTo read more about this, see https://github.com/ipython/ipython/issues/2049\u001B[0m\n\u001B[0;31m\u001B[0m\n\u001B[0;31m\u001B[0m\n\u001B[0;31mTo connect another client to this kernel, use:\u001B[0m\n\u001B[0;31m    --existing /databricks/kernel-connections/7549111c5cd87fda5b488bdc766c661d332a0e4ef7ebd0d2a611fa3996cd7d82.json\u001B[0m\n\u001B[0;31m31232\u001B[0m\n\u001B[0;31m5205\u001B[0m\n\u001B[0;31m5206\u001B[0m\n\u001B[0;31m1500\u001B[0m\n\u001B[0;31m1500\u001B[0m\n\u001B[0;31mtorch.Size([3]) torch.Size([1, 3]) tensor([[ 0.6793, -0.7744,  0.3417]], grad_fn=<AddmmBackward0>)\u001B[0m\n\u001B[0;31mhuggingface/tokenizers: The current process just got forked, after parallelism has already been used. Disabling parallelism to avoid deadlocks...\u001B[0m\n\u001B[0;31mTo disable this warning, you can either:\u001B[0m\n\u001B[0;31m\t- Avoid using `tokenizers` before the fork if possible\u001B[0m\n\u001B[0;31m\t- Explicitly set the environment variable TOKENIZERS_PARALLELISM=(true | false)\u001B[0m\n\u001B[0;31mhuggingface/tokenizers: The current process just got forked, after parallelism has already been used. Disabling parallelism to avoid deadlocks...\u001B[0m\n\u001B[0;31mTo disable this warning, you can either:\u001B[0m\n\u001B[0;31m\t- Avoid using `tokenizers` before the fork if possible\u001B[0m\n\u001B[0;31m\t- Explicitly set the environment variable TOKENIZERS_PARALLELISM=(true | false)\u001B[0m\n\u001B[0;31mhuggingface/tokenizers: The current process just got forked, after parallelism has already been used. Disabling parallelism to avoid deadlocks...\u001B[0m\n\u001B[0;31mTo disable this warning, you can either:\u001B[0m\n\u001B[0;31m\t- Avoid using `tokenizers` before the fork if possible\u001B[0m\n\u001B[0;31m\t- Explicitly set the environment variable TOKENIZERS_PARALLELISM=(true | false)\u001B[0m\n\u001B[0;31mhuggingface/tokenizers: The current process just got forked, after parallelism has already been used. Disabling parallelism to avoid deadlocks...\u001B[0m\n\u001B[0;31mTo disable this warning, you can either:\u001B[0m\n\u001B[0;31m\t- Avoid using `tokenizers` before the fork if possible\u001B[0m\n\u001B[0;31m\t- Explicitly set the environment variable TOKENIZERS_PARALLELISM=(true | false)\u001B[0m\n\u001B[0;31mhuggingface/tokenizers: The current process just got forked, after parallelism has already been used. Disabling parallelism to avoid deadlocks...\u001B[0m\n\u001B[0;31mTo disable this warning, you can either:\u001B[0m\n\u001B[0;31m\t- Avoid using `tokenizers` before the fork if possible\u001B[0m\n\u001B[0;31m\t- Explicitly set the environment variable TOKENIZERS_PARALLELISM=(true | false)\u001B[0m\n\u001B[0;31mhuggingface/tokenizers: The current process just got forked, after parallelism has already been used. Disabling parallelism to avoid deadlocks...\u001B[0m\n\u001B[0;31mTo disable this warning, you can either:\u001B[0m\n\u001B[0;31m\t- Avoid using `tokenizers` before the fork if possible\u001B[0m\n\u001B[0;31m\t- Explicitly set the environment variable TOKENIZERS_PARALLELISM=(true | false)\u001B[0m\n\u001B[0;31mhuggingface/tokenizers: The current process just got forked, after parallelism has already been used. Disabling parallelism to avoid deadlocks...\u001B[0m\n\u001B[0;31mTo disable this warning, you can either:\u001B[0m\n\u001B[0;31m\t- Avoid using `tokenizers` before the fork if possible\u001B[0m\n\u001B[0;31m\t- Explicitly set the environment variable TOKENIZERS_PARALLELISM=(true | false)\u001B[0m\n\u001B[0;31mhuggingface/tokenizers: The current process just got forked, after parallelism has already been used. Disabling parallelism to avoid deadlocks...\u001B[0m\n\u001B[0;31mTo disable this warning, you can either:\u001B[0m\n\u001B[0;31m\t- Avoid using `tokenizers` before the fork if possible\u001B[0m\n\u001B[0;31m\t- Explicitly set the environment variable TOKENIZERS_PARALLELISM=(true | false)\u001B[0m\n\u001B[0;31mhuggingface/tokenizers: The current process just got forked, after parallelism has already been used. Disabling parallelism to avoid deadlocks...\u001B[0m\n\u001B[0;31mTo disable this warning, you can either:\u001B[0m\n\u001B[0;31m\t- Avoid using `tokenizers` before the fork if possible\u001B[0m\n\u001B[0;31m\t- Explicitly set the environment variable TOKENIZERS_PARALLELISM=(true | false)\u001B[0m\n\u001B[0;31mhuggingface/tokenizers: The current process just got forked, after parallelism has already been used. Disabling parallelism to avoid deadlocks...\u001B[0m\n\u001B[0;31mTo disable this warning, you can either:\u001B[0m\n\u001B[0;31m\t- Avoid using `tokenizers` before the fork if possible\u001B[0m\n\u001B[0;31m\t- Explicitly set the environment variable TOKENIZERS_PARALLELISM=(true | false)\u001B[0m\n\u001B[0;31mhuggingface/tokenizers: The current process just got forked, after parallelism has already been used. Disabling parallelism to avoid deadlocks...\u001B[0m\n\u001B[0;31mTo disable this warning, you can either:\u001B[0m\n\u001B[0;31m\t- Avoid using `tokenizers` before the fork if possible\u001B[0m\n\u001B[0;31m\t- Explicitly set the environment variable TOKENIZERS_PARALLELISM=(true | false)\u001B[0m",
       "errorSummary": "<span class='ansi-red-fg'>Fatal error</span>: The Python kernel is unresponsive.",
       "errorTraceType": "ansi",
       "metadata": {},
       "type": "ipynbError"
      }
     },
     "output_type": "display_data"
    }
   ],
   "source": [
    "# MLflow setup\n",
    "experiment_name = \"/Users/mohamed.zahid@simpleenergy.in/comment_class\"  # Replace with a descriptive experiment name\n",
    "mlflow_logger = MLFlowLogger(experiment_name=experiment_name)\n",
    "\n",
    "# Start an MLflow run\n",
    "with mlflow.start_run():\n",
    "    # Log parameters to the run\n",
    "    mlflow.log_params(config)\n",
    "\n",
    "    # Data Module setup\n",
    "    senti_data_module = Senti_Data_Module(train_path, val_path, test_path, attributes=attributes,\n",
    "                                          batch_size=config['batch_size'])\n",
    "    senti_data_module.setup()\n",
    "\n",
    "    # Model\n",
    "    model = Senti_Comment_Classifier(config)\n",
    "\n",
    "    # Trainer setup\n",
    "    trainer = pl.Trainer(max_epochs=config['n_epochs'], num_sanity_val_steps=50, logger=mlflow_logger)\n",
    "\n",
    "    # Train the model\n",
    "    trainer.fit(model, senti_data_module)\n",
    "\n",
    "    # Save the PyTorch Lightning model checkpoint to a local directory\n",
    "    checkpoint_path = \"/dbfs/FileStore/model_checkpoint.pt\"  # Adjust the path accordingly\n",
    "    trainer.save_checkpoint(checkpoint_path)\n",
    "\n",
    "    # Log the PyTorch Lightning model checkpoint as an artifact\n",
    "    mlflow.pytorch.log_model(model, artifact_path=\"dbfs:/FileStore\")\n",
    "\n",
    "    # # Replace 'local_dir_with_artifacts' with the actual path to your additional artifacts\n",
    "    # additional_artifacts_path = \"dbfs:/databricks/mlflow-tracking/3432650433248683\"  # Adjust this path\n",
    "    # Log additional artifacts such as plots or files\n",
    "    # mlflow.log_artifacts(additional_artifacts_path, artifact_path=\"extras\")\n"
   ]
  },
  {
   "cell_type": "code",
   "execution_count": 0,
   "metadata": {
    "application/vnd.databricks.v1+cell": {
     "cellMetadata": {
      "byteLimit": 2048000,
      "rowLimit": 10000
     },
     "inputWidgets": {},
     "nuid": "eba45a3a-fb72-42a6-a08c-6702cc80e4a6",
     "showTitle": false,
     "title": ""
    }
   },
   "outputs": [
    {
     "output_type": "stream",
     "name": "stdout",
     "output_type": "stream",
     "text": [
      "Your log directory might be ephemeral to the cluster, which will be deleted after cluster termination or restart. You can choose a log directory under `/dbfs/` to persist your logs in DBFS.\n"
     ]
    },
    {
     "output_type": "stream",
     "name": "stdout",
     "output_type": "stream",
     "text": [
      "ERROR: Failed to launch TensorBoard (exited with 1).\nContents of stderr:\n2023-09-05 22:58:53.421294: I tensorflow/tsl/cuda/cudart_stub.cc:28] Could not find cuda drivers on your machine, GPU will not be used.\n2023-09-05 22:58:53.528196: I tensorflow/tsl/cuda/cudart_stub.cc:28] Could not find cuda drivers on your machine, GPU will not be used.\n2023-09-05 22:58:53.529083: I tensorflow/core/platform/cpu_feature_guard.cc:182] This TensorFlow binary is optimized to use available CPU instructions in performance-critical operations.\nTo enable the following instructions: AVX2 FMA, in other operations, rebuild TensorFlow with the appropriate compiler flags.\n2023-09-05 22:58:55.117219: W tensorflow/compiler/tf2tensorrt/utils/py_utils.cc:38] TF-TRT Warning: Could not find TensorRT\n/databricks/python/lib/python3.9/site-packages/scipy/__init__.py:146: UserWarning: A NumPy version >=1.16.5 and <1.23.0 is required for this version of SciPy (detected version 1.24.3\n  warnings.warn(f\"A NumPy version >={np_minversion} and <{np_maxversion}\"\n/local_disk0/.ephemeral_nfs/cluster_libraries/python/lib/python3.9/site-packages/tensorboard_data_server/bin/server: /lib/x86_64-linux-gnu/libc.so.6: version `GLIBC_2.33' not found (required by /local_disk0/.ephemeral_nfs/cluster_libraries/python/lib/python3.9/site-packages/tensorboard_data_server/bin/server)\n/local_disk0/.ephemeral_nfs/cluster_libraries/python/lib/python3.9/site-packages/tensorboard_data_server/bin/server: /lib/x86_64-linux-gnu/libc.so.6: version `GLIBC_2.34' not found (required by /local_disk0/.ephemeral_nfs/cluster_libraries/python/lib/python3.9/site-packages/tensorboard_data_server/bin/server)\n/local_disk0/.ephemeral_nfs/cluster_libraries/python/lib/python3.9/site-packages/tensorboard_data_server/bin/server: /lib/x86_64-linux-gnu/libc.so.6: version `GLIBC_2.32' not found (required by /local_disk0/.ephemeral_nfs/cluster_libraries/python/lib/python3.9/site-packages/tensorboard_data_server/bin/server)\nAddress already in use\nPort 6006 is in use by another program. Either identify and stop that program, or start the server with a different port."
     ]
    }
   ],
   "source": [
    "%load_ext tensorboard\n",
    "%tensorboard --logdir ./lightning_logs/"
   ]
  },
  {
   "cell_type": "code",
   "execution_count": 0,
   "metadata": {
    "application/vnd.databricks.v1+cell": {
     "cellMetadata": {
      "byteLimit": 2048000,
      "rowLimit": 10000
     },
     "inputWidgets": {},
     "nuid": "a8c58f82-7014-442f-a85f-f466a6afac9e",
     "showTitle": false,
     "title": ""
    }
   },
   "outputs": [],
   "source": [
    "#############################################################################################################################################################################################################################"
   ]
  },
  {
   "cell_type": "code",
   "execution_count": 0,
   "metadata": {
    "application/vnd.databricks.v1+cell": {
     "cellMetadata": {
      "byteLimit": 2048000,
      "rowLimit": 10000
     },
     "inputWidgets": {},
     "nuid": "69222d63-f1b7-409e-b0f6-70286167dfdd",
     "showTitle": false,
     "title": ""
    }
   },
   "outputs": [],
   "source": [
    "import numpy as np"
   ]
  },
  {
   "cell_type": "code",
   "execution_count": 0,
   "metadata": {
    "application/vnd.databricks.v1+cell": {
     "cellMetadata": {
      "byteLimit": 2048000,
      "rowLimit": 10000
     },
     "inputWidgets": {},
     "nuid": "e3709a63-01f0-4f4a-88a4-a0fa641eeba7",
     "showTitle": false,
     "title": ""
    }
   },
   "outputs": [],
   "source": [
    "# method to convert list of comments into predictions for each comment\n",
    "def classify_raw_comments(model, dm):\n",
    "  predictions = trainer.predict(model, datamodule=dm)\n",
    "  flattened_predictions = np.stack([torch.sigmoid(torch.Tensor(p)) for batch in predictions for p in batch])\n",
    "  return flattened_predictions\n"
   ]
  },
  {
   "cell_type": "code",
   "execution_count": 0,
   "metadata": {
    "application/vnd.databricks.v1+cell": {
     "cellMetadata": {
      "byteLimit": 2048000,
      "rowLimit": 10000
     },
     "inputWidgets": {},
     "nuid": "d99873c3-fc6f-4208-b165-3e76ec6a690c",
     "showTitle": false,
     "title": ""
    },
    "jupyter": {
     "outputs_hidden": true
    }
   },
   "outputs": [
    {
     "output_type": "display_data",
     "data": {
      "text/html": [
       "<style scoped>\n",
       "  .ansiout {\n",
       "    display: block;\n",
       "    unicode-bidi: embed;\n",
       "    white-space: pre-wrap;\n",
       "    word-wrap: break-word;\n",
       "    word-break: break-all;\n",
       "    font-family: \"Source Code Pro\", \"Menlo\", monospace;;\n",
       "    font-size: 13px;\n",
       "    color: #555;\n",
       "    margin-left: 4px;\n",
       "    line-height: 19px;\n",
       "  }\n",
       "</style>"
      ]
     },
     "metadata": {
      "application/vnd.databricks.v1+output": {
       "arguments": {},
       "data": "",
       "errorSummary": "Cancelled",
       "errorTraceType": "html",
       "metadata": {},
       "type": "ipynbError"
      }
     },
     "output_type": "display_data"
    }
   ],
   "source": [
    "predictions = classify_raw_comments(model, senti_data_module)"
   ]
  },
  {
   "cell_type": "code",
   "execution_count": 0,
   "metadata": {
    "application/vnd.databricks.v1+cell": {
     "cellMetadata": {
      "byteLimit": 2048000,
      "rowLimit": 10000
     },
     "inputWidgets": {},
     "nuid": "2fa625fc-37b3-40ba-adb2-d666fbd36c1f",
     "showTitle": false,
     "title": ""
    }
   },
   "outputs": [
    {
     "output_type": "stream",
     "name": "stdout",
     "output_type": "stream",
     "text": [
      "Out[72]: array([[0.42850676, 0.5624248 , 0.36501125],\n       [0.5471387 , 0.59594756, 0.3399927 ],\n       [0.47456315, 0.5686338 , 0.33838224],\n       ...,\n       [0.4818082 , 0.50572973, 0.50862354],\n       [0.4171232 , 0.6611567 , 0.6007816 ],\n       [0.5139573 , 0.54961956, 0.47696117]], dtype=float32)"
     ]
    }
   ],
   "source": [
    "predictions"
   ]
  },
  {
   "cell_type": "code",
   "execution_count": 0,
   "metadata": {
    "application/vnd.databricks.v1+cell": {
     "cellMetadata": {
      "byteLimit": 2048000,
      "rowLimit": 10000
     },
     "inputWidgets": {},
     "nuid": "464835c8-e849-41a3-9312-454b1d68867d",
     "showTitle": false,
     "title": ""
    }
   },
   "outputs": [
    {
     "output_type": "display_data",
     "data": {
      "text/html": [
       "<div>\n",
       "<style scoped>\n",
       "    .dataframe tbody tr th:only-of-type {\n",
       "        vertical-align: middle;\n",
       "    }\n",
       "\n",
       "    .dataframe tbody tr th {\n",
       "        vertical-align: top;\n",
       "    }\n",
       "\n",
       "    .dataframe thead th {\n",
       "        text-align: right;\n",
       "    }\n",
       "</style>\n",
       "<table border=\"1\" class=\"dataframe\">\n",
       "  <thead>\n",
       "    <tr style=\"text-align: right;\">\n",
       "      <th></th>\n",
       "      <th>label</th>\n",
       "      <th>sentiment</th>\n",
       "      <th>sentiment_score</th>\n",
       "    </tr>\n",
       "  </thead>\n",
       "  <tbody>\n",
       "    <tr>\n",
       "      <th>0</th>\n",
       "      <td>1</td>\n",
       "      <td>neutral</td>\n",
       "      <td>0.562425</td>\n",
       "    </tr>\n",
       "    <tr>\n",
       "      <th>1</th>\n",
       "      <td>1</td>\n",
       "      <td>neutral</td>\n",
       "      <td>0.595948</td>\n",
       "    </tr>\n",
       "    <tr>\n",
       "      <th>2</th>\n",
       "      <td>1</td>\n",
       "      <td>neutral</td>\n",
       "      <td>0.568634</td>\n",
       "    </tr>\n",
       "    <tr>\n",
       "      <th>3</th>\n",
       "      <td>0</td>\n",
       "      <td>negative</td>\n",
       "      <td>0.525212</td>\n",
       "    </tr>\n",
       "    <tr>\n",
       "      <th>4</th>\n",
       "      <td>0</td>\n",
       "      <td>negative</td>\n",
       "      <td>0.573754</td>\n",
       "    </tr>\n",
       "    <tr>\n",
       "      <th>...</th>\n",
       "      <td>...</td>\n",
       "      <td>...</td>\n",
       "      <td>...</td>\n",
       "    </tr>\n",
       "    <tr>\n",
       "      <th>1495</th>\n",
       "      <td>0</td>\n",
       "      <td>negative</td>\n",
       "      <td>0.555860</td>\n",
       "    </tr>\n",
       "    <tr>\n",
       "      <th>1496</th>\n",
       "      <td>0</td>\n",
       "      <td>negative</td>\n",
       "      <td>0.558882</td>\n",
       "    </tr>\n",
       "    <tr>\n",
       "      <th>1497</th>\n",
       "      <td>2</td>\n",
       "      <td>positive</td>\n",
       "      <td>0.508624</td>\n",
       "    </tr>\n",
       "    <tr>\n",
       "      <th>1498</th>\n",
       "      <td>1</td>\n",
       "      <td>neutral</td>\n",
       "      <td>0.661157</td>\n",
       "    </tr>\n",
       "    <tr>\n",
       "      <th>1499</th>\n",
       "      <td>1</td>\n",
       "      <td>neutral</td>\n",
       "      <td>0.549620</td>\n",
       "    </tr>\n",
       "  </tbody>\n",
       "</table>\n",
       "<p>1500 rows × 3 columns</p>\n",
       "</div>"
      ]
     },
     "metadata": {
      "application/vnd.databricks.v1+output": {
       "addedWidgets": {},
       "arguments": {},
       "data": "<div>\n<style scoped>\n    .dataframe tbody tr th:only-of-type {\n        vertical-align: middle;\n    }\n\n    .dataframe tbody tr th {\n        vertical-align: top;\n    }\n\n    .dataframe thead th {\n        text-align: right;\n    }\n</style>\n<table border=\"1\" class=\"dataframe\">\n  <thead>\n    <tr style=\"text-align: right;\">\n      <th></th>\n      <th>label</th>\n      <th>sentiment</th>\n      <th>sentiment_score</th>\n    </tr>\n  </thead>\n  <tbody>\n    <tr>\n      <th>0</th>\n      <td>1</td>\n      <td>neutral</td>\n      <td>0.562425</td>\n    </tr>\n    <tr>\n      <th>1</th>\n      <td>1</td>\n      <td>neutral</td>\n      <td>0.595948</td>\n    </tr>\n    <tr>\n      <th>2</th>\n      <td>1</td>\n      <td>neutral</td>\n      <td>0.568634</td>\n    </tr>\n    <tr>\n      <th>3</th>\n      <td>0</td>\n      <td>negative</td>\n      <td>0.525212</td>\n    </tr>\n    <tr>\n      <th>4</th>\n      <td>0</td>\n      <td>negative</td>\n      <td>0.573754</td>\n    </tr>\n    <tr>\n      <th>...</th>\n      <td>...</td>\n      <td>...</td>\n      <td>...</td>\n    </tr>\n    <tr>\n      <th>1495</th>\n      <td>0</td>\n      <td>negative</td>\n      <td>0.555860</td>\n    </tr>\n    <tr>\n      <th>1496</th>\n      <td>0</td>\n      <td>negative</td>\n      <td>0.558882</td>\n    </tr>\n    <tr>\n      <th>1497</th>\n      <td>2</td>\n      <td>positive</td>\n      <td>0.508624</td>\n    </tr>\n    <tr>\n      <th>1498</th>\n      <td>1</td>\n      <td>neutral</td>\n      <td>0.661157</td>\n    </tr>\n    <tr>\n      <th>1499</th>\n      <td>1</td>\n      <td>neutral</td>\n      <td>0.549620</td>\n    </tr>\n  </tbody>\n</table>\n<p>1500 rows × 3 columns</p>\n</div>",
       "datasetInfos": [],
       "metadata": {},
       "removedWidgets": [],
       "textData": null,
       "type": "htmlSandbox"
      }
     },
     "output_type": "display_data"
    }
   ],
   "source": [
    "\n",
    "# Map predictions\n",
    "attributes = ['negative', 'neutral', 'positive']\n",
    "max_indices = [(pred.argmax(), attributes[pred.argmax()], pred.max()) for pred in predictions]\n",
    "\n",
    "df = pd.DataFrame(max_indices, columns=['label', 'sentiment', 'sentiment_score'])\n",
    "\n",
    "# DF\n",
    "df"
   ]
  },
  {
   "cell_type": "code",
   "execution_count": 0,
   "metadata": {
    "application/vnd.databricks.v1+cell": {
     "cellMetadata": {
      "byteLimit": 2048000,
      "rowLimit": 10000
     },
     "inputWidgets": {},
     "nuid": "f2e19756-5aca-4d13-935a-37d47322acb4",
     "showTitle": false,
     "title": ""
    }
   },
   "outputs": [],
   "source": [
    "true_labels = np.array(test_data[attributes]) "
   ]
  },
  {
   "cell_type": "code",
   "execution_count": 0,
   "metadata": {
    "application/vnd.databricks.v1+cell": {
     "cellMetadata": {
      "byteLimit": 2048000,
      "rowLimit": 10000
     },
     "inputWidgets": {},
     "nuid": "f74d9582-5eee-419a-a2e5-7b30224ec543",
     "showTitle": false,
     "title": ""
    }
   },
   "outputs": [
    {
     "output_type": "stream",
     "name": "stdout",
     "output_type": "stream",
     "text": [
      "Out[43]: Text(0.5, 1.0, 'RoBERTa Trained on Datatset - AUC ROC')"
     ]
    },
    {
     "output_type": "display_data",
     "data": {
      "image/png": "[encoded data removed]"
     },
     "metadata": {
      "application/vnd.databricks.v1+output": {
       "addedWidgets": {},
       "arguments": {},
       "data": "data:image/png;base64,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\n",
       "datasetInfos": [],
       "metadata": {},
       "removedWidgets": [],
       "type": "image"
      }
     },
     "output_type": "display_data"
    }
   ],
   "source": [
    "from sklearn import metrics\n",
    "plt.figure(figsize=(15, 8))\n",
    "for i, attribute in enumerate(attributes):\n",
    "  fpr, tpr, _ = metrics.roc_curve(\n",
    "      true_labels[:,i].astype(int), predictions[:, i])\n",
    "  auc = metrics.roc_auc_score(\n",
    "      true_labels[:,i].astype(int), predictions[:, i])\n",
    "  plt.plot(fpr, tpr, label='%s %g' % (attribute, auc))\n",
    "plt.xlabel('False Positive Rate')\n",
    "plt.ylabel('True Positive Rate')\n",
    "plt.legend(loc='lower right')\n",
    "plt.title('RoBERTa Trained on Datatset - AUC ROC')"
   ]
  }
 ],
 "metadata": {
  "application/vnd.databricks.v1+notebook": {
   "dashboards": [],
   "language": "python",
   "notebookMetadata": {
    "mostRecentlyExecutedCommandWithImplicitDF": {
     "commandId": 3432650433248691,
     "dataframes": [
      "_sqldf"
     ]
    },
    "pythonIndentUnit": 4
   },
   "notebookName": "Finetune RoBERTa",
   "widgets": {}
  }
 },
 "nbformat": 4,
 "nbformat_minor": 0
}
