{
 "cells": [
  {
   "cell_type": "code",
   "execution_count": 0,
   "metadata": {
    "application/vnd.databricks.v1+cell": {
     "cellMetadata": {
      "byteLimit": 2048000,
      "rowLimit": 10000
     },
     "inputWidgets": {},
     "nuid": "b6be7131-4168-4f7f-ad77-5b8343f62500",
     "showTitle": false,
     "title": ""
    }
   },
   "outputs": [
    {
     "output_type": "stream",
     "name": "stdout",
     "output_type": "stream",
     "text": [
      "Python interpreter will be restarted.\nCollecting transformers\n  Using cached transformers-4.33.0-py3-none-any.whl (7.6 MB)\nCollecting sentencepiece\n  Using cached sentencepiece-0.1.99-cp39-cp39-manylinux_2_17_x86_64.manylinux2014_x86_64.whl (1.3 MB)\nRequirement already satisfied: torch in /local_disk0/.ephemeral_nfs/cluster_libraries/python/lib/python3.9/site-packages (1.8.1)\nCollecting torch\n  Using cached torch-2.0.1-cp39-cp39-manylinux1_x86_64.whl (619.9 MB)\nCollecting langchain\n  Using cached langchain-0.0.281-py3-none-any.whl (1.6 MB)\nCollecting pydantic==1.8\n  Using cached pydantic-1.8-cp39-cp39-manylinux2014_x86_64.whl (11.3 MB)\nCollecting mlflow\n  Using cached mlflow-2.6.0-py3-none-any.whl (18.3 MB)\nRequirement already satisfied: typing-extensions>=3.7.4.3 in /databricks/python3/lib/python3.9/site-packages (from pydantic==1.8) (4.1.1)\nRequirement already satisfied: packaging>=20.0 in /databricks/python3/lib/python3.9/site-packages (from transformers) (21.3)\nCollecting pyyaml>=5.1\n  Using cached PyYAML-6.0.1-cp39-cp39-manylinux_2_17_x86_64.manylinux2014_x86_64.whl (738 kB)\nCollecting safetensors>=0.3.1\n  Using cached safetensors-0.3.3-cp39-cp39-manylinux_2_17_x86_64.manylinux2014_x86_64.whl (1.3 MB)\nRequirement already satisfied: filelock in /usr/local/lib/python3.9/dist-packages (from transformers) (3.9.0)\nRequirement already satisfied: numpy>=1.17 in /local_disk0/.ephemeral_nfs/cluster_libraries/python/lib/python3.9/site-packages (from transformers) (1.24.3)\nCollecting regex!=2019.12.17\n  Using cached regex-2023.8.8-cp39-cp39-manylinux_2_17_x86_64.manylinux2014_x86_64.whl (771 kB)\nCollecting huggingface-hub<1.0,>=0.15.1\n  Using cached huggingface_hub-0.16.4-py3-none-any.whl (268 kB)\nCollecting tokenizers!=0.11.3,<0.14,>=0.11.1\n  Using cached tokenizers-0.13.3-cp39-cp39-manylinux_2_17_x86_64.manylinux2014_x86_64.whl (7.8 MB)\nCollecting tqdm>=4.27\n  Using cached tqdm-4.66.1-py3-none-any.whl (78 kB)\nRequirement already satisfied: requests in /databricks/python3/lib/python3.9/site-packages (from transformers) (2.27.1)\nCollecting nvidia-cuda-nvrtc-cu11==11.7.99\n  Using cached nvidia_cuda_nvrtc_cu11-11.7.99-2-py3-none-manylinux1_x86_64.whl (21.0 MB)\nRequirement already satisfied: jinja2 in /databricks/python3/lib/python3.9/site-packages (from torch) (2.11.3)\nCollecting nvidia-curand-cu11==10.2.10.91\n  Using cached nvidia_curand_cu11-10.2.10.91-py3-none-manylinux1_x86_64.whl (54.6 MB)\nCollecting nvidia-cuda-runtime-cu11==11.7.99\n  Using cached nvidia_cuda_runtime_cu11-11.7.99-py3-none-manylinux1_x86_64.whl (849 kB)\nCollecting nvidia-cuda-cupti-cu11==11.7.101\n  Using cached nvidia_cuda_cupti_cu11-11.7.101-py3-none-manylinux1_x86_64.whl (11.8 MB)\nCollecting nvidia-cusparse-cu11==11.7.4.91\n  Using cached nvidia_cusparse_cu11-11.7.4.91-py3-none-manylinux1_x86_64.whl (173.2 MB)\nCollecting nvidia-cublas-cu11==11.10.3.66\n  Using cached nvidia_cublas_cu11-11.10.3.66-py3-none-manylinux1_x86_64.whl (317.1 MB)\nCollecting nvidia-cusolver-cu11==11.4.0.1\n  Using cached nvidia_cusolver_cu11-11.4.0.1-2-py3-none-manylinux1_x86_64.whl (102.6 MB)\nCollecting nvidia-nccl-cu11==2.14.3\n  Using cached nvidia_nccl_cu11-2.14.3-py3-none-manylinux1_x86_64.whl (177.1 MB)\nCollecting triton==2.0.0\n  Using cached triton-2.0.0-1-cp39-cp39-manylinux2014_x86_64.manylinux_2_17_x86_64.whl (63.3 MB)\nCollecting sympy\n  Using cached sympy-1.12-py3-none-any.whl (5.7 MB)\nCollecting nvidia-nvtx-cu11==11.7.91\n  Using cached nvidia_nvtx_cu11-11.7.91-py3-none-manylinux1_x86_64.whl (98 kB)\nCollecting nvidia-cufft-cu11==10.9.0.58\n  Using cached nvidia_cufft_cu11-10.9.0.58-py3-none-manylinux1_x86_64.whl (168.4 MB)\nCollecting networkx\n  Using cached networkx-3.1-py3-none-any.whl (2.1 MB)\nCollecting nvidia-cudnn-cu11==8.5.0.96\n  Using cached nvidia_cudnn_cu11-8.5.0.96-2-py3-none-manylinux1_x86_64.whl (557.1 MB)\nRequirement already satisfied: wheel in /databricks/python3/lib/python3.9/site-packages (from nvidia-cublas-cu11==11.10.3.66->torch) (0.37.0)\nRequirement already satisfied: setuptools in /databricks/python3/lib/python3.9/site-packages (from nvidia-cublas-cu11==11.10.3.66->torch) (61.2.0)\nCollecting lit\n  Using cached lit-16.0.6-py3-none-any.whl\nCollecting cmake\n  Using cached cmake-3.27.4.1-py2.py3-none-manylinux2014_x86_64.manylinux_2_17_x86_64.whl (26.1 MB)\nCollecting numexpr<3.0.0,>=2.8.4\n  Using cached numexpr-2.8.5-cp39-cp39-manylinux_2_17_x86_64.manylinux2014_x86_64.whl (382 kB)\nCollecting SQLAlchemy<3,>=1.4\n  Using cached SQLAlchemy-2.0.20-cp39-cp39-manylinux_2_17_x86_64.manylinux2014_x86_64.whl (3.0 MB)\nCollecting tenacity<9.0.0,>=8.1.0\n  Using cached tenacity-8.2.3-py3-none-any.whl (24 kB)\nCollecting langsmith<0.1.0,>=0.0.21\n  Using cached langsmith-0.0.33-py3-none-any.whl (36 kB)\nCollecting dataclasses-json<0.6.0,>=0.5.7\n  Using cached dataclasses_json-0.5.14-py3-none-any.whl (26 kB)\nCollecting aiohttp<4.0.0,>=3.8.3\n  Using cached aiohttp-3.8.5-cp39-cp39-manylinux_2_17_x86_64.manylinux2014_x86_64.whl (1.1 MB)\nCollecting async-timeout<5.0.0,>=4.0.0\n  Using cached async_timeout-4.0.3-py3-none-any.whl (5.7 kB)\nCollecting docker<7,>=4.0.0\n  Using cached docker-6.1.3-py3-none-any.whl (148 kB)\nRequirement already satisfied: pytz<2024 in /databricks/python3/lib/python3.9/site-packages (from mlflow) (2021.3)\nCollecting gitpython<4,>=2.1.0\n  Using cached GitPython-3.1.34-py3-none-any.whl (188 kB)\nCollecting cloudpickle<3\n  Using cached cloudpickle-2.2.1-py3-none-any.whl (25 kB)\nRequirement already satisfied: protobuf<5,>=3.12.0 in /local_disk0/.ephemeral_nfs/cluster_libraries/python/lib/python3.9/site-packages (from mlflow) (4.24.2)\nCollecting alembic!=1.10.0,<2\n  Using cached alembic-1.12.0-py3-none-any.whl (226 kB)\nRequirement already satisfied: scipy<2 in /databricks/python3/lib/python3.9/site-packages (from mlflow) (1.7.3)\nCollecting Flask<3\n  Using cached flask-2.3.3-py3-none-any.whl (96 kB)\nRequirement already satisfied: pyarrow<13,>=4.0.0 in /databricks/python3/lib/python3.9/site-packages (from mlflow) (7.0.0)\nRequirement already satisfied: matplotlib<4 in /databricks/python3/lib/python3.9/site-packages (from mlflow) (3.5.1)\nRequirement already satisfied: scikit-learn<2 in /databricks/python3/lib/python3.9/site-packages (from mlflow) (1.0.2)\nRequirement already satisfied: entrypoints<1 in /databricks/python3/lib/python3.9/site-packages (from mlflow) (0.4)\nRequirement already satisfied: markdown<4,>=3.3 in /local_disk0/.ephemeral_nfs/cluster_libraries/python/lib/python3.9/site-packages (from mlflow) (3.4.4)\nRequirement already satisfied: pandas<3 in /databricks/python3/lib/python3.9/site-packages (from mlflow) (1.4.2)\nCollecting querystring-parser<2\n  Using cached querystring_parser-1.2.4-py2.py3-none-any.whl (7.9 kB)\nCollecting gunicorn<22\n  Using cached gunicorn-21.2.0-py3-none-any.whl (80 kB)\nRequirement already satisfied: importlib-metadata!=4.7.0,<7,>=3.7.0 in /local_disk0/.ephemeral_nfs/cluster_libraries/python/lib/python3.9/site-packages (from mlflow) (6.8.0)\nCollecting sqlparse<1,>=0.4.0\n  Using cached sqlparse-0.4.4-py3-none-any.whl (41 kB)\nCollecting databricks-cli<1,>=0.8.7\n  Using cached databricks_cli-0.17.7-py3-none-any.whl\nRequirement already satisfied: click<9,>=7.0 in /databricks/python3/lib/python3.9/site-packages (from mlflow) (8.0.4)\nCollecting frozenlist>=1.1.1\n  Using cached frozenlist-1.4.0-cp39-cp39-manylinux_2_5_x86_64.manylinux1_x86_64.manylinux_2_17_x86_64.manylinux2014_x86_64.whl (228 kB)\nRequirement already satisfied: charset-normalizer<4.0,>=2.0 in /databricks/python3/lib/python3.9/site-packages (from aiohttp<4.0.0,>=3.8.3->langchain) (2.0.4)\nCollecting yarl<2.0,>=1.0\n  Using cached yarl-1.9.2-cp39-cp39-manylinux_2_17_x86_64.manylinux2014_x86_64.whl (269 kB)\nCollecting aiosignal>=1.1.2\n  Using cached aiosignal-1.3.1-py3-none-any.whl (7.6 kB)\nCollecting multidict<7.0,>=4.5\n  Using cached multidict-6.0.4-cp39-cp39-manylinux_2_17_x86_64.manylinux2014_x86_64.whl (114 kB)\nRequirement already satisfied: attrs>=17.3.0 in /databricks/python3/lib/python3.9/site-packages (from aiohttp<4.0.0,>=3.8.3->langchain) (21.4.0)\nCollecting Mako\n  Using cached Mako-1.2.4-py3-none-any.whl (78 kB)\nRequirement already satisfied: urllib3<2.0.0,>=1.26.7 in /databricks/python3/lib/python3.9/site-packages (from databricks-cli<1,>=0.8.7->mlflow) (1.26.9)\nCollecting tabulate>=0.7.7\n  Using cached tabulate-0.9.0-py3-none-any.whl (35 kB)\nRequirement already satisfied: six>=1.10.0 in /databricks/python3/lib/python3.9/site-packages (from databricks-cli<1,>=0.8.7->mlflow) (1.16.0)\nRequirement already satisfied: oauthlib>=3.1.0 in /local_disk0/.ephemeral_nfs/cluster_libraries/python/lib/python3.9/site-packages (from databricks-cli<1,>=0.8.7->mlflow) (3.2.2)\nCollecting pyjwt>=1.7.0\n  Using cached PyJWT-2.8.0-py3-none-any.whl (22 kB)\nCollecting typing-inspect<1,>=0.4.0\n  Using cached typing_inspect-0.9.0-py3-none-any.whl (8.8 kB)\nCollecting marshmallow<4.0.0,>=3.18.0\n  Using cached marshmallow-3.20.1-py3-none-any.whl (49 kB)\nCollecting websocket-client>=0.32.0\n  Using cached websocket_client-1.6.2-py3-none-any.whl (57 kB)\nRequirement already satisfied: Werkzeug>=2.3.7 in /local_disk0/.ephemeral_nfs/cluster_libraries/python/lib/python3.9/site-packages (from Flask<3->mlflow) (2.3.7)\nCollecting click<9,>=7.0\n  Using cached click-8.1.7-py3-none-any.whl (97 kB)\nCollecting itsdangerous>=2.1.2\n  Using cached itsdangerous-2.1.2-py3-none-any.whl (15 kB)\nCollecting blinker>=1.6.2\n  Using cached blinker-1.6.2-py3-none-any.whl (13 kB)\nCollecting jinja2\n  Using cached Jinja2-3.1.2-py3-none-any.whl (133 kB)\nCollecting gitdb<5,>=4.0.1\n  Using cached gitdb-4.0.10-py3-none-any.whl (62 kB)\nCollecting smmap<6,>=3.0.1\n  Using cached smmap-5.0.0-py3-none-any.whl (24 kB)\nCollecting fsspec\n  Using cached fsspec-2023.9.0-py3-none-any.whl (173 kB)\nRequirement already satisfied: zipp>=0.5 in /local_disk0/.ephemeral_nfs/cluster_libraries/python/lib/python3.9/site-packages (from importlib-metadata!=4.7.0,<7,>=3.7.0->mlflow) (3.16.2)\nRequirement already satisfied: MarkupSafe>=2.0 in /local_disk0/.ephemeral_nfs/cluster_libraries/python/lib/python3.9/site-packages (from jinja2->torch) (2.1.3)\nRequirement already satisfied: python-dateutil>=2.7 in /databricks/python3/lib/python3.9/site-packages (from matplotlib<4->mlflow) (2.8.2)\nRequirement already satisfied: fonttools>=4.22.0 in /databricks/python3/lib/python3.9/site-packages (from matplotlib<4->mlflow) (4.25.0)\nRequirement already satisfied: kiwisolver>=1.0.1 in /databricks/python3/lib/python3.9/site-packages (from matplotlib<4->mlflow) (1.3.2)\nRequirement already satisfied: pyparsing>=2.2.1 in /databricks/python3/lib/python3.9/site-packages (from matplotlib<4->mlflow) (3.0.4)\nRequirement already satisfied: cycler>=0.10 in /databricks/python3/lib/python3.9/site-packages (from matplotlib<4->mlflow) (0.11.0)\nRequirement already satisfied: pillow>=6.2.0 in /databricks/python3/lib/python3.9/site-packages (from matplotlib<4->mlflow) (9.0.1)\nRequirement already satisfied: idna<4,>=2.5 in /databricks/python3/lib/python3.9/site-packages (from requests->transformers) (3.3)\nRequirement already satisfied: certifi>=2017.4.17 in /databricks/python3/lib/python3.9/site-packages (from requests->transformers) (2021.10.8)\nRequirement already satisfied: threadpoolctl>=2.0.0 in /databricks/python3/lib/python3.9/site-packages (from scikit-learn<2->mlflow) (2.2.0)\nRequirement already satisfied: joblib>=0.11 in /databricks/python3/lib/python3.9/site-packages (from scikit-learn<2->mlflow) (1.1.1)\nCollecting numpy>=1.17\n  Using cached numpy-1.22.4-cp39-cp39-manylinux_2_17_x86_64.manylinux2014_x86_64.whl (16.8 MB)\nCollecting typing-extensions>=3.7.4.3\n  Using cached typing_extensions-4.7.1-py3-none-any.whl (33 kB)\nCollecting greenlet!=0.4.17\n  Using cached greenlet-2.0.2-cp39-cp39-manylinux_2_17_x86_64.manylinux2014_x86_64.whl (610 kB)\nRequirement already satisfied: mypy-extensions>=0.3.0 in /databricks/python3/lib/python3.9/site-packages (from typing-inspect<1,>=0.4.0->dataclasses-json<0.6.0,>=0.5.7->langchain) (0.4.3)\nCollecting mpmath>=0.19\n  Using cached mpmath-1.3.0-py3-none-any.whl (536 kB)\nInstalling collected packages: typing-extensions, smmap, numpy, multidict, greenlet, frozenlist, yarl, websocket-client, typing-inspect, tqdm, tabulate, SQLAlchemy, pyyaml, pyjwt, pydantic, nvidia-cublas-cu11, mpmath, marshmallow, Mako, lit, jinja2, itsdangerous, gitdb, fsspec, cmake, click, blinker, async-timeout, aiosignal, triton, tokenizers, tenacity, sympy, sqlparse, safetensors, regex, querystring-parser, nvidia-nvtx-cu11, nvidia-nccl-cu11, nvidia-cusparse-cu11, nvidia-cusolver-cu11, nvidia-curand-cu11, nvidia-cufft-cu11, nvidia-cudnn-cu11, nvidia-cuda-runtime-cu11, nvidia-cuda-nvrtc-cu11, nvidia-cuda-cupti-cu11, numexpr, networkx, langsmith, huggingface-hub, gunicorn, gitpython, Flask, docker, dataclasses-json, databricks-cli, cloudpickle, alembic, aiohttp, transformers, torch, sentencepiece, mlflow, langchain\n  Attempting uninstall: typing-extensions\n    Found existing installation: typing-extensions 4.1.1\n    Not uninstalling typing-extensions at /databricks/python3/lib/python3.9/site-packages, outside environment /local_disk0/.ephemeral_nfs/envs/pythonEnv-a756712b-d585-4ea3-94d0-4ad03958753c\n    Can't uninstall 'typing-extensions'. No files were found to uninstall.\n  Attempting uninstall: numpy\n    Found existing installation: numpy 1.24.3\n    Not uninstalling numpy at /local_disk0/.ephemeral_nfs/cluster_libraries/python/lib/python3.9/site-packages, outside environment /local_disk0/.ephemeral_nfs/envs/pythonEnv-a756712b-d585-4ea3-94d0-4ad03958753c\n    Can't uninstall 'numpy'. No files were found to uninstall.\n  Attempting uninstall: jinja2\n    Found existing installation: Jinja2 2.11.3\n    Not uninstalling jinja2 at /databricks/python3/lib/python3.9/site-packages, outside environment /local_disk0/.ephemeral_nfs/envs/pythonEnv-a756712b-d585-4ea3-94d0-4ad03958753c\n    Can't uninstall 'Jinja2'. No files were found to uninstall.\n  Attempting uninstall: click\n    Found existing installation: click 8.0.4\n    Not uninstalling click at /databricks/python3/lib/python3.9/site-packages, outside environment /local_disk0/.ephemeral_nfs/envs/pythonEnv-a756712b-d585-4ea3-94d0-4ad03958753c\n    Can't uninstall 'click'. No files were found to uninstall.\n  Attempting uninstall: tenacity\n    Found existing installation: tenacity 8.0.1\n    Not uninstalling tenacity at /databricks/python3/lib/python3.9/site-packages, outside environment /local_disk0/.ephemeral_nfs/envs/pythonEnv-a756712b-d585-4ea3-94d0-4ad03958753c\n    Can't uninstall 'tenacity'. No files were found to uninstall.\n  Attempting uninstall: torch\n    Found existing installation: torch 1.8.1\n    Not uninstalling torch at /local_disk0/.ephemeral_nfs/cluster_libraries/python/lib/python3.9/site-packages, outside environment /local_disk0/.ephemeral_nfs/envs/pythonEnv-a756712b-d585-4ea3-94d0-4ad03958753c\n    Can't uninstall 'torch'. No files were found to uninstall.\nERROR: pip's dependency resolver does not currently take into account all the packages that are installed. This behaviour is the source of the following dependency conflicts.\ntensorflow 2.13.0 requires typing-extensions<4.6.0,>=3.6.6, but you have typing-extensions 4.7.1 which is incompatible.\nSuccessfully installed Flask-2.3.3 Mako-1.2.4 SQLAlchemy-2.0.20 aiohttp-3.8.5 aiosignal-1.3.1 alembic-1.12.0 async-timeout-4.0.3 blinker-1.6.2 click-8.1.7 cloudpickle-2.2.1 cmake-3.27.4.1 databricks-cli-0.17.7 dataclasses-json-0.5.14 docker-6.1.3 frozenlist-1.4.0 fsspec-2023.9.0 gitdb-4.0.10 gitpython-3.1.34 greenlet-2.0.2 gunicorn-21.2.0 huggingface-hub-0.16.4 itsdangerous-2.1.2 jinja2-3.1.2 langchain-0.0.281 langsmith-0.0.33 lit-16.0.6 marshmallow-3.20.1 mlflow-2.6.0 mpmath-1.3.0 multidict-6.0.4 networkx-3.1 numexpr-2.8.5 numpy-1.22.4 nvidia-cublas-cu11-11.10.3.66 nvidia-cuda-cupti-cu11-11.7.101 nvidia-cuda-nvrtc-cu11-11.7.99 nvidia-cuda-runtime-cu11-11.7.99 nvidia-cudnn-cu11-8.5.0.96 nvidia-cufft-cu11-10.9.0.58 nvidia-curand-cu11-10.2.10.91 nvidia-cusolver-cu11-11.4.0.1 nvidia-cusparse-cu11-11.7.4.91 nvidia-nccl-cu11-2.14.3 nvidia-nvtx-cu11-11.7.91 pydantic-1.8 pyjwt-2.8.0 pyyaml-6.0.1 querystring-parser-1.2.4 regex-2023.8.8 safetensors-0.3.3 sentencepiece-0.1.99 smmap-5.0.0 sqlparse-0.4.4 sympy-1.12 tabulate-0.9.0 tenacity-8.2.3 tokenizers-0.13.3 torch-2.0.1 tqdm-4.66.1 transformers-4.33.0 triton-2.0.0 typing-extensions-4.7.1 typing-inspect-0.9.0 websocket-client-1.6.2 yarl-1.9.2\nPython interpreter will be restarted.\n"
     ]
    }
   ],
   "source": [
    "pip install transformers sentencepiece torch --upgrade langchain pydantic==1.8 mlflow"
   ]
  },
  {
   "cell_type": "code",
   "execution_count": 0,
   "metadata": {
    "application/vnd.databricks.v1+cell": {
     "cellMetadata": {
      "byteLimit": 2048000,
      "rowLimit": 10000
     },
     "inputWidgets": {},
     "nuid": "e36fd419-83e1-48fb-b6d5-11ce402a0edf",
     "showTitle": false,
     "title": ""
    }
   },
   "outputs": [
    {
     "output_type": "display_data",
     "data": {
      "application/vnd.databricks.v1+bamboolib_hint": "{\"pd.DataFrames\": [], \"version\": \"0.0.1\"}",
      "text/plain": []
     },
     "metadata": {},
     "output_type": "display_data"
    }
   ],
   "source": [
    "import mlflow\n",
    "import mlflow.huggingface\n",
    "import pandas as pd\n",
    "from transformers import pipeline\n",
    "import matplotlib.pyplot as plt\n",
    "import seaborn as sns"
   ]
  },
  {
   "cell_type": "code",
   "execution_count": 0,
   "metadata": {
    "application/vnd.databricks.v1+cell": {
     "cellMetadata": {
      "byteLimit": 2048000,
      "rowLimit": 10000
     },
     "collapsed": true,
     "inputWidgets": {},
     "nuid": "c013d697-0908-40e8-b881-fe1abb90bf58",
     "showTitle": false,
     "title": ""
    }
   },
   "outputs": [
    {
     "output_type": "stream",
     "name": "stdout",
     "output_type": "stream",
     "text": [
      "Python interpreter will be restarted.\nRequirement already satisfied: transformers in /local_disk0/.ephemeral_nfs/envs/pythonEnv-a756712b-d585-4ea3-94d0-4ad03958753c/lib/python3.9/site-packages (4.33.0)\nRequirement already satisfied: sentencepiece in /local_disk0/.ephemeral_nfs/envs/pythonEnv-a756712b-d585-4ea3-94d0-4ad03958753c/lib/python3.9/site-packages (0.1.99)\nRequirement already satisfied: torch in /local_disk0/.ephemeral_nfs/envs/pythonEnv-a756712b-d585-4ea3-94d0-4ad03958753c/lib/python3.9/site-packages (2.0.1)\nRequirement already satisfied: langchain in /local_disk0/.ephemeral_nfs/envs/pythonEnv-a756712b-d585-4ea3-94d0-4ad03958753c/lib/python3.9/site-packages (0.0.281)\nRequirement already satisfied: pydantic==1.8 in /local_disk0/.ephemeral_nfs/envs/pythonEnv-a756712b-d585-4ea3-94d0-4ad03958753c/lib/python3.9/site-packages (1.8)\nRequirement already satisfied: mlflow in /local_disk0/.ephemeral_nfs/envs/pythonEnv-a756712b-d585-4ea3-94d0-4ad03958753c/lib/python3.9/site-packages (2.6.0)\nRequirement already satisfied: typing-extensions>=3.7.4.3 in /local_disk0/.ephemeral_nfs/envs/pythonEnv-a756712b-d585-4ea3-94d0-4ad03958753c/lib/python3.9/site-packages (from pydantic==1.8) (4.7.1)\nRequirement already satisfied: packaging>=20.0 in /databricks/python3/lib/python3.9/site-packages (from transformers) (21.3)\nRequirement already satisfied: pyyaml>=5.1 in /local_disk0/.ephemeral_nfs/envs/pythonEnv-a756712b-d585-4ea3-94d0-4ad03958753c/lib/python3.9/site-packages (from transformers) (6.0.1)\nRequirement already satisfied: safetensors>=0.3.1 in /local_disk0/.ephemeral_nfs/envs/pythonEnv-a756712b-d585-4ea3-94d0-4ad03958753c/lib/python3.9/site-packages (from transformers) (0.3.3)\nRequirement already satisfied: filelock in /usr/local/lib/python3.9/dist-packages (from transformers) (3.9.0)\nRequirement already satisfied: numpy>=1.17 in /local_disk0/.ephemeral_nfs/envs/pythonEnv-a756712b-d585-4ea3-94d0-4ad03958753c/lib/python3.9/site-packages (from transformers) (1.22.4)\nRequirement already satisfied: regex!=2019.12.17 in /local_disk0/.ephemeral_nfs/envs/pythonEnv-a756712b-d585-4ea3-94d0-4ad03958753c/lib/python3.9/site-packages (from transformers) (2023.8.8)\nRequirement already satisfied: huggingface-hub<1.0,>=0.15.1 in /local_disk0/.ephemeral_nfs/envs/pythonEnv-a756712b-d585-4ea3-94d0-4ad03958753c/lib/python3.9/site-packages (from transformers) (0.16.4)\nRequirement already satisfied: tokenizers!=0.11.3,<0.14,>=0.11.1 in /local_disk0/.ephemeral_nfs/envs/pythonEnv-a756712b-d585-4ea3-94d0-4ad03958753c/lib/python3.9/site-packages (from transformers) (0.13.3)\nRequirement already satisfied: tqdm>=4.27 in /local_disk0/.ephemeral_nfs/envs/pythonEnv-a756712b-d585-4ea3-94d0-4ad03958753c/lib/python3.9/site-packages (from transformers) (4.66.1)\nRequirement already satisfied: requests in /databricks/python3/lib/python3.9/site-packages (from transformers) (2.27.1)\nRequirement already satisfied: nvidia-cuda-nvrtc-cu11==11.7.99 in /local_disk0/.ephemeral_nfs/envs/pythonEnv-a756712b-d585-4ea3-94d0-4ad03958753c/lib/python3.9/site-packages (from torch) (11.7.99)\nRequirement already satisfied: jinja2 in /local_disk0/.ephemeral_nfs/envs/pythonEnv-a756712b-d585-4ea3-94d0-4ad03958753c/lib/python3.9/site-packages (from torch) (3.1.2)\nRequirement already satisfied: nvidia-curand-cu11==10.2.10.91 in /local_disk0/.ephemeral_nfs/envs/pythonEnv-a756712b-d585-4ea3-94d0-4ad03958753c/lib/python3.9/site-packages (from torch) (10.2.10.91)\nRequirement already satisfied: nvidia-cuda-runtime-cu11==11.7.99 in /local_disk0/.ephemeral_nfs/envs/pythonEnv-a756712b-d585-4ea3-94d0-4ad03958753c/lib/python3.9/site-packages (from torch) (11.7.99)\nRequirement already satisfied: nvidia-cuda-cupti-cu11==11.7.101 in /local_disk0/.ephemeral_nfs/envs/pythonEnv-a756712b-d585-4ea3-94d0-4ad03958753c/lib/python3.9/site-packages (from torch) (11.7.101)\nRequirement already satisfied: nvidia-cusparse-cu11==11.7.4.91 in /local_disk0/.ephemeral_nfs/envs/pythonEnv-a756712b-d585-4ea3-94d0-4ad03958753c/lib/python3.9/site-packages (from torch) (11.7.4.91)\nRequirement already satisfied: nvidia-cublas-cu11==11.10.3.66 in /local_disk0/.ephemeral_nfs/envs/pythonEnv-a756712b-d585-4ea3-94d0-4ad03958753c/lib/python3.9/site-packages (from torch) (11.10.3.66)\nRequirement already satisfied: nvidia-cusolver-cu11==11.4.0.1 in /local_disk0/.ephemeral_nfs/envs/pythonEnv-a756712b-d585-4ea3-94d0-4ad03958753c/lib/python3.9/site-packages (from torch) (11.4.0.1)\nRequirement already satisfied: nvidia-nccl-cu11==2.14.3 in /local_disk0/.ephemeral_nfs/envs/pythonEnv-a756712b-d585-4ea3-94d0-4ad03958753c/lib/python3.9/site-packages (from torch) (2.14.3)\nRequirement already satisfied: triton==2.0.0 in /local_disk0/.ephemeral_nfs/envs/pythonEnv-a756712b-d585-4ea3-94d0-4ad03958753c/lib/python3.9/site-packages (from torch) (2.0.0)\nRequirement already satisfied: sympy in /local_disk0/.ephemeral_nfs/envs/pythonEnv-a756712b-d585-4ea3-94d0-4ad03958753c/lib/python3.9/site-packages (from torch) (1.12)\nRequirement already satisfied: nvidia-nvtx-cu11==11.7.91 in /local_disk0/.ephemeral_nfs/envs/pythonEnv-a756712b-d585-4ea3-94d0-4ad03958753c/lib/python3.9/site-packages (from torch) (11.7.91)\nRequirement already satisfied: nvidia-cufft-cu11==10.9.0.58 in /local_disk0/.ephemeral_nfs/envs/pythonEnv-a756712b-d585-4ea3-94d0-4ad03958753c/lib/python3.9/site-packages (from torch) (10.9.0.58)\nRequirement already satisfied: networkx in /local_disk0/.ephemeral_nfs/envs/pythonEnv-a756712b-d585-4ea3-94d0-4ad03958753c/lib/python3.9/site-packages (from torch) (3.1)\nRequirement already satisfied: nvidia-cudnn-cu11==8.5.0.96 in /local_disk0/.ephemeral_nfs/envs/pythonEnv-a756712b-d585-4ea3-94d0-4ad03958753c/lib/python3.9/site-packages (from torch) (8.5.0.96)\nRequirement already satisfied: wheel in /databricks/python3/lib/python3.9/site-packages (from nvidia-cublas-cu11==11.10.3.66->torch) (0.37.0)\nRequirement already satisfied: setuptools in /databricks/python3/lib/python3.9/site-packages (from nvidia-cublas-cu11==11.10.3.66->torch) (61.2.0)\nRequirement already satisfied: lit in /local_disk0/.ephemeral_nfs/envs/pythonEnv-a756712b-d585-4ea3-94d0-4ad03958753c/lib/python3.9/site-packages (from triton==2.0.0->torch) (16.0.6)\nRequirement already satisfied: cmake in /local_disk0/.ephemeral_nfs/envs/pythonEnv-a756712b-d585-4ea3-94d0-4ad03958753c/lib/python3.9/site-packages (from triton==2.0.0->torch) (3.27.4.1)\nRequirement already satisfied: numexpr<3.0.0,>=2.8.4 in /local_disk0/.ephemeral_nfs/envs/pythonEnv-a756712b-d585-4ea3-94d0-4ad03958753c/lib/python3.9/site-packages (from langchain) (2.8.5)\nRequirement already satisfied: SQLAlchemy<3,>=1.4 in /local_disk0/.ephemeral_nfs/envs/pythonEnv-a756712b-d585-4ea3-94d0-4ad03958753c/lib/python3.9/site-packages (from langchain) (2.0.20)\nRequirement already satisfied: tenacity<9.0.0,>=8.1.0 in /local_disk0/.ephemeral_nfs/envs/pythonEnv-a756712b-d585-4ea3-94d0-4ad03958753c/lib/python3.9/site-packages (from langchain) (8.2.3)\nRequirement already satisfied: langsmith<0.1.0,>=0.0.21 in /local_disk0/.ephemeral_nfs/envs/pythonEnv-a756712b-d585-4ea3-94d0-4ad03958753c/lib/python3.9/site-packages (from langchain) (0.0.33)\nRequirement already satisfied: dataclasses-json<0.6.0,>=0.5.7 in /local_disk0/.ephemeral_nfs/envs/pythonEnv-a756712b-d585-4ea3-94d0-4ad03958753c/lib/python3.9/site-packages (from langchain) (0.5.14)\nRequirement already satisfied: aiohttp<4.0.0,>=3.8.3 in /local_disk0/.ephemeral_nfs/envs/pythonEnv-a756712b-d585-4ea3-94d0-4ad03958753c/lib/python3.9/site-packages (from langchain) (3.8.5)\nRequirement already satisfied: async-timeout<5.0.0,>=4.0.0 in /local_disk0/.ephemeral_nfs/envs/pythonEnv-a756712b-d585-4ea3-94d0-4ad03958753c/lib/python3.9/site-packages (from langchain) (4.0.3)\nRequirement already satisfied: docker<7,>=4.0.0 in /local_disk0/.ephemeral_nfs/envs/pythonEnv-a756712b-d585-4ea3-94d0-4ad03958753c/lib/python3.9/site-packages (from mlflow) (6.1.3)\nRequirement already satisfied: pytz<2024 in /databricks/python3/lib/python3.9/site-packages (from mlflow) (2021.3)\nRequirement already satisfied: gitpython<4,>=2.1.0 in /local_disk0/.ephemeral_nfs/envs/pythonEnv-a756712b-d585-4ea3-94d0-4ad03958753c/lib/python3.9/site-packages (from mlflow) (3.1.34)\nRequirement already satisfied: cloudpickle<3 in /local_disk0/.ephemeral_nfs/envs/pythonEnv-a756712b-d585-4ea3-94d0-4ad03958753c/lib/python3.9/site-packages (from mlflow) (2.2.1)\nRequirement already satisfied: protobuf<5,>=3.12.0 in /local_disk0/.ephemeral_nfs/cluster_libraries/python/lib/python3.9/site-packages (from mlflow) (4.24.2)\nRequirement already satisfied: alembic!=1.10.0,<2 in /local_disk0/.ephemeral_nfs/envs/pythonEnv-a756712b-d585-4ea3-94d0-4ad03958753c/lib/python3.9/site-packages (from mlflow) (1.12.0)\nRequirement already satisfied: scipy<2 in /databricks/python3/lib/python3.9/site-packages (from mlflow) (1.7.3)\nRequirement already satisfied: Flask<3 in /local_disk0/.ephemeral_nfs/envs/pythonEnv-a756712b-d585-4ea3-94d0-4ad03958753c/lib/python3.9/site-packages (from mlflow) (2.3.3)\nRequirement already satisfied: pyarrow<13,>=4.0.0 in /databricks/python3/lib/python3.9/site-packages (from mlflow) (7.0.0)\nRequirement already satisfied: matplotlib<4 in /databricks/python3/lib/python3.9/site-packages (from mlflow) (3.5.1)\nRequirement already satisfied: scikit-learn<2 in /databricks/python3/lib/python3.9/site-packages (from mlflow) (1.0.2)\nRequirement already satisfied: entrypoints<1 in /databricks/python3/lib/python3.9/site-packages (from mlflow) (0.4)\nRequirement already satisfied: markdown<4,>=3.3 in /local_disk0/.ephemeral_nfs/cluster_libraries/python/lib/python3.9/site-packages (from mlflow) (3.4.4)\nRequirement already satisfied: pandas<3 in /databricks/python3/lib/python3.9/site-packages (from mlflow) (1.4.2)\nRequirement already satisfied: querystring-parser<2 in /local_disk0/.ephemeral_nfs/envs/pythonEnv-a756712b-d585-4ea3-94d0-4ad03958753c/lib/python3.9/site-packages (from mlflow) (1.2.4)\nRequirement already satisfied: gunicorn<22 in /local_disk0/.ephemeral_nfs/envs/pythonEnv-a756712b-d585-4ea3-94d0-4ad03958753c/lib/python3.9/site-packages (from mlflow) (21.2.0)\nRequirement already satisfied: importlib-metadata!=4.7.0,<7,>=3.7.0 in /local_disk0/.ephemeral_nfs/cluster_libraries/python/lib/python3.9/site-packages (from mlflow) (6.8.0)\nRequirement already satisfied: sqlparse<1,>=0.4.0 in /local_disk0/.ephemeral_nfs/envs/pythonEnv-a756712b-d585-4ea3-94d0-4ad03958753c/lib/python3.9/site-packages (from mlflow) (0.4.4)\nRequirement already satisfied: databricks-cli<1,>=0.8.7 in /local_disk0/.ephemeral_nfs/envs/pythonEnv-a756712b-d585-4ea3-94d0-4ad03958753c/lib/python3.9/site-packages (from mlflow) (0.17.7)\nRequirement already satisfied: click<9,>=7.0 in /local_disk0/.ephemeral_nfs/envs/pythonEnv-a756712b-d585-4ea3-94d0-4ad03958753c/lib/python3.9/site-packages (from mlflow) (8.1.7)\nRequirement already satisfied: frozenlist>=1.1.1 in /local_disk0/.ephemeral_nfs/envs/pythonEnv-a756712b-d585-4ea3-94d0-4ad03958753c/lib/python3.9/site-packages (from aiohttp<4.0.0,>=3.8.3->langchain) (1.4.0)\nRequirement already satisfied: charset-normalizer<4.0,>=2.0 in /databricks/python3/lib/python3.9/site-packages (from aiohttp<4.0.0,>=3.8.3->langchain) (2.0.4)\nRequirement already satisfied: yarl<2.0,>=1.0 in /local_disk0/.ephemeral_nfs/envs/pythonEnv-a756712b-d585-4ea3-94d0-4ad03958753c/lib/python3.9/site-packages (from aiohttp<4.0.0,>=3.8.3->langchain) (1.9.2)\nRequirement already satisfied: aiosignal>=1.1.2 in /local_disk0/.ephemeral_nfs/envs/pythonEnv-a756712b-d585-4ea3-94d0-4ad03958753c/lib/python3.9/site-packages (from aiohttp<4.0.0,>=3.8.3->langchain) (1.3.1)\nRequirement already satisfied: multidict<7.0,>=4.5 in /local_disk0/.ephemeral_nfs/envs/pythonEnv-a756712b-d585-4ea3-94d0-4ad03958753c/lib/python3.9/site-packages (from aiohttp<4.0.0,>=3.8.3->langchain) (6.0.4)\nRequirement already satisfied: attrs>=17.3.0 in /databricks/python3/lib/python3.9/site-packages (from aiohttp<4.0.0,>=3.8.3->langchain) (21.4.0)\nRequirement already satisfied: Mako in /local_disk0/.ephemeral_nfs/envs/pythonEnv-a756712b-d585-4ea3-94d0-4ad03958753c/lib/python3.9/site-packages (from alembic!=1.10.0,<2->mlflow) (1.2.4)\nRequirement already satisfied: urllib3<2.0.0,>=1.26.7 in /databricks/python3/lib/python3.9/site-packages (from databricks-cli<1,>=0.8.7->mlflow) (1.26.9)\nRequirement already satisfied: tabulate>=0.7.7 in /local_disk0/.ephemeral_nfs/envs/pythonEnv-a756712b-d585-4ea3-94d0-4ad03958753c/lib/python3.9/site-packages (from databricks-cli<1,>=0.8.7->mlflow) (0.9.0)\nRequirement already satisfied: six>=1.10.0 in /databricks/python3/lib/python3.9/site-packages (from databricks-cli<1,>=0.8.7->mlflow) (1.16.0)\nRequirement already satisfied: oauthlib>=3.1.0 in /local_disk0/.ephemeral_nfs/cluster_libraries/python/lib/python3.9/site-packages (from databricks-cli<1,>=0.8.7->mlflow) (3.2.2)\nRequirement already satisfied: pyjwt>=1.7.0 in /local_disk0/.ephemeral_nfs/envs/pythonEnv-a756712b-d585-4ea3-94d0-4ad03958753c/lib/python3.9/site-packages (from databricks-cli<1,>=0.8.7->mlflow) (2.8.0)\nRequirement already satisfied: typing-inspect<1,>=0.4.0 in /local_disk0/.ephemeral_nfs/envs/pythonEnv-a756712b-d585-4ea3-94d0-4ad03958753c/lib/python3.9/site-packages (from dataclasses-json<0.6.0,>=0.5.7->langchain) (0.9.0)\nRequirement already satisfied: marshmallow<4.0.0,>=3.18.0 in /local_disk0/.ephemeral_nfs/envs/pythonEnv-a756712b-d585-4ea3-94d0-4ad03958753c/lib/python3.9/site-packages (from dataclasses-json<0.6.0,>=0.5.7->langchain) (3.20.1)\nRequirement already satisfied: websocket-client>=0.32.0 in /local_disk0/.ephemeral_nfs/envs/pythonEnv-a756712b-d585-4ea3-94d0-4ad03958753c/lib/python3.9/site-packages (from docker<7,>=4.0.0->mlflow) (1.6.2)\nRequirement already satisfied: Werkzeug>=2.3.7 in /local_disk0/.ephemeral_nfs/cluster_libraries/python/lib/python3.9/site-packages (from Flask<3->mlflow) (2.3.7)\nRequirement already satisfied: itsdangerous>=2.1.2 in /local_disk0/.ephemeral_nfs/envs/pythonEnv-a756712b-d585-4ea3-94d0-4ad03958753c/lib/python3.9/site-packages (from Flask<3->mlflow) (2.1.2)\nRequirement already satisfied: blinker>=1.6.2 in /local_disk0/.ephemeral_nfs/envs/pythonEnv-a756712b-d585-4ea3-94d0-4ad03958753c/lib/python3.9/site-packages (from Flask<3->mlflow) (1.6.2)\nRequirement already satisfied: gitdb<5,>=4.0.1 in /local_disk0/.ephemeral_nfs/envs/pythonEnv-a756712b-d585-4ea3-94d0-4ad03958753c/lib/python3.9/site-packages (from gitpython<4,>=2.1.0->mlflow) (4.0.10)\nRequirement already satisfied: smmap<6,>=3.0.1 in /local_disk0/.ephemeral_nfs/envs/pythonEnv-a756712b-d585-4ea3-94d0-4ad03958753c/lib/python3.9/site-packages (from gitdb<5,>=4.0.1->gitpython<4,>=2.1.0->mlflow) (5.0.0)\nRequirement already satisfied: fsspec in /local_disk0/.ephemeral_nfs/envs/pythonEnv-a756712b-d585-4ea3-94d0-4ad03958753c/lib/python3.9/site-packages (from huggingface-hub<1.0,>=0.15.1->transformers) (2023.9.0)\nRequirement already satisfied: zipp>=0.5 in /local_disk0/.ephemeral_nfs/cluster_libraries/python/lib/python3.9/site-packages (from importlib-metadata!=4.7.0,<7,>=3.7.0->mlflow) (3.16.2)\nRequirement already satisfied: MarkupSafe>=2.0 in /local_disk0/.ephemeral_nfs/cluster_libraries/python/lib/python3.9/site-packages (from jinja2->torch) (2.1.3)\nRequirement already satisfied: python-dateutil>=2.7 in /databricks/python3/lib/python3.9/site-packages (from matplotlib<4->mlflow) (2.8.2)\nRequirement already satisfied: fonttools>=4.22.0 in /databricks/python3/lib/python3.9/site-packages (from matplotlib<4->mlflow) (4.25.0)\nRequirement already satisfied: kiwisolver>=1.0.1 in /databricks/python3/lib/python3.9/site-packages (from matplotlib<4->mlflow) (1.3.2)\nRequirement already satisfied: pyparsing>=2.2.1 in /databricks/python3/lib/python3.9/site-packages (from matplotlib<4->mlflow) (3.0.4)\nRequirement already satisfied: cycler>=0.10 in /databricks/python3/lib/python3.9/site-packages (from matplotlib<4->mlflow) (0.11.0)\nRequirement already satisfied: pillow>=6.2.0 in /databricks/python3/lib/python3.9/site-packages (from matplotlib<4->mlflow) (9.0.1)\nRequirement already satisfied: idna<4,>=2.5 in /databricks/python3/lib/python3.9/site-packages (from requests->transformers) (3.3)\nRequirement already satisfied: certifi>=2017.4.17 in /databricks/python3/lib/python3.9/site-packages (from requests->transformers) (2021.10.8)\nRequirement already satisfied: threadpoolctl>=2.0.0 in /databricks/python3/lib/python3.9/site-packages (from scikit-learn<2->mlflow) (2.2.0)\nRequirement already satisfied: joblib>=0.11 in /databricks/python3/lib/python3.9/site-packages (from scikit-learn<2->mlflow) (1.1.1)\nRequirement already satisfied: greenlet!=0.4.17 in /local_disk0/.ephemeral_nfs/envs/pythonEnv-a756712b-d585-4ea3-94d0-4ad03958753c/lib/python3.9/site-packages (from SQLAlchemy<3,>=1.4->langchain) (2.0.2)\nRequirement already satisfied: mypy-extensions>=0.3.0 in /databricks/python3/lib/python3.9/site-packages (from typing-inspect<1,>=0.4.0->dataclasses-json<0.6.0,>=0.5.7->langchain) (0.4.3)\nRequirement already satisfied: mpmath>=0.19 in /local_disk0/.ephemeral_nfs/envs/pythonEnv-a756712b-d585-4ea3-94d0-4ad03958753c/lib/python3.9/site-packages (from sympy->torch) (1.3.0)\nPython interpreter will be restarted.\n"
     ]
    },
    {
     "output_type": "display_data",
     "data": {
      "application/vnd.databricks.v1+bamboolib_hint": "{\"pd.DataFrames\": [], \"version\": \"0.0.1\"}",
      "text/plain": []
     },
     "metadata": {},
     "output_type": "display_data"
    },
    {
     "output_type": "display_data",
     "data": {
      "text/plain": [
       ""
      ]
     },
     "metadata": {
      "application/vnd.databricks.v1+output": {
       "arguments": {},
       "data": "",
       "errorSummary": "The execution of this command did not finish successfully",
       "errorTraceType": "ansi",
       "metadata": {},
       "type": "ipynbError"
      }
     },
     "output_type": "display_data"
    }
   ],
   "source": [
    "%run \"/Users/mohamed.zahid@simpleenergy.in/LLM Sentiment Model\""
   ]
  },
  {
   "cell_type": "code",
   "execution_count": 0,
   "metadata": {
    "application/vnd.databricks.v1+cell": {
     "cellMetadata": {
      "byteLimit": 2048000,
      "rowLimit": 10000
     },
     "inputWidgets": {},
     "nuid": "070d528c-8fa8-4e17-9164-f74ea1ecba8c",
     "showTitle": false,
     "title": ""
    }
   },
   "outputs": [
    {
     "output_type": "display_data",
     "data": {
      "text/html": [
       "<div>\n",
       "<style scoped>\n",
       "    .dataframe tbody tr th:only-of-type {\n",
       "        vertical-align: middle;\n",
       "    }\n",
       "\n",
       "    .dataframe tbody tr th {\n",
       "        vertical-align: top;\n",
       "    }\n",
       "\n",
       "    .dataframe thead th {\n",
       "        text-align: right;\n",
       "    }\n",
       "</style>\n",
       "<table border=\"1\" class=\"dataframe\">\n",
       "  <thead>\n",
       "    <tr style=\"text-align: right;\">\n",
       "      <th></th>\n",
       "      <th>date</th>\n",
       "      <th>comment_text</th>\n",
       "      <th>sentiment_label</th>\n",
       "      <th>sentiment_score</th>\n",
       "    </tr>\n",
       "  </thead>\n",
       "  <tbody>\n",
       "    <tr>\n",
       "      <th>0</th>\n",
       "      <td>2023-05-13</td>\n",
       "      <td>why this looks like ather 450x</td>\n",
       "      <td>negative</td>\n",
       "      <td>0.649711</td>\n",
       "    </tr>\n",
       "    <tr>\n",
       "      <th>1</th>\n",
       "      <td>2023-05-12</td>\n",
       "      <td>No competition with ola 😅</td>\n",
       "      <td>neutral</td>\n",
       "      <td>0.514803</td>\n",
       "    </tr>\n",
       "    <tr>\n",
       "      <th>2</th>\n",
       "      <td>2023-04-25</td>\n",
       "      <td>If everything goes well this will be a big hit...</td>\n",
       "      <td>positive</td>\n",
       "      <td>0.795603</td>\n",
       "    </tr>\n",
       "    <tr>\n",
       "      <th>3</th>\n",
       "      <td>2023-03-31</td>\n",
       "      <td>One of the oldest auto channel in YouTube</td>\n",
       "      <td>positive</td>\n",
       "      <td>0.447022</td>\n",
       "    </tr>\n",
       "    <tr>\n",
       "      <th>4</th>\n",
       "      <td>2023-02-23</td>\n",
       "      <td>1and hlf yr bck I was thinking to tk franchise...</td>\n",
       "      <td>negative</td>\n",
       "      <td>0.397321</td>\n",
       "    </tr>\n",
       "    <tr>\n",
       "      <th>...</th>\n",
       "      <td>...</td>\n",
       "      <td>...</td>\n",
       "      <td>...</td>\n",
       "      <td>...</td>\n",
       "    </tr>\n",
       "    <tr>\n",
       "      <th>628</th>\n",
       "      <td>2023-05-23</td>\n",
       "      <td>Nice🎉</td>\n",
       "      <td>positive</td>\n",
       "      <td>0.644901</td>\n",
       "    </tr>\n",
       "    <tr>\n",
       "      <th>629</th>\n",
       "      <td>2023-05-23</td>\n",
       "      <td>Cool</td>\n",
       "      <td>positive</td>\n",
       "      <td>0.491287</td>\n",
       "    </tr>\n",
       "    <tr>\n",
       "      <th>630</th>\n",
       "      <td>2023-05-23</td>\n",
       "      <td>Hum first</td>\n",
       "      <td>neutral</td>\n",
       "      <td>0.476607</td>\n",
       "    </tr>\n",
       "    <tr>\n",
       "      <th>631</th>\n",
       "      <td>2023-05-23</td>\n",
       "      <td>1st..😂🎉</td>\n",
       "      <td>positive</td>\n",
       "      <td>0.578617</td>\n",
       "    </tr>\n",
       "    <tr>\n",
       "      <th>632</th>\n",
       "      <td>2023-05-23</td>\n",
       "      <td>1st comment😂 1st view , 1st like 😂</td>\n",
       "      <td>neutral</td>\n",
       "      <td>0.613403</td>\n",
       "    </tr>\n",
       "  </tbody>\n",
       "</table>\n",
       "<p>633 rows × 4 columns</p>\n",
       "</div>"
      ]
     },
     "metadata": {
      "application/vnd.databricks.v1+output": {
       "addedWidgets": {},
       "arguments": {},
       "data": "<div>\n<style scoped>\n    .dataframe tbody tr th:only-of-type {\n        vertical-align: middle;\n    }\n\n    .dataframe tbody tr th {\n        vertical-align: top;\n    }\n\n    .dataframe thead th {\n        text-align: right;\n    }\n</style>\n<table border=\"1\" class=\"dataframe\">\n  <thead>\n    <tr style=\"text-align: right;\">\n      <th></th>\n      <th>date</th>\n      <th>comment_text</th>\n      <th>sentiment_label</th>\n      <th>sentiment_score</th>\n    </tr>\n  </thead>\n  <tbody>\n    <tr>\n      <th>0</th>\n      <td>2023-05-13</td>\n      <td>why this looks like ather 450x</td>\n      <td>negative</td>\n      <td>0.649711</td>\n    </tr>\n    <tr>\n      <th>1</th>\n      <td>2023-05-12</td>\n      <td>No competition with ola 😅</td>\n      <td>neutral</td>\n      <td>0.514803</td>\n    </tr>\n    <tr>\n      <th>2</th>\n      <td>2023-04-25</td>\n      <td>If everything goes well this will be a big hit...</td>\n      <td>positive</td>\n      <td>0.795603</td>\n    </tr>\n    <tr>\n      <th>3</th>\n      <td>2023-03-31</td>\n      <td>One of the oldest auto channel in YouTube</td>\n      <td>positive</td>\n      <td>0.447022</td>\n    </tr>\n    <tr>\n      <th>4</th>\n      <td>2023-02-23</td>\n      <td>1and hlf yr bck I was thinking to tk franchise...</td>\n      <td>negative</td>\n      <td>0.397321</td>\n    </tr>\n    <tr>\n      <th>...</th>\n      <td>...</td>\n      <td>...</td>\n      <td>...</td>\n      <td>...</td>\n    </tr>\n    <tr>\n      <th>628</th>\n      <td>2023-05-23</td>\n      <td>Nice🎉</td>\n      <td>positive</td>\n      <td>0.644901</td>\n    </tr>\n    <tr>\n      <th>629</th>\n      <td>2023-05-23</td>\n      <td>Cool</td>\n      <td>positive</td>\n      <td>0.491287</td>\n    </tr>\n    <tr>\n      <th>630</th>\n      <td>2023-05-23</td>\n      <td>Hum first</td>\n      <td>neutral</td>\n      <td>0.476607</td>\n    </tr>\n    <tr>\n      <th>631</th>\n      <td>2023-05-23</td>\n      <td>1st..😂🎉</td>\n      <td>positive</td>\n      <td>0.578617</td>\n    </tr>\n    <tr>\n      <th>632</th>\n      <td>2023-05-23</td>\n      <td>1st comment😂 1st view , 1st like 😂</td>\n      <td>neutral</td>\n      <td>0.613403</td>\n    </tr>\n  </tbody>\n</table>\n<p>633 rows × 4 columns</p>\n</div>",
       "datasetInfos": [],
       "metadata": {},
       "removedWidgets": [],
       "textData": null,
       "type": "htmlSandbox"
      }
     },
     "output_type": "display_data"
    }
   ],
   "source": [
    "df"
   ]
  },
  {
   "cell_type": "code",
   "execution_count": 0,
   "metadata": {
    "application/vnd.databricks.v1+cell": {
     "cellMetadata": {
      "byteLimit": 2048000,
      "rowLimit": 10000
     },
     "inputWidgets": {},
     "nuid": "c4e3be84-0ec7-4db8-beaf-5376decdbf11",
     "showTitle": false,
     "title": ""
    }
   },
   "outputs": [
    {
     "output_type": "display_data",
     "data": {
      "text/html": [
       "<style scoped>\n",
       "  .ansiout {\n",
       "    display: block;\n",
       "    unicode-bidi: embed;\n",
       "    white-space: pre-wrap;\n",
       "    word-wrap: break-word;\n",
       "    word-break: break-all;\n",
       "    font-family: \"Source Code Pro\", \"Menlo\", monospace;;\n",
       "    font-size: 13px;\n",
       "    color: #555;\n",
       "    margin-left: 4px;\n",
       "    line-height: 19px;\n",
       "  }\n",
       "</style>"
      ]
     },
     "metadata": {
      "application/vnd.databricks.v1+output": {
       "arguments": {},
       "data": "",
       "errorSummary": "Cancelled",
       "errorTraceType": "html",
       "metadata": {},
       "type": "ipynbError"
      }
     },
     "output_type": "display_data"
    }
   ],
   "source": [
    "# Initialize an MLflow experiment\n",
    "mlflow.set_experiment(\"/Users/mohamed.zahid@simpleenergy.in/sentiment_analysis\")\n",
    "\n",
    "# Define the zero-shot classification pipeline\n",
    "classifier = pipeline(\"zero-shot-classification\", model=\"MoritzLaurer/DeBERTa-v3-base-mnli-fever-anli\")\n",
    "\n",
    "# Function to classify a single row and return the label with the highest score\n",
    "def classify_and_get_highest_label(row):\n",
    "    output = classifier(row['comment_text'], feature_labels, multi_label=False)\n",
    "    index_of_highest_score = output[\"scores\"].index(max(output[\"scores\"]))\n",
    "    return output[\"labels\"][index_of_highest_score]\n",
    "\n",
    "feature_labels = [\n",
    "    \"booking_cancellation_process\",\n",
    "    \"range\",\n",
    "    \"battery\",\n",
    "    \"reliability_quality\",\n",
    "    \"communication_by_company\",\n",
    "    \"comparison\",\n",
    "    \"price\",\n",
    "    \"sales_service\",\n",
    "    \"delivery_time\",\n",
    "    \"performance\",\n",
    "    \"design\",\n",
    "    \"vehicle_issues_faults\"\n",
    "]\n",
    "\n",
    "with mlflow.start_run():\n",
    "    # Log parameters\n",
    "    mlflow.log_params({\"feature_labels\": feature_labels})\n",
    "    \n",
    "    # Apply the classification function to each row and append the result to a new 'features' column\n",
    "    df['features'] = df.apply(classify_and_get_highest_label, axis=1)\n",
    "\n",
    "    # Log artifacts\n",
    "    mlflow.log_artifacts(\"/dbfs/FileStore\")\n",
    "\n",
    "    # Save the model for model registry\n",
    "    mlflow.huggingface.save_model(\n",
    "        model_name=\"sentiment_analysis_model\",\n",
    "        path=\"dbfs:/FileStore\",\n",
    "        registered_model_name=\"sentiment_analysis_model_v1\"\n",
    "    )\n",
    "\n",
    "df"
   ]
  },
  {
   "cell_type": "code",
   "execution_count": 0,
   "metadata": {
    "application/vnd.databricks.v1+cell": {
     "cellMetadata": {
      "byteLimit": 2048000,
      "rowLimit": 10000
     },
     "inputWidgets": {},
     "nuid": "92f5273f-280d-4f47-8834-36677ce1ba82",
     "showTitle": false,
     "title": ""
    }
   },
   "outputs": [
    {
     "output_type": "display_data",
     "data": {
      "text/html": [
       "<style scoped>\n",
       "  .table-result-container {\n",
       "    max-height: 300px;\n",
       "    overflow: auto;\n",
       "  }\n",
       "  table, th, td {\n",
       "    border: 1px solid black;\n",
       "    border-collapse: collapse;\n",
       "  }\n",
       "  th, td {\n",
       "    padding: 5px;\n",
       "  }\n",
       "  th {\n",
       "    text-align: left;\n",
       "  }\n",
       "</style><div class='table-result-container'><table class='table-result'><thead style='background-color: white'><tr><th>date</th><th>comment_text</th><th>sentiment_label</th><th>sentiment_score</th><th>features</th></tr></thead><tbody><tr><td>2023-05-13</td><td>why this looks like ather 450x</td><td>negative</td><td>0.6497108340263367</td><td>comparison</td></tr><tr><td>2023-05-12</td><td>No competition with ola 😅</td><td>neutral</td><td>0.5148032903671265</td><td>communication_by_company</td></tr><tr><td>2023-04-25</td><td>If everything goes well this will be a big hit in EV market for few years</td><td>positive</td><td>0.7956030368804932</td><td>comparison</td></tr><tr><td>2023-03-31</td><td>One of the oldest auto channel in YouTube</td><td>positive</td><td>0.4470221698284149</td><td>design</td></tr><tr><td>2023-02-23</td><td>1and hlf yr bck I was thinking to tk franchise showroom of this n I clld them, they were asking for advance.. thnk god I did not pay.</td><td>negative</td><td>0.39732062816619873</td><td>communication_by_company</td></tr><tr><td>2023-02-21</td><td>Modified Ather 😄</td><td>positive</td><td>0.46343493461608887</td><td>comparison</td></tr><tr><td>2023-02-19</td><td>I am waiting for a long time for this scooty pls simple one do fast and open showroom in Kolkata</td><td>neutral</td><td>0.4584501087665558</td><td>communication_by_company</td></tr><tr><td>2023-02-18</td><td>Romovable battery is an advantage</td><td>positive</td><td>0.6531673073768616</td><td>battery</td></tr><tr><td>2023-02-16</td><td>Bro make a video hill climb test.</td><td>neutral</td><td>0.5588948130607605</td><td>performance</td></tr><tr><td>2023-02-14</td><td>Looks like ather</td><td>neutral</td><td>0.5686222910881042</td><td>comparison</td></tr><tr><td>2023-02-06</td><td>Bahi a scooter lonch hoonekaaa naame heeee nahi aaarahahe A tho fake lagrahahe q ku shayad 2 ya 3 years huva you tube me he is ka ziker he 22 me September me lanch boolke abhi 23 huva abhi thak road me nahi dhikrahahe?</td><td>negative</td><td>0.3807462155818939</td><td>comparison</td></tr><tr><td>2023-02-04</td><td>Sir tell about up coming electric scooter</td><td>neutral</td><td>0.5440897941589355</td><td>communication_by_company</td></tr><tr><td>2023-01-28</td><td>Make video on its build quality and does this works in rainy season 🙏</td><td>neutral</td><td>0.44891682267189026</td><td>comparison</td></tr><tr><td>2023-01-22</td><td>What is the life of scooter after warranty?</td><td>neutral</td><td>0.8508402109146118</td><td>comparison</td></tr><tr><td>2023-01-17</td><td>On aug 15th with launch price 1947/ i paid for 2 bikes...weast no go for this Bike. Lack of response. Collected in croces</td><td>negative</td><td>0.8946057558059692</td><td>booking_cancellation_process</td></tr><tr><td>2023-01-17</td><td>Weast bike,no response from company .I was booked at launch date, still now there no single mail from company.2years ...</td><td>negative</td><td>0.7965778708457947</td><td>communication_by_company</td></tr><tr><td>2023-01-02</td><td>14 inch tyre size is a must have for comfortable highway long rides.</td><td>positive</td><td>0.6886829137802124</td><td>performance</td></tr><tr><td>2022-12-25</td><td>How will it perform in long distance highway rides?</td><td>neutral</td><td>0.8421295881271362</td><td>performance</td></tr><tr><td>2022-12-24</td><td>It becomes difficult one</td><td>negative</td><td>0.7389053106307983</td><td>comparison</td></tr><tr><td>2022-12-11</td><td>I support Indian scoter</td><td>positive</td><td>0.5008871555328369</td><td>comparison</td></tr><tr><td>2022-12-07</td><td>Can we purchase through EMI</td><td>neutral</td><td>0.8785103559494019</td><td>communication_by_company</td></tr><tr><td>2022-11-21</td><td>Kaba aayagi intzar kar kar ke thaka Gaya itna time</td><td>negative</td><td>0.4014758765697479</td><td>comparison</td></tr><tr><td>2022-11-13</td><td>waiting from ages</td><td>neutral</td><td>0.5909779071807861</td><td>range</td></tr><tr><td>2022-11-11</td><td>I am to buying a ev soon but I am bit confused whether ather or simple one</td><td>neutral</td><td>0.6006193161010742</td><td>comparison</td></tr><tr><td>2022-11-09</td><td>is it better than ather</td><td>neutral</td><td>0.48252737522125244</td><td>comparison</td></tr><tr><td>2022-10-19</td><td>Except for ola there isn&#39;t a single company who makes an ev scooter that looks decent. I don&#39;t know why it has to be so much gaudy 🤦🏻‍♂️</td><td>negative</td><td>0.8200020790100098</td><td>comparison</td></tr><tr><td>2022-10-02</td><td>Seems Simple one doesn&#39;t know about ev scoters making n dont have company set up ....in josh they bring some available scoter spares and assembled n announced the scoter...our people blindly trusted n booked the scooter as they are not expected....now they doing lots of curcus to seach in youtube how to make ev scoters 😂😂 i m sure they will never deliver your vehicle...its another scam like freedom 251 rs mobile...</td><td>negative</td><td>0.6930797696113586</td><td>communication_by_company</td></tr><tr><td>2022-10-01</td><td>Superb value 4 money but plz change the shape make it like Ind scooters or iqube design.</td><td>positive</td><td>0.48188766837120056</td><td>comparison</td></tr><tr><td>2022-09-29</td><td>Please help everyone to get it&#39;s delivery date. Looks like @simpleone is  scam.</td><td>negative</td><td>0.8878798484802246</td><td>comparison</td></tr><tr><td>2022-09-27</td><td>Range without extended battery</td><td>neutral</td><td>0.6972379684448242</td><td>performance</td></tr><tr><td>2022-09-21</td><td>Design is ather copy</td><td>neutral</td><td>0.6846251487731934</td><td>comparison</td></tr><tr><td>2022-09-21</td><td>Price</td><td>neutral</td><td>0.4468974769115448</td><td>price</td></tr><tr><td>2022-09-19</td><td>Simple spends too long. I was waiting for it but as it took too long, i go for the ather and got it last week</td><td>negative</td><td>0.5207422971725464</td><td>comparison</td></tr><tr><td>2022-09-19</td><td>Sir wanted to know if primary battery got discharged then can I run this scooter with secondary battery after charging it at home or it is compulsory to charge primary battery to drive the scooter, asking because I don&#39;t have scope to charge battery at charging point only option I have to charge it at home please clarify?</td><td>neutral</td><td>0.6388124823570251</td><td>battery</td></tr><tr><td>2022-09-17</td><td>Which e scooter should O buy</td><td>neutral</td><td>0.6986312866210938</td><td>comparison</td></tr><tr><td>2022-09-16</td><td>You have already lost the race. Better never take this product to the final production.</td><td>negative</td><td>0.940165638923645</td><td>comparison</td></tr><tr><td>2022-09-12</td><td>Design is very good, little Chhotu.</td><td>positive</td><td>0.8469609022140503</td><td>design</td></tr><tr><td>2022-09-11</td><td>Where i can buy this in Indonesia?</td><td>neutral</td><td>0.8369326591491699</td><td>comparison</td></tr><tr><td>2022-09-10</td><td>Helo guys <br>I transfer booking amount 5septbetb through upi but still there is no confirmation mail</td><td>neutral</td><td>0.6034846305847168</td><td>booking_cancellation_process</td></tr><tr><td>2022-09-09</td><td>This sometimes remind me of Elizabeth Holmes &amp; Theranos..!</td><td>positive</td><td>0.48915529251098633</td><td>comparison</td></tr><tr><td>2022-09-08</td><td>Making EV scooters these days is like making buggy video game apps with the promise of software updates to fix it in the near future. These things cost lakhs to buy, they shouldn&#39;t get it off the production line itself if it isn&#39;t ready. Should learn from how Toyota made cars in the 90s and early 2000s</td><td>negative</td><td>0.5831077098846436</td><td>comparison</td></tr><tr><td>2022-09-02</td><td>For a person like me 5.10, this is too small a scooter... Judging how the rider sitting on it at <a href=\"https://www.youtube.com/watch?v=-IHWQj9j0ZE&amp;t=0m53s\">0:53</a> this is not at all right for a tall person. Even a middle height person of 5.4 might fit with some struggle. What is the benefit of range if you can&#39;t ride it comfortably.</td><td>negative</td><td>0.7116687297821045</td><td>comparison</td></tr><tr><td>2022-09-02</td><td>The front suspension and rims are from ntorq race xt if you have noticed. The tyres were 100/12 and 110/12 when announced (same as ntorq) now its 90section.<br>The ui feels very smooth though.<br>I really want this scooter to come to fruition as it will be a big breakthrough in this expensive ev market. 1.8lac for ather is absurd money, hardly 70kms range on city mode.</td><td>positive</td><td>0.4446938633918762</td><td>comparison</td></tr><tr><td>2022-08-30</td><td>Removable battery, which is awesome one, like people who lives in apartments -&gt; cool and practical idea but increase the top speed.</td><td>positive</td><td>0.8801993727684021</td><td>battery</td></tr><tr><td>2022-08-30</td><td>They have postponed delivery date multiple times, still they have lot of things to work on. I don&#39;t think they can sell this within October 2023.</td><td>negative</td><td>0.602531909942627</td><td>booking_cancellation_process</td></tr><tr><td>2022-08-29</td><td>In every video, there is single rider. Why didn&#39;t any of the media tested it for two people.</td><td>negative</td><td>0.6021587252616882</td><td>comparison</td></tr><tr><td>2022-08-28</td><td>Seems like a rebranded ather !</td><td>neutral</td><td>0.4241304397583008</td><td>comparison</td></tr><tr><td>2022-08-28</td><td>Why are they coming out with decreased seat length,</td><td>negative</td><td>0.828975260257721</td><td>comparison</td></tr><tr><td>2022-08-27</td><td>Ish janam hum kharid nahi sakte pata nahi kal aaiga</td><td>negative</td><td>0.4066239893436432</td><td>comparison</td></tr><tr><td>2022-08-26</td><td>Sab sahi hai but seat bahot choti hai.indian people ke hisab se ya lambi height walo ke hisab se ye sahi nahi lag rahi seat</td><td>negative</td><td>0.42640215158462524</td><td>comparison</td></tr><tr><td>2022-08-26</td><td>I want hilly review... I live in kerala.. The terrains are mostly hilly. I wanna know if its reliable in these kinda terrain!!❤️❤️</td><td>positive</td><td>0.39575088024139404</td><td>comparison</td></tr><tr><td>2022-08-23</td><td>Komaki is best cheap and powerful</td><td>positive</td><td>0.6629204750061035</td><td>price</td></tr><tr><td>2022-08-22</td><td>India&#39;s No. 1 dream scooter. Ride in your dreams. Get in your dreams. At dream price 1947.</td><td>positive</td><td>0.6585448980331421</td><td>comparison</td></tr><tr><td>2022-08-21</td><td>I want removable battery because i want to charge it at my home if 2rd of Battery is under food boad for me that will be useless</td><td>negative</td><td>0.7963309288024902</td><td>battery</td></tr><tr><td>2022-08-19</td><td>Most of the electric scooter have lack of side foot rest and main stand, company  can give these two features for Indian customers👍👍</td><td>positive</td><td>0.45274436473846436</td><td>communication_by_company</td></tr><tr><td>2022-08-19</td><td>What&#39;s taking them so long to buy an Ather and customize it? I would never buy a vehicle that does not have an identity of its own. Ather has, this does not.</td><td>negative</td><td>0.8906136751174927</td><td>comparison</td></tr><tr><td>2022-08-18</td><td>Poor build quality</td><td>negative</td><td>0.908061146736145</td><td>comparison</td></tr><tr><td>2022-08-18</td><td>Whichever is fuel, useless battery operated accessories, DRL, ABS, digital meter, tubeless, mobile charger etc.. means heavy weight, power ultimately lowest mileage🤦‍♀️with heavy permanent liabilities🙆🙆</td><td>negative</td><td>0.8924779295921326</td><td>battery</td></tr><tr><td>2022-08-17</td><td>Poor build quality</td><td>negative</td><td>0.908061146736145</td><td>comparison</td></tr><tr><td>2022-08-13</td><td>Is this scooters accessories available like ladies foot rest</td><td>neutral</td><td>0.880031943321228</td><td>comparison</td></tr><tr><td>2022-08-13</td><td>The most important feature, suspension which is a vehicles ability to take on the street potholes and bumps cannot be tested at this track. People are very interested in  knowing how it compares to Ola S1 pro in terms of suspension comfort. This is a major factor which influences the buying decision. Simple one should allow road test so that bloggers and channels can talk about the same. People may be willing to wait a little longer for simple one if they think that the suspension would be better or same as Ola. Simple one should think about this.</td><td>neutral</td><td>0.4418424963951111</td><td>comparison</td></tr><tr><td>2022-08-11</td><td>I think ather is number one scooter in India now, and I believe it&#39;s expensive but good quality and service scooter</td><td>positive</td><td>0.5990176200866699</td><td>price</td></tr><tr><td>2022-08-11</td><td>When we book test drive they don&#39;t allow you double seating on scooter I have some points that this company never will come up, because people are very rude..<br>1 they don&#39;t allow double seat <br>2 company people who have brought the scooter their behaviour is not good <br>3 people who don&#39;t have test drive bookings and he request you for ride they don&#39;t allow them such arrogant people, <br>4 company will never come   up because of their employees and staff who roaming around satisfaction <br>5 it&#39;s 100 percent fail product</td><td>negative</td><td>0.8968489170074463</td><td>comparison</td></tr><tr><td>2022-08-10</td><td>Prototype? after  year</td><td>neutral</td><td>0.7879462838172913</td><td>design</td></tr><tr><td>2022-08-10</td><td>Bro , how tall are you? <br>It is looking like a toy /kid bike in front you.</td><td>neutral</td><td>0.564889669418335</td><td>comparison</td></tr><tr><td>2022-08-09</td><td>I’m expecting a video of scooter working condition when it’s half submerged in water . You know when it  rains in Bangalore, roads turn into lakes 🥲🥲</td><td>negative</td><td>0.4003353714942932</td><td>performance</td></tr><tr><td>2022-08-07</td><td>Compare this with Ather 350x gen3</td><td>neutral</td><td>0.5993823409080505</td><td>comparison</td></tr><tr><td>2022-08-06</td><td>Very good scooter but a company has to make better like small small things like on near display that screw is very visible and not seems a quality screw, it’s like a normal screw.</td><td>positive</td><td>0.3652724027633667</td><td>comparison</td></tr><tr><td>2022-08-06</td><td>It&#39;s been over a year now still product is not launched</td><td>negative</td><td>0.562082052230835</td><td>comparison</td></tr><tr><td>2022-08-05</td><td>Is simple one sales started🤔???</td><td>neutral</td><td>0.863486111164093</td><td>comparison</td></tr><tr><td>2022-08-05</td><td>I appreciate for being honest by pointingvout the flaws hope you be the same going forward even some upcoming youtuber didn&#39;t mentioned it like pradeep on wheels he only said good part of it which he does in every video</td><td>negative</td><td>0.34832197427749634</td><td>comparison</td></tr><tr><td>2022-08-02</td><td>Nice intro, man!! 👍👍👍</td><td>positive</td><td>0.9316778779029846</td><td>performance</td></tr><tr><td>2022-08-02</td><td>Bhaisahab aag to ni lgegi isme</td><td>negative</td><td>0.38991695642471313</td><td>comparison</td></tr><tr><td>2022-08-02</td><td>They should release a model like chetak Activa/acces like model for matured users. This looks like it is made for youngsters</td><td>neutral</td><td>0.4527146518230438</td><td>design</td></tr><tr><td>2022-08-01</td><td>Does the removable battery trickle charge the main battery when parked?</td><td>neutral</td><td>0.8486883640289307</td><td>performance</td></tr><tr><td>2022-08-01</td><td>iska looks petrol scooter mein ana sahiye</td><td>neutral</td><td>0.40546947717666626</td><td>design</td></tr><tr><td>2022-07-31</td><td>Leg space, ground clearance, and seating comfort are a big concern in this scooter. they have to be very clever about bottom battery placement as this is not a car, you don&#39;t have the luxury of ample ground clearance like SUVs.</td><td>neutral</td><td>0.3856762945652008</td><td>design</td></tr><tr><td>2022-07-30</td><td>Simple energy two wheeler will completely changed everyone&#39;s life, King 👑 of two two wheeler in India market 100%</td><td>positive</td><td>0.622430682182312</td><td>design</td></tr><tr><td>2022-07-29</td><td>It is not that much big thing.... The fit and finish can be done perfectly at just before time of customer get scooter , display can be improved by software update...</td><td>positive</td><td>0.4690070152282715</td><td>design</td></tr><tr><td>2022-07-29</td><td>Quality ka kya kare jab delivery hi nahi mil rahi hai</td><td>negative</td><td>0.4184844195842743</td><td>performance</td></tr><tr><td>2022-07-29</td><td>Book kara hua hai November 2021 se<br>Abhi tak delivery nahi mili hai</td><td>neutral</td><td>0.5508676171302795</td><td>booking_cancellation_process</td></tr><tr><td>2022-07-28</td><td>Service senter??</td><td>neutral</td><td>0.5857519507408142</td><td>communication_by_company</td></tr><tr><td>2022-07-28</td><td>hi bro does simple one scooter has Backlit switches?</td><td>neutral</td><td>0.8863566517829895</td><td>design</td></tr><tr><td>2022-07-28</td><td>Whats the idea of small removable battery pack along with large fixed battery .<br>Ultimately u hv to rely on large battery pack,n for that u have to charge it directly. And u can rely on smaller removable battery always ..</td><td>neutral</td><td>0.5592531561851501</td><td>battery</td></tr><tr><td>2022-07-28</td><td>I&#39;m 6&#39;4&quot; and nothing but a bike(ev/petrol) is only option it seems.</td><td>neutral</td><td>0.6938959360122681</td><td>comparison</td></tr><tr><td>2022-07-27</td><td>I think this will have same story as ola</td><td>neutral</td><td>0.7441909909248352</td><td>comparison</td></tr><tr><td>2022-07-27</td><td>Ground clearance is not enough, lower battery will definitely hit speed breakers in my area</td><td>negative</td><td>0.7671973705291748</td><td>performance</td></tr><tr><td>2022-07-27</td><td>this is belt drive now.</td><td>neutral</td><td>0.6119161248207092</td><td>performance</td></tr><tr><td>2022-07-27</td><td>Section 5 &amp; 7 of the Central Motor Vehicles Act, 1988 clearly states that all the two-wheelers are required to have two rearview mirrors. This product does not have provision itself</td><td>neutral</td><td>0.7295379638671875</td><td>comparison</td></tr><tr><td>2022-07-27</td><td>Where is the mirror ? How did this product get approved ?</td><td>neutral</td><td>0.6551216840744019</td><td>design</td></tr><tr><td>2022-07-26</td><td>I don&#39;t know why but the scooter is looking like a toy beside him 😅</td><td>neutral</td><td>0.4455747604370117</td><td>comparison</td></tr><tr><td>2022-07-26</td><td>I live in a multistorey apartment building where it will be impossible to charge the scooter in the parking. To set up the charging station near the scooter park will cost more than the scooter itself. Moreover, while there are designated parking spots for cars, none exists for scooters. I&#39;m sure I&#39;m not the only one who has these issues. How will the EV OEMs persuade us to buy</td><td>negative</td><td>0.699608564376831</td><td>comparison</td></tr><tr><td>2022-07-26</td><td>looks extremely tiny</td><td>negative</td><td>0.8647545576095581</td><td>comparison</td></tr><tr><td>2022-07-26</td><td>Seat &amp; underseat storage seems to be bit odd....Hope they figure out these issues by the final production 😃</td><td>negative</td><td>0.574273943901062</td><td>design</td></tr><tr><td>2022-07-26</td><td>A true and honest review.</td><td>positive</td><td>0.6243576407432556</td><td>comparison</td></tr><tr><td>2022-07-25</td><td>👉🏼🤔The good thing is that Simple One can learn from the deficiencies of Ola and then improve further. <br><br>However, I don&#39;t understand the importance of removable and fixed battery making charging more complicated.<br><br>Most people will end up using Ride Mode and what this means is that the removable battery won&#39;t discharge unless you drive only in Eco mode. But it&#39;s clever that they have made the removable battery usable only for Eco mode and not all othe other modes to avoid any thermal issues. <br><br>The package looks good but I would have preferred a fixed battery rather. I stay in an apartment and find charging the Ola using the charger+adapter already cumbersome. In the One&#39;s case, we&#39;ll need to carry the removable battery and charger around and need two adapters as well. So this will be definitely cumbersome.</td><td>neutral</td><td>0.3734782040119171</td><td>comparison</td></tr><tr><td>2022-07-25</td><td>Nice Review</td><td>positive</td><td>0.7251203656196594</td><td>comparison</td></tr><tr><td>2022-07-25</td><td>He&#39;s actually promoting another OEM brand to our subconscious mind through its logo. Anyone else observed this?</td><td>negative</td><td>0.4711615741252899</td><td>design</td></tr><tr><td>2022-07-25</td><td>When companies don&#39;t let journalists ride in real world conditions it&#39;s a bad sign.</td><td>negative</td><td>0.9187754988670349</td><td>communication_by_company</td></tr><tr><td>2022-07-25</td><td>did the 300+ kms range launched ?</td><td>neutral</td><td>0.8209956288337708</td><td>range</td></tr><tr><td>2022-07-25</td><td>Still ather is king</td><td>positive</td><td>0.528752326965332</td><td>comparison</td></tr><tr><td>2022-07-25</td><td>Clean Chit copy of Ather with small design changes</td><td>neutral</td><td>0.7876415252685547</td><td>design</td></tr><tr><td>2022-07-24</td><td>Old one best desgin</td><td>positive</td><td>0.4502526819705963</td><td>performance</td></tr><tr><td>2022-07-24</td><td>Simple energy customer care no is worst  no 1 takes the calls <br>I have tried many times</td><td>negative</td><td>0.930530846118927</td><td>comparison</td></tr><tr><td>2022-07-24</td><td>Bhai yeah jammu mein kab milyhi</td><td>neutral</td><td>0.4068365693092346</td><td>comparison</td></tr><tr><td>2022-07-24</td><td>Your review is marvelous....... concentrating on minor details and improvements has to be done is excellent.......i became a subscriber of you with this video</td><td>positive</td><td>0.8785386085510254</td><td>comparison</td></tr><tr><td>2022-07-24</td><td>Deelarship information</td><td>neutral</td><td>0.6481033563613892</td><td>communication_by_company</td></tr><tr><td>2022-07-24</td><td>It should be a hit since both ola and ather don&#39;t respect customer&#39;s...</td><td>negative</td><td>0.5042683482170105</td><td>communication_by_company</td></tr><tr><td>2022-07-24</td><td>Is the test drive opened to public at bangalore finished</td><td>neutral</td><td>0.9075474143028259</td><td>communication_by_company</td></tr><tr><td>2022-07-24</td><td>kudos to the guy who chose the emergency contact</td><td>positive</td><td>0.767724871635437</td><td>performance</td></tr><tr><td>2022-07-24</td><td>But at launch it was chain drive now they back with belt drive 🤨🤨🤨</td><td>neutral</td><td>0.7675758600234985</td><td>comparison</td></tr><tr><td>2022-07-24</td><td>Even Ola was good till the real testing started in Summer season so we need to wait till next summer season to know how the simple one is in my opinion till ather is best</td><td>neutral</td><td>0.45680075883865356</td><td>comparison</td></tr><tr><td>2022-07-23</td><td>All copied  from ather</td><td>neutral</td><td>0.7025368213653564</td><td>comparison</td></tr><tr><td>2022-07-23</td><td>All copied  from ather</td><td>neutral</td><td>0.7025368213653564</td><td>comparison</td></tr><tr><td>2022-07-23</td><td>How is the fixed battery going to be waterproof!? There are literal gaps below... No wonder they covered it while raining!!</td><td>negative</td><td>0.8979235887527466</td><td>battery</td></tr><tr><td>2022-07-23</td><td>Being a ola s1 pro user don’t fall for the hype,  test drive the vehicle multiple times but be aware test mules will be good but actual product will behave differently wait for the initial version to be delivered but after 6 months</td><td>neutral</td><td>0.4260384142398834</td><td>comparison</td></tr><tr><td>2022-07-23</td><td>What about battery safty ? Company must grantee battery will not get fire</td><td>negative</td><td>0.6296026110649109</td><td>battery</td></tr><tr><td>2022-07-23</td><td>Mention your booking dates guys. Let&#39;s make a prediction on delivery.</td><td>neutral</td><td>0.822660505771637</td><td>communication_by_company</td></tr><tr><td>2022-07-23</td><td>Why electric scooters are always look like toy scooters.😆😆</td><td>positive</td><td>0.5709918737411499</td><td>comparison</td></tr><tr><td>2022-07-23</td><td>There are some resemblance of ather some where around this simple one</td><td>neutral</td><td>0.522507905960083</td><td>comparison</td></tr><tr><td>2022-07-23</td><td>Looks like Ather who went to accessory market</td><td>neutral</td><td>0.6005048155784607</td><td>design</td></tr><tr><td>2022-07-23</td><td>“With segment best range” spoiler - review is done in a gated housing complex 😂</td><td>neutral</td><td>0.6719212532043457</td><td>comparison</td></tr><tr><td>2022-07-23</td><td>The best genuine review. Simple one must address the issues reported. Those are grave ones. People will drive in rains. People don&#39;t want software glitches like those in other manufacturers. Simple energy must address these and just not lose long term trust of potential customers.</td><td>negative</td><td>0.6707298159599304</td><td>comparison</td></tr><tr><td>2022-07-23</td><td>It comes with nmc battery <br>Plz tell that</td><td>neutral</td><td>0.7983059287071228</td><td>battery</td></tr><tr><td>2022-07-23</td><td>at 3.35 , when the anchor was taking a corner with decent lean angle, I felt that the running board was about to scrap the tarmac.. what if he was taking the same corner with a pillion, I am pretty sure that it will scrap, just curious</td><td>negative</td><td>0.5331289172172546</td><td>comparison</td></tr><tr><td>2022-07-23</td><td>They have also changed from chain drive to belt drive, similar to Ather. What made them do this change?</td><td>neutral</td><td>0.7552904486656189</td><td>comparison</td></tr><tr><td>2022-07-23</td><td>Very well observed. And then reviewed. Till now the most proper review.</td><td>positive</td><td>0.8001990914344788</td><td>comparison</td></tr><tr><td>2022-07-23</td><td>It looks like a first copy of the ather. So many similarities</td><td>neutral</td><td>0.4534122049808502</td><td>comparison</td></tr><tr><td>2022-07-23</td><td>If SIMPLE ONE is Seeing this COMMENT<br>Remember The overall sporty looks, features of ur Scooter is really Superb... <br>But, in INDIA There Are really BAD ROADS, Potholes everywhere. <br>So we need Bigger REAR TYRE MANNN.. <br>AND REAR FENDER or Mud Guard think about RAINY season &amp; places like COORG, LADAKH &amp; HILLARY DISTRICTS of INDIA🇮🇳. <br>2nd thing is Ur SEAT design Bro.. <br>It&#39;s lyk it is from 1960&#39;s.<br>U better give wider &amp; 2 stage seats lyk AEROX Or seat lyk Ray ZR SR. <br>And also some STRONG BODY PARTS<br>SAFETY &amp; QUALITY is IMPORTANT<br>NOT WEIGHT of scooter.</td><td>negative</td><td>0.4135884940624237</td><td>comparison</td></tr><tr><td>2022-07-23</td><td>Simple should raise d price ND uuse better quality</td><td>neutral</td><td>0.4046582579612732</td><td>price</td></tr><tr><td>2022-07-23</td><td>Wait until year 2030 you will get scooter with 500 km on road range will not cost more than 90,000 Rupees in india you will have several option then....</td><td>neutral</td><td>0.5222185850143433</td><td>price</td></tr><tr><td>2022-07-23</td><td>Bro.this scooty having 2 Butteries?</td><td>negative</td><td>0.6535196900367737</td><td>comparison</td></tr><tr><td>2022-07-23</td><td>What you&#39;re essentially saying that as of now it&#39;s a half baked product which is being reviewed so that their investors, present and future have something to be happy about.<br>Also please elaborate on the fixation on top speed or fast acceleration for what is essentially a city run about.</td><td>neutral</td><td>0.4785442650318146</td><td>performance</td></tr><tr><td>2022-07-23</td><td>No body shows actual speed of 105 km/h</td><td>neutral</td><td>0.7409626245498657</td><td>range</td></tr><tr><td>2022-07-22</td><td>Is there any test drive available at Bengaluru</td><td>neutral</td><td>0.9103765487670898</td><td>communication_by_company</td></tr><tr><td>2022-07-22</td><td>It&#39;s made for simple roads and not for Indian road and conditions</td><td>negative</td><td>0.5307914614677429</td><td>design</td></tr><tr><td>2022-07-22</td><td>Who will show the balls to introduce a 100 cc scooter, with plug in hybrid option having 25 kms of actual battery only range. May be something like an Honda activa, plug in hybrid with 1.25 lakh on road.</td><td>neutral</td><td>0.5962414741516113</td><td>range</td></tr><tr><td>2022-07-22</td><td>Doesnt this looks like Ather 450X</td><td>neutral</td><td>0.6127923130989075</td><td>comparison</td></tr><tr><td>2022-07-22</td><td>Will still buy tvs iqube due to its reliability</td><td>positive</td><td>0.5963436961174011</td><td>reliability_quality</td></tr><tr><td>2022-07-22</td><td>Autocar India Salute to your review .Every minor important details good or bad have been nicely explained .Cannot be better then this .</td><td>positive</td><td>0.7191193699836731</td><td>communication_by_company</td></tr><tr><td>2022-07-22</td><td>1.1 lakh price will be probably for first few customers probably as they wont be able to bear that price for long with offline dealership sales...</td><td>negative</td><td>0.5488648414611816</td><td>price</td></tr><tr><td>2022-07-22</td><td>What is the range?</td><td>neutral</td><td>0.871060311794281</td><td>comparison</td></tr><tr><td>2022-07-22</td><td>Nothing can beat the posh look of bajaj chetak🙌🏼</td><td>positive</td><td>0.6640075445175171</td><td>design</td></tr><tr><td>2022-07-22</td><td>Pretty straight forward and honest overview.</td><td>positive</td><td>0.7355024218559265</td><td>comparison</td></tr><tr><td>2022-07-22</td><td>Finally came one of my best</td><td>positive</td><td>0.8999258875846863</td><td>performance</td></tr><tr><td>2022-07-22</td><td>Seat comfort with a upright position is the prime requirement of a scooter for short spins and long rides...slide forward sitting position is a pain...defeats all other features and aminities if not addressed before commercial production begins...</td><td>negative</td><td>0.8972544074058533</td><td>comparison</td></tr><tr><td>2022-07-22</td><td>It&#39;s high time the govt thinks of universal charger for all the EVs</td><td>neutral</td><td>0.48490577936172485</td><td>design</td></tr><tr><td>2022-07-22</td><td>I think look and finish will improve once they start getting the bike out of the factory. Maybe after 1st 100 to 200 bikes which is always factory process continuous improvement and calibration</td><td>neutral</td><td>0.537352979183197</td><td>comparison</td></tr><tr><td>2022-07-22</td><td>Hope they&#39;ll make this available in small towns too</td><td>neutral</td><td>0.5411759614944458</td><td>range</td></tr><tr><td>2022-07-22</td><td>looks very ather-ish imo</td><td>negative</td><td>0.8927032351493835</td><td>comparison</td></tr><tr><td>2022-07-22</td><td>I thought they&#39;ll never launch it🤣</td><td>neutral</td><td>0.5031492114067078</td><td>comparison</td></tr><tr><td>2022-07-22</td><td>Wait till it simply blows up.. quite literally</td><td>neutral</td><td>0.44939470291137695</td><td>comparison</td></tr><tr><td>2022-07-22</td><td>People are so lazy in finding new names that they have kept a scooter named(Simple One) and a phone named (Nothing)🤣</td><td>neutral</td><td>0.5182872414588928</td><td>comparison</td></tr><tr><td>2022-07-22</td><td>Tight fight against Ather 🤗</td><td>positive</td><td>0.7863581776618958</td><td>performance</td></tr><tr><td>2022-07-22</td><td>Namma Red is 🔥 😍</td><td>positive</td><td>0.7933019995689392</td><td>design</td></tr><tr><td>2022-07-22</td><td>I think the ground clearance should be little more. Is gonna hit the bottom when going double</td><td>neutral</td><td>0.5591515302658081</td><td>comparison</td></tr><tr><td>2022-07-22</td><td>Is it available or not?</td><td>neutral</td><td>0.9138718843460083</td><td>comparison</td></tr><tr><td>2022-07-22</td><td>A few questions still unanswered<br>1. What&#39;s the ground clearance , will it scrape the bottom on a hump?<br>2. Will the scooter work if removable battery is out for charging?<br>3. Since monsoon is going on how will it perform in water logging</td><td>neutral</td><td>0.7478581070899963</td><td>vehicle_issues_faults</td></tr><tr><td>2022-07-22</td><td>Your review is wonderful, makes me want to watch the video again and again.</td><td>positive</td><td>0.9408870935440063</td><td>comparison</td></tr><tr><td>2022-07-22</td><td>We have seen this before... Ola allows media to drive it&#39;s scooter on a small test track. Says that these issues will be fixed after production...</td><td>neutral</td><td>0.5863658785820007</td><td>comparison</td></tr><tr><td>2022-07-22</td><td>Why most companies focus on scooters we want 150 cc rival ev bikes.</td><td>neutral</td><td>0.6216036081314087</td><td>comparison</td></tr><tr><td>2022-07-22</td><td>I got Ola S1 Pro two months back.  Very satisfied with the S1 Pro.  I want another electric scooter should I get a simple one or another S1 Pro!  Give a good suggestion.</td><td>positive</td><td>0.7790454030036926</td><td>comparison</td></tr><tr><td>2022-07-22</td><td>That seat is definitely odd they need to address that.</td><td>negative</td><td>0.9002465605735779</td><td>design</td></tr><tr><td>2022-07-22</td><td>I am wondering why these ev 2-wheeler manifactures design chasis very small , your feet are touching to handle , not sufficient space for foot board , rider have to slide backward on seat so resulting pillion to have very small space, so much gaap between backseat and backwheel  ,  its disgusting !!!!</td><td>negative</td><td>0.913488507270813</td><td>design</td></tr><tr><td>2022-07-22</td><td>Looks like it&#39;s a prototype after a year.  Trying to get to production is a very expensive and time consuming.  After a year i cancelled when I was not selected for a test ride despite being confirmed. I don&#39;t think they have the finance to take it to production.  In todays startup market i dont think they will succeed.  Great accurate review</td><td>negative</td><td>0.5586293935775757</td><td>design</td></tr><tr><td>2022-07-22</td><td>Why don’t electric scooters have ABS or atleast single channel ABS? With a top speed of 105kmph, if something suddenly comes your way and you grab the breaks…it is not safe</td><td>negative</td><td>0.8672035932540894</td><td>performance</td></tr><tr><td>2022-07-22</td><td>Excellent review 👏👏</td><td>positive</td><td>0.8583821058273315</td><td>performance</td></tr><tr><td>2022-07-22</td><td>This is exactly what Ola said😂 Hope they get it right. Looks promising nevertheless.</td><td>positive</td><td>0.8657845258712769</td><td>comparison</td></tr><tr><td>2022-07-22</td><td>simple one just making advertisement, not a single product in real world, everything is production model till 1 year 🤣🤣</td><td>neutral</td><td>0.6483193039894104</td><td>comparison</td></tr><tr><td>2022-07-22</td><td>पहिले रिमूविबल बैटर यूज होनी चाहिए बाद मैं इंबिल्ट  फिडबैक में बताइए सर कंपनिके ceo को 😊</td><td>neutral</td><td>0.4904569685459137</td><td>communication_by_company</td></tr><tr><td>2022-07-22</td><td>How is leg room. 2 people seat seems not comfortable.</td><td>negative</td><td>0.9128112196922302</td><td>comparison</td></tr><tr><td>2022-07-22</td><td>Review tvs iqube s</td><td>neutral</td><td>0.5039726495742798</td><td>comparison</td></tr><tr><td>2022-07-22</td><td>Only good thing about this scooter is it&#39;s combination of battery system<br>And will never put money</td><td>positive</td><td>0.6763992309570312</td><td>battery</td></tr><tr><td>2022-07-22</td><td>❤️✨✨❤️</td><td>positive</td><td>0.8409503102302551</td><td>comparison</td></tr><tr><td>2022-07-22</td><td>In which states it will be available</td><td>neutral</td><td>0.8929616808891296</td><td>range</td></tr><tr><td>2022-07-22</td><td>The bulky baterypack underneath could be problematic for sharp turns and could also touch with an uneven bumper.</td><td>negative</td><td>0.8534961342811584</td><td>battery</td></tr><tr><td>2022-07-22</td><td>That plastic looks very cheap!</td><td>negative</td><td>0.8806084394454956</td><td>price</td></tr><tr><td>2022-07-22</td><td>Looks like cornering ground clearance is way too less.</td><td>negative</td><td>0.767673909664154</td><td>comparison</td></tr><tr><td>2022-07-22</td><td>They should take their time and deliver a better product</td><td>neutral</td><td>0.37598854303359985</td><td>comparison</td></tr><tr><td>2022-07-22</td><td>looks like reskinned ather450</td><td>neutral</td><td>0.42556309700012207</td><td>comparison</td></tr><tr><td>2022-07-22</td><td>Which one should choose simple or ather or else . No budget issues, just want the best of best , that is available within two months . Daily running is 85 km</td><td>neutral</td><td>0.5829208493232727</td><td>performance</td></tr><tr><td>2022-07-22</td><td>i still dont believe this product..!!</td><td>negative</td><td>0.8735733032226562</td><td>comparison</td></tr><tr><td>2022-07-22</td><td>&quot;This will be <b>fixed</b> when the vehicle goes into production&quot; sounds like <b><i>Acche din</i></b> 🤣 <br><br><br>After ola this sentence just scares me🤣🤣</td><td>negative</td><td>0.8627598285675049</td><td>comparison</td></tr><tr><td>2022-07-22</td><td>Overall better than ather n ola</td><td>positive</td><td>0.5441478490829468</td><td>comparison</td></tr><tr><td>2022-07-22</td><td>Whatever, it takes some guts for one to buy an Electric scooter.<br>Having seen Ola et al..</td><td>neutral</td><td>0.5009827613830566</td><td>comparison</td></tr><tr><td>2022-07-22</td><td>I qube s please ?</td><td>neutral</td><td>0.4643341600894928</td><td>design</td></tr><tr><td>2022-07-22</td><td>EV Market will be ruled by this 🤩</td><td>positive</td><td>0.5962327122688293</td><td>price</td></tr><tr><td>2022-07-22</td><td>When is it going start the sales and where can I buy it in pune eagerly waiting for it to buy.</td><td>neutral</td><td>0.7243109345436096</td><td>sales_service</td></tr><tr><td>2022-07-22</td><td>Here&#39;s something that ev makers should realize, while it is good to take your time and refine the product it is also important to deliver those promises in time. Hyping this for over a year to an extent where people just stopped waiting for your product and ended up buying chetak/ather etc.  while you&#39;re still in beta version.. why? Show it when its all sorted out n see the amount of bookings you get!</td><td>neutral</td><td>0.3657079041004181</td><td>comparison</td></tr><tr><td>2022-07-22</td><td>Can u bring a comparison of iqube and chetak with the ola and ather</td><td>neutral</td><td>0.5110623240470886</td><td>comparison</td></tr><tr><td>2022-07-22</td><td>Looks like Replica of aether 450X🧐</td><td>neutral</td><td>0.7046816349029541</td><td>comparison</td></tr><tr><td>2022-07-22</td><td>Simple One with the most quirky design 😁</td><td>positive</td><td>0.8774115443229675</td><td>design</td></tr><tr><td>2022-07-22</td><td>Electric Aprilia sr</td><td>neutral</td><td>0.8062976598739624</td><td>design</td></tr><tr><td>2022-07-22</td><td><a href=\"https://www.youtube.com/watch?v=-IHWQj9j0ZE&amp;t=7m46s\">7:46</a> does it play music like ola S1 pro</td><td>neutral</td><td>0.8395536541938782</td><td>performance</td></tr><tr><td>2022-07-22</td><td>Design wise it&#39;s looks very similar to the ather. Most of it&#39;s exterior resembles the ather</td><td>neutral</td><td>0.5641226172447205</td><td>design</td></tr><tr><td>2022-07-22</td><td>Is it have thermal stability</td><td>neutral</td><td>0.5856426954269409</td><td>comparison</td></tr><tr><td>2022-07-22</td><td>I think you&#39;d find the VIN number very interesting 👀 Just leaving that here.</td><td>positive</td><td>0.650674045085907</td><td>comparison</td></tr><tr><td>2022-07-22</td><td>Now Ather and Ola are going to face some tough times 😎😎😎👑👑👑🔥🔥🔥💪💪💪</td><td>positive</td><td>0.5724096298217773</td><td>comparison</td></tr><tr><td>2022-07-22</td><td>I’m waiting 🫠</td><td>neutral</td><td>0.616135835647583</td><td>communication_by_company</td></tr><tr><td>2022-07-22</td><td>H</td><td>neutral</td><td>0.40939319133758545</td><td>design</td></tr><tr><td>2022-07-22</td><td>Rishaad bhai, beard is looking good 💪🔥👑💖</td><td>positive</td><td>0.8278916478157043</td><td>comparison</td></tr><tr><td>2022-07-22</td><td>Amazing ❤️</td><td>positive</td><td>0.9057132005691528</td><td>performance</td></tr><tr><td>2022-07-22</td><td>I wanna this one also</td><td>neutral</td><td>0.6536502838134766</td><td>comparison</td></tr><tr><td>2022-07-22</td><td>Nice one ‼️</td><td>positive</td><td>0.8896229267120361</td><td>performance</td></tr><tr><td>2022-07-22</td><td>Big fan of AUTO CAR❤️‍🔥</td><td>positive</td><td>0.8975609540939331</td><td>design</td></tr><tr><td>2022-07-22</td><td>Great</td><td>positive</td><td>0.7110204696655273</td><td>design</td></tr><tr><td>2023-06-01</td><td>Ola mere paas h meri gadi to Aaj Tak pahadi per band nahi hui, tum logo ki jyada jal rahi h ola s......kher tumhare jaise youtubers k kahne se to kuch nahi hoga sales figures utha k dekhlo</td><td>negative</td><td>0.4129541516304016</td><td>design</td></tr><tr><td>2023-08-31</td><td>It is Useful for ladies and short hight .</td><td>positive</td><td>0.48274746537208557</td><td>design</td></tr><tr><td>2023-08-31</td><td>Bahut hi bakwas baten hai bola kuch delivery aaj tak nahi<br>Bilkul fraud kar rahe hai</td><td>negative</td><td>0.6236071586608887</td><td>battery</td></tr><tr><td>2023-08-31</td><td>Simple one Sale chor company mere booking k paise kha gi our refand bi ni kiye mere Sabi ko request a koi b j scooter na le ais company ka koi stand ni Hai sale gandu company</td><td>negative</td><td>0.40159139037132263</td><td>communication_by_company</td></tr><tr><td>2023-08-27</td><td>I wanna asking Bangalore simple one adress , ??? Apus</td><td>neutral</td><td>0.5957809686660767</td><td>comparison</td></tr><tr><td>2023-08-27</td><td>Keyse book karega dada</td><td>neutral</td><td>0.347944051027298</td><td>booking_cancellation_process</td></tr><tr><td>2023-08-26</td><td>Bhaiya ji</td><td>positive</td><td>0.44154319167137146</td><td>design</td></tr><tr><td>2023-08-23</td><td>Bhai iska showroom kidhar hai bhai Zara batao me Gujarat ka rehne vala ho bhai</td><td>positive</td><td>0.33955442905426025</td><td>communication_by_company</td></tr><tr><td>2023-08-22</td><td>Gadi market mein kab tak hai</td><td>neutral</td><td>0.45768028497695923</td><td>price</td></tr><tr><td>2023-08-19</td><td>Praise</td><td>positive</td><td>0.52326500415802</td><td>performance</td></tr><tr><td>2023-08-14</td><td>Good</td><td>positive</td><td>0.4903797209262848</td><td>performance</td></tr><tr><td>2023-08-10</td><td>Good 😊</td><td>positive</td><td>0.8012549877166748</td><td>performance</td></tr><tr><td>2023-08-09</td><td>Worst hopeless start up company</td><td>negative</td><td>0.9244906306266785</td><td>comparison</td></tr><tr><td>2023-08-02</td><td>EV Co. r looting in the name of environment friendly vehicle.</td><td>negative</td><td>0.767960250377655</td><td>communication_by_company</td></tr><tr><td>2023-07-31</td><td>1साल से तो मे भी इंतजार कर रहा हूँ l<br>अब यह Rs 1,10,000/- की नहीं आ रही हैं l<br>तो कैंसिल कर रहा हूँ l</td><td>neutral</td><td>0.44478219747543335</td><td>range</td></tr><tr><td>2023-07-31</td><td>👌</td><td>positive</td><td>0.4709415137767792</td><td>comparison</td></tr><tr><td>2023-07-25</td><td>Ather 450x ka brother 😂</td><td>neutral</td><td>0.41327646374702454</td><td>range</td></tr><tr><td>2023-07-25</td><td>Nice one</td><td>positive</td><td>0.7740809917449951</td><td>design</td></tr><tr><td>2023-07-24</td><td>Delhi me kab delivery ho gi</td><td>neutral</td><td>0.4700526297092438</td><td>performance</td></tr><tr><td>2023-07-20</td><td>रेट बहुत बहुत बहुत जादा है</td><td>positive</td><td>0.716032862663269</td><td>range</td></tr><tr><td>2023-07-11</td><td>Sir charge hone k bd agr scooti ko use ni karte h to kya Apne app charge khatm hota h ki ni please reply</td><td>negative</td><td>0.3762970566749573</td><td>communication_by_company</td></tr><tr><td>2023-07-10</td><td>Tamil Nadu simple one mobile number</td><td>neutral</td><td>0.8678449988365173</td><td>comparison</td></tr><tr><td>2023-07-10</td><td>Mobile number please Chennai</td><td>neutral</td><td>0.728951096534729</td><td>comparison</td></tr><tr><td>2023-07-09</td><td>बकवास gadi</td><td>negative</td><td>0.4613025486469269</td><td>design</td></tr><tr><td>2023-07-08</td><td>Battery me warranty 3 yr unlimited hota to sahi rahe taa ...</td><td>neutral</td><td>0.3826242685317993</td><td>reliability_quality</td></tr><tr><td>2023-07-03</td><td>Pune Available Kab Tak Hogi</td><td>neutral</td><td>0.633354902267456</td><td>booking_cancellation_process</td></tr><tr><td>2023-07-03</td><td>SIMPLE ONE CHARGING OLA CHARGING SEM HE KAYA</td><td>negative</td><td>0.4650217890739441</td><td>design</td></tr><tr><td>2023-07-02</td><td>Suhas Rajkumar CHITER HAI</td><td>negative</td><td>0.5397753715515137</td><td>comparison</td></tr><tr><td>2023-06-30</td><td>Main stand or Double stand milegga</td><td>neutral</td><td>0.692886233329773</td><td>design</td></tr><tr><td>2023-06-21</td><td>English plz, bro you’re going global, think globally plz</td><td>neutral</td><td>0.35561323165893555</td><td>comparison</td></tr><tr><td>2023-06-21</td><td>How to place my order i need a contact  number</td><td>neutral</td><td>0.867681622505188</td><td>communication_by_company</td></tr><tr><td>2023-06-20</td><td>Where is the scooter on road, they claim that they started delivery.<br>Irbil they are scamming people.<br>At least let them show there production unit.</td><td>negative</td><td>0.838135838508606</td><td>comparison</td></tr><tr><td>2023-06-19</td><td>2-4 saal ruk jao yhii inka price 1L ke around dikhega or i guess iska competition bhi market me aajayga abhi over priced h but jisko boht hi urgent h or range priority hai toh bhai yhii best option available h market me otherwise long term ke liye koi lena chahta hai toh ola ya ather ko consider karo agar range priority nhi hai toh. Baaki next 5 years me for sure around 1L me dikhegi ye or iske competitor market me jo ki best price bhi h after all petrol vehicle se compare kare to atleast 60% tak to savings ho abhi it&#39;s like 30% savings as compared to fuel vehicles. Abhi iska service cost durability kuch clear nhi hai so it&#39;s better to wait and then take.</td><td>neutral</td><td>0.3430807888507843</td><td>price</td></tr><tr><td>2023-06-16</td><td>KITNE ME BIKA HAI BHAI TU ,FALTU KA GYAN DE RAHA HAI , 100 % BATTERY CHARGE KARNE KE BAAD SONIC MODE PAR SIRF 40 KM HI CHALEGI YE KAUN BATAEGA, CHAL KHAI<br>R JIS CHIZ KE PAISE MILE HAI TUHJE WO TUNE  BAHUT ACHHI TAREH SE KIYA HAI</td><td>negative</td><td>0.42105790972709656</td><td>battery</td></tr><tr><td>2023-06-14</td><td>Faltu ki baat mat kar</td><td>negative</td><td>0.43208327889442444</td><td>comparison</td></tr><tr><td>2023-06-11</td><td>Bhai odisha pe kab ayega</td><td>neutral</td><td>0.377762109041214</td><td>comparison</td></tr><tr><td>2023-06-10</td><td>1-2 saal baad pta chlega..... quality ka</td><td>neutral</td><td>0.39744946360588074</td><td>range</td></tr><tr><td>2023-06-09</td><td>Abe idiots q bana raha hai Rs.150000. Lack ki hi. Bakwas hai loot raha hai koi bhi na le.  Ola best hai.</td><td>negative</td><td>0.5930465459823608</td><td>comparison</td></tr><tr><td>2023-06-09</td><td>Ola best hai 🤣🤣🤣🤣</td><td>positive</td><td>0.6180355548858643</td><td>comparison</td></tr><tr><td>2023-06-07</td><td>Ather is customer friendly</td><td>positive</td><td>0.7341006994247437</td><td>communication_by_company</td></tr><tr><td>2023-06-07</td><td>Ather is better than this scooter</td><td>positive</td><td>0.47498318552970886</td><td>comparison</td></tr><tr><td>2023-06-06</td><td>Surat me kb a raha hai</td><td>neutral</td><td>0.3717172145843506</td><td>comparison</td></tr><tr><td>2023-06-06</td><td>190 eco to 85 ride <br>Approx 100 km range drop<br>🤐🤔🤐😵</td><td>neutral</td><td>0.8644163012504578</td><td>range</td></tr><tr><td>2023-06-05</td><td>the seat looks sloppy towards the front. This will create more pressure on our hands while riding. I think ather did it foolproof.</td><td>negative</td><td>0.9386247992515564</td><td>comparison</td></tr><tr><td>2023-06-04</td><td>Wastage of money</td><td>negative</td><td>0.9244666695594788</td><td>comparison</td></tr><tr><td>2023-06-04</td><td>Bhai, Seat height kya hai iski.!</td><td>neutral</td><td>0.47993582487106323</td><td>comparison</td></tr><tr><td>2023-06-03</td><td>Ola s1 pro sabse acha hai</td><td>positive</td><td>0.6196061372756958</td><td>performance</td></tr><tr><td>2023-06-03</td><td>delhi m kabhi milegi</td><td>neutral</td><td>0.3703599274158478</td><td>comparison</td></tr><tr><td>2023-06-03</td><td>Bhai apko paseena aa raha hai aur video bana rahe ho good</td><td>positive</td><td>0.4374538064002991</td><td>performance</td></tr><tr><td>2023-06-02</td><td>Back bad</td><td>negative</td><td>0.8012514710426331</td><td>comparison</td></tr><tr><td>2023-06-02</td><td>main stand he kay/</td><td>neutral</td><td>0.390903115272522</td><td>comparison</td></tr><tr><td>2023-06-02</td><td>Ola best, sab bhai ola p shift ho jao koi fayda nhi iska ab</td><td>negative</td><td>0.38946014642715454</td><td>performance</td></tr><tr><td>2023-06-02</td><td>Don&#39;t waste your time by waiting for this scooter,I booked 1 year 1 month back till date no any response from simple one,also when I call to customer care every time they said next 3 months we will start manufacturing.<br>this much of waiting time cant excepted,also openly say every time next 3 months date given.<br>Suppose if delivered later, it&#39;s cost not much less amount when we booking time running amount, so it&#39;s present rate is high,so don&#39;t wait it.they loss its hope.</td><td>negative</td><td>0.5295351147651672</td><td>comparison</td></tr><tr><td>2023-06-01</td><td>Bhai isme location bhi hai ya nhi bta do</td><td>neutral</td><td>0.42104485630989075</td><td>comparison</td></tr><tr><td>2023-06-01</td><td>Very high price he</td><td>negative</td><td>0.5569294095039368</td><td>price</td></tr><tr><td>2023-06-01</td><td>Acha hua book nhi kiya</td><td>negative</td><td>0.4604749381542206</td><td>comparison</td></tr><tr><td>2023-06-01</td><td>Over price he bhai😮</td><td>positive</td><td>0.40870383381843567</td><td>price</td></tr><tr><td>2023-05-31</td><td>By the time Simple one delivery start, Hydrogen fuel vehicles will rule</td><td>neutral</td><td>0.7705138921737671</td><td>comparison</td></tr><tr><td>2023-05-31</td><td>On road price kya hai</td><td>neutral</td><td>0.6409213542938232</td><td>price</td></tr><tr><td>2023-05-31</td><td>same like a ather..same to same</td><td>neutral</td><td>0.4581083357334137</td><td>comparison</td></tr><tr><td>2023-05-31</td><td>There is no rear foot rest</td><td>neutral</td><td>0.6411963701248169</td><td>design</td></tr><tr><td>2023-05-30</td><td>PRICE JADA HAI . MERA OLA S 1 PRO AANE WALI HAI BHAI</td><td>negative</td><td>0.3954930305480957</td><td>price</td></tr><tr><td>2023-05-30</td><td>Nama Red</td><td>neutral</td><td>0.44297149777412415</td><td>design</td></tr><tr><td>2023-05-30</td><td>Phla product hi fail 🤦</td><td>negative</td><td>0.7246437668800354</td><td>comparison</td></tr><tr><td>2023-05-29</td><td>Over price 👎</td><td>negative</td><td>0.9344196915626526</td><td>comparison</td></tr><tr><td>2023-05-29</td><td>ather should put copyright on this simple one scooter....each and every angle looks like ather itself...no uniqueness at all....copycats</td><td>negative</td><td>0.7658159136772156</td><td>comparison</td></tr><tr><td>2023-05-29</td><td>Build up is enough by simple one tell me the delivery date.</td><td>neutral</td><td>0.7623050808906555</td><td>range</td></tr><tr><td>2023-05-29</td><td>Bhai gadi ati to h nahi...jane do..</td><td>negative</td><td>0.3485020101070404</td><td>comparison</td></tr><tr><td>2023-05-28</td><td>Top model ki range kitni hogi</td><td>neutral</td><td>0.40237563848495483</td><td>range</td></tr><tr><td>2023-05-28</td><td>Iska mujhe look psnd aaya tha bs lekin ab iski range or price dekh krr usse bhi mnn bhar gya 😂M to chla bhai ola lene milte h break k bad sukr h book nhi ki ye wali bye bye.</td><td>negative</td><td>0.37104207277297974</td><td>booking_cancellation_process</td></tr><tr><td>2023-05-28</td><td>Simple one nahi Suyar one hai<br>After waiting of years it increase price and decrease mileage</td><td>neutral</td><td>0.4491155445575714</td><td>price</td></tr><tr><td>2023-05-28</td><td>Highest price???</td><td>neutral</td><td>0.5378261804580688</td><td>price</td></tr><tr><td>2023-05-28</td><td>1.1 L rate tak hi behtar tha sab lene ka soncha bhi tha ab to cancel</td><td>negative</td><td>0.4768412709236145</td><td>price</td></tr><tr><td>2023-05-28</td><td>Price bhaut jayda h,इसकी कीमत ज्यादा से ज्यादा 1,35 तक होना चाहिये</td><td>negative</td><td>0.37261903285980225</td><td>price</td></tr><tr><td>2023-05-27</td><td>Ola is still better thn this</td><td>positive</td><td>0.49010947346687317</td><td>comparison</td></tr><tr><td>2023-05-27</td><td>Range sirf economy mode mai he mil raha hai, kya bakwas hai yar 🤨. Another disappointment</td><td>negative</td><td>0.9031476378440857</td><td>comparison</td></tr><tr><td>2023-05-26</td><td>Sirf advertising hi karoge ya delivery bhi karoge, dealers toh kahi dekhe nhi</td><td>negative</td><td>0.37115150690078735</td><td>communication_by_company</td></tr><tr><td>2023-05-26</td><td>During booking expected cost 1.10 lac ,now it is priced 1.60to 1.70lac on road, This is not mucha mucha ,it is too much overpriced.</td><td>negative</td><td>0.6059240698814392</td><td>price</td></tr><tr><td>2023-05-25</td><td>98% battery per to 140km range dikha raha hai bhai....</td><td>neutral</td><td>0.35555365681648254</td><td>range</td></tr><tr><td>2023-05-25</td><td>Maharashtra me kitni hogi price</td><td>neutral</td><td>0.4213186204433441</td><td>price</td></tr><tr><td>2023-05-25</td><td>Finance available hai</td><td>neutral</td><td>0.6346285939216614</td><td>price</td></tr><tr><td>2023-05-25</td><td>Ola is best bike</td><td>positive</td><td>0.6691389083862305</td><td>design</td></tr><tr><td>2023-05-25</td><td>Bro 750w charger ki price ex showroom me included hai kya</td><td>neutral</td><td>0.5956866145133972</td><td>price</td></tr><tr><td>2023-05-25</td><td>Back seat passenger ke liye foot pad nahi hai</td><td>neutral</td><td>0.4614246189594269</td><td>comparison</td></tr><tr><td>2023-05-25</td><td>I’ll be happy with Ola s1 pro</td><td>positive</td><td>0.83629310131073</td><td>performance</td></tr><tr><td>2023-05-25</td><td>Ye log review karte ha ye time paas. Pata nei koi bhi reviewer nei bata rha ki speed ke according range kitni ha khali ye bataya ki 105km top speed matlab agar speed ma chala toh 39km only. Abe salo agar cycle sa bhi slow speed ma 212 km range de rha ho toh range kya apni gand ma dalenge?</td><td>negative</td><td>0.37014684081077576</td><td>comparison</td></tr><tr><td>2023-05-25</td><td>Lakin kob lounch hogi but rupees thori Jada hai ✍️🌹🙏</td><td>positive</td><td>0.388693630695343</td><td>price</td></tr><tr><td>2023-05-25</td><td>Could you pls share the  battery durability and it&#39;s price when it requires replacement? Thanks</td><td>neutral</td><td>0.8217026591300964</td><td>battery</td></tr><tr><td>2023-05-24</td><td>Bhulna mat bahat fack promise kar chuka hai ab tak</td><td>negative</td><td>0.3421933948993683</td><td>performance</td></tr><tr><td>2023-05-24</td><td>Too much costly...😂 110000 se 158000 wahhh.. Bana rahe hai sabko.</td><td>negative</td><td>0.5123977661132812</td><td>price</td></tr><tr><td>2023-05-24</td><td>Phone no pls</td><td>negative</td><td>0.6025773882865906</td><td>comparison</td></tr><tr><td>2023-05-24</td><td>I am sure there must be mud flap on front wheel.....cause there are wholes for cooling.....while turning they may block due to soil or mud....and to wash them off we need to servicing center / car washer ....and they will jet the water spray and could damage or short circuit.....!! Hey guys pls watch this clip again from the time <a href=\"https://www.youtube.com/watch?v=9or8SRryY4A&amp;t=1m47s\">1:47</a>to <a href=\"https://www.youtube.com/watch?v=9or8SRryY4A&amp;t=2m11s\">2:11</a>....!!</td><td>negative</td><td>0.3982001841068268</td><td>range</td></tr><tr><td>2023-05-24</td><td>Price dekh ke lg raha ki Ola hi thik hai 😑</td><td>negative</td><td>0.39864012598991394</td><td>price</td></tr><tr><td>2023-05-24</td><td>Wtf.... The rage that is displayed is nowhere near the promised range... Simple cheats</td><td>negative</td><td>0.9444455504417419</td><td>comparison</td></tr><tr><td>2023-05-24</td><td>Muje kya bhai log. Muje toh ola s1 air 3kw rs 79999 ex showroom mai mil rhi hai. Muje kya karna mehengi scooters ka🌚</td><td>neutral</td><td>0.3425348401069641</td><td>price</td></tr><tr><td>2023-05-24</td><td>Simple one has fooled all the 1lakh pre book customer collecting 20crores 2yrs back assuring 1.1lakh now if ex showroom price is 1.55 then on road would be 1.8lakh...my all waiting as gone into water price nd even warranty is only 30,000km nd 1year charger is very less...so unworthy at the cost flop flop big dissapointnent</td><td>negative</td><td>0.842354953289032</td><td>comparison</td></tr><tr><td>2023-05-24</td><td>Price is crazy high, This might not be the right price for mass market, If you compare it with a petrol base model scooter(which everyone will do) you end up paying 60~70k extra for this one, and this extra amount is usually recovered in next 5 years(using this extra amount in filling petrol) assuming moderate riding everyday. so in short this scooter will start to give you benefits only after roughly 5 years, and after 5 years prices for ev scooters will be less, performance and price will be competetive to petrol scooters, so i think buying a scooter which is that expensive in 2023 might not be a good choice. !! Cheers :)</td><td>negative</td><td>0.49638837575912476</td><td>comparison</td></tr><tr><td>2023-05-24</td><td>❌❌❌❌Cancel</td><td>negative</td><td>0.7857298254966736</td><td>comparison</td></tr><tr><td>2023-05-24</td><td>Regarding technology of simple energy we have seen audio and video during relaunch. These fellows are not trustworthy</td><td>negative</td><td>0.8956018090248108</td><td>comparison</td></tr><tr><td>2023-05-24</td><td>100% copy of ather including mirror design is a shame IMHO.</td><td>negative</td><td>0.9600951671600342</td><td>comparison</td></tr><tr><td>2023-05-24</td><td>Just have to wait till 3 months so that we can get good review... Aacha lag raha hain abhi toh govt ne subsidy kam kiya hain uskehisab se hoga.. Battery aur motor unka hain toh hilly area mein try karke bataiye</td><td>positive</td><td>0.3516443371772766</td><td>comparison</td></tr><tr><td>2023-05-24</td><td>better than OLA design</td><td>positive</td><td>0.4543095529079437</td><td>design</td></tr><tr><td>2023-05-24</td><td>My friend who is working in chennai said its actual range is 115 km ....😂</td><td>neutral</td><td>0.6251354217529297</td><td>range</td></tr><tr><td>2023-05-24</td><td>Ola aur Ather isse 100 times better hain at the price it is being offered 😂</td><td>positive</td><td>0.46421298384666443</td><td>price</td></tr><tr><td>2023-05-24</td><td>Company has fooled the public who been waiting for 2yrs....big increase in price with less warranty only 30,000 km nd 1yr only for charger worst in the segment for fresh launch</td><td>negative</td><td>0.8515871167182922</td><td>price</td></tr><tr><td>2023-05-24</td><td>naam hi simple hai price nahi</td><td>neutral</td><td>0.43332022428512573</td><td>comparison</td></tr><tr><td>2023-05-24</td><td>Kon lega itna mehnga</td><td>negative</td><td>0.40086835622787476</td><td>comparison</td></tr><tr><td>2023-05-24</td><td>Too much price...itna bawal kon palega..</td><td>negative</td><td>0.6775959134101868</td><td>price</td></tr><tr><td>2023-05-24</td><td>Back bad</td><td>negative</td><td>0.8012514710426331</td><td>comparison</td></tr><tr><td>2023-05-24</td><td>Bhai yeh <a href=\"https://www.youtube.com/watch?v=9or8SRryY4A&amp;t=10m58s\">10:58</a> pe 98% sirf 140km ki range dikha rha hai woh bhi eco made pe</td><td>neutral</td><td>0.5996978878974915</td><td>range</td></tr><tr><td>2023-05-24</td><td>Price is so high for middle class, any chance to reduce the price</td><td>negative</td><td>0.7494840025901794</td><td>price</td></tr><tr><td>2023-05-24</td><td>हद हो गई यार दो साल में चार स्कूटर क्या बना लिया बो भी डेढ़ लाख रुपए मे वीडियो बनाने लग गए😂😂😂</td><td>negative</td><td>0.5773784518241882</td><td>range</td></tr><tr><td>2023-05-24</td><td>मैं सिंपल वन कंपनी के ऊपर केस करने जा रहा हूं क्योंकि इसने 1947 रुपए बुकिंग अमाउंट लिया था तो उस टाइम अपने स्कूटर के प्राइस 110000 ही बताए थे लेकिन अब यह डेढ़ लाख प्लस बता रहे हैं तो हमारा इस कंपनी के ऊपर केस करना जायज बनता है या तो हमारी बुकिंग अमाउंट ब्याज सहित वापस दे या फिर हमें स्कूटी 110000 में ही दें !</td><td>neutral</td><td>0.43038076162338257</td><td>comparison</td></tr><tr><td>2023-05-23</td><td>bas dikhne m Achi h... par iske badle... bicycle le lo... wo jyada sahi h</td><td>positive</td><td>0.3683316707611084</td><td>design</td></tr><tr><td>2023-05-23</td><td>What about the subsidy</td><td>neutral</td><td>0.6195257902145386</td><td>comparison</td></tr><tr><td>2023-05-23</td><td>Load capacity kiya hoga sir</td><td>neutral</td><td>0.4326818585395813</td><td>performance</td></tr><tr><td>2023-05-23</td><td>Over Price है, बहुत ज्यादा,, Ola Best है</td><td>positive</td><td>0.3933107256889343</td><td>range</td></tr><tr><td>2023-05-23</td><td>Koi mujhe Kolkata me bhej do😊😊</td><td>positive</td><td>0.40171948075294495</td><td>comparison</td></tr><tr><td>2023-05-23</td><td>Excellent bike. Good finish like the vide v1.  Wheels look a little small.  Will offer alternative to the bounce infinity for customers that want a swapping battery.  Hope they get another 50000 pre-orders today</td><td>positive</td><td>0.8341448903083801</td><td>performance</td></tr><tr><td>2023-05-23</td><td>Very good review.</td><td>positive</td><td>0.8459523916244507</td><td>performance</td></tr><tr><td>2023-05-23</td><td>Bakwas hai ye bahut kharab hai</td><td>negative</td><td>0.7198110222816467</td><td>comparison</td></tr><tr><td>2023-05-23</td><td>Kya sahi video hai bhai sabko ap jaisa hi hona chahiye! ❤</td><td>positive</td><td>0.5723414421081543</td><td>performance</td></tr><tr><td>2023-05-23</td><td>vida v1 can also be considered now</td><td>neutral</td><td>0.7883306741714478</td><td>comparison</td></tr><tr><td>2023-05-23</td><td>Issko 1.5 sal pehle book Kiya ab tak 3 bar lounching event ho chuka hai iska. Soch Raha hu uss samay ola na leta to sirf iske lounching event dekh dekhkar din cut jate😁😁😁</td><td>positive</td><td>0.37852394580841064</td><td>booking_cancellation_process</td></tr><tr><td>2023-05-23</td><td>Bhai tumne zaroor peise khaay hai</td><td>negative</td><td>0.37715595960617065</td><td>comparison</td></tr><tr><td>2023-05-23</td><td>Bhai Muje Lagta Hai ye unit me Problem Hai Varna <br>1 Mode me 190Km<br>2 Mode me 85km nahi ho sakti hai Varna Gadi lene ka Kuch faida he nahi 165km Raide mode me Hona Chahiye Unit me problem hoga varna itna kam nahi bata sakta hai</td><td>negative</td><td>0.4613465964794159</td><td>comparison</td></tr><tr><td>2023-05-23</td><td>Nice</td><td>positive</td><td>0.4739583134651184</td><td>design</td></tr><tr><td>2023-05-23</td><td>Better in every segment than market leader ola ,but going to failed as fame 2 subsidy reduced to 15% in june. Price become 1.85 ex showroom and on road became 2 lakh during delivery .</td><td>negative</td><td>0.5955730080604553</td><td>price</td></tr><tr><td>2023-05-23</td><td>Price point winner 🏆🎉🏆is bounce infinity.</td><td>positive</td><td>0.8076017498970032</td><td>price</td></tr><tr><td>2023-05-23</td><td>In ride mode it gives 85 km range, its better to choose ather at same price.</td><td>neutral</td><td>0.5052058696746826</td><td>range</td></tr><tr><td>2023-05-23</td><td>isme invest karne se accha chetak pe karu</td><td>negative</td><td>0.3807576894760132</td><td>comparison</td></tr><tr><td>2023-05-23</td><td>Simple one has cheated saying all nonsense from 2 years</td><td>negative</td><td>0.8345162868499756</td><td>comparison</td></tr><tr><td>2023-05-23</td><td>Abhi v time hai S1 lelo..</td><td>neutral</td><td>0.37460845708847046</td><td>range</td></tr><tr><td>2023-05-23</td><td>This price will only fuel up the selling of Ola &amp; iQube.</td><td>positive</td><td>0.49705439805984497</td><td>price</td></tr><tr><td>2023-05-23</td><td>I successfully wasted my 2 years 🥺👉👈</td><td>negative</td><td>0.5065531730651855</td><td>performance</td></tr><tr><td>2023-05-23</td><td>Sirf ek bat ka ans de dena bhai 98% pe eco pe sirf 140 range  or sonic me sirf 40 kya ganda majak h ye plz ans dena bhai😊</td><td>positive</td><td>0.3624136745929718</td><td>battery</td></tr><tr><td>2023-05-23</td><td>Nope 👎🙅 bro <br>Go and cancel you&#39;r booking 😮‍💨</td><td>negative</td><td>0.8327624797821045</td><td>booking_cancellation_process</td></tr><tr><td>2023-05-23</td><td>Bhai eese be koi nhi lega is price ke sath to bilcull be nhi😂</td><td>negative</td><td>0.3570600152015686</td><td>price</td></tr><tr><td>2023-08-03</td><td>Brother.. real time ride review expecting soon..</td><td>positive</td><td>0.4968172311782837</td><td>performance</td></tr><tr><td>2023-08-02</td><td>If Company provide life time free recharge at fixed price then we can think</td><td>neutral</td><td>0.4819691777229309</td><td>price</td></tr><tr><td>2023-08-02</td><td>look like hype not value for that money in another 4 years the EB charge will get higher and petrol rate will be cheaper. Lot of them going to get trapped also there is service center any issue the operation cost will be higher</td><td>negative</td><td>0.7953771352767944</td><td>comparison</td></tr><tr><td>2023-07-31</td><td>I already booked one simple one scooter 2 months before still not received too much delay</td><td>neutral</td><td>0.5204934477806091</td><td>reliability_quality</td></tr><tr><td>2023-07-30</td><td>Rate tha romba over</td><td>negative</td><td>0.42622047662734985</td><td>price</td></tr><tr><td>2023-07-28</td><td>Speed yavalove anna pogum enthe bike</td><td>negative</td><td>0.36738404631614685</td><td>performance</td></tr><tr><td>2023-07-14</td><td>மானியிம்இருக்கா</td><td>neutral</td><td>0.4163636863231659</td><td>performance</td></tr><tr><td>2023-07-14</td><td>என்னவிலை</td><td>neutral</td><td>0.4254522919654846</td><td>range</td></tr><tr><td>2023-07-05</td><td>Pre book cancel panniachu 😅 ex-shoroom 1.1 lakh sollitu ipo 1.51 lakh solrenga .. 😢</td><td>negative</td><td>0.5587881207466125</td><td>booking_cancellation_process</td></tr><tr><td>2023-07-01</td><td>Idhellam nalla company people&#39;s eppud nambi vanguvangaa</td><td>negative</td><td>0.44859763979911804</td><td>communication_by_company</td></tr><tr><td>2023-06-22</td><td>VIDA V1 DUAL REMOVABLE BATTERY</td><td>neutral</td><td>0.7884432673454285</td><td>battery</td></tr><tr><td>2023-06-13</td><td>Bro please upload this simple one vehicle real time review</td><td>neutral</td><td>0.605574369430542</td><td>performance</td></tr><tr><td>2023-06-11</td><td>Hub motor or mid-drive motor ?</td><td>neutral</td><td>0.8194324374198914</td><td>comparison</td></tr><tr><td>2023-06-10</td><td>Chennai show room location?</td><td>neutral</td><td>0.8907392621040344</td><td>communication_by_company</td></tr><tr><td>2023-06-09</td><td>Puli varuthu puli varuthu nu solli ivan kuruda vittuvittu irukkan</td><td>negative</td><td>0.42289015650749207</td><td>design</td></tr><tr><td>2023-06-09</td><td>Motha lauch pannunga</td><td>negative</td><td>0.4429498016834259</td><td>range</td></tr><tr><td>2023-06-08</td><td>Over amount   but rate vise dicrese means better</td><td>neutral</td><td>0.3812849819660187</td><td>price</td></tr><tr><td>2023-06-07</td><td>Tamiz pronunciation superb..   vantu.. vantu..   Is it tamiz word?? R u belongs to tamilnadu??</td><td>positive</td><td>0.5728331208229065</td><td>performance</td></tr><tr><td>2023-06-06</td><td>விலை ரொம்ப அதிகம் பா.....</td><td>negative</td><td>0.733925998210907</td><td>range</td></tr><tr><td>2023-06-05</td><td>😂😂😂😂😂😂😂😂😂<br>Not coming product time waste</td><td>negative</td><td>0.8311288952827454</td><td>comparison</td></tr><tr><td>2023-06-04</td><td>Uruttu kanna uruttu.. last vara solitude than erupanuga.. eppo  varum appo  varumnu...</td><td>negative</td><td>0.40654271841049194</td><td>comparison</td></tr><tr><td>2023-06-03</td><td>Bro.. Keeway bike review podunga sr125</td><td>neutral</td><td>0.5670130252838135</td><td>communication_by_company</td></tr><tr><td>2023-06-03</td><td>2 varudamaa varum varum....yeppo ??</td><td>neutral</td><td>0.40958425402641296</td><td>range</td></tr><tr><td>2023-06-03</td><td>All ev bike was high priced and Warenty was just 3year 40000 km was very poor Warenty if I buy this vehicle 1.5 lakhs what is the value after 3years was zero now and battery motor cost is very very high . It will all charge 200 there is no geranty.Ev purchase was very bad idea it was not value for money .</td><td>negative</td><td>0.9032694101333618</td><td>price</td></tr><tr><td>2023-06-03</td><td>You speak without proper analysis. Ola s1 pro idc is 181 km for a 4 kwhr battery. That implies approximately 45 km per kwhr. Whereas simple one has 5 kwhr battery and hence have to give 5x45km=225 km idc. So there&#39;s nothing special. The reason 2 wheeler electric scooter manufacturers not going for higher range is due to weight of batteries. Normally a scooter has a popular weight range of 90 (to be correct 98) to 110 kg beyond which the intended customers either feels intimidated by the weight or feels discomfort to manover.simple one weighs high compared to other electric two wheelers.</td><td>negative</td><td>0.4565636217594147</td><td>comparison</td></tr><tr><td>2023-06-02</td><td>Honda CB 300 f review panunga</td><td>neutral</td><td>0.6876651048660278</td><td>communication_by_company</td></tr><tr><td>2023-06-02</td><td>விலை ஏற்றம் கொஞ்சம் அதிகம்</td><td>neutral</td><td>0.5320287942886353</td><td>range</td></tr><tr><td>2023-06-01</td><td>Mileage 10-30% அதிகரிக்க!<br>👇<br>👇<br>👇<br><a href=\"https://youtu.be/SjZnj3iUPqw\">https://youtu.be/SjZnj3iUPqw</a></td><td>neutral</td><td>0.7850223779678345</td><td>range</td></tr><tr><td>2023-05-31</td><td>வணக்கம் நண்பா முதலில் சிம்பிள் ஒன் டெலிவரி கொடுங்க அப்புறம் மீதி வாடிக்கையாளரே சொல்லுவாங்க உங்க வண்டி நல்லா இருக்குதா இல்லையா என்று அப்புறம் 5 கிலோ வாட் பேட்டரிக்கு ஐடிசி ரேஞ்ச் 212 கிலோமீட்டர் சொன்னீங்க அது  என்ன ஸ்பீடு னு சொல்லுங்க சும்மா வீடியோ மட்டும் போட்டுட்டே இருந்தா மக்கள் எல்லாம் முட்டாள் இல்லை</td><td>neutral</td><td>0.4901100993156433</td><td>comparison</td></tr><tr><td>2023-05-31</td><td>Bro Duke 200 bs6 Review uploaded paainugaa</td><td>neutral</td><td>0.47602030634880066</td><td>performance</td></tr><tr><td>2023-05-31</td><td>தல நீயாவது சொல்லு தல,, புதுவண்டி எடுக்கும் போது.,, சாலை வரி எவ்வளவு,, பதிவு தொகை, எவ்வளவு என்பதை.. Showroom காரன் வாயில் வரும் விலையை சொல்றான்</td><td>neutral</td><td>0.6331453323364258</td><td>range</td></tr><tr><td>2023-05-30</td><td>Long ride travel pannurathu ku Mahindra mojo edukalam ah bro ??</td><td>neutral</td><td>0.3985872268676758</td><td>range</td></tr><tr><td>2023-05-30</td><td>price is too high not an affordable one</td><td>negative</td><td>0.7632846832275391</td><td>price</td></tr><tr><td>2023-05-30</td><td>Ather 450x  copy pannirukkanga</td><td>neutral</td><td>0.3880293071269989</td><td>design</td></tr><tr><td>2023-05-29</td><td>Money waste vehicle</td><td>negative</td><td>0.9121741652488708</td><td>price</td></tr><tr><td>2023-05-29</td><td>Bro antha river ev scooter bangalore athu review panna mudiyuma illa namba oorula availability athulam <a href=\"https://youtu.be/cRZ4NeYYBZw\">https://youtu.be/cRZ4NeYYBZw</a></td><td>neutral</td><td>0.5275242924690247</td><td>booking_cancellation_process</td></tr><tr><td>2023-05-29</td><td>Waiting for the real time ride range on all modes review. Hope it will reach 200kms on eco mode??</td><td>neutral</td><td>0.6224679946899414</td><td>performance</td></tr><tr><td>2023-05-29</td><td>Vida V1 which is already on the road has dual removable batteries.</td><td>neutral</td><td>0.6248793601989746</td><td>battery</td></tr><tr><td>2023-05-29</td><td>I&#39;m ✋💚</td><td>positive</td><td>0.5885498523712158</td><td>comparison</td></tr><tr><td>2023-05-29</td><td>Hero Xpulse 200 4v phase 2<br>Review ponduga ayaaaaa🎉🎉🎉</td><td>positive</td><td>0.4793977439403534</td><td>battery</td></tr><tr><td>2023-05-29</td><td>Bro appadiye new xpulse review</td><td>neutral</td><td>0.5789321064949036</td><td>communication_by_company</td></tr><tr><td>2023-05-28</td><td>நான் சின்ன பையன இருந்தப்ப இந்த வண்டிய பத்தி கேள்வி பட்டேன் என் பேர பய வந்துட்டா ன் ஏன் தாத்தா இந்த வண்டிக்கு பாத்துட்டு இருந்த என் பேரன் உன்ன உதப்பான்னு சொல்லிட்டு போய்ட்டான்</td><td>neutral</td><td>0.448228120803833</td><td>performance</td></tr><tr><td>2023-05-28</td><td>Battery life<br>About 🔥</td><td>neutral</td><td>0.767223596572876</td><td>reliability_quality</td></tr><tr><td>2023-05-28</td><td>Electricity Bill amount already yagiri irukku,include bike battery recharge it’s heavy for middle class.</td><td>negative</td><td>0.8083451986312866</td><td>price</td></tr><tr><td>2023-05-28</td><td>Revnitro  squad</td><td>neutral</td><td>0.4788936674594879</td><td>performance</td></tr><tr><td>2023-05-28</td><td>Bro pls upload 2023 Yezdi adventure review engine la etho upgrade pannirukangalame</td><td>neutral</td><td>0.3548137843608856</td><td>communication_by_company</td></tr><tr><td>2023-05-27</td><td>When I get it</td><td>neutral</td><td>0.5879215598106384</td><td>comparison</td></tr><tr><td>2023-05-27</td><td>Marketing sponsors hmm</td><td>neutral</td><td>0.6291959285736084</td><td>communication_by_company</td></tr><tr><td>2023-05-27</td><td>R15 v3 maintenance vdo podunga yah 😢</td><td>negative</td><td>0.8083961606025696</td><td>comparison</td></tr><tr><td>2023-05-27</td><td>On road 200 km vera level</td><td>neutral</td><td>0.7128093242645264</td><td>range</td></tr><tr><td>2023-05-27</td><td>Price is high</td><td>negative</td><td>0.5804232954978943</td><td>price</td></tr><tr><td>2023-05-27</td><td>Battery,motor on the way la heating issue pathi sonnangla bro</td><td>neutral</td><td>0.4165118634700775</td><td>battery</td></tr><tr><td>2023-05-27</td><td>Unga phone madiri remote la உக்காந்துகிட்டு battery performance korachuduvanga. So don&#39;t buy electric. இதுக்கு பேரு OTA updates 😂</td><td>negative</td><td>0.491770476102829</td><td>performance</td></tr><tr><td>2023-05-27</td><td>Waiting for battery performance</td><td>neutral</td><td>0.7780512571334839</td><td>comparison</td></tr><tr><td>2023-05-27</td><td><a href=\"https://www.youtube.com/watch?v=lYFYOt1o7vc&amp;t=5m47s\">5:47</a> odraaa odraaaaa simple and perfect review and no camera man 😂</td><td>positive</td><td>0.423326313495636</td><td>comparison</td></tr><tr><td>2023-05-27</td><td>Always.. mass na ethana English song super ah ulla poturinga...</td><td>positive</td><td>0.4642799198627472</td><td>comparison</td></tr><tr><td>2023-05-27</td><td>Ola vum ipaditha build pananga... Road la therinjichi epadinu... Simple onu pakalam.... Epadi pandranganu🙄... Still Ather best but... Price hike athigama iruku.. ithu vanthah Kami panuvanga pola</td><td>negative</td><td>0.364654541015625</td><td>comparison</td></tr><tr><td>2023-05-27</td><td>Your Team has Good knowledge about Automobiles, Then Why don&#39;t you manufacture a Electric  bikes like this?</td><td>neutral</td><td>0.4109233319759369</td><td>comparison</td></tr><tr><td>2023-05-27</td><td>4.37 the man with red shirt mass entry❤‍🔥🔥😂</td><td>positive</td><td>0.4951722323894501</td><td>comparison</td></tr><tr><td>2023-05-27</td><td>Unexpected reviews</td><td>negative</td><td>0.3693758249282837</td><td>range</td></tr><tr><td>2023-05-27</td><td>Well summarised about pros. However as Namma Pradeep thazhar cover pannapola, this premium scooter doesnt inspire confidence personally to me having announcing a launch within a empty factory. While already timelines are eaten up, how they&#39;re going to scale up and cater service/issues of initial batch of scooters leave a lot to be desired... Scooter la Evalo range I personally wont recommend since down the line Battery replacement might cost us a bomb!<br><br>TVS iQube ahh RevNitro style la review pannunga.. Unga therinja company thaane, Try pannalaame</td><td>negative</td><td>0.5004276037216187</td><td>communication_by_company</td></tr><tr><td>2023-05-27</td><td>Bro Plz fz v2 VA Patti video la pesunga</td><td>neutral</td><td>0.43146562576293945</td><td>performance</td></tr><tr><td>2023-05-27</td><td>Chennai based Bike Altius Scimitar 670 diesel bike eppa launch panranga bro</td><td>neutral</td><td>0.5912598371505737</td><td>design</td></tr><tr><td>2023-05-27</td><td>Simple one king of electric scooters rip Ola and ather</td><td>positive</td><td>0.5018125176429749</td><td>design</td></tr><tr><td>2023-05-27</td><td>Dual battery has also came in ampere too but simple has something different &amp; new Anna! <br><br><br>But overall Simple is just awesome 💥</td><td>positive</td><td>0.8569965362548828</td><td>comparison</td></tr><tr><td>2023-05-27</td><td>need to know how reliable it is</td><td>neutral</td><td>0.6839783787727356</td><td>reliability_quality</td></tr><tr><td>2023-08-17</td><td>Bhai...rainy season me pillion back seater ko bhi safety nahi he, kapde kharab tho pakka honge😂....full of splashes of mud and dirt etc</td><td>negative</td><td>0.6296807527542114</td><td>vehicle_issues_faults</td></tr><tr><td>2023-08-16</td><td>How to booking</td><td>neutral</td><td>0.7718232870101929</td><td>communication_by_company</td></tr><tr><td>2023-08-16</td><td>India me lunch ho rhi hai chutiye<br>Hindi me bolega to bhi samajh jayege log</td><td>negative</td><td>0.357283353805542</td><td>comparison</td></tr><tr><td>2023-08-11</td><td>Very expensive</td><td>negative</td><td>0.8062077760696411</td><td>price</td></tr><tr><td>2023-08-11</td><td>Only reason am going with simple one is the removable battery which can be used to swap in charging stations in coming future..</td><td>positive</td><td>0.5486718416213989</td><td>battery</td></tr><tr><td>2023-08-11</td><td>Addredd</td><td>neutral</td><td>0.35775700211524963</td><td>comparison</td></tr><tr><td>2023-07-27</td><td>Simple one nahi chutiya one hai ye</td><td>neutral</td><td>0.4044658839702606</td><td>comparison</td></tr><tr><td>2023-07-25</td><td>Simple one - still no updates after your review did prebook. They are no updates from customer support. Refund also not possible. Stuck.</td><td>negative</td><td>0.9095215201377869</td><td>booking_cancellation_process</td></tr><tr><td>2023-07-18</td><td>OVER PRICE SCUTY<a href=\"about:invalid#zCSafez\"></a><a href=\"about:invalid#zCSafez\"></a></td><td>negative</td><td>0.5708215832710266</td><td>price</td></tr><tr><td>2023-07-08</td><td>Is it available in surat</td><td>neutral</td><td>0.8793321251869202</td><td>range</td></tr><tr><td>2023-06-29</td><td>I have been a proud owner of hero honda splendor pro .with superb mileage 😂😂😂😂😂</td><td>positive</td><td>0.8338831067085266</td><td>performance</td></tr><tr><td>2023-06-19</td><td>Fake simple one scooter  I am from bangalore not even one scooter they&#39;re not released this is a fake company dont believe they&#39;re cheating kindly don&#39;t book better go to other ev scooters 😂😂😂😂😂</td><td>negative</td><td>0.8656954765319824</td><td>booking_cancellation_process</td></tr><tr><td>2023-06-18</td><td>Very costly</td><td>negative</td><td>0.8273797631263733</td><td>price</td></tr><tr><td>2023-06-18</td><td>The worst cinematograpger i have ever seen, he was trying too hard and ruined the video by taking it from a very low angle.</td><td>negative</td><td>0.9453545212745667</td><td>performance</td></tr><tr><td>2023-06-17</td><td>Each ev is getting flop one by one just due to govt policy</td><td>negative</td><td>0.9020374417304993</td><td>comparison</td></tr><tr><td>2023-06-17</td><td>Why to buy a scooter in 2lacs, when  road itself is not good, govt is just eating common people money</td><td>negative</td><td>0.8882750272750854</td><td>price</td></tr><tr><td>2023-06-12</td><td>Simple one simply copycat, all fluff no stuff..how the heck do they propose to deliver 100000 vehicles in a month when their production is barely a double digit figure every month, the math doesn&#39;t really add up folksy..</td><td>negative</td><td>0.9300705790519714</td><td>comparison</td></tr><tr><td>2023-06-09</td><td>There are any contact number</td><td>neutral</td><td>0.8824760317802429</td><td>comparison</td></tr><tr><td>2023-06-09</td><td>Hi Like all this future off this bike oh can i made my booking</td><td>neutral</td><td>0.58737713098526</td><td>booking_cancellation_process</td></tr><tr><td>2023-06-03</td><td>Ye jitni late launch hui itni hi jaldi market se gayab ho jayegi bcoz of PRICE</td><td>negative</td><td>0.42776745557785034</td><td>price</td></tr><tr><td>2023-06-02</td><td>Ye toh simple one dhola de gaya customer ko phle bola ki 1.20lkh mai aayega ab bada Diya ye toh dhokha hai isse accha OLA hi thik hai mai chla wahi lene iska wait kiye pr disappointed 😡😡😡😡😡😡</td><td>negative</td><td>0.5230308175086975</td><td>comparison</td></tr><tr><td>2023-05-28</td><td>Where is the usb port for charging mobile?</td><td>neutral</td><td>0.8500638604164124</td><td>design</td></tr><tr><td>2023-05-26</td><td>1.58L, ola has leads, simple can&#39;t fight with established ather, also simple don&#39;t keep any promises</td><td>negative</td><td>0.5051732659339905</td><td>comparison</td></tr><tr><td>2023-05-26</td><td>What&#39;s with the charger</td><td>neutral</td><td>0.6561218500137329</td><td>communication_by_company</td></tr><tr><td>2023-05-26</td><td>I can buy R15 v4 in this price 😒</td><td>negative</td><td>0.8497962951660156</td><td>price</td></tr><tr><td>2023-05-26</td><td>Why one would buy highly priced scooter? Why charger is costing extra? Their Subsidy should also be cut by govt.</td><td>negative</td><td>0.8428876996040344</td><td>price</td></tr><tr><td>2023-05-25</td><td>Guys EVs are future understood,which means becomes affordable in future😂😂😂😂.</td><td>positive</td><td>0.5562586784362793</td><td>price</td></tr><tr><td>2023-05-25</td><td>Simple one add 33% extra cost on last launch but those who book for  109000 i dont how much it cost😮</td><td>neutral</td><td>0.5759332776069641</td><td>comparison</td></tr><tr><td>2023-05-25</td><td>Simple one add 33% extra cost on last launch but those who book for  109000 i dont how much it cost</td><td>neutral</td><td>0.6670343279838562</td><td>comparison</td></tr><tr><td>2023-05-25</td><td>Warranty says good bye😂</td><td>neutral</td><td>0.4660208225250244</td><td>reliability_quality</td></tr><tr><td>2023-05-25</td><td>Final price would more the 1.7L with RTO and charger and they are saying affordable electric bike??? and you know after 1 year they can charge you 3k per year for service like ola and ather, <br>electric kharid ke paisa bachane gaye the yahan toh ulta katne wala hinsab lag raha ha</td><td>negative</td><td>0.3716111183166504</td><td>price</td></tr><tr><td>2023-05-25</td><td>Could you pls share the  battery durability and it&#39;s price when it requires replacement? Thanks</td><td>neutral</td><td>0.8217026591300964</td><td>battery</td></tr><tr><td>2023-05-24</td><td><a href=\"https://www.youtube.com/watch?v=jq1lUqHzwhg&amp;t=1m45s\">1:45</a> usable screen rectangle in nature then why it is designed as batman logo 😂😂</td><td>neutral</td><td>0.7955162525177002</td><td>design</td></tr><tr><td>2023-05-24</td><td>Price has gone up high plus additional charger cost</td><td>neutral</td><td>0.5106787085533142</td><td>price</td></tr><tr><td>2023-05-24</td><td>On road price at Jharkhand.....pls say?</td><td>neutral</td><td>0.7274160981178284</td><td>price</td></tr><tr><td>2023-05-24</td><td>Simple energy wouldn’t give the production ready models for a test ride. <br>“So many restrictions” <br>Seems like they are still not ready. As they’ve lost credibility lately.</td><td>negative</td><td>0.933683454990387</td><td>comparison</td></tr><tr><td>2023-05-24</td><td>Simple one has fooled all the 1lakh pre book customer collecting 20crores 2yrs back assuring 1.1lakh now if ex showroom price is 1.55 then on road would be 1.8lakh...my all waiting as gone into water price  nd even warranty is only 30,000km nd 1year charger is very less...so unworthy at the cost flop flop big dissapointnent</td><td>negative</td><td>0.842354953289032</td><td>comparison</td></tr><tr><td>2023-05-24</td><td>Just this morning i saw someone driving in Bangalore and i was like wow it looks cool...i literally turn back to see the type of scooty....thank you now i know.</td><td>positive</td><td>0.7979605197906494</td><td>comparison</td></tr><tr><td>2023-05-24</td><td>Price is crazy high, This might not be the right price for mass market, If you compare it with a petrol base model scooter(which everyone will do) you end up paying 60~70k extra for this one, and this extra amount is usually recovered in next 5 years(using this extra amount in filling petrol) assuming moderate riding everyday. so in short this scooter will start to give you benefits only after roughly 5 years, and after 5 years prices for ev scooters will be less, performance and price will be competetive to petrol scooters, so i think buying a scooter which is that expensive in 2023 might not be a good choice. !! Cheers :)</td><td>negative</td><td>0.49638837575912476</td><td>comparison</td></tr><tr><td>2023-05-24</td><td>Would rather prefer a “Complicated One”</td><td>neutral</td><td>0.6078056693077087</td><td>comparison</td></tr><tr><td>2023-05-24</td><td>How is this affordable? After waiting for 1.5 years they have made people fool</td><td>negative</td><td>0.9264867305755615</td><td>comparison</td></tr><tr><td>2023-05-24</td><td>Looks promising. Weight gains, not a sturdy charger cover, front mud guard should be more cover to prevent mud, seperate rate for chargers shoot the price up. They need to introduce another varient with 4kw and 3kw battery varient. All Above all two wheeler ev need to standardised charging port and fast charging options. Need common charging points inside city and suburbs. Cafe day, malls, bp and hp pertol bunks, super market need more common charging points. We dont want  free charging on those charging pointsninstead reasonable price and more charging points are needed. Price is little bit high. They need to reduce otherwise it will impact in sales figures.</td><td>negative</td><td>0.38343772292137146</td><td>price</td></tr><tr><td>2023-05-24</td><td>You didn&#39;t even notice the bad build quality of panels.<br>Please improve your review style.</td><td>negative</td><td>0.8590552806854248</td><td>comparison</td></tr><tr><td>2023-05-24</td><td>After a long time wait for simple one, I bought a second hand platina for 35k gives 75kms range for 100rs petrol. 😂</td><td>neutral</td><td>0.48927995562553406</td><td>range</td></tr><tr><td>2023-05-24</td><td>Abe angrej ke chode Hindi main baat karna</td><td>negative</td><td>0.40545931458473206</td><td>comparison</td></tr><tr><td>2023-05-24</td><td>So the scooter costs 1.43L with a charger or is it not 1.43+30k</td><td>neutral</td><td>0.7492038607597351</td><td>price</td></tr><tr><td>2023-05-24</td><td>If theirs battery swap stations facilities available in every 50km minimum ony you can purchase this scooter for long ride ,otherwise i still choose ather</td><td>neutral</td><td>0.4836576282978058</td><td>range</td></tr><tr><td>2023-05-24</td><td>Let&#39;s wait for other ev price after 1st June😂, but this seems to be a good pricing as of now!!</td><td>positive</td><td>0.675403356552124</td><td>price</td></tr><tr><td>2023-05-24</td><td>Is it having foot rest  for the pillion rider</td><td>neutral</td><td>0.7495184540748596</td><td>comparison</td></tr><tr><td>2023-05-24</td><td>After long waiting for Simple, I bought Platina 110 ABS at 90k. I am happy now.</td><td>positive</td><td>0.8016315698623657</td><td>price</td></tr><tr><td>2023-05-23</td><td><a href=\"https://youtube.com/@marcyomotorcycles\">https://youtube.com/@marcyomotorcycles</a></td><td>neutral</td><td>0.898025393486023</td><td>performance</td></tr><tr><td>2023-05-23</td><td>Feeling like wasted 2 years watching update videos 😢.. Now waiting for rivot  nx100 video</td><td>negative</td><td>0.8428559303283691</td><td>comparison</td></tr><tr><td>2023-05-23</td><td>I&#39;ve a daily running of 50kms. Please suggest whether to go for ev or petrol scooter and which scooter brand and model to go for? I&#39;m 6 ft 2 in tall and have a heavy build.</td><td>neutral</td><td>0.8014683723449707</td><td>range</td></tr><tr><td>2023-05-23</td><td>Amazing.  This is truely the first made in india for indian conditions.  This will compete well against bounce infinity and give people that want a swappable battery a choice.  Really like the &quot;Hello Kitty&quot; dash design.  I am so glad they did not change that.  Fit and finish looks really good.  With over 1 lakh bookings and a factory that can produce 1000 bikes a week, I expect to see lots of simple bikes in showrooms in the next 3 weeks.  When do test rides start for the new model?  Simple energy is really pushing the bar in terms of features and deliveries, with rto reg in under 2 weeks.  I hope they open the payment window soon.  Looking forward to testing the app soon.  I hope its available for ios.  Thanks for the review.  Will helmets be included in Karnataka or separate charge.</td><td>positive</td><td>0.5897914171218872</td><td>design</td></tr><tr><td>2023-05-23</td><td>I bought Ola S1 pro @1.4 this will sure be costly... My decision was right to pick ola as i still see simple one has lot more to achieve when consumer uses it</td><td>negative</td><td>0.38587072491645813</td><td>price</td></tr><tr><td>2023-05-23</td><td>way too much overpriced, looters</td><td>negative</td><td>0.9416585564613342</td><td>price</td></tr><tr><td>2023-05-23</td><td>Title says India’s Longest Range but did not reveal the number in the video</td><td>neutral</td><td>0.778294026851654</td><td>range</td></tr><tr><td>2023-05-23</td><td>Overpriced</td><td>negative</td><td>0.7967174649238586</td><td>price</td></tr><tr><td>2023-05-23</td><td>हिंदी में बोल</td><td>neutral</td><td>0.4890435039997101</td><td>comparison</td></tr><tr><td>2023-05-23</td><td>Overpriced 😢</td><td>negative</td><td>0.9422960877418518</td><td>price</td></tr><tr><td>2023-05-23</td><td>how fast does it go on ECO?</td><td>neutral</td><td>0.8129934072494507</td><td>performance</td></tr><tr><td>2023-05-23</td><td>Price is too high</td><td>negative</td><td>0.800267219543457</td><td>price</td></tr><tr><td>2023-05-23</td><td>Cancel kar diya, Petrol Scooter he theek hai ye EV EV EV kar ke samay aur paisa dono barbad he hoga</td><td>negative</td><td>0.4750741124153137</td><td>booking_cancellation_process</td></tr><tr><td>2023-05-23</td><td>Copy of ather, if u never agree</td><td>negative</td><td>0.5508675575256348</td><td>comparison</td></tr><tr><td>2023-05-23</td><td>Name is simple but design language is super complex 😂😂😂</td><td>neutral</td><td>0.4561005234718323</td><td>comparison</td></tr><tr><td>2023-05-23</td><td>This looks like fancy imagination of batman fan boy.. not my type and not many will like it because of too many cuts and creases  angles .. 🥴🤮🤢</td><td>negative</td><td>0.7644658088684082</td><td>design</td></tr><tr><td>2023-05-23</td><td>Government subsidy reduced 😮<br>Simple one increased price 😂<br>Aab yea amero ka vahan hai😅<br>Affordable logo ki booking cancel 😅.<br>Merebhi cancel 😂<br><br>Simple one EV matlab = Simple one expensive vehicle 😂<br><br>Chalo bhai abb YouTube pay eska update dekhna band. Maff karo galiti hogye prebook kar k 😅.<br><br>Nahi chahiye refund rakh lo suhasrajkumar 😅</td><td>negative</td><td>0.40492287278175354</td><td>booking_cancellation_process</td></tr><tr><td>2023-05-23</td><td>I cancelled my booking today</td><td>negative</td><td>0.7928747534751892</td><td>booking_cancellation_process</td></tr><tr><td>2023-05-23</td><td>Liked your T shirt btw 😊</td><td>positive</td><td>0.8988136649131775</td><td>design</td></tr><tr><td>2023-05-23</td><td>isme invest karne se accha chetak ather ola pe karu</td><td>negative</td><td>0.3709450662136078</td><td>comparison</td></tr><tr><td>2023-05-23</td><td>Lol 13K extra for charger?!! Fuking psychos</td><td>negative</td><td>0.8860264420509338</td><td>price</td></tr><tr><td>2023-05-23</td><td>1.58 lakhs ex showroom with charger😂. Simple One is simply gone.😅</td><td>negative</td><td>0.6508827209472656</td><td>comparison</td></tr><tr><td>2023-05-23</td><td>abhi bhi 7 din ka time hai S1 book kar do..<br>nahi to ather lo........5.27 secabhi v final design baki hai<a href=\"about:invalid#zCSafez\"></a></td><td>neutral</td><td>0.40970659255981445</td><td>design</td></tr><tr><td>2023-05-23</td><td>Simply I don&#39;t like it 🫨</td><td>negative</td><td>0.9214547276496887</td><td>comparison</td></tr><tr><td>2023-05-23</td><td>Well! You know I had booked it, and then cancelled the booking. Since then it has been a year I have been a proud owner of Pulsar 150 TD</td><td>positive</td><td>0.541331946849823</td><td>booking_cancellation_process</td></tr><tr><td>2023-05-23</td><td>Seat height and kerb weight is like an 160cc bike and a big segment of girls will not find this friendly to use.</td><td>negative</td><td>0.7532514333724976</td><td>comparison</td></tr><tr><td>2023-05-23</td><td>Cancel Kar Diya Maine 2 Saal Se Chutiya Bana Raha Hai Simple One</td><td>negative</td><td>0.5720374584197998</td><td>booking_cancellation_process</td></tr><tr><td>2023-05-23</td><td>Very expensive not for middle class<br>1.45 ex showroom means on road it could become 1.6 to 1.65 L + 13 k charger so it come close to 1.75 to 1.8l</td><td>negative</td><td>0.571393609046936</td><td>price</td></tr><tr><td>2023-05-23</td><td>How much mileage,</td><td>neutral</td><td>0.7805706262588501</td><td>range</td></tr><tr><td>2023-05-23</td><td>Can talk to Hindi now</td><td>neutral</td><td>0.5827613472938538</td><td>range</td></tr><tr><td>2023-05-23</td><td>What a shame...Just a copy of Ather... features copied from ola...</td><td>negative</td><td>0.9479893445968628</td><td>comparison</td></tr><tr><td>2023-05-23</td><td>Crap if they sell charger separately...soon it would be like build your own scooter kind...😢</td><td>negative</td><td>0.9161041378974915</td><td>comparison</td></tr><tr><td>2023-05-23</td><td>Can you please make a 5 Ft or 5.2 Ft person sit on it for reference?<br>It Is a huge huge Deal breaker or maker for me.<br>Thank you❤</td><td>positive</td><td>0.5072720646858215</td><td>comparison</td></tr><tr><td>2023-05-23</td><td>i will buy river indie 😅 suv of the scooter</td><td>neutral</td><td>0.6244533061981201</td><td>design</td></tr><tr><td>2023-05-23</td><td>Range anxiety <br>1.5 lack price<br><br>To promote green energy it is too much anxiety with a far higher price 😊😊</td><td>negative</td><td>0.5044295787811279</td><td>range</td></tr><tr><td>2023-05-23</td><td>Watching launch event... everybody whistling n cheers....but when they reveal price pin drop silence even not a single clapping😂😂😂😂</td><td>negative</td><td>0.504987359046936</td><td>price</td></tr><tr><td>2023-05-23</td><td>gan k neeeche he battery lagi h</td><td>negative</td><td>0.3411003351211548</td><td>battery</td></tr><tr><td>2023-05-23</td><td>This has 5,5 kw battery, Ather is only 3.7 kw so this has much bigger battery infact best in the segment and also more powerful than Ather.</td><td>positive</td><td>0.5064584612846375</td><td>battery</td></tr><tr><td>2023-05-23</td><td>This looks like Ather, simply a waste in waiting for the last 2 years.... Probably they just made us big fools are collecting money for their capital by showing attractive price and now increasing the price after getting all the necessary funding...</td><td>negative</td><td>0.9313297271728516</td><td>comparison</td></tr><tr><td>2023-05-23</td><td>over priced</td><td>negative</td><td>0.7316790819168091</td><td>price</td></tr><tr><td>2023-05-23</td><td>Ctrl+c  ather  ctrl +v=simple</td><td>neutral</td><td>0.7277646064758301</td><td>comparison</td></tr><tr><td>2023-05-23</td><td>Phew...that&#39;s 150kgs ...but cute.... Atherini ❤</td><td>positive</td><td>0.8286252617835999</td><td>range</td></tr><tr><td>2023-05-23</td><td>Ather at 1.6L on road should i buy.</td><td>neutral</td><td>0.8374956846237183</td><td>range</td></tr><tr><td>2023-05-23</td><td>Looks like Ather 450 😀</td><td>positive</td><td>0.7383133172988892</td><td>design</td></tr><tr><td>2023-05-23</td><td>Too much expensive</td><td>negative</td><td>0.8247422575950623</td><td>price</td></tr><tr><td>2023-05-23</td><td>Aa per the government rule they can not sell the charger because for ather customer ather is refunding charger amount as per government guidline</td><td>negative</td><td>0.4825441837310791</td><td>battery</td></tr><tr><td>2023-05-23</td><td>Simple one has produced a gud scooter but they r going to lose d competition 😐I mean a ev scooter worth 1.7+ is way too much to pay,plus from June subsidy is going to reduce even more😐</td><td>negative</td><td>0.852236807346344</td><td>comparison</td></tr><tr><td>2023-05-23</td><td>Still i think ather is the best buy.</td><td>positive</td><td>0.8301792740821838</td><td>comparison</td></tr><tr><td>2023-05-23</td><td>Love the T-shirt 😂</td><td>positive</td><td>0.899272084236145</td><td>design</td></tr><tr><td>2023-05-23</td><td>Range also reduced &amp; price  increased 😅</td><td>neutral</td><td>0.5605199337005615</td><td>price</td></tr><tr><td>2023-05-23</td><td>Look so cool of this electric scooter. Hopefully this scooter can import to Malaysia. I am from Malaysia.</td><td>positive</td><td>0.8755095601081848</td><td>design</td></tr><tr><td>2023-05-23</td><td>Does it have speakers</td><td>neutral</td><td>0.8340169191360474</td><td>performance</td></tr><tr><td>2023-05-23</td><td>I would like to see the on road price including the charger cost in review.</td><td>neutral</td><td>0.8400084972381592</td><td>comparison</td></tr><tr><td>2023-05-23</td><td>Range test</td><td>neutral</td><td>0.43522313237190247</td><td>range</td></tr><tr><td>2023-05-23</td><td>is there any speaker over hook??</td><td>neutral</td><td>0.799923837184906</td><td>range</td></tr><tr><td>2023-05-23</td><td>Even ather is now 1.4L with pro pack after state subsidy including charger<br><br>And there a huge problem with simple 1 , ground clearance while cornering, its very low</td><td>negative</td><td>0.8645634055137634</td><td>vehicle_issues_faults</td></tr><tr><td>2023-05-23</td><td>Bogus concept of selling chargers separately! They only have 1 option of charger and they are selling it separately!! Don&#39;t promote such 2 wheeler brands and urge everyone not to fall into those gimmicks!</td><td>negative</td><td>0.911359965801239</td><td>battery</td></tr><tr><td>2023-05-23</td><td>Isse acha river indie h....... 125k</td><td>neutral</td><td>0.3622702360153198</td><td>range</td></tr><tr><td>2023-05-23</td><td>Sir We need Range Test done on your Show</td><td>neutral</td><td>0.6052867770195007</td><td>range</td></tr><tr><td>2023-05-23</td><td>Worth it🔥🔥</td><td>positive</td><td>0.8747490644454956</td><td>price</td></tr><tr><td>2023-05-23</td><td>Where can we see it? Is it available to see somewhere in Delhi NCR?</td><td>neutral</td><td>0.8892013430595398</td><td>range</td></tr><tr><td>2023-05-23</td><td>Simple is going to be dead simply after this very affordable price 😢</td><td>negative</td><td>0.9354977011680603</td><td>price</td></tr><tr><td>2023-05-23</td><td>This scooter last 2 years on the internet , but not on the road, 😡😡🤬🤬🤬🤬🤬🤬🤬🤬🤬</td><td>negative</td><td>0.8929588198661804</td><td>design</td></tr><tr><td>2023-05-23</td><td>From every angle I can look at it from your video, this &quot;simply&quot; looks like an Ather... 🙂</td><td>positive</td><td>0.7444204092025757</td><td>comparison</td></tr><tr><td>2023-05-23</td><td>Bengaluru ke do bhai - ek ram (ather) aur ek lakhan (simple one)</td><td>neutral</td><td>0.4031153619289398</td><td>comparison</td></tr><tr><td>2023-05-23</td><td>These ev startups asking for a fortune for an average product in comparison to other products available in the market seems quite over optimistic to be honest</td><td>negative</td><td>0.718419075012207</td><td>comparison</td></tr><tr><td>2023-05-23</td><td>On road price with charger will be very expensive.</td><td>negative</td><td>0.7958509922027588</td><td>price</td></tr><tr><td>2023-05-23</td><td>I got my Ather 450x with pro pack for 1 lakh 51, along with 750 watt charger.. ⚡️I feel that was the best purchase considering the price of simple one and slash in fame 2 subsidy! ⚠️</td><td>positive</td><td>0.781988799571991</td><td>price</td></tr><tr><td>2023-05-23</td><td>Me watching the same 😢video in my platina</td><td>negative</td><td>0.7127773761749268</td><td>comparison</td></tr><tr><td>2023-05-23</td><td>Ex showroom 1.45 L<br>On road price 1.70 L<br>Charger 13k<br>Total of 1.90 L<br>Very expensive I guess</td><td>negative</td><td>0.6114089488983154</td><td>price</td></tr><tr><td>2023-05-23</td><td>The price seems 30% hike compared to launch price and additional 10% for charger. They cannot call it as affordable electric EV anymore and it&#39;s bit higher side for the new brands. They are comparing against reputed brands which is not fair.</td><td>negative</td><td>0.8585587739944458</td><td>price</td></tr><tr><td>2023-05-23</td><td>Autocar &amp; Bikewithgirl spotted 😂</td><td>neutral</td><td>0.7371509075164795</td><td>communication_by_company</td></tr><tr><td>2023-05-23</td><td>Abb baad me tire, side stand will be sold separately. 😂😂.</td><td>neutral</td><td>0.5436733365058899</td><td>sales_service</td></tr><tr><td>2023-05-23</td><td>Very bad move of selling charger seperately</td><td>negative</td><td>0.9442816376686096</td><td>comparison</td></tr><tr><td>2023-05-23</td><td>Every thing ok but not happy with charger 😔 13k for that?</td><td>negative</td><td>0.8979558348655701</td><td>price</td></tr><tr><td>2023-05-23</td><td>Zigwheels 🔥</td><td>positive</td><td>0.7242034077644348</td><td>design</td></tr><tr><td>2023-05-23</td><td>Price 😢</td><td>negative</td><td>0.879231333732605</td><td>price</td></tr><tr><td>2023-05-23</td><td>Indian EV market finally started evolving ❤.</td><td>positive</td><td>0.692009687423706</td><td>comparison</td></tr><tr><td>2023-05-23</td><td>Was waiting for your review</td><td>neutral</td><td>0.5471218824386597</td><td>comparison</td></tr><tr><td>2023-05-23</td><td>Phirst</td><td>neutral</td><td>0.37846896052360535</td><td>comparison</td></tr><tr><td>2023-08-17</td><td>Bhai...rainy season me pillion back seater ko bhi safety nahi he, kapde kharab tho pakka honge😂 full of splashes with mud or dirt etc</td><td>negative</td><td>0.6479756832122803</td><td>vehicle_issues_faults</td></tr><tr><td>2023-08-17</td><td>Everything is perfect prices too much not affordable😢</td><td>negative</td><td>0.8195828795433044</td><td>price</td></tr><tr><td>2023-07-25</td><td>Simple one - still no updates after your review did prebook. They are no updates from customer support. Refund also not possible. Stuck.</td><td>negative</td><td>0.9095215201377869</td><td>booking_cancellation_process</td></tr><tr><td>2023-06-17</td><td>full bhikari company ,,, jo apna official website ka maintence , devolopment ka  kharcha nahi uttha sakta.... <a href=\"about:invalid#zCSafez\"></a></td><td>negative</td><td>0.4968014657497406</td><td>communication_by_company</td></tr><tr><td>2023-06-13</td><td>To my eyes, the fit and finish still looks a bit iffy! The plastics hmm.</td><td>negative</td><td>0.919533908367157</td><td>comparison</td></tr><tr><td>2023-06-09</td><td>Should soon release a 3.8-4 kwh battery pack version under 1.2-1.3 lakh. more than 1.4 lakh price the market is still not beyond 10 percent of ev market.. already Ather n Hero Vida are playing in this  space.</td><td>neutral</td><td>0.5061737895011902</td><td>battery</td></tr><tr><td>2023-06-06</td><td>Jangd bille</td><td>neutral</td><td>0.3467324376106262</td><td>price</td></tr><tr><td>2023-06-05</td><td>Is it is sutable for 6ft Person&#39;s... ?</td><td>neutral</td><td>0.5799164772033691</td><td>comparison</td></tr><tr><td>2023-06-01</td><td>You guys are really misleading false information to the viewers 😡...<br><br>The battery size has been DECREASED, NOT INCREASED... The previous prototype model has a total battery size capacity of 6.4 kW [4.8 kW (fixed battery) &amp; 1.6 kW (swappable battery)]... 🤨🤨🤨</td><td>negative</td><td>0.8885848522186279</td><td>battery</td></tr><tr><td>2023-05-31</td><td>Simple one is stilllllllllllllll</td><td>neutral</td><td>0.4449382722377777</td><td>comparison</td></tr><tr><td>2023-05-31</td><td>In how many cities it is ready for delivery? Is there any timeline they hv given. I am sure they didnt. The thing is, these companies throw money to auto journalist like u and u will speak watever they written down.</td><td>negative</td><td>0.6809847950935364</td><td>communication_by_company</td></tr><tr><td>2023-05-30</td><td>Xsr 155 India mein launch kab tak Hoga koi information hai</td><td>neutral</td><td>0.7412065267562866</td><td>comparison</td></tr><tr><td>2023-05-30</td><td>You are silent about the body plastic quality 😢</td><td>negative</td><td>0.9087863564491272</td><td>comparison</td></tr><tr><td>2023-05-30</td><td>Simply fail product 🙋</td><td>negative</td><td>0.8945894241333008</td><td>comparison</td></tr><tr><td>2023-05-26</td><td>Madarchod h company ek to itna time laga diya chalo time lagaya koi baat nhi par price kitna bada Diya</td><td>negative</td><td>0.40088754892349243</td><td>communication_by_company</td></tr><tr><td>2023-05-26</td><td>We need to pay almost 2 laks 😕</td><td>negative</td><td>0.854024350643158</td><td>price</td></tr><tr><td>2023-05-26</td><td>Bad descision just like Ultraviolet f77, India is a price sensitive market,</td><td>negative</td><td>0.9449615478515625</td><td>price</td></tr><tr><td>2023-05-26</td><td>Tvs i qube is the best one for money</td><td>positive</td><td>0.6368180513381958</td><td>price</td></tr><tr><td>2023-05-26</td><td>Why not add solar panels as well between 2 mirrors on the handle, 90% scooters in India are parked in open spaces and India of course has abundant sunlight</td><td>neutral</td><td>0.5152642130851746</td><td>design</td></tr><tr><td>2023-05-26</td><td>Overpriced. 👎</td><td>negative</td><td>0.9607557058334351</td><td>price</td></tr><tr><td>2023-05-26</td><td>False promises... Ha ha</td><td>negative</td><td>0.48736000061035156</td><td>comparison</td></tr><tr><td>2023-05-26</td><td>How many Kms or years is the warranty of battery ?</td><td>neutral</td><td>0.8879093527793884</td><td>battery</td></tr><tr><td>2023-05-26</td><td>Both batteries are going to charge simultaneously, when we plug in to the socket or separately v hv t charge ?</td><td>neutral</td><td>0.7967760562896729</td><td>battery</td></tr><tr><td>2023-05-26</td><td>Looks are worst in simple one &amp; Ather where as performance will be good i think</td><td>negative</td><td>0.918438732624054</td><td>comparison</td></tr><tr><td>2023-05-25</td><td>Bihar, Patna me show room hai</td><td>neutral</td><td>0.48869094252586365</td><td>performance</td></tr><tr><td>2023-05-24</td><td>What abt standard charger? Are they giving or NOT !</td><td>neutral</td><td>0.7153117060661316</td><td>battery</td></tr><tr><td>2023-05-24</td><td>I feel sorry for the people who waited for this scooter.</td><td>negative</td><td>0.9459734559059143</td><td>comparison</td></tr><tr><td>2023-05-24</td><td>Another Chinese product🤦🏻‍♂️</td><td>negative</td><td>0.8038027882575989</td><td>comparison</td></tr><tr><td>2023-05-24</td><td>Its not even going to go 200 km. Its clear from current scooter standards that 30km per kw is also not possible. So the max you can get from this is 150 that also if you are lucky considering the 134 kg weight</td><td>negative</td><td>0.4856884479522705</td><td>comparison</td></tr><tr><td>2023-05-24</td><td>Ola is aag ka gola</td><td>positive</td><td>0.5261735916137695</td><td>comparison</td></tr><tr><td>2023-05-24</td><td>भायो बहोत महंगी  है यह गड्डी</td><td>negative</td><td>0.8346772193908691</td><td>comparison</td></tr><tr><td>2023-05-24</td><td>Looks very similar to Ather</td><td>neutral</td><td>0.4211788475513458</td><td>comparison</td></tr><tr><td>2023-05-24</td><td>Need to know how it performs in poor rosds and crashing in steep speed bumps. Initial impressions for me is the chasis isn&#39;t sturdy enough whenu said  they need a reinforcement to fix it.</td><td>negative</td><td>0.8203285336494446</td><td>performance</td></tr><tr><td>2023-05-24</td><td>Simple one has a more complex design <br>Ather 450x has a more simple design<br><br>😂<br>Change my mind</td><td>neutral</td><td>0.4987494647502899</td><td>comparison</td></tr><tr><td>2023-05-24</td><td>i have booked river indie and will wait for the suv of the scooter😅</td><td>neutral</td><td>0.6293764114379883</td><td>sales_service</td></tr><tr><td>2023-05-24</td><td>Big fat ather nothing else !!! I can say that as ather owner</td><td>positive</td><td>0.5896551609039307</td><td>comparison</td></tr><tr><td>2023-05-24</td><td>where in &quot;outside bangalore&quot; .. @autocar ? attibele ? sarjapur ? hoskote ?</td><td>neutral</td><td>0.5543920397758484</td><td>communication_by_company</td></tr><tr><td>2023-05-24</td><td>This simple one ev bike is nice and in this higher range speed bike comparatively to at her ev simple one given detachable battery that is one good plus point😊😊😊</td><td>positive</td><td>0.7379456758499146</td><td>comparison</td></tr><tr><td>2023-05-24</td><td>If I am going to buy any electric scooter it will be Ather reason Gen 1 product Suck &amp; ather is already at Gen 3, Just waiting for the redesign</td><td>negative</td><td>0.8967176675796509</td><td>design</td></tr><tr><td>2023-05-24</td><td>Waiting tvs st version</td><td>neutral</td><td>0.7362059950828552</td><td>comparison</td></tr><tr><td>2023-05-24</td><td>They should provide ABS also with this model</td><td>neutral</td><td>0.5021142959594727</td><td>design</td></tr><tr><td>2023-05-24</td><td>Seems like a cheap copy of Ather.</td><td>negative</td><td>0.8542574048042297</td><td>comparison</td></tr><tr><td>2023-05-24</td><td>How long will it take to charge the scooter from the free charger provided by the company and also how many watts is the free charger please let me know soon</td><td>neutral</td><td>0.8331363797187805</td><td>communication_by_company</td></tr><tr><td>2023-05-24</td><td>Better buy TVS iQube 😂😂</td><td>neutral</td><td>0.49947816133499146</td><td>sales_service</td></tr><tr><td>2023-05-24</td><td>Ather on steroids 😂</td><td>neutral</td><td>0.40092897415161133</td><td>performance</td></tr><tr><td>2023-05-24</td><td>We&#39;ll wait for you to test and give final review.</td><td>neutral</td><td>0.5478237271308899</td><td>performance</td></tr><tr><td>2023-05-24</td><td>nice</td><td>positive</td><td>0.4518437683582306</td><td>design</td></tr><tr><td>2023-05-24</td><td>After sale value???? Ill buy Aprilia😂</td><td>neutral</td><td>0.7601854801177979</td><td>comparison</td></tr><tr><td>2023-05-24</td><td>Seems like duplicate of ather</td><td>negative</td><td>0.5516183972358704</td><td>comparison</td></tr><tr><td>2023-05-24</td><td>What is that cost</td><td>neutral</td><td>0.63071608543396</td><td>price</td></tr><tr><td>2023-05-24</td><td>Idk why people are crying. if they deliver on range and performance I feel this is still a great value for money. Lets be realistic people this was NEVER going to launch at 1.1L with all the variables considered in the current ev market.</td><td>negative</td><td>0.488284707069397</td><td>comparison</td></tr><tr><td>2023-05-24</td><td>Modified Ather looks good 😅</td><td>positive</td><td>0.7935934662818909</td><td>design</td></tr><tr><td>2023-05-24</td><td>How many times  first look god only knows when it is going to come</td><td>neutral</td><td>0.6721940040588379</td><td>comparison</td></tr><tr><td>2023-05-24</td><td>Instead of going with secondary split battery, they shld have removed it and able to place the with 3.4kw priced near 1.1lakh</td><td>neutral</td><td>0.5056775212287903</td><td>price</td></tr><tr><td>2023-05-23</td><td>What about the subsidy</td><td>neutral</td><td>0.6195257902145386</td><td>comparison</td></tr><tr><td>2023-05-23</td><td>This EV scooter is everything what I&#39;ve asked for! Worth every rupee. Scam Ola and Greedy Ather can shove it. TVS and Simple for the win.</td><td>positive</td><td>0.6602722406387329</td><td>price</td></tr><tr><td>2023-05-23</td><td>I don&#39;t think anyone will get to test drive this scooter in the near time. This is 3rd time they are launching this scooter in the past 2 years</td><td>neutral</td><td>0.49349281191825867</td><td>booking_cancellation_process</td></tr><tr><td>2023-05-23</td><td>TVS IQUBE ST, where are you?????????????</td><td>negative</td><td>0.5558717846870422</td><td>communication_by_company</td></tr><tr><td>2023-05-23</td><td>They really forgot why the company was started. Their motto was to provide a good range sccoter at lower price.... Claimed but failed to do so... Might be due to increasing competition😢</td><td>negative</td><td>0.9228010177612305</td><td>price</td></tr><tr><td>2023-05-23</td><td>I&#39;ve a daily running of 50kms. Please suggest whether to go for ev or petrol scooter and which scooter brand and model to go for? I&#39;m 6 ft 2 in tall and have a heavy build.</td><td>neutral</td><td>0.8014683723449707</td><td>range</td></tr><tr><td>2023-05-23</td><td>The design is anything but simple. Looks like a cheap Chinese Ather knockoff.</td><td>negative</td><td>0.3946574330329895</td><td>design</td></tr><tr><td>2023-05-23</td><td>Seriously looks like a chinese ather knock off</td><td>negative</td><td>0.8150191903114319</td><td>comparison</td></tr><tr><td>2023-05-23</td><td>way too much overpriced, bunch of looters</td><td>negative</td><td>0.9475730061531067</td><td>price</td></tr><tr><td>2023-05-23</td><td>Being an Ather 450 owner, I can say one thing for sure - these guys have taken serious &quot;inspiration&quot; from Ather 450 design. Be it the lights, rear view mirror fix position, side stand, disc brakes, rear mud guard etc. Nonetheless, I really wish the customers get to ride an awesome overall bike experience (including the service).</td><td>positive</td><td>0.8142216205596924</td><td>design</td></tr><tr><td>2023-05-23</td><td>Is it just me or does the fit and finish not look as good as the Ather&#39;s? Even the screen doesn&#39;t look as sharp or crisp in the video. Curious to know how it performs against all of its chief rivals in all aspects.</td><td>negative</td><td>0.8427348732948303</td><td>comparison</td></tr><tr><td>2023-05-23</td><td>I think its a 90% copy of Ather 450x.</td><td>neutral</td><td>0.8093534111976624</td><td>comparison</td></tr><tr><td>2023-05-23</td><td>Simply Ather :)</td><td>positive</td><td>0.8616186380386353</td><td>design</td></tr><tr><td>2023-05-23</td><td>It&#39;s better than ola in my opinion.</td><td>positive</td><td>0.420879602432251</td><td>comparison</td></tr><tr><td>2023-05-23</td><td>Turst me people will move back to petrol bike these bike are getting ao costly .. one cant take the range anxiety with the price tag more than 1.5 lakhs . We would rather buy royal Enfield..</td><td>negative</td><td>0.6581727862358093</td><td>price</td></tr><tr><td>2023-05-23</td><td>I hooe the hype can deliver expectations...</td><td>positive</td><td>0.7968313694000244</td><td>comparison</td></tr><tr><td>2023-05-23</td><td>Copy of ather 😂😂 just copy paste and change the colour combination ,, if any one accepted please like it</td><td>neutral</td><td>0.4789447486400604</td><td>design</td></tr><tr><td>2023-05-23</td><td>Price is not simple</td><td>neutral</td><td>0.4754587411880493</td><td>comparison</td></tr><tr><td>2023-05-23</td><td>Government subsidy reduced 😮<br>Simple one increased price 😂<br>Aab yea amero ka vahan hai😅<br>Affordable logo ki booking cancel 😅.<br>Merebhi cancel 😂<br><br>Simple one EV matlab = Simple one expensive vehicle 😂<br><br>Chalo bhai abb YouTube pay eska update dekhna band. Maff karo galiti hogye prebook kar k 😅.<br><br>Nahi chahiye refund.</td><td>negative</td><td>0.4099073112010956</td><td>booking_cancellation_process</td></tr><tr><td>2023-05-23</td><td>So it&#39;s not really launched even this time?</td><td>neutral</td><td>0.6538892984390259</td><td>comparison</td></tr><tr><td>2023-05-23</td><td>A copy which cost same as the original big 👎🏻 nooooo</td><td>negative</td><td>0.9324045777320862</td><td>price</td></tr><tr><td>2023-05-23</td><td>Really I am very interested to have that❤</td><td>positive</td><td>0.8898049592971802</td><td>comparison</td></tr><tr><td>2023-05-23</td><td>River Indie is already booked. There is nothing else compared to that in the market ❤</td><td>positive</td><td>0.8926002383232117</td><td>comparison</td></tr><tr><td>2023-05-23</td><td>Finally !!!<br>While I admire its ‘regular scooter like’ looks, its price is really disappointing.. Not sure if higher range can become USP of a scooter since it’s mostly used for city commutes only..<br>I’d rather buy a less expensive scooter with a lesser range..</td><td>negative</td><td>0.8769286870956421</td><td>price</td></tr><tr><td>2023-05-23</td><td>Copy and paste of Ather. 😂😂</td><td>neutral</td><td>0.5049828290939331</td><td>comparison</td></tr><tr><td>2023-05-23</td><td>Don&#39;t buy ev they should be priced below 1 lakh</td><td>negative</td><td>0.6537309288978577</td><td>price</td></tr><tr><td>2023-05-23</td><td>For the Guy who edit these videos <br><br>The skintone is too warm</td><td>negative</td><td>0.6183266639709473</td><td>comparison</td></tr><tr><td>2023-05-23</td><td>The battery looses efficiency overtime as many times the module is charged, say suppose after 50 charges the time is going to increase to charge it and as well it will get heavier on the purse. The battery technology has to get better</td><td>neutral</td><td>0.6048303842544556</td><td>battery</td></tr><tr><td>2023-05-23</td><td>Ather Ripoff</td><td>neutral</td><td>0.6482087969779968</td><td>comparison</td></tr><tr><td>2023-05-23</td><td>Another copy of ather 450x. But the range compare to price is great.</td><td>positive</td><td>0.8119577765464783</td><td>comparison</td></tr><tr><td>2023-05-23</td><td>Ather clone.😏</td><td>neutral</td><td>0.4290615916252136</td><td>comparison</td></tr><tr><td>2023-05-23</td><td>Electric Scooters in market are getting better day after day 👏with a much economic price point.</td><td>positive</td><td>0.752082109451294</td><td>price</td></tr><tr><td>2023-05-23</td><td>Price isn&#39;t a big issue coz new Fame 2 subsidies mean every scooter will be more expensive. I just want to wait a few months for first buyers to experience it.</td><td>neutral</td><td>0.5351536870002747</td><td>comparison</td></tr><tr><td>2023-05-23</td><td>Only 1 problem-price i cant afford</td><td>negative</td><td>0.8768168091773987</td><td>price</td></tr><tr><td>2023-05-23</td><td>Nice🎉</td><td>positive</td><td>0.6449009776115417</td><td>design</td></tr><tr><td>2023-05-23</td><td>Cool</td><td>positive</td><td>0.49128666520118713</td><td>design</td></tr><tr><td>2023-05-23</td><td>Hum first</td><td>neutral</td><td>0.47660666704177856</td><td>comparison</td></tr><tr><td>2023-05-23</td><td>1st..😂🎉</td><td>positive</td><td>0.5786173343658447</td><td>comparison</td></tr><tr><td>2023-05-23</td><td>1st comment😂 1st view , 1st like 😂</td><td>neutral</td><td>0.6134026050567627</td><td>comparison</td></tr></tbody></table></div>"
      ]
     },
     "metadata": {
      "application/vnd.databricks.v1+output": {
       "addedWidgets": {},
       "aggData": [],
       "aggError": "",
       "aggOverflow": false,
       "aggSchema": [],
       "aggSeriesLimitReached": false,
       "aggType": "",
       "arguments": {},
       "columnCustomDisplayInfos": {},
       "data": [
        [
         "2023-05-13",
         "why this looks like ather 450x",
         "negative",
         0.6497108340263367,
         "comparison"
        ],
        [
         "2023-05-12",
         "No competition with ola 😅",
         "neutral",
         0.5148032903671265,
         "communication_by_company"
        ],
        [
         "2023-04-25",
         "If everything goes well this will be a big hit in EV market for few years",
         "positive",
         0.7956030368804932,
         "comparison"
        ],
        [
         "2023-03-31",
         "One of the oldest auto channel in YouTube",
         "positive",
         0.4470221698284149,
         "design"
        ],
        [
         "2023-02-23",
         "1and hlf yr bck I was thinking to tk franchise showroom of this n I clld them, they were asking for advance.. thnk god I did not pay.",
         "negative",
         0.39732062816619873,
         "communication_by_company"
        ],
        [
         "2023-02-21",
         "Modified Ather 😄",
         "positive",
         0.46343493461608887,
         "comparison"
        ],
        [
         "2023-02-19",
         "I am waiting for a long time for this scooty pls simple one do fast and open showroom in Kolkata",
         "neutral",
         0.4584501087665558,
         "communication_by_company"
        ],
        [
         "2023-02-18",
         "Romovable battery is an advantage",
         "positive",
         0.6531673073768616,
         "battery"
        ],
        [
         "2023-02-16",
         "Bro make a video hill climb test.",
         "neutral",
         0.5588948130607605,
         "performance"
        ],
        [
         "2023-02-14",
         "Looks like ather",
         "neutral",
         0.5686222910881042,
         "comparison"
        ],
        [
         "2023-02-06",
         "Bahi a scooter lonch hoonekaaa naame heeee nahi aaarahahe A tho fake lagrahahe q ku shayad 2 ya 3 years huva you tube me he is ka ziker he 22 me September me lanch boolke abhi 23 huva abhi thak road me nahi dhikrahahe?",
         "negative",
         0.3807462155818939,
         "comparison"
        ],
        [
         "2023-02-04",
         "Sir tell about up coming electric scooter",
         "neutral",
         0.5440897941589355,
         "communication_by_company"
        ],
        [
         "2023-01-28",
         "Make video on its build quality and does this works in rainy season 🙏",
         "neutral",
         0.44891682267189026,
         "comparison"
        ],
        [
         "2023-01-22",
         "What is the life of scooter after warranty?",
         "neutral",
         0.8508402109146118,
         "comparison"
        ],
        [
         "2023-01-17",
         "On aug 15th with launch price 1947/ i paid for 2 bikes...weast no go for this Bike. Lack of response. Collected in croces",
         "negative",
         0.8946057558059692,
         "booking_cancellation_process"
        ],
        [
         "2023-01-17",
         "Weast bike,no response from company .I was booked at launch date, still now there no single mail from company.2years ...",
         "negative",
         0.7965778708457947,
         "communication_by_company"
        ],
        [
         "2023-01-02",
         "14 inch tyre size is a must have for comfortable highway long rides.",
         "positive",
         0.6886829137802124,
         "performance"
        ],
        [
         "2022-12-25",
         "How will it perform in long distance highway rides?",
         "neutral",
         0.8421295881271362,
         "performance"
        ],
        [
         "2022-12-24",
         "It becomes difficult one",
         "negative",
         0.7389053106307983,
         "comparison"
        ],
        [
         "2022-12-11",
         "I support Indian scoter",
         "positive",
         0.5008871555328369,
         "comparison"
        ],
        [
         "2022-12-07",
         "Can we purchase through EMI",
         "neutral",
         0.8785103559494019,
         "communication_by_company"
        ],
        [
         "2022-11-21",
         "Kaba aayagi intzar kar kar ke thaka Gaya itna time",
         "negative",
         0.4014758765697479,
         "comparison"
        ],
        [
         "2022-11-13",
         "waiting from ages",
         "neutral",
         0.5909779071807861,
         "range"
        ],
        [
         "2022-11-11",
         "I am to buying a ev soon but I am bit confused whether ather or simple one",
         "neutral",
         0.6006193161010742,
         "comparison"
        ],
        [
         "2022-11-09",
         "is it better than ather",
         "neutral",
         0.48252737522125244,
         "comparison"
        ],
        [
         "2022-10-19",
         "Except for ola there isn&#39;t a single company who makes an ev scooter that looks decent. I don&#39;t know why it has to be so much gaudy 🤦🏻‍♂️",
         "negative",
         0.8200020790100098,
         "comparison"
        ],
        [
         "2022-10-02",
         "Seems Simple one doesn&#39;t know about ev scoters making n dont have company set up ....in josh they bring some available scoter spares and assembled n announced the scoter...our people blindly trusted n booked the scooter as they are not expected....now they doing lots of curcus to seach in youtube how to make ev scoters 😂😂 i m sure they will never deliver your vehicle...its another scam like freedom 251 rs mobile...",
         "negative",
         0.6930797696113586,
         "communication_by_company"
        ],
        [
         "2022-10-01",
         "Superb value 4 money but plz change the shape make it like Ind scooters or iqube design.",
         "positive",
         0.48188766837120056,
         "comparison"
        ],
        [
         "2022-09-29",
         "Please help everyone to get it&#39;s delivery date. Looks like @simpleone is  scam.",
         "negative",
         0.8878798484802246,
         "comparison"
        ],
        [
         "2022-09-27",
         "Range without extended battery",
         "neutral",
         0.6972379684448242,
         "performance"
        ],
        [
         "2022-09-21",
         "Design is ather copy",
         "neutral",
         0.6846251487731934,
         "comparison"
        ],
        [
         "2022-09-21",
         "Price",
         "neutral",
         0.4468974769115448,
         "price"
        ],
        [
         "2022-09-19",
         "Simple spends too long. I was waiting for it but as it took too long, i go for the ather and got it last week",
         "negative",
         0.5207422971725464,
         "comparison"
        ],
        [
         "2022-09-19",
         "Sir wanted to know if primary battery got discharged then can I run this scooter with secondary battery after charging it at home or it is compulsory to charge primary battery to drive the scooter, asking because I don&#39;t have scope to charge battery at charging point only option I have to charge it at home please clarify?",
         "neutral",
         0.6388124823570251,
         "battery"
        ],
        [
         "2022-09-17",
         "Which e scooter should O buy",
         "neutral",
         0.6986312866210938,
         "comparison"
        ],
        [
         "2022-09-16",
         "You have already lost the race. Better never take this product to the final production.",
         "negative",
         0.940165638923645,
         "comparison"
        ],
        [
         "2022-09-12",
         "Design is very good, little Chhotu.",
         "positive",
         0.8469609022140503,
         "design"
        ],
        [
         "2022-09-11",
         "Where i can buy this in Indonesia?",
         "neutral",
         0.8369326591491699,
         "comparison"
        ],
        [
         "2022-09-10",
         "Helo guys <br>I transfer booking amount 5septbetb through upi but still there is no confirmation mail",
         "neutral",
         0.6034846305847168,
         "booking_cancellation_process"
        ],
        [
         "2022-09-09",
         "This sometimes remind me of Elizabeth Holmes &amp; Theranos..!",
         "positive",
         0.48915529251098633,
         "comparison"
        ],
        [
         "2022-09-08",
         "Making EV scooters these days is like making buggy video game apps with the promise of software updates to fix it in the near future. These things cost lakhs to buy, they shouldn&#39;t get it off the production line itself if it isn&#39;t ready. Should learn from how Toyota made cars in the 90s and early 2000s",
         "negative",
         0.5831077098846436,
         "comparison"
        ],
        [
         "2022-09-02",
         "For a person like me 5.10, this is too small a scooter... Judging how the rider sitting on it at <a href=\"https://www.youtube.com/watch?v=-IHWQj9j0ZE&amp;t=0m53s\">0:53</a> this is not at all right for a tall person. Even a middle height person of 5.4 might fit with some struggle. What is the benefit of range if you can&#39;t ride it comfortably.",
         "negative",
         0.7116687297821045,
         "comparison"
        ],
        [
         "2022-09-02",
         "The front suspension and rims are from ntorq race xt if you have noticed. The tyres were 100/12 and 110/12 when announced (same as ntorq) now its 90section.<br>The ui feels very smooth though.<br>I really want this scooter to come to fruition as it will be a big breakthrough in this expensive ev market. 1.8lac for ather is absurd money, hardly 70kms range on city mode.",
         "positive",
         0.4446938633918762,
         "comparison"
        ],
        [
         "2022-08-30",
         "Removable battery, which is awesome one, like people who lives in apartments -&gt; cool and practical idea but increase the top speed.",
         "positive",
         0.8801993727684021,
         "battery"
        ],
        [
         "2022-08-30",
         "They have postponed delivery date multiple times, still they have lot of things to work on. I don&#39;t think they can sell this within October 2023.",
         "negative",
         0.602531909942627,
         "booking_cancellation_process"
        ],
        [
         "2022-08-29",
         "In every video, there is single rider. Why didn&#39;t any of the media tested it for two people.",
         "negative",
         0.6021587252616882,
         "comparison"
        ],
        [
         "2022-08-28",
         "Seems like a rebranded ather !",
         "neutral",
         0.4241304397583008,
         "comparison"
        ],
        [
         "2022-08-28",
         "Why are they coming out with decreased seat length,",
         "negative",
         0.828975260257721,
         "comparison"
        ],
        [
         "2022-08-27",
         "Ish janam hum kharid nahi sakte pata nahi kal aaiga",
         "negative",
         0.4066239893436432,
         "comparison"
        ],
        [
         "2022-08-26",
         "Sab sahi hai but seat bahot choti hai.indian people ke hisab se ya lambi height walo ke hisab se ye sahi nahi lag rahi seat",
         "negative",
         0.42640215158462524,
         "comparison"
        ],
        [
         "2022-08-26",
         "I want hilly review... I live in kerala.. The terrains are mostly hilly. I wanna know if its reliable in these kinda terrain!!❤️❤️",
         "positive",
         0.39575088024139404,
         "comparison"
        ],
        [
         "2022-08-23",
         "Komaki is best cheap and powerful",
         "positive",
         0.6629204750061035,
         "price"
        ],
        [
         "2022-08-22",
         "India&#39;s No. 1 dream scooter. Ride in your dreams. Get in your dreams. At dream price 1947.",
         "positive",
         0.6585448980331421,
         "comparison"
        ],
        [
         "2022-08-21",
         "I want removable battery because i want to charge it at my home if 2rd of Battery is under food boad for me that will be useless",
         "negative",
         0.7963309288024902,
         "battery"
        ],
        [
         "2022-08-19",
         "Most of the electric scooter have lack of side foot rest and main stand, company  can give these two features for Indian customers👍👍",
         "positive",
         0.45274436473846436,
         "communication_by_company"
        ],
        [
         "2022-08-19",
         "What&#39;s taking them so long to buy an Ather and customize it? I would never buy a vehicle that does not have an identity of its own. Ather has, this does not.",
         "negative",
         0.8906136751174927,
         "comparison"
        ],
        [
         "2022-08-18",
         "Poor build quality",
         "negative",
         0.908061146736145,
         "comparison"
        ],
        [
         "2022-08-18",
         "Whichever is fuel, useless battery operated accessories, DRL, ABS, digital meter, tubeless, mobile charger etc.. means heavy weight, power ultimately lowest mileage🤦‍♀️with heavy permanent liabilities🙆🙆",
         "negative",
         0.8924779295921326,
         "battery"
        ],
        [
         "2022-08-17",
         "Poor build quality",
         "negative",
         0.908061146736145,
         "comparison"
        ],
        [
         "2022-08-13",
         "Is this scooters accessories available like ladies foot rest",
         "neutral",
         0.880031943321228,
         "comparison"
        ],
        [
         "2022-08-13",
         "The most important feature, suspension which is a vehicles ability to take on the street potholes and bumps cannot be tested at this track. People are very interested in  knowing how it compares to Ola S1 pro in terms of suspension comfort. This is a major factor which influences the buying decision. Simple one should allow road test so that bloggers and channels can talk about the same. People may be willing to wait a little longer for simple one if they think that the suspension would be better or same as Ola. Simple one should think about this.",
         "neutral",
         0.4418424963951111,
         "comparison"
        ],
        [
         "2022-08-11",
         "I think ather is number one scooter in India now, and I believe it&#39;s expensive but good quality and service scooter",
         "positive",
         0.5990176200866699,
         "price"
        ],
        [
         "2022-08-11",
         "When we book test drive they don&#39;t allow you double seating on scooter I have some points that this company never will come up, because people are very rude..<br>1 they don&#39;t allow double seat <br>2 company people who have brought the scooter their behaviour is not good <br>3 people who don&#39;t have test drive bookings and he request you for ride they don&#39;t allow them such arrogant people, <br>4 company will never come   up because of their employees and staff who roaming around satisfaction <br>5 it&#39;s 100 percent fail product",
         "negative",
         0.8968489170074463,
         "comparison"
        ],
        [
         "2022-08-10",
         "Prototype? after  year",
         "neutral",
         0.7879462838172913,
         "design"
        ],
        [
         "2022-08-10",
         "Bro , how tall are you? <br>It is looking like a toy /kid bike in front you.",
         "neutral",
         0.564889669418335,
         "comparison"
        ],
        [
         "2022-08-09",
         "I’m expecting a video of scooter working condition when it’s half submerged in water . You know when it  rains in Bangalore, roads turn into lakes 🥲🥲",
         "negative",
         0.4003353714942932,
         "performance"
        ],
        [
         "2022-08-07",
         "Compare this with Ather 350x gen3",
         "neutral",
         0.5993823409080505,
         "comparison"
        ],
        [
         "2022-08-06",
         "Very good scooter but a company has to make better like small small things like on near display that screw is very visible and not seems a quality screw, it’s like a normal screw.",
         "positive",
         0.3652724027633667,
         "comparison"
        ],
        [
         "2022-08-06",
         "It&#39;s been over a year now still product is not launched",
         "negative",
         0.562082052230835,
         "comparison"
        ],
        [
         "2022-08-05",
         "Is simple one sales started🤔???",
         "neutral",
         0.863486111164093,
         "comparison"
        ],
        [
         "2022-08-05",
         "I appreciate for being honest by pointingvout the flaws hope you be the same going forward even some upcoming youtuber didn&#39;t mentioned it like pradeep on wheels he only said good part of it which he does in every video",
         "negative",
         0.34832197427749634,
         "comparison"
        ],
        [
         "2022-08-02",
         "Nice intro, man!! 👍👍👍",
         "positive",
         0.9316778779029846,
         "performance"
        ],
        [
         "2022-08-02",
         "Bhaisahab aag to ni lgegi isme",
         "negative",
         0.38991695642471313,
         "comparison"
        ],
        [
         "2022-08-02",
         "They should release a model like chetak Activa/acces like model for matured users. This looks like it is made for youngsters",
         "neutral",
         0.4527146518230438,
         "design"
        ],
        [
         "2022-08-01",
         "Does the removable battery trickle charge the main battery when parked?",
         "neutral",
         0.8486883640289307,
         "performance"
        ],
        [
         "2022-08-01",
         "iska looks petrol scooter mein ana sahiye",
         "neutral",
         0.40546947717666626,
         "design"
        ],
        [
         "2022-07-31",
         "Leg space, ground clearance, and seating comfort are a big concern in this scooter. they have to be very clever about bottom battery placement as this is not a car, you don&#39;t have the luxury of ample ground clearance like SUVs.",
         "neutral",
         0.3856762945652008,
         "design"
        ],
        [
         "2022-07-30",
         "Simple energy two wheeler will completely changed everyone&#39;s life, King 👑 of two two wheeler in India market 100%",
         "positive",
         0.622430682182312,
         "design"
        ],
        [
         "2022-07-29",
         "It is not that much big thing.... The fit and finish can be done perfectly at just before time of customer get scooter , display can be improved by software update...",
         "positive",
         0.4690070152282715,
         "design"
        ],
        [
         "2022-07-29",
         "Quality ka kya kare jab delivery hi nahi mil rahi hai",
         "negative",
         0.4184844195842743,
         "performance"
        ],
        [
         "2022-07-29",
         "Book kara hua hai November 2021 se<br>Abhi tak delivery nahi mili hai",
         "neutral",
         0.5508676171302795,
         "booking_cancellation_process"
        ],
        [
         "2022-07-28",
         "Service senter??",
         "neutral",
         0.5857519507408142,
         "communication_by_company"
        ],
        [
         "2022-07-28",
         "hi bro does simple one scooter has Backlit switches?",
         "neutral",
         0.8863566517829895,
         "design"
        ],
        [
         "2022-07-28",
         "Whats the idea of small removable battery pack along with large fixed battery .<br>Ultimately u hv to rely on large battery pack,n for that u have to charge it directly. And u can rely on smaller removable battery always ..",
         "neutral",
         0.5592531561851501,
         "battery"
        ],
        [
         "2022-07-28",
         "I&#39;m 6&#39;4&quot; and nothing but a bike(ev/petrol) is only option it seems.",
         "neutral",
         0.6938959360122681,
         "comparison"
        ],
        [
         "2022-07-27",
         "I think this will have same story as ola",
         "neutral",
         0.7441909909248352,
         "comparison"
        ],
        [
         "2022-07-27",
         "Ground clearance is not enough, lower battery will definitely hit speed breakers in my area",
         "negative",
         0.7671973705291748,
         "performance"
        ],
        [
         "2022-07-27",
         "this is belt drive now.",
         "neutral",
         0.6119161248207092,
         "performance"
        ],
        [
         "2022-07-27",
         "Section 5 &amp; 7 of the Central Motor Vehicles Act, 1988 clearly states that all the two-wheelers are required to have two rearview mirrors. This product does not have provision itself",
         "neutral",
         0.7295379638671875,
         "comparison"
        ],
        [
         "2022-07-27",
         "Where is the mirror ? How did this product get approved ?",
         "neutral",
         0.6551216840744019,
         "design"
        ],
        [
         "2022-07-26",
         "I don&#39;t know why but the scooter is looking like a toy beside him 😅",
         "neutral",
         0.4455747604370117,
         "comparison"
        ],
        [
         "2022-07-26",
         "I live in a multistorey apartment building where it will be impossible to charge the scooter in the parking. To set up the charging station near the scooter park will cost more than the scooter itself. Moreover, while there are designated parking spots for cars, none exists for scooters. I&#39;m sure I&#39;m not the only one who has these issues. How will the EV OEMs persuade us to buy",
         "negative",
         0.699608564376831,
         "comparison"
        ],
        [
         "2022-07-26",
         "looks extremely tiny",
         "negative",
         0.8647545576095581,
         "comparison"
        ],
        [
         "2022-07-26",
         "Seat &amp; underseat storage seems to be bit odd....Hope they figure out these issues by the final production 😃",
         "negative",
         0.574273943901062,
         "design"
        ],
        [
         "2022-07-26",
         "A true and honest review.",
         "positive",
         0.6243576407432556,
         "comparison"
        ],
        [
         "2022-07-25",
         "👉🏼🤔The good thing is that Simple One can learn from the deficiencies of Ola and then improve further. <br><br>However, I don&#39;t understand the importance of removable and fixed battery making charging more complicated.<br><br>Most people will end up using Ride Mode and what this means is that the removable battery won&#39;t discharge unless you drive only in Eco mode. But it&#39;s clever that they have made the removable battery usable only for Eco mode and not all othe other modes to avoid any thermal issues. <br><br>The package looks good but I would have preferred a fixed battery rather. I stay in an apartment and find charging the Ola using the charger+adapter already cumbersome. In the One&#39;s case, we&#39;ll need to carry the removable battery and charger around and need two adapters as well. So this will be definitely cumbersome.",
         "neutral",
         0.3734782040119171,
         "comparison"
        ],
        [
         "2022-07-25",
         "Nice Review",
         "positive",
         0.7251203656196594,
         "comparison"
        ],
        [
         "2022-07-25",
         "He&#39;s actually promoting another OEM brand to our subconscious mind through its logo. Anyone else observed this?",
         "negative",
         0.4711615741252899,
         "design"
        ],
        [
         "2022-07-25",
         "When companies don&#39;t let journalists ride in real world conditions it&#39;s a bad sign.",
         "negative",
         0.9187754988670349,
         "communication_by_company"
        ],
        [
         "2022-07-25",
         "did the 300+ kms range launched ?",
         "neutral",
         0.8209956288337708,
         "range"
        ],
        [
         "2022-07-25",
         "Still ather is king",
         "positive",
         0.528752326965332,
         "comparison"
        ],
        [
         "2022-07-25",
         "Clean Chit copy of Ather with small design changes",
         "neutral",
         0.7876415252685547,
         "design"
        ],
        [
         "2022-07-24",
         "Old one best desgin",
         "positive",
         0.4502526819705963,
         "performance"
        ],
        [
         "2022-07-24",
         "Simple energy customer care no is worst  no 1 takes the calls <br>I have tried many times",
         "negative",
         0.930530846118927,
         "comparison"
        ],
        [
         "2022-07-24",
         "Bhai yeah jammu mein kab milyhi",
         "neutral",
         0.4068365693092346,
         "comparison"
        ],
        [
         "2022-07-24",
         "Your review is marvelous....... concentrating on minor details and improvements has to be done is excellent.......i became a subscriber of you with this video",
         "positive",
         0.8785386085510254,
         "comparison"
        ],
        [
         "2022-07-24",
         "Deelarship information",
         "neutral",
         0.6481033563613892,
         "communication_by_company"
        ],
        [
         "2022-07-24",
         "It should be a hit since both ola and ather don&#39;t respect customer&#39;s...",
         "negative",
         0.5042683482170105,
         "communication_by_company"
        ],
        [
         "2022-07-24",
         "Is the test drive opened to public at bangalore finished",
         "neutral",
         0.9075474143028259,
         "communication_by_company"
        ],
        [
         "2022-07-24",
         "kudos to the guy who chose the emergency contact",
         "positive",
         0.767724871635437,
         "performance"
        ],
        [
         "2022-07-24",
         "But at launch it was chain drive now they back with belt drive 🤨🤨🤨",
         "neutral",
         0.7675758600234985,
         "comparison"
        ],
        [
         "2022-07-24",
         "Even Ola was good till the real testing started in Summer season so we need to wait till next summer season to know how the simple one is in my opinion till ather is best",
         "neutral",
         0.45680075883865356,
         "comparison"
        ],
        [
         "2022-07-23",
         "All copied  from ather",
         "neutral",
         0.7025368213653564,
         "comparison"
        ],
        [
         "2022-07-23",
         "All copied  from ather",
         "neutral",
         0.7025368213653564,
         "comparison"
        ],
        [
         "2022-07-23",
         "How is the fixed battery going to be waterproof!? There are literal gaps below... No wonder they covered it while raining!!",
         "negative",
         0.8979235887527466,
         "battery"
        ],
        [
         "2022-07-23",
         "Being a ola s1 pro user don’t fall for the hype,  test drive the vehicle multiple times but be aware test mules will be good but actual product will behave differently wait for the initial version to be delivered but after 6 months",
         "neutral",
         0.4260384142398834,
         "comparison"
        ],
        [
         "2022-07-23",
         "What about battery safty ? Company must grantee battery will not get fire",
         "negative",
         0.6296026110649109,
         "battery"
        ],
        [
         "2022-07-23",
         "Mention your booking dates guys. Let&#39;s make a prediction on delivery.",
         "neutral",
         0.822660505771637,
         "communication_by_company"
        ],
        [
         "2022-07-23",
         "Why electric scooters are always look like toy scooters.😆😆",
         "positive",
         0.5709918737411499,
         "comparison"
        ],
        [
         "2022-07-23",
         "There are some resemblance of ather some where around this simple one",
         "neutral",
         0.522507905960083,
         "comparison"
        ],
        [
         "2022-07-23",
         "Looks like Ather who went to accessory market",
         "neutral",
         0.6005048155784607,
         "design"
        ],
        [
         "2022-07-23",
         "“With segment best range” spoiler - review is done in a gated housing complex 😂",
         "neutral",
         0.6719212532043457,
         "comparison"
        ],
        [
         "2022-07-23",
         "The best genuine review. Simple one must address the issues reported. Those are grave ones. People will drive in rains. People don&#39;t want software glitches like those in other manufacturers. Simple energy must address these and just not lose long term trust of potential customers.",
         "negative",
         0.6707298159599304,
         "comparison"
        ],
        [
         "2022-07-23",
         "It comes with nmc battery <br>Plz tell that",
         "neutral",
         0.7983059287071228,
         "battery"
        ],
        [
         "2022-07-23",
         "at 3.35 , when the anchor was taking a corner with decent lean angle, I felt that the running board was about to scrap the tarmac.. what if he was taking the same corner with a pillion, I am pretty sure that it will scrap, just curious",
         "negative",
         0.5331289172172546,
         "comparison"
        ],
        [
         "2022-07-23",
         "They have also changed from chain drive to belt drive, similar to Ather. What made them do this change?",
         "neutral",
         0.7552904486656189,
         "comparison"
        ],
        [
         "2022-07-23",
         "Very well observed. And then reviewed. Till now the most proper review.",
         "positive",
         0.8001990914344788,
         "comparison"
        ],
        [
         "2022-07-23",
         "It looks like a first copy of the ather. So many similarities",
         "neutral",
         0.4534122049808502,
         "comparison"
        ],
        [
         "2022-07-23",
         "If SIMPLE ONE is Seeing this COMMENT<br>Remember The overall sporty looks, features of ur Scooter is really Superb... <br>But, in INDIA There Are really BAD ROADS, Potholes everywhere. <br>So we need Bigger REAR TYRE MANNN.. <br>AND REAR FENDER or Mud Guard think about RAINY season &amp; places like COORG, LADAKH &amp; HILLARY DISTRICTS of INDIA🇮🇳. <br>2nd thing is Ur SEAT design Bro.. <br>It&#39;s lyk it is from 1960&#39;s.<br>U better give wider &amp; 2 stage seats lyk AEROX Or seat lyk Ray ZR SR. <br>And also some STRONG BODY PARTS<br>SAFETY &amp; QUALITY is IMPORTANT<br>NOT WEIGHT of scooter.",
         "negative",
         0.4135884940624237,
         "comparison"
        ],
        [
         "2022-07-23",
         "Simple should raise d price ND uuse better quality",
         "neutral",
         0.4046582579612732,
         "price"
        ],
        [
         "2022-07-23",
         "Wait until year 2030 you will get scooter with 500 km on road range will not cost more than 90,000 Rupees in india you will have several option then....",
         "neutral",
         0.5222185850143433,
         "price"
        ],
        [
         "2022-07-23",
         "Bro.this scooty having 2 Butteries?",
         "negative",
         0.6535196900367737,
         "comparison"
        ],
        [
         "2022-07-23",
         "What you&#39;re essentially saying that as of now it&#39;s a half baked product which is being reviewed so that their investors, present and future have something to be happy about.<br>Also please elaborate on the fixation on top speed or fast acceleration for what is essentially a city run about.",
         "neutral",
         0.4785442650318146,
         "performance"
        ],
        [
         "2022-07-23",
         "No body shows actual speed of 105 km/h",
         "neutral",
         0.7409626245498657,
         "range"
        ],
        [
         "2022-07-22",
         "Is there any test drive available at Bengaluru",
         "neutral",
         0.9103765487670898,
         "communication_by_company"
        ],
        [
         "2022-07-22",
         "It&#39;s made for simple roads and not for Indian road and conditions",
         "negative",
         0.5307914614677429,
         "design"
        ],
        [
         "2022-07-22",
         "Who will show the balls to introduce a 100 cc scooter, with plug in hybrid option having 25 kms of actual battery only range. May be something like an Honda activa, plug in hybrid with 1.25 lakh on road.",
         "neutral",
         0.5962414741516113,
         "range"
        ],
        [
         "2022-07-22",
         "Doesnt this looks like Ather 450X",
         "neutral",
         0.6127923130989075,
         "comparison"
        ],
        [
         "2022-07-22",
         "Will still buy tvs iqube due to its reliability",
         "positive",
         0.5963436961174011,
         "reliability_quality"
        ],
        [
         "2022-07-22",
         "Autocar India Salute to your review .Every minor important details good or bad have been nicely explained .Cannot be better then this .",
         "positive",
         0.7191193699836731,
         "communication_by_company"
        ],
        [
         "2022-07-22",
         "1.1 lakh price will be probably for first few customers probably as they wont be able to bear that price for long with offline dealership sales...",
         "negative",
         0.5488648414611816,
         "price"
        ],
        [
         "2022-07-22",
         "What is the range?",
         "neutral",
         0.871060311794281,
         "comparison"
        ],
        [
         "2022-07-22",
         "Nothing can beat the posh look of bajaj chetak🙌🏼",
         "positive",
         0.6640075445175171,
         "design"
        ],
        [
         "2022-07-22",
         "Pretty straight forward and honest overview.",
         "positive",
         0.7355024218559265,
         "comparison"
        ],
        [
         "2022-07-22",
         "Finally came one of my best",
         "positive",
         0.8999258875846863,
         "performance"
        ],
        [
         "2022-07-22",
         "Seat comfort with a upright position is the prime requirement of a scooter for short spins and long rides...slide forward sitting position is a pain...defeats all other features and aminities if not addressed before commercial production begins...",
         "negative",
         0.8972544074058533,
         "comparison"
        ],
        [
         "2022-07-22",
         "It&#39;s high time the govt thinks of universal charger for all the EVs",
         "neutral",
         0.48490577936172485,
         "design"
        ],
        [
         "2022-07-22",
         "I think look and finish will improve once they start getting the bike out of the factory. Maybe after 1st 100 to 200 bikes which is always factory process continuous improvement and calibration",
         "neutral",
         0.537352979183197,
         "comparison"
        ],
        [
         "2022-07-22",
         "Hope they&#39;ll make this available in small towns too",
         "neutral",
         0.5411759614944458,
         "range"
        ],
        [
         "2022-07-22",
         "looks very ather-ish imo",
         "negative",
         0.8927032351493835,
         "comparison"
        ],
        [
         "2022-07-22",
         "I thought they&#39;ll never launch it🤣",
         "neutral",
         0.5031492114067078,
         "comparison"
        ],
        [
         "2022-07-22",
         "Wait till it simply blows up.. quite literally",
         "neutral",
         0.44939470291137695,
         "comparison"
        ],
        [
         "2022-07-22",
         "People are so lazy in finding new names that they have kept a scooter named(Simple One) and a phone named (Nothing)🤣",
         "neutral",
         0.5182872414588928,
         "comparison"
        ],
        [
         "2022-07-22",
         "Tight fight against Ather 🤗",
         "positive",
         0.7863581776618958,
         "performance"
        ],
        [
         "2022-07-22",
         "Namma Red is 🔥 😍",
         "positive",
         0.7933019995689392,
         "design"
        ],
        [
         "2022-07-22",
         "I think the ground clearance should be little more. Is gonna hit the bottom when going double",
         "neutral",
         0.5591515302658081,
         "comparison"
        ],
        [
         "2022-07-22",
         "Is it available or not?",
         "neutral",
         0.9138718843460083,
         "comparison"
        ],
        [
         "2022-07-22",
         "A few questions still unanswered<br>1. What&#39;s the ground clearance , will it scrape the bottom on a hump?<br>2. Will the scooter work if removable battery is out for charging?<br>3. Since monsoon is going on how will it perform in water logging",
         "neutral",
         0.7478581070899963,
         "vehicle_issues_faults"
        ],
        [
         "2022-07-22",
         "Your review is wonderful, makes me want to watch the video again and again.",
         "positive",
         0.9408870935440063,
         "comparison"
        ],
        [
         "2022-07-22",
         "We have seen this before... Ola allows media to drive it&#39;s scooter on a small test track. Says that these issues will be fixed after production...",
         "neutral",
         0.5863658785820007,
         "comparison"
        ],
        [
         "2022-07-22",
         "Why most companies focus on scooters we want 150 cc rival ev bikes.",
         "neutral",
         0.6216036081314087,
         "comparison"
        ],
        [
         "2022-07-22",
         "I got Ola S1 Pro two months back.  Very satisfied with the S1 Pro.  I want another electric scooter should I get a simple one or another S1 Pro!  Give a good suggestion.",
         "positive",
         0.7790454030036926,
         "comparison"
        ],
        [
         "2022-07-22",
         "That seat is definitely odd they need to address that.",
         "negative",
         0.9002465605735779,
         "design"
        ],
        [
         "2022-07-22",
         "I am wondering why these ev 2-wheeler manifactures design chasis very small , your feet are touching to handle , not sufficient space for foot board , rider have to slide backward on seat so resulting pillion to have very small space, so much gaap between backseat and backwheel  ,  its disgusting !!!!",
         "negative",
         0.913488507270813,
         "design"
        ],
        [
         "2022-07-22",
         "Looks like it&#39;s a prototype after a year.  Trying to get to production is a very expensive and time consuming.  After a year i cancelled when I was not selected for a test ride despite being confirmed. I don&#39;t think they have the finance to take it to production.  In todays startup market i dont think they will succeed.  Great accurate review",
         "negative",
         0.5586293935775757,
         "design"
        ],
        [
         "2022-07-22",
         "Why don’t electric scooters have ABS or atleast single channel ABS? With a top speed of 105kmph, if something suddenly comes your way and you grab the breaks…it is not safe",
         "negative",
         0.8672035932540894,
         "performance"
        ],
        [
         "2022-07-22",
         "Excellent review 👏👏",
         "positive",
         0.8583821058273315,
         "performance"
        ],
        [
         "2022-07-22",
         "This is exactly what Ola said😂 Hope they get it right. Looks promising nevertheless.",
         "positive",
         0.8657845258712769,
         "comparison"
        ],
        [
         "2022-07-22",
         "simple one just making advertisement, not a single product in real world, everything is production model till 1 year 🤣🤣",
         "neutral",
         0.6483193039894104,
         "comparison"
        ],
        [
         "2022-07-22",
         "पहिले रिमूविबल बैटर यूज होनी चाहिए बाद मैं इंबिल्ट  फिडबैक में बताइए सर कंपनिके ceo को 😊",
         "neutral",
         0.4904569685459137,
         "communication_by_company"
        ],
        [
         "2022-07-22",
         "How is leg room. 2 people seat seems not comfortable.",
         "negative",
         0.9128112196922302,
         "comparison"
        ],
        [
         "2022-07-22",
         "Review tvs iqube s",
         "neutral",
         0.5039726495742798,
         "comparison"
        ],
        [
         "2022-07-22",
         "Only good thing about this scooter is it&#39;s combination of battery system<br>And will never put money",
         "positive",
         0.6763992309570312,
         "battery"
        ],
        [
         "2022-07-22",
         "❤️✨✨❤️",
         "positive",
         0.8409503102302551,
         "comparison"
        ],
        [
         "2022-07-22",
         "In which states it will be available",
         "neutral",
         0.8929616808891296,
         "range"
        ],
        [
         "2022-07-22",
         "The bulky baterypack underneath could be problematic for sharp turns and could also touch with an uneven bumper.",
         "negative",
         0.8534961342811584,
         "battery"
        ],
        [
         "2022-07-22",
         "That plastic looks very cheap!",
         "negative",
         0.8806084394454956,
         "price"
        ],
        [
         "2022-07-22",
         "Looks like cornering ground clearance is way too less.",
         "negative",
         0.767673909664154,
         "comparison"
        ],
        [
         "2022-07-22",
         "They should take their time and deliver a better product",
         "neutral",
         0.37598854303359985,
         "comparison"
        ],
        [
         "2022-07-22",
         "looks like reskinned ather450",
         "neutral",
         0.42556309700012207,
         "comparison"
        ],
        [
         "2022-07-22",
         "Which one should choose simple or ather or else . No budget issues, just want the best of best , that is available within two months . Daily running is 85 km",
         "neutral",
         0.5829208493232727,
         "performance"
        ],
        [
         "2022-07-22",
         "i still dont believe this product..!!",
         "negative",
         0.8735733032226562,
         "comparison"
        ],
        [
         "2022-07-22",
         "&quot;This will be <b>fixed</b> when the vehicle goes into production&quot; sounds like <b><i>Acche din</i></b> 🤣 <br><br><br>After ola this sentence just scares me🤣🤣",
         "negative",
         0.8627598285675049,
         "comparison"
        ],
        [
         "2022-07-22",
         "Overall better than ather n ola",
         "positive",
         0.5441478490829468,
         "comparison"
        ],
        [
         "2022-07-22",
         "Whatever, it takes some guts for one to buy an Electric scooter.<br>Having seen Ola et al..",
         "neutral",
         0.5009827613830566,
         "comparison"
        ],
        [
         "2022-07-22",
         "I qube s please ?",
         "neutral",
         0.4643341600894928,
         "design"
        ],
        [
         "2022-07-22",
         "EV Market will be ruled by this 🤩",
         "positive",
         0.5962327122688293,
         "price"
        ],
        [
         "2022-07-22",
         "When is it going start the sales and where can I buy it in pune eagerly waiting for it to buy.",
         "neutral",
         0.7243109345436096,
         "sales_service"
        ],
        [
         "2022-07-22",
         "Here&#39;s something that ev makers should realize, while it is good to take your time and refine the product it is also important to deliver those promises in time. Hyping this for over a year to an extent where people just stopped waiting for your product and ended up buying chetak/ather etc.  while you&#39;re still in beta version.. why? Show it when its all sorted out n see the amount of bookings you get!",
         "neutral",
         0.3657079041004181,
         "comparison"
        ],
        [
         "2022-07-22",
         "Can u bring a comparison of iqube and chetak with the ola and ather",
         "neutral",
         0.5110623240470886,
         "comparison"
        ],
        [
         "2022-07-22",
         "Looks like Replica of aether 450X🧐",
         "neutral",
         0.7046816349029541,
         "comparison"
        ],
        [
         "2022-07-22",
         "Simple One with the most quirky design 😁",
         "positive",
         0.8774115443229675,
         "design"
        ],
        [
         "2022-07-22",
         "Electric Aprilia sr",
         "neutral",
         0.8062976598739624,
         "design"
        ],
        [
         "2022-07-22",
         "<a href=\"https://www.youtube.com/watch?v=-IHWQj9j0ZE&amp;t=7m46s\">7:46</a> does it play music like ola S1 pro",
         "neutral",
         0.8395536541938782,
         "performance"
        ],
        [
         "2022-07-22",
         "Design wise it&#39;s looks very similar to the ather. Most of it&#39;s exterior resembles the ather",
         "neutral",
         0.5641226172447205,
         "design"
        ],
        [
         "2022-07-22",
         "Is it have thermal stability",
         "neutral",
         0.5856426954269409,
         "comparison"
        ],
        [
         "2022-07-22",
         "I think you&#39;d find the VIN number very interesting 👀 Just leaving that here.",
         "positive",
         0.650674045085907,
         "comparison"
        ],
        [
         "2022-07-22",
         "Now Ather and Ola are going to face some tough times 😎😎😎👑👑👑🔥🔥🔥💪💪💪",
         "positive",
         0.5724096298217773,
         "comparison"
        ],
        [
         "2022-07-22",
         "I’m waiting 🫠",
         "neutral",
         0.616135835647583,
         "communication_by_company"
        ],
        [
         "2022-07-22",
         "H",
         "neutral",
         0.40939319133758545,
         "design"
        ],
        [
         "2022-07-22",
         "Rishaad bhai, beard is looking good 💪🔥👑💖",
         "positive",
         0.8278916478157043,
         "comparison"
        ],
        [
         "2022-07-22",
         "Amazing ❤️",
         "positive",
         0.9057132005691528,
         "performance"
        ],
        [
         "2022-07-22",
         "I wanna this one also",
         "neutral",
         0.6536502838134766,
         "comparison"
        ],
        [
         "2022-07-22",
         "Nice one ‼️",
         "positive",
         0.8896229267120361,
         "performance"
        ],
        [
         "2022-07-22",
         "Big fan of AUTO CAR❤️‍🔥",
         "positive",
         0.8975609540939331,
         "design"
        ],
        [
         "2022-07-22",
         "Great",
         "positive",
         0.7110204696655273,
         "design"
        ],
        [
         "2023-06-01",
         "Ola mere paas h meri gadi to Aaj Tak pahadi per band nahi hui, tum logo ki jyada jal rahi h ola s......kher tumhare jaise youtubers k kahne se to kuch nahi hoga sales figures utha k dekhlo",
         "negative",
         0.4129541516304016,
         "design"
        ],
        [
         "2023-08-31",
         "It is Useful for ladies and short hight .",
         "positive",
         0.48274746537208557,
         "design"
        ],
        [
         "2023-08-31",
         "Bahut hi bakwas baten hai bola kuch delivery aaj tak nahi<br>Bilkul fraud kar rahe hai",
         "negative",
         0.6236071586608887,
         "battery"
        ],
        [
         "2023-08-31",
         "Simple one Sale chor company mere booking k paise kha gi our refand bi ni kiye mere Sabi ko request a koi b j scooter na le ais company ka koi stand ni Hai sale gandu company",
         "negative",
         0.40159139037132263,
         "communication_by_company"
        ],
        [
         "2023-08-27",
         "I wanna asking Bangalore simple one adress , ??? Apus",
         "neutral",
         0.5957809686660767,
         "comparison"
        ],
        [
         "2023-08-27",
         "Keyse book karega dada",
         "neutral",
         0.347944051027298,
         "booking_cancellation_process"
        ],
        [
         "2023-08-26",
         "Bhaiya ji",
         "positive",
         0.44154319167137146,
         "design"
        ],
        [
         "2023-08-23",
         "Bhai iska showroom kidhar hai bhai Zara batao me Gujarat ka rehne vala ho bhai",
         "positive",
         0.33955442905426025,
         "communication_by_company"
        ],
        [
         "2023-08-22",
         "Gadi market mein kab tak hai",
         "neutral",
         0.45768028497695923,
         "price"
        ],
        [
         "2023-08-19",
         "Praise",
         "positive",
         0.52326500415802,
         "performance"
        ],
        [
         "2023-08-14",
         "Good",
         "positive",
         0.4903797209262848,
         "performance"
        ],
        [
         "2023-08-10",
         "Good 😊",
         "positive",
         0.8012549877166748,
         "performance"
        ],
        [
         "2023-08-09",
         "Worst hopeless start up company",
         "negative",
         0.9244906306266785,
         "comparison"
        ],
        [
         "2023-08-02",
         "EV Co. r looting in the name of environment friendly vehicle.",
         "negative",
         0.767960250377655,
         "communication_by_company"
        ],
        [
         "2023-07-31",
         "1साल से तो मे भी इंतजार कर रहा हूँ l<br>अब यह Rs 1,10,000/- की नहीं आ रही हैं l<br>तो कैंसिल कर रहा हूँ l",
         "neutral",
         0.44478219747543335,
         "range"
        ],
        [
         "2023-07-31",
         "👌",
         "positive",
         0.4709415137767792,
         "comparison"
        ],
        [
         "2023-07-25",
         "Ather 450x ka brother 😂",
         "neutral",
         0.41327646374702454,
         "range"
        ],
        [
         "2023-07-25",
         "Nice one",
         "positive",
         0.7740809917449951,
         "design"
        ],
        [
         "2023-07-24",
         "Delhi me kab delivery ho gi",
         "neutral",
         0.4700526297092438,
         "performance"
        ],
        [
         "2023-07-20",
         "रेट बहुत बहुत बहुत जादा है",
         "positive",
         0.716032862663269,
         "range"
        ],
        [
         "2023-07-11",
         "Sir charge hone k bd agr scooti ko use ni karte h to kya Apne app charge khatm hota h ki ni please reply",
         "negative",
         0.3762970566749573,
         "communication_by_company"
        ],
        [
         "2023-07-10",
         "Tamil Nadu simple one mobile number",
         "neutral",
         0.8678449988365173,
         "comparison"
        ],
        [
         "2023-07-10",
         "Mobile number please Chennai",
         "neutral",
         0.728951096534729,
         "comparison"
        ],
        [
         "2023-07-09",
         "बकवास gadi",
         "negative",
         0.4613025486469269,
         "design"
        ],
        [
         "2023-07-08",
         "Battery me warranty 3 yr unlimited hota to sahi rahe taa ...",
         "neutral",
         0.3826242685317993,
         "reliability_quality"
        ],
        [
         "2023-07-03",
         "Pune Available Kab Tak Hogi",
         "neutral",
         0.633354902267456,
         "booking_cancellation_process"
        ],
        [
         "2023-07-03",
         "SIMPLE ONE CHARGING OLA CHARGING SEM HE KAYA",
         "negative",
         0.4650217890739441,
         "design"
        ],
        [
         "2023-07-02",
         "Suhas Rajkumar CHITER HAI",
         "negative",
         0.5397753715515137,
         "comparison"
        ],
        [
         "2023-06-30",
         "Main stand or Double stand milegga",
         "neutral",
         0.692886233329773,
         "design"
        ],
        [
         "2023-06-21",
         "English plz, bro you’re going global, think globally plz",
         "neutral",
         0.35561323165893555,
         "comparison"
        ],
        [
         "2023-06-21",
         "How to place my order i need a contact  number",
         "neutral",
         0.867681622505188,
         "communication_by_company"
        ],
        [
         "2023-06-20",
         "Where is the scooter on road, they claim that they started delivery.<br>Irbil they are scamming people.<br>At least let them show there production unit.",
         "negative",
         0.838135838508606,
         "comparison"
        ],
        [
         "2023-06-19",
         "2-4 saal ruk jao yhii inka price 1L ke around dikhega or i guess iska competition bhi market me aajayga abhi over priced h but jisko boht hi urgent h or range priority hai toh bhai yhii best option available h market me otherwise long term ke liye koi lena chahta hai toh ola ya ather ko consider karo agar range priority nhi hai toh. Baaki next 5 years me for sure around 1L me dikhegi ye or iske competitor market me jo ki best price bhi h after all petrol vehicle se compare kare to atleast 60% tak to savings ho abhi it&#39;s like 30% savings as compared to fuel vehicles. Abhi iska service cost durability kuch clear nhi hai so it&#39;s better to wait and then take.",
         "neutral",
         0.3430807888507843,
         "price"
        ],
        [
         "2023-06-16",
         "KITNE ME BIKA HAI BHAI TU ,FALTU KA GYAN DE RAHA HAI , 100 % BATTERY CHARGE KARNE KE BAAD SONIC MODE PAR SIRF 40 KM HI CHALEGI YE KAUN BATAEGA, CHAL KHAI<br>R JIS CHIZ KE PAISE MILE HAI TUHJE WO TUNE  BAHUT ACHHI TAREH SE KIYA HAI",
         "negative",
         0.42105790972709656,
         "battery"
        ],
        [
         "2023-06-14",
         "Faltu ki baat mat kar",
         "negative",
         0.43208327889442444,
         "comparison"
        ],
        [
         "2023-06-11",
         "Bhai odisha pe kab ayega",
         "neutral",
         0.377762109041214,
         "comparison"
        ],
        [
         "2023-06-10",
         "1-2 saal baad pta chlega..... quality ka",
         "neutral",
         0.39744946360588074,
         "range"
        ],
        [
         "2023-06-09",
         "Abe idiots q bana raha hai Rs.150000. Lack ki hi. Bakwas hai loot raha hai koi bhi na le.  Ola best hai.",
         "negative",
         0.5930465459823608,
         "comparison"
        ],
        [
         "2023-06-09",
         "Ola best hai 🤣🤣🤣🤣",
         "positive",
         0.6180355548858643,
         "comparison"
        ],
        [
         "2023-06-07",
         "Ather is customer friendly",
         "positive",
         0.7341006994247437,
         "communication_by_company"
        ],
        [
         "2023-06-07",
         "Ather is better than this scooter",
         "positive",
         0.47498318552970886,
         "comparison"
        ],
        [
         "2023-06-06",
         "Surat me kb a raha hai",
         "neutral",
         0.3717172145843506,
         "comparison"
        ],
        [
         "2023-06-06",
         "190 eco to 85 ride <br>Approx 100 km range drop<br>🤐🤔🤐😵",
         "neutral",
         0.8644163012504578,
         "range"
        ],
        [
         "2023-06-05",
         "the seat looks sloppy towards the front. This will create more pressure on our hands while riding. I think ather did it foolproof.",
         "negative",
         0.9386247992515564,
         "comparison"
        ],
        [
         "2023-06-04",
         "Wastage of money",
         "negative",
         0.9244666695594788,
         "comparison"
        ],
        [
         "2023-06-04",
         "Bhai, Seat height kya hai iski.!",
         "neutral",
         0.47993582487106323,
         "comparison"
        ],
        [
         "2023-06-03",
         "Ola s1 pro sabse acha hai",
         "positive",
         0.6196061372756958,
         "performance"
        ],
        [
         "2023-06-03",
         "delhi m kabhi milegi",
         "neutral",
         0.3703599274158478,
         "comparison"
        ],
        [
         "2023-06-03",
         "Bhai apko paseena aa raha hai aur video bana rahe ho good",
         "positive",
         0.4374538064002991,
         "performance"
        ],
        [
         "2023-06-02",
         "Back bad",
         "negative",
         0.8012514710426331,
         "comparison"
        ],
        [
         "2023-06-02",
         "main stand he kay/",
         "neutral",
         0.390903115272522,
         "comparison"
        ],
        [
         "2023-06-02",
         "Ola best, sab bhai ola p shift ho jao koi fayda nhi iska ab",
         "negative",
         0.38946014642715454,
         "performance"
        ],
        [
         "2023-06-02",
         "Don&#39;t waste your time by waiting for this scooter,I booked 1 year 1 month back till date no any response from simple one,also when I call to customer care every time they said next 3 months we will start manufacturing.<br>this much of waiting time cant excepted,also openly say every time next 3 months date given.<br>Suppose if delivered later, it&#39;s cost not much less amount when we booking time running amount, so it&#39;s present rate is high,so don&#39;t wait it.they loss its hope.",
         "negative",
         0.5295351147651672,
         "comparison"
        ],
        [
         "2023-06-01",
         "Bhai isme location bhi hai ya nhi bta do",
         "neutral",
         0.42104485630989075,
         "comparison"
        ],
        [
         "2023-06-01",
         "Very high price he",
         "negative",
         0.5569294095039368,
         "price"
        ],
        [
         "2023-06-01",
         "Acha hua book nhi kiya",
         "negative",
         0.4604749381542206,
         "comparison"
        ],
        [
         "2023-06-01",
         "Over price he bhai😮",
         "positive",
         0.40870383381843567,
         "price"
        ],
        [
         "2023-05-31",
         "By the time Simple one delivery start, Hydrogen fuel vehicles will rule",
         "neutral",
         0.7705138921737671,
         "comparison"
        ],
        [
         "2023-05-31",
         "On road price kya hai",
         "neutral",
         0.6409213542938232,
         "price"
        ],
        [
         "2023-05-31",
         "same like a ather..same to same",
         "neutral",
         0.4581083357334137,
         "comparison"
        ],
        [
         "2023-05-31",
         "There is no rear foot rest",
         "neutral",
         0.6411963701248169,
         "design"
        ],
        [
         "2023-05-30",
         "PRICE JADA HAI . MERA OLA S 1 PRO AANE WALI HAI BHAI",
         "negative",
         0.3954930305480957,
         "price"
        ],
        [
         "2023-05-30",
         "Nama Red",
         "neutral",
         0.44297149777412415,
         "design"
        ],
        [
         "2023-05-30",
         "Phla product hi fail 🤦",
         "negative",
         0.7246437668800354,
         "comparison"
        ],
        [
         "2023-05-29",
         "Over price 👎",
         "negative",
         0.9344196915626526,
         "comparison"
        ],
        [
         "2023-05-29",
         "ather should put copyright on this simple one scooter....each and every angle looks like ather itself...no uniqueness at all....copycats",
         "negative",
         0.7658159136772156,
         "comparison"
        ],
        [
         "2023-05-29",
         "Build up is enough by simple one tell me the delivery date.",
         "neutral",
         0.7623050808906555,
         "range"
        ],
        [
         "2023-05-29",
         "Bhai gadi ati to h nahi...jane do..",
         "negative",
         0.3485020101070404,
         "comparison"
        ],
        [
         "2023-05-28",
         "Top model ki range kitni hogi",
         "neutral",
         0.40237563848495483,
         "range"
        ],
        [
         "2023-05-28",
         "Iska mujhe look psnd aaya tha bs lekin ab iski range or price dekh krr usse bhi mnn bhar gya 😂M to chla bhai ola lene milte h break k bad sukr h book nhi ki ye wali bye bye.",
         "negative",
         0.37104207277297974,
         "booking_cancellation_process"
        ],
        [
         "2023-05-28",
         "Simple one nahi Suyar one hai<br>After waiting of years it increase price and decrease mileage",
         "neutral",
         0.4491155445575714,
         "price"
        ],
        [
         "2023-05-28",
         "Highest price???",
         "neutral",
         0.5378261804580688,
         "price"
        ],
        [
         "2023-05-28",
         "1.1 L rate tak hi behtar tha sab lene ka soncha bhi tha ab to cancel",
         "negative",
         0.4768412709236145,
         "price"
        ],
        [
         "2023-05-28",
         "Price bhaut jayda h,इसकी कीमत ज्यादा से ज्यादा 1,35 तक होना चाहिये",
         "negative",
         0.37261903285980225,
         "price"
        ],
        [
         "2023-05-27",
         "Ola is still better thn this",
         "positive",
         0.49010947346687317,
         "comparison"
        ],
        [
         "2023-05-27",
         "Range sirf economy mode mai he mil raha hai, kya bakwas hai yar 🤨. Another disappointment",
         "negative",
         0.9031476378440857,
         "comparison"
        ],
        [
         "2023-05-26",
         "Sirf advertising hi karoge ya delivery bhi karoge, dealers toh kahi dekhe nhi",
         "negative",
         0.37115150690078735,
         "communication_by_company"
        ],
        [
         "2023-05-26",
         "During booking expected cost 1.10 lac ,now it is priced 1.60to 1.70lac on road, This is not mucha mucha ,it is too much overpriced.",
         "negative",
         0.6059240698814392,
         "price"
        ],
        [
         "2023-05-25",
         "98% battery per to 140km range dikha raha hai bhai....",
         "neutral",
         0.35555365681648254,
         "range"
        ],
        [
         "2023-05-25",
         "Maharashtra me kitni hogi price",
         "neutral",
         0.4213186204433441,
         "price"
        ],
        [
         "2023-05-25",
         "Finance available hai",
         "neutral",
         0.6346285939216614,
         "price"
        ],
        [
         "2023-05-25",
         "Ola is best bike",
         "positive",
         0.6691389083862305,
         "design"
        ],
        [
         "2023-05-25",
         "Bro 750w charger ki price ex showroom me included hai kya",
         "neutral",
         0.5956866145133972,
         "price"
        ],
        [
         "2023-05-25",
         "Back seat passenger ke liye foot pad nahi hai",
         "neutral",
         0.4614246189594269,
         "comparison"
        ],
        [
         "2023-05-25",
         "I’ll be happy with Ola s1 pro",
         "positive",
         0.83629310131073,
         "performance"
        ],
        [
         "2023-05-25",
         "Ye log review karte ha ye time paas. Pata nei koi bhi reviewer nei bata rha ki speed ke according range kitni ha khali ye bataya ki 105km top speed matlab agar speed ma chala toh 39km only. Abe salo agar cycle sa bhi slow speed ma 212 km range de rha ho toh range kya apni gand ma dalenge?",
         "negative",
         0.37014684081077576,
         "comparison"
        ],
        [
         "2023-05-25",
         "Lakin kob lounch hogi but rupees thori Jada hai ✍️🌹🙏",
         "positive",
         0.388693630695343,
         "price"
        ],
        [
         "2023-05-25",
         "Could you pls share the  battery durability and it&#39;s price when it requires replacement? Thanks",
         "neutral",
         0.8217026591300964,
         "battery"
        ],
        [
         "2023-05-24",
         "Bhulna mat bahat fack promise kar chuka hai ab tak",
         "negative",
         0.3421933948993683,
         "performance"
        ],
        [
         "2023-05-24",
         "Too much costly...😂 110000 se 158000 wahhh.. Bana rahe hai sabko.",
         "negative",
         0.5123977661132812,
         "price"
        ],
        [
         "2023-05-24",
         "Phone no pls",
         "negative",
         0.6025773882865906,
         "comparison"
        ],
        [
         "2023-05-24",
         "I am sure there must be mud flap on front wheel.....cause there are wholes for cooling.....while turning they may block due to soil or mud....and to wash them off we need to servicing center / car washer ....and they will jet the water spray and could damage or short circuit.....!! Hey guys pls watch this clip again from the time <a href=\"https://www.youtube.com/watch?v=9or8SRryY4A&amp;t=1m47s\">1:47</a>to <a href=\"https://www.youtube.com/watch?v=9or8SRryY4A&amp;t=2m11s\">2:11</a>....!!",
         "negative",
         0.3982001841068268,
         "range"
        ],
        [
         "2023-05-24",
         "Price dekh ke lg raha ki Ola hi thik hai 😑",
         "negative",
         0.39864012598991394,
         "price"
        ],
        [
         "2023-05-24",
         "Wtf.... The rage that is displayed is nowhere near the promised range... Simple cheats",
         "negative",
         0.9444455504417419,
         "comparison"
        ],
        [
         "2023-05-24",
         "Muje kya bhai log. Muje toh ola s1 air 3kw rs 79999 ex showroom mai mil rhi hai. Muje kya karna mehengi scooters ka🌚",
         "neutral",
         0.3425348401069641,
         "price"
        ],
        [
         "2023-05-24",
         "Simple one has fooled all the 1lakh pre book customer collecting 20crores 2yrs back assuring 1.1lakh now if ex showroom price is 1.55 then on road would be 1.8lakh...my all waiting as gone into water price nd even warranty is only 30,000km nd 1year charger is very less...so unworthy at the cost flop flop big dissapointnent",
         "negative",
         0.842354953289032,
         "comparison"
        ],
        [
         "2023-05-24",
         "Price is crazy high, This might not be the right price for mass market, If you compare it with a petrol base model scooter(which everyone will do) you end up paying 60~70k extra for this one, and this extra amount is usually recovered in next 5 years(using this extra amount in filling petrol) assuming moderate riding everyday. so in short this scooter will start to give you benefits only after roughly 5 years, and after 5 years prices for ev scooters will be less, performance and price will be competetive to petrol scooters, so i think buying a scooter which is that expensive in 2023 might not be a good choice. !! Cheers :)",
         "negative",
         0.49638837575912476,
         "comparison"
        ],
        [
         "2023-05-24",
         "❌❌❌❌Cancel",
         "negative",
         0.7857298254966736,
         "comparison"
        ],
        [
         "2023-05-24",
         "Regarding technology of simple energy we have seen audio and video during relaunch. These fellows are not trustworthy",
         "negative",
         0.8956018090248108,
         "comparison"
        ],
        [
         "2023-05-24",
         "100% copy of ather including mirror design is a shame IMHO.",
         "negative",
         0.9600951671600342,
         "comparison"
        ],
        [
         "2023-05-24",
         "Just have to wait till 3 months so that we can get good review... Aacha lag raha hain abhi toh govt ne subsidy kam kiya hain uskehisab se hoga.. Battery aur motor unka hain toh hilly area mein try karke bataiye",
         "positive",
         0.3516443371772766,
         "comparison"
        ],
        [
         "2023-05-24",
         "better than OLA design",
         "positive",
         0.4543095529079437,
         "design"
        ],
        [
         "2023-05-24",
         "My friend who is working in chennai said its actual range is 115 km ....😂",
         "neutral",
         0.6251354217529297,
         "range"
        ],
        [
         "2023-05-24",
         "Ola aur Ather isse 100 times better hain at the price it is being offered 😂",
         "positive",
         0.46421298384666443,
         "price"
        ],
        [
         "2023-05-24",
         "Company has fooled the public who been waiting for 2yrs....big increase in price with less warranty only 30,000 km nd 1yr only for charger worst in the segment for fresh launch",
         "negative",
         0.8515871167182922,
         "price"
        ],
        [
         "2023-05-24",
         "naam hi simple hai price nahi",
         "neutral",
         0.43332022428512573,
         "comparison"
        ],
        [
         "2023-05-24",
         "Kon lega itna mehnga",
         "negative",
         0.40086835622787476,
         "comparison"
        ],
        [
         "2023-05-24",
         "Too much price...itna bawal kon palega..",
         "negative",
         0.6775959134101868,
         "price"
        ],
        [
         "2023-05-24",
         "Back bad",
         "negative",
         0.8012514710426331,
         "comparison"
        ],
        [
         "2023-05-24",
         "Bhai yeh <a href=\"https://www.youtube.com/watch?v=9or8SRryY4A&amp;t=10m58s\">10:58</a> pe 98% sirf 140km ki range dikha rha hai woh bhi eco made pe",
         "neutral",
         0.5996978878974915,
         "range"
        ],
        [
         "2023-05-24",
         "Price is so high for middle class, any chance to reduce the price",
         "negative",
         0.7494840025901794,
         "price"
        ],
        [
         "2023-05-24",
         "हद हो गई यार दो साल में चार स्कूटर क्या बना लिया बो भी डेढ़ लाख रुपए मे वीडियो बनाने लग गए😂😂😂",
         "negative",
         0.5773784518241882,
         "range"
        ],
        [
         "2023-05-24",
         "मैं सिंपल वन कंपनी के ऊपर केस करने जा रहा हूं क्योंकि इसने 1947 रुपए बुकिंग अमाउंट लिया था तो उस टाइम अपने स्कूटर के प्राइस 110000 ही बताए थे लेकिन अब यह डेढ़ लाख प्लस बता रहे हैं तो हमारा इस कंपनी के ऊपर केस करना जायज बनता है या तो हमारी बुकिंग अमाउंट ब्याज सहित वापस दे या फिर हमें स्कूटी 110000 में ही दें !",
         "neutral",
         0.43038076162338257,
         "comparison"
        ],
        [
         "2023-05-23",
         "bas dikhne m Achi h... par iske badle... bicycle le lo... wo jyada sahi h",
         "positive",
         0.3683316707611084,
         "design"
        ],
        [
         "2023-05-23",
         "What about the subsidy",
         "neutral",
         0.6195257902145386,
         "comparison"
        ],
        [
         "2023-05-23",
         "Load capacity kiya hoga sir",
         "neutral",
         0.4326818585395813,
         "performance"
        ],
        [
         "2023-05-23",
         "Over Price है, बहुत ज्यादा,, Ola Best है",
         "positive",
         0.3933107256889343,
         "range"
        ],
        [
         "2023-05-23",
         "Koi mujhe Kolkata me bhej do😊😊",
         "positive",
         0.40171948075294495,
         "comparison"
        ],
        [
         "2023-05-23",
         "Excellent bike. Good finish like the vide v1.  Wheels look a little small.  Will offer alternative to the bounce infinity for customers that want a swapping battery.  Hope they get another 50000 pre-orders today",
         "positive",
         0.8341448903083801,
         "performance"
        ],
        [
         "2023-05-23",
         "Very good review.",
         "positive",
         0.8459523916244507,
         "performance"
        ],
        [
         "2023-05-23",
         "Bakwas hai ye bahut kharab hai",
         "negative",
         0.7198110222816467,
         "comparison"
        ],
        [
         "2023-05-23",
         "Kya sahi video hai bhai sabko ap jaisa hi hona chahiye! ❤",
         "positive",
         0.5723414421081543,
         "performance"
        ],
        [
         "2023-05-23",
         "vida v1 can also be considered now",
         "neutral",
         0.7883306741714478,
         "comparison"
        ],
        [
         "2023-05-23",
         "Issko 1.5 sal pehle book Kiya ab tak 3 bar lounching event ho chuka hai iska. Soch Raha hu uss samay ola na leta to sirf iske lounching event dekh dekhkar din cut jate😁😁😁",
         "positive",
         0.37852394580841064,
         "booking_cancellation_process"
        ],
        [
         "2023-05-23",
         "Bhai tumne zaroor peise khaay hai",
         "negative",
         0.37715595960617065,
         "comparison"
        ],
        [
         "2023-05-23",
         "Bhai Muje Lagta Hai ye unit me Problem Hai Varna <br>1 Mode me 190Km<br>2 Mode me 85km nahi ho sakti hai Varna Gadi lene ka Kuch faida he nahi 165km Raide mode me Hona Chahiye Unit me problem hoga varna itna kam nahi bata sakta hai",
         "negative",
         0.4613465964794159,
         "comparison"
        ],
        [
         "2023-05-23",
         "Nice",
         "positive",
         0.4739583134651184,
         "design"
        ],
        [
         "2023-05-23",
         "Better in every segment than market leader ola ,but going to failed as fame 2 subsidy reduced to 15% in june. Price become 1.85 ex showroom and on road became 2 lakh during delivery .",
         "negative",
         0.5955730080604553,
         "price"
        ],
        [
         "2023-05-23",
         "Price point winner 🏆🎉🏆is bounce infinity.",
         "positive",
         0.8076017498970032,
         "price"
        ],
        [
         "2023-05-23",
         "In ride mode it gives 85 km range, its better to choose ather at same price.",
         "neutral",
         0.5052058696746826,
         "range"
        ],
        [
         "2023-05-23",
         "isme invest karne se accha chetak pe karu",
         "negative",
         0.3807576894760132,
         "comparison"
        ],
        [
         "2023-05-23",
         "Simple one has cheated saying all nonsense from 2 years",
         "negative",
         0.8345162868499756,
         "comparison"
        ],
        [
         "2023-05-23",
         "Abhi v time hai S1 lelo..",
         "neutral",
         0.37460845708847046,
         "range"
        ],
        [
         "2023-05-23",
         "This price will only fuel up the selling of Ola &amp; iQube.",
         "positive",
         0.49705439805984497,
         "price"
        ],
        [
         "2023-05-23",
         "I successfully wasted my 2 years 🥺👉👈",
         "negative",
         0.5065531730651855,
         "performance"
        ],
        [
         "2023-05-23",
         "Sirf ek bat ka ans de dena bhai 98% pe eco pe sirf 140 range  or sonic me sirf 40 kya ganda majak h ye plz ans dena bhai😊",
         "positive",
         0.3624136745929718,
         "battery"
        ],
        [
         "2023-05-23",
         "Nope 👎🙅 bro <br>Go and cancel you&#39;r booking 😮‍💨",
         "negative",
         0.8327624797821045,
         "booking_cancellation_process"
        ],
        [
         "2023-05-23",
         "Bhai eese be koi nhi lega is price ke sath to bilcull be nhi😂",
         "negative",
         0.3570600152015686,
         "price"
        ],
        [
         "2023-08-03",
         "Brother.. real time ride review expecting soon..",
         "positive",
         0.4968172311782837,
         "performance"
        ],
        [
         "2023-08-02",
         "If Company provide life time free recharge at fixed price then we can think",
         "neutral",
         0.4819691777229309,
         "price"
        ],
        [
         "2023-08-02",
         "look like hype not value for that money in another 4 years the EB charge will get higher and petrol rate will be cheaper. Lot of them going to get trapped also there is service center any issue the operation cost will be higher",
         "negative",
         0.7953771352767944,
         "comparison"
        ],
        [
         "2023-07-31",
         "I already booked one simple one scooter 2 months before still not received too much delay",
         "neutral",
         0.5204934477806091,
         "reliability_quality"
        ],
        [
         "2023-07-30",
         "Rate tha romba over",
         "negative",
         0.42622047662734985,
         "price"
        ],
        [
         "2023-07-28",
         "Speed yavalove anna pogum enthe bike",
         "negative",
         0.36738404631614685,
         "performance"
        ],
        [
         "2023-07-14",
         "மானியிம்இருக்கா",
         "neutral",
         0.4163636863231659,
         "performance"
        ],
        [
         "2023-07-14",
         "என்னவிலை",
         "neutral",
         0.4254522919654846,
         "range"
        ],
        [
         "2023-07-05",
         "Pre book cancel panniachu 😅 ex-shoroom 1.1 lakh sollitu ipo 1.51 lakh solrenga .. 😢",
         "negative",
         0.5587881207466125,
         "booking_cancellation_process"
        ],
        [
         "2023-07-01",
         "Idhellam nalla company people&#39;s eppud nambi vanguvangaa",
         "negative",
         0.44859763979911804,
         "communication_by_company"
        ],
        [
         "2023-06-22",
         "VIDA V1 DUAL REMOVABLE BATTERY",
         "neutral",
         0.7884432673454285,
         "battery"
        ],
        [
         "2023-06-13",
         "Bro please upload this simple one vehicle real time review",
         "neutral",
         0.605574369430542,
         "performance"
        ],
        [
         "2023-06-11",
         "Hub motor or mid-drive motor ?",
         "neutral",
         0.8194324374198914,
         "comparison"
        ],
        [
         "2023-06-10",
         "Chennai show room location?",
         "neutral",
         0.8907392621040344,
         "communication_by_company"
        ],
        [
         "2023-06-09",
         "Puli varuthu puli varuthu nu solli ivan kuruda vittuvittu irukkan",
         "negative",
         0.42289015650749207,
         "design"
        ],
        [
         "2023-06-09",
         "Motha lauch pannunga",
         "negative",
         0.4429498016834259,
         "range"
        ],
        [
         "2023-06-08",
         "Over amount   but rate vise dicrese means better",
         "neutral",
         0.3812849819660187,
         "price"
        ],
        [
         "2023-06-07",
         "Tamiz pronunciation superb..   vantu.. vantu..   Is it tamiz word?? R u belongs to tamilnadu??",
         "positive",
         0.5728331208229065,
         "performance"
        ],
        [
         "2023-06-06",
         "விலை ரொம்ப அதிகம் பா.....",
         "negative",
         0.733925998210907,
         "range"
        ],
        [
         "2023-06-05",
         "😂😂😂😂😂😂😂😂😂<br>Not coming product time waste",
         "negative",
         0.8311288952827454,
         "comparison"
        ],
        [
         "2023-06-04",
         "Uruttu kanna uruttu.. last vara solitude than erupanuga.. eppo  varum appo  varumnu...",
         "negative",
         0.40654271841049194,
         "comparison"
        ],
        [
         "2023-06-03",
         "Bro.. Keeway bike review podunga sr125",
         "neutral",
         0.5670130252838135,
         "communication_by_company"
        ],
        [
         "2023-06-03",
         "2 varudamaa varum varum....yeppo ??",
         "neutral",
         0.40958425402641296,
         "range"
        ],
        [
         "2023-06-03",
         "All ev bike was high priced and Warenty was just 3year 40000 km was very poor Warenty if I buy this vehicle 1.5 lakhs what is the value after 3years was zero now and battery motor cost is very very high . It will all charge 200 there is no geranty.Ev purchase was very bad idea it was not value for money .",
         "negative",
         0.9032694101333618,
         "price"
        ],
        [
         "2023-06-03",
         "You speak without proper analysis. Ola s1 pro idc is 181 km for a 4 kwhr battery. That implies approximately 45 km per kwhr. Whereas simple one has 5 kwhr battery and hence have to give 5x45km=225 km idc. So there&#39;s nothing special. The reason 2 wheeler electric scooter manufacturers not going for higher range is due to weight of batteries. Normally a scooter has a popular weight range of 90 (to be correct 98) to 110 kg beyond which the intended customers either feels intimidated by the weight or feels discomfort to manover.simple one weighs high compared to other electric two wheelers.",
         "negative",
         0.4565636217594147,
         "comparison"
        ],
        [
         "2023-06-02",
         "Honda CB 300 f review panunga",
         "neutral",
         0.6876651048660278,
         "communication_by_company"
        ],
        [
         "2023-06-02",
         "விலை ஏற்றம் கொஞ்சம் அதிகம்",
         "neutral",
         0.5320287942886353,
         "range"
        ],
        [
         "2023-06-01",
         "Mileage 10-30% அதிகரிக்க!<br>👇<br>👇<br>👇<br><a href=\"https://youtu.be/SjZnj3iUPqw\">https://youtu.be/SjZnj3iUPqw</a>",
         "neutral",
         0.7850223779678345,
         "range"
        ],
        [
         "2023-05-31",
         "வணக்கம் நண்பா முதலில் சிம்பிள் ஒன் டெலிவரி கொடுங்க அப்புறம் மீதி வாடிக்கையாளரே சொல்லுவாங்க உங்க வண்டி நல்லா இருக்குதா இல்லையா என்று அப்புறம் 5 கிலோ வாட் பேட்டரிக்கு ஐடிசி ரேஞ்ச் 212 கிலோமீட்டர் சொன்னீங்க அது  என்ன ஸ்பீடு னு சொல்லுங்க சும்மா வீடியோ மட்டும் போட்டுட்டே இருந்தா மக்கள் எல்லாம் முட்டாள் இல்லை",
         "neutral",
         0.4901100993156433,
         "comparison"
        ],
        [
         "2023-05-31",
         "Bro Duke 200 bs6 Review uploaded paainugaa",
         "neutral",
         0.47602030634880066,
         "performance"
        ],
        [
         "2023-05-31",
         "தல நீயாவது சொல்லு தல,, புதுவண்டி எடுக்கும் போது.,, சாலை வரி எவ்வளவு,, பதிவு தொகை, எவ்வளவு என்பதை.. Showroom காரன் வாயில் வரும் விலையை சொல்றான்",
         "neutral",
         0.6331453323364258,
         "range"
        ],
        [
         "2023-05-30",
         "Long ride travel pannurathu ku Mahindra mojo edukalam ah bro ??",
         "neutral",
         0.3985872268676758,
         "range"
        ],
        [
         "2023-05-30",
         "price is too high not an affordable one",
         "negative",
         0.7632846832275391,
         "price"
        ],
        [
         "2023-05-30",
         "Ather 450x  copy pannirukkanga",
         "neutral",
         0.3880293071269989,
         "design"
        ],
        [
         "2023-05-29",
         "Money waste vehicle",
         "negative",
         0.9121741652488708,
         "price"
        ],
        [
         "2023-05-29",
         "Bro antha river ev scooter bangalore athu review panna mudiyuma illa namba oorula availability athulam <a href=\"https://youtu.be/cRZ4NeYYBZw\">https://youtu.be/cRZ4NeYYBZw</a>",
         "neutral",
         0.5275242924690247,
         "booking_cancellation_process"
        ],
        [
         "2023-05-29",
         "Waiting for the real time ride range on all modes review. Hope it will reach 200kms on eco mode??",
         "neutral",
         0.6224679946899414,
         "performance"
        ],
        [
         "2023-05-29",
         "Vida V1 which is already on the road has dual removable batteries.",
         "neutral",
         0.6248793601989746,
         "battery"
        ],
        [
         "2023-05-29",
         "I&#39;m ✋💚",
         "positive",
         0.5885498523712158,
         "comparison"
        ],
        [
         "2023-05-29",
         "Hero Xpulse 200 4v phase 2<br>Review ponduga ayaaaaa🎉🎉🎉",
         "positive",
         0.4793977439403534,
         "battery"
        ],
        [
         "2023-05-29",
         "Bro appadiye new xpulse review",
         "neutral",
         0.5789321064949036,
         "communication_by_company"
        ],
        [
         "2023-05-28",
         "நான் சின்ன பையன இருந்தப்ப இந்த வண்டிய பத்தி கேள்வி பட்டேன் என் பேர பய வந்துட்டா ன் ஏன் தாத்தா இந்த வண்டிக்கு பாத்துட்டு இருந்த என் பேரன் உன்ன உதப்பான்னு சொல்லிட்டு போய்ட்டான்",
         "neutral",
         0.448228120803833,
         "performance"
        ],
        [
         "2023-05-28",
         "Battery life<br>About 🔥",
         "neutral",
         0.767223596572876,
         "reliability_quality"
        ],
        [
         "2023-05-28",
         "Electricity Bill amount already yagiri irukku,include bike battery recharge it’s heavy for middle class.",
         "negative",
         0.8083451986312866,
         "price"
        ],
        [
         "2023-05-28",
         "Revnitro  squad",
         "neutral",
         0.4788936674594879,
         "performance"
        ],
        [
         "2023-05-28",
         "Bro pls upload 2023 Yezdi adventure review engine la etho upgrade pannirukangalame",
         "neutral",
         0.3548137843608856,
         "communication_by_company"
        ],
        [
         "2023-05-27",
         "When I get it",
         "neutral",
         0.5879215598106384,
         "comparison"
        ],
        [
         "2023-05-27",
         "Marketing sponsors hmm",
         "neutral",
         0.6291959285736084,
         "communication_by_company"
        ],
        [
         "2023-05-27",
         "R15 v3 maintenance vdo podunga yah 😢",
         "negative",
         0.8083961606025696,
         "comparison"
        ],
        [
         "2023-05-27",
         "On road 200 km vera level",
         "neutral",
         0.7128093242645264,
         "range"
        ],
        [
         "2023-05-27",
         "Price is high",
         "negative",
         0.5804232954978943,
         "price"
        ],
        [
         "2023-05-27",
         "Battery,motor on the way la heating issue pathi sonnangla bro",
         "neutral",
         0.4165118634700775,
         "battery"
        ],
        [
         "2023-05-27",
         "Unga phone madiri remote la உக்காந்துகிட்டு battery performance korachuduvanga. So don&#39;t buy electric. இதுக்கு பேரு OTA updates 😂",
         "negative",
         0.491770476102829,
         "performance"
        ],
        [
         "2023-05-27",
         "Waiting for battery performance",
         "neutral",
         0.7780512571334839,
         "comparison"
        ],
        [
         "2023-05-27",
         "<a href=\"https://www.youtube.com/watch?v=lYFYOt1o7vc&amp;t=5m47s\">5:47</a> odraaa odraaaaa simple and perfect review and no camera man 😂",
         "positive",
         0.423326313495636,
         "comparison"
        ],
        [
         "2023-05-27",
         "Always.. mass na ethana English song super ah ulla poturinga...",
         "positive",
         0.4642799198627472,
         "comparison"
        ],
        [
         "2023-05-27",
         "Ola vum ipaditha build pananga... Road la therinjichi epadinu... Simple onu pakalam.... Epadi pandranganu🙄... Still Ather best but... Price hike athigama iruku.. ithu vanthah Kami panuvanga pola",
         "negative",
         0.364654541015625,
         "comparison"
        ],
        [
         "2023-05-27",
         "Your Team has Good knowledge about Automobiles, Then Why don&#39;t you manufacture a Electric  bikes like this?",
         "neutral",
         0.4109233319759369,
         "comparison"
        ],
        [
         "2023-05-27",
         "4.37 the man with red shirt mass entry❤‍🔥🔥😂",
         "positive",
         0.4951722323894501,
         "comparison"
        ],
        [
         "2023-05-27",
         "Unexpected reviews",
         "negative",
         0.3693758249282837,
         "range"
        ],
        [
         "2023-05-27",
         "Well summarised about pros. However as Namma Pradeep thazhar cover pannapola, this premium scooter doesnt inspire confidence personally to me having announcing a launch within a empty factory. While already timelines are eaten up, how they&#39;re going to scale up and cater service/issues of initial batch of scooters leave a lot to be desired... Scooter la Evalo range I personally wont recommend since down the line Battery replacement might cost us a bomb!<br><br>TVS iQube ahh RevNitro style la review pannunga.. Unga therinja company thaane, Try pannalaame",
         "negative",
         0.5004276037216187,
         "communication_by_company"
        ],
        [
         "2023-05-27",
         "Bro Plz fz v2 VA Patti video la pesunga",
         "neutral",
         0.43146562576293945,
         "performance"
        ],
        [
         "2023-05-27",
         "Chennai based Bike Altius Scimitar 670 diesel bike eppa launch panranga bro",
         "neutral",
         0.5912598371505737,
         "design"
        ],
        [
         "2023-05-27",
         "Simple one king of electric scooters rip Ola and ather",
         "positive",
         0.5018125176429749,
         "design"
        ],
        [
         "2023-05-27",
         "Dual battery has also came in ampere too but simple has something different &amp; new Anna! <br><br><br>But overall Simple is just awesome 💥",
         "positive",
         0.8569965362548828,
         "comparison"
        ],
        [
         "2023-05-27",
         "need to know how reliable it is",
         "neutral",
         0.6839783787727356,
         "reliability_quality"
        ],
        [
         "2023-08-17",
         "Bhai...rainy season me pillion back seater ko bhi safety nahi he, kapde kharab tho pakka honge😂....full of splashes of mud and dirt etc",
         "negative",
         0.6296807527542114,
         "vehicle_issues_faults"
        ],
        [
         "2023-08-16",
         "How to booking",
         "neutral",
         0.7718232870101929,
         "communication_by_company"
        ],
        [
         "2023-08-16",
         "India me lunch ho rhi hai chutiye<br>Hindi me bolega to bhi samajh jayege log",
         "negative",
         0.357283353805542,
         "comparison"
        ],
        [
         "2023-08-11",
         "Very expensive",
         "negative",
         0.8062077760696411,
         "price"
        ],
        [
         "2023-08-11",
         "Only reason am going with simple one is the removable battery which can be used to swap in charging stations in coming future..",
         "positive",
         0.5486718416213989,
         "battery"
        ],
        [
         "2023-08-11",
         "Addredd",
         "neutral",
         0.35775700211524963,
         "comparison"
        ],
        [
         "2023-07-27",
         "Simple one nahi chutiya one hai ye",
         "neutral",
         0.4044658839702606,
         "comparison"
        ],
        [
         "2023-07-25",
         "Simple one - still no updates after your review did prebook. They are no updates from customer support. Refund also not possible. Stuck.",
         "negative",
         0.9095215201377869,
         "booking_cancellation_process"
        ],
        [
         "2023-07-18",
         "OVER PRICE SCUTY<a href=\"about:invalid#zCSafez\"></a><a href=\"about:invalid#zCSafez\"></a>",
         "negative",
         0.5708215832710266,
         "price"
        ],
        [
         "2023-07-08",
         "Is it available in surat",
         "neutral",
         0.8793321251869202,
         "range"
        ],
        [
         "2023-06-29",
         "I have been a proud owner of hero honda splendor pro .with superb mileage 😂😂😂😂😂",
         "positive",
         0.8338831067085266,
         "performance"
        ],
        [
         "2023-06-19",
         "Fake simple one scooter  I am from bangalore not even one scooter they&#39;re not released this is a fake company dont believe they&#39;re cheating kindly don&#39;t book better go to other ev scooters 😂😂😂😂😂",
         "negative",
         0.8656954765319824,
         "booking_cancellation_process"
        ],
        [
         "2023-06-18",
         "Very costly",
         "negative",
         0.8273797631263733,
         "price"
        ],
        [
         "2023-06-18",
         "The worst cinematograpger i have ever seen, he was trying too hard and ruined the video by taking it from a very low angle.",
         "negative",
         0.9453545212745667,
         "performance"
        ],
        [
         "2023-06-17",
         "Each ev is getting flop one by one just due to govt policy",
         "negative",
         0.9020374417304993,
         "comparison"
        ],
        [
         "2023-06-17",
         "Why to buy a scooter in 2lacs, when  road itself is not good, govt is just eating common people money",
         "negative",
         0.8882750272750854,
         "price"
        ],
        [
         "2023-06-12",
         "Simple one simply copycat, all fluff no stuff..how the heck do they propose to deliver 100000 vehicles in a month when their production is barely a double digit figure every month, the math doesn&#39;t really add up folksy..",
         "negative",
         0.9300705790519714,
         "comparison"
        ],
        [
         "2023-06-09",
         "There are any contact number",
         "neutral",
         0.8824760317802429,
         "comparison"
        ],
        [
         "2023-06-09",
         "Hi Like all this future off this bike oh can i made my booking",
         "neutral",
         0.58737713098526,
         "booking_cancellation_process"
        ],
        [
         "2023-06-03",
         "Ye jitni late launch hui itni hi jaldi market se gayab ho jayegi bcoz of PRICE",
         "negative",
         0.42776745557785034,
         "price"
        ],
        [
         "2023-06-02",
         "Ye toh simple one dhola de gaya customer ko phle bola ki 1.20lkh mai aayega ab bada Diya ye toh dhokha hai isse accha OLA hi thik hai mai chla wahi lene iska wait kiye pr disappointed 😡😡😡😡😡😡",
         "negative",
         0.5230308175086975,
         "comparison"
        ],
        [
         "2023-05-28",
         "Where is the usb port for charging mobile?",
         "neutral",
         0.8500638604164124,
         "design"
        ],
        [
         "2023-05-26",
         "1.58L, ola has leads, simple can&#39;t fight with established ather, also simple don&#39;t keep any promises",
         "negative",
         0.5051732659339905,
         "comparison"
        ],
        [
         "2023-05-26",
         "What&#39;s with the charger",
         "neutral",
         0.6561218500137329,
         "communication_by_company"
        ],
        [
         "2023-05-26",
         "I can buy R15 v4 in this price 😒",
         "negative",
         0.8497962951660156,
         "price"
        ],
        [
         "2023-05-26",
         "Why one would buy highly priced scooter? Why charger is costing extra? Their Subsidy should also be cut by govt.",
         "negative",
         0.8428876996040344,
         "price"
        ],
        [
         "2023-05-25",
         "Guys EVs are future understood,which means becomes affordable in future😂😂😂😂.",
         "positive",
         0.5562586784362793,
         "price"
        ],
        [
         "2023-05-25",
         "Simple one add 33% extra cost on last launch but those who book for  109000 i dont how much it cost😮",
         "neutral",
         0.5759332776069641,
         "comparison"
        ],
        [
         "2023-05-25",
         "Simple one add 33% extra cost on last launch but those who book for  109000 i dont how much it cost",
         "neutral",
         0.6670343279838562,
         "comparison"
        ],
        [
         "2023-05-25",
         "Warranty says good bye😂",
         "neutral",
         0.4660208225250244,
         "reliability_quality"
        ],
        [
         "2023-05-25",
         "Final price would more the 1.7L with RTO and charger and they are saying affordable electric bike??? and you know after 1 year they can charge you 3k per year for service like ola and ather, <br>electric kharid ke paisa bachane gaye the yahan toh ulta katne wala hinsab lag raha ha",
         "negative",
         0.3716111183166504,
         "price"
        ],
        [
         "2023-05-25",
         "Could you pls share the  battery durability and it&#39;s price when it requires replacement? Thanks",
         "neutral",
         0.8217026591300964,
         "battery"
        ],
        [
         "2023-05-24",
         "<a href=\"https://www.youtube.com/watch?v=jq1lUqHzwhg&amp;t=1m45s\">1:45</a> usable screen rectangle in nature then why it is designed as batman logo 😂😂",
         "neutral",
         0.7955162525177002,
         "design"
        ],
        [
         "2023-05-24",
         "Price has gone up high plus additional charger cost",
         "neutral",
         0.5106787085533142,
         "price"
        ],
        [
         "2023-05-24",
         "On road price at Jharkhand.....pls say?",
         "neutral",
         0.7274160981178284,
         "price"
        ],
        [
         "2023-05-24",
         "Simple energy wouldn’t give the production ready models for a test ride. <br>“So many restrictions” <br>Seems like they are still not ready. As they’ve lost credibility lately.",
         "negative",
         0.933683454990387,
         "comparison"
        ],
        [
         "2023-05-24",
         "Simple one has fooled all the 1lakh pre book customer collecting 20crores 2yrs back assuring 1.1lakh now if ex showroom price is 1.55 then on road would be 1.8lakh...my all waiting as gone into water price  nd even warranty is only 30,000km nd 1year charger is very less...so unworthy at the cost flop flop big dissapointnent",
         "negative",
         0.842354953289032,
         "comparison"
        ],
        [
         "2023-05-24",
         "Just this morning i saw someone driving in Bangalore and i was like wow it looks cool...i literally turn back to see the type of scooty....thank you now i know.",
         "positive",
         0.7979605197906494,
         "comparison"
        ],
        [
         "2023-05-24",
         "Price is crazy high, This might not be the right price for mass market, If you compare it with a petrol base model scooter(which everyone will do) you end up paying 60~70k extra for this one, and this extra amount is usually recovered in next 5 years(using this extra amount in filling petrol) assuming moderate riding everyday. so in short this scooter will start to give you benefits only after roughly 5 years, and after 5 years prices for ev scooters will be less, performance and price will be competetive to petrol scooters, so i think buying a scooter which is that expensive in 2023 might not be a good choice. !! Cheers :)",
         "negative",
         0.49638837575912476,
         "comparison"
        ],
        [
         "2023-05-24",
         "Would rather prefer a “Complicated One”",
         "neutral",
         0.6078056693077087,
         "comparison"
        ],
        [
         "2023-05-24",
         "How is this affordable? After waiting for 1.5 years they have made people fool",
         "negative",
         0.9264867305755615,
         "comparison"
        ],
        [
         "2023-05-24",
         "Looks promising. Weight gains, not a sturdy charger cover, front mud guard should be more cover to prevent mud, seperate rate for chargers shoot the price up. They need to introduce another varient with 4kw and 3kw battery varient. All Above all two wheeler ev need to standardised charging port and fast charging options. Need common charging points inside city and suburbs. Cafe day, malls, bp and hp pertol bunks, super market need more common charging points. We dont want  free charging on those charging pointsninstead reasonable price and more charging points are needed. Price is little bit high. They need to reduce otherwise it will impact in sales figures.",
         "negative",
         0.38343772292137146,
         "price"
        ],
        [
         "2023-05-24",
         "You didn&#39;t even notice the bad build quality of panels.<br>Please improve your review style.",
         "negative",
         0.8590552806854248,
         "comparison"
        ],
        [
         "2023-05-24",
         "After a long time wait for simple one, I bought a second hand platina for 35k gives 75kms range for 100rs petrol. 😂",
         "neutral",
         0.48927995562553406,
         "range"
        ],
        [
         "2023-05-24",
         "Abe angrej ke chode Hindi main baat karna",
         "negative",
         0.40545931458473206,
         "comparison"
        ],
        [
         "2023-05-24",
         "So the scooter costs 1.43L with a charger or is it not 1.43+30k",
         "neutral",
         0.7492038607597351,
         "price"
        ],
        [
         "2023-05-24",
         "If theirs battery swap stations facilities available in every 50km minimum ony you can purchase this scooter for long ride ,otherwise i still choose ather",
         "neutral",
         0.4836576282978058,
         "range"
        ],
        [
         "2023-05-24",
         "Let&#39;s wait for other ev price after 1st June😂, but this seems to be a good pricing as of now!!",
         "positive",
         0.675403356552124,
         "price"
        ],
        [
         "2023-05-24",
         "Is it having foot rest  for the pillion rider",
         "neutral",
         0.7495184540748596,
         "comparison"
        ],
        [
         "2023-05-24",
         "After long waiting for Simple, I bought Platina 110 ABS at 90k. I am happy now.",
         "positive",
         0.8016315698623657,
         "price"
        ],
        [
         "2023-05-23",
         "<a href=\"https://youtube.com/@marcyomotorcycles\">https://youtube.com/@marcyomotorcycles</a>",
         "neutral",
         0.898025393486023,
         "performance"
        ],
        [
         "2023-05-23",
         "Feeling like wasted 2 years watching update videos 😢.. Now waiting for rivot  nx100 video",
         "negative",
         0.8428559303283691,
         "comparison"
        ],
        [
         "2023-05-23",
         "I&#39;ve a daily running of 50kms. Please suggest whether to go for ev or petrol scooter and which scooter brand and model to go for? I&#39;m 6 ft 2 in tall and have a heavy build.",
         "neutral",
         0.8014683723449707,
         "range"
        ],
        [
         "2023-05-23",
         "Amazing.  This is truely the first made in india for indian conditions.  This will compete well against bounce infinity and give people that want a swappable battery a choice.  Really like the &quot;Hello Kitty&quot; dash design.  I am so glad they did not change that.  Fit and finish looks really good.  With over 1 lakh bookings and a factory that can produce 1000 bikes a week, I expect to see lots of simple bikes in showrooms in the next 3 weeks.  When do test rides start for the new model?  Simple energy is really pushing the bar in terms of features and deliveries, with rto reg in under 2 weeks.  I hope they open the payment window soon.  Looking forward to testing the app soon.  I hope its available for ios.  Thanks for the review.  Will helmets be included in Karnataka or separate charge.",
         "positive",
         0.5897914171218872,
         "design"
        ],
        [
         "2023-05-23",
         "I bought Ola S1 pro @1.4 this will sure be costly... My decision was right to pick ola as i still see simple one has lot more to achieve when consumer uses it",
         "negative",
         0.38587072491645813,
         "price"
        ],
        [
         "2023-05-23",
         "way too much overpriced, looters",
         "negative",
         0.9416585564613342,
         "price"
        ],
        [
         "2023-05-23",
         "Title says India’s Longest Range but did not reveal the number in the video",
         "neutral",
         0.778294026851654,
         "range"
        ],
        [
         "2023-05-23",
         "Overpriced",
         "negative",
         0.7967174649238586,
         "price"
        ],
        [
         "2023-05-23",
         "हिंदी में बोल",
         "neutral",
         0.4890435039997101,
         "comparison"
        ],
        [
         "2023-05-23",
         "Overpriced 😢",
         "negative",
         0.9422960877418518,
         "price"
        ],
        [
         "2023-05-23",
         "how fast does it go on ECO?",
         "neutral",
         0.8129934072494507,
         "performance"
        ],
        [
         "2023-05-23",
         "Price is too high",
         "negative",
         0.800267219543457,
         "price"
        ],
        [
         "2023-05-23",
         "Cancel kar diya, Petrol Scooter he theek hai ye EV EV EV kar ke samay aur paisa dono barbad he hoga",
         "negative",
         0.4750741124153137,
         "booking_cancellation_process"
        ],
        [
         "2023-05-23",
         "Copy of ather, if u never agree",
         "negative",
         0.5508675575256348,
         "comparison"
        ],
        [
         "2023-05-23",
         "Name is simple but design language is super complex 😂😂😂",
         "neutral",
         0.4561005234718323,
         "comparison"
        ],
        [
         "2023-05-23",
         "This looks like fancy imagination of batman fan boy.. not my type and not many will like it because of too many cuts and creases  angles .. 🥴🤮🤢",
         "negative",
         0.7644658088684082,
         "design"
        ],
        [
         "2023-05-23",
         "Government subsidy reduced 😮<br>Simple one increased price 😂<br>Aab yea amero ka vahan hai😅<br>Affordable logo ki booking cancel 😅.<br>Merebhi cancel 😂<br><br>Simple one EV matlab = Simple one expensive vehicle 😂<br><br>Chalo bhai abb YouTube pay eska update dekhna band. Maff karo galiti hogye prebook kar k 😅.<br><br>Nahi chahiye refund rakh lo suhasrajkumar 😅",
         "negative",
         0.40492287278175354,
         "booking_cancellation_process"
        ],
        [
         "2023-05-23",
         "I cancelled my booking today",
         "negative",
         0.7928747534751892,
         "booking_cancellation_process"
        ],
        [
         "2023-05-23",
         "Liked your T shirt btw 😊",
         "positive",
         0.8988136649131775,
         "design"
        ],
        [
         "2023-05-23",
         "isme invest karne se accha chetak ather ola pe karu",
         "negative",
         0.3709450662136078,
         "comparison"
        ],
        [
         "2023-05-23",
         "Lol 13K extra for charger?!! Fuking psychos",
         "negative",
         0.8860264420509338,
         "price"
        ],
        [
         "2023-05-23",
         "1.58 lakhs ex showroom with charger😂. Simple One is simply gone.😅",
         "negative",
         0.6508827209472656,
         "comparison"
        ],
        [
         "2023-05-23",
         "abhi bhi 7 din ka time hai S1 book kar do..<br>nahi to ather lo........5.27 secabhi v final design baki hai<a href=\"about:invalid#zCSafez\"></a>",
         "neutral",
         0.40970659255981445,
         "design"
        ],
        [
         "2023-05-23",
         "Simply I don&#39;t like it 🫨",
         "negative",
         0.9214547276496887,
         "comparison"
        ],
        [
         "2023-05-23",
         "Well! You know I had booked it, and then cancelled the booking. Since then it has been a year I have been a proud owner of Pulsar 150 TD",
         "positive",
         0.541331946849823,
         "booking_cancellation_process"
        ],
        [
         "2023-05-23",
         "Seat height and kerb weight is like an 160cc bike and a big segment of girls will not find this friendly to use.",
         "negative",
         0.7532514333724976,
         "comparison"
        ],
        [
         "2023-05-23",
         "Cancel Kar Diya Maine 2 Saal Se Chutiya Bana Raha Hai Simple One",
         "negative",
         0.5720374584197998,
         "booking_cancellation_process"
        ],
        [
         "2023-05-23",
         "Very expensive not for middle class<br>1.45 ex showroom means on road it could become 1.6 to 1.65 L + 13 k charger so it come close to 1.75 to 1.8l",
         "negative",
         0.571393609046936,
         "price"
        ],
        [
         "2023-05-23",
         "How much mileage,",
         "neutral",
         0.7805706262588501,
         "range"
        ],
        [
         "2023-05-23",
         "Can talk to Hindi now",
         "neutral",
         0.5827613472938538,
         "range"
        ],
        [
         "2023-05-23",
         "What a shame...Just a copy of Ather... features copied from ola...",
         "negative",
         0.9479893445968628,
         "comparison"
        ],
        [
         "2023-05-23",
         "Crap if they sell charger separately...soon it would be like build your own scooter kind...😢",
         "negative",
         0.9161041378974915,
         "comparison"
        ],
        [
         "2023-05-23",
         "Can you please make a 5 Ft or 5.2 Ft person sit on it for reference?<br>It Is a huge huge Deal breaker or maker for me.<br>Thank you❤",
         "positive",
         0.5072720646858215,
         "comparison"
        ],
        [
         "2023-05-23",
         "i will buy river indie 😅 suv of the scooter",
         "neutral",
         0.6244533061981201,
         "design"
        ],
        [
         "2023-05-23",
         "Range anxiety <br>1.5 lack price<br><br>To promote green energy it is too much anxiety with a far higher price 😊😊",
         "negative",
         0.5044295787811279,
         "range"
        ],
        [
         "2023-05-23",
         "Watching launch event... everybody whistling n cheers....but when they reveal price pin drop silence even not a single clapping😂😂😂😂",
         "negative",
         0.504987359046936,
         "price"
        ],
        [
         "2023-05-23",
         "gan k neeeche he battery lagi h",
         "negative",
         0.3411003351211548,
         "battery"
        ],
        [
         "2023-05-23",
         "This has 5,5 kw battery, Ather is only 3.7 kw so this has much bigger battery infact best in the segment and also more powerful than Ather.",
         "positive",
         0.5064584612846375,
         "battery"
        ],
        [
         "2023-05-23",
         "This looks like Ather, simply a waste in waiting for the last 2 years.... Probably they just made us big fools are collecting money for their capital by showing attractive price and now increasing the price after getting all the necessary funding...",
         "negative",
         0.9313297271728516,
         "comparison"
        ],
        [
         "2023-05-23",
         "over priced",
         "negative",
         0.7316790819168091,
         "price"
        ],
        [
         "2023-05-23",
         "Ctrl+c  ather  ctrl +v=simple",
         "neutral",
         0.7277646064758301,
         "comparison"
        ],
        [
         "2023-05-23",
         "Phew...that&#39;s 150kgs ...but cute.... Atherini ❤",
         "positive",
         0.8286252617835999,
         "range"
        ],
        [
         "2023-05-23",
         "Ather at 1.6L on road should i buy.",
         "neutral",
         0.8374956846237183,
         "range"
        ],
        [
         "2023-05-23",
         "Looks like Ather 450 😀",
         "positive",
         0.7383133172988892,
         "design"
        ],
        [
         "2023-05-23",
         "Too much expensive",
         "negative",
         0.8247422575950623,
         "price"
        ],
        [
         "2023-05-23",
         "Aa per the government rule they can not sell the charger because for ather customer ather is refunding charger amount as per government guidline",
         "negative",
         0.4825441837310791,
         "battery"
        ],
        [
         "2023-05-23",
         "Simple one has produced a gud scooter but they r going to lose d competition 😐I mean a ev scooter worth 1.7+ is way too much to pay,plus from June subsidy is going to reduce even more😐",
         "negative",
         0.852236807346344,
         "comparison"
        ],
        [
         "2023-05-23",
         "Still i think ather is the best buy.",
         "positive",
         0.8301792740821838,
         "comparison"
        ],
        [
         "2023-05-23",
         "Love the T-shirt 😂",
         "positive",
         0.899272084236145,
         "design"
        ],
        [
         "2023-05-23",
         "Range also reduced &amp; price  increased 😅",
         "neutral",
         0.5605199337005615,
         "price"
        ],
        [
         "2023-05-23",
         "Look so cool of this electric scooter. Hopefully this scooter can import to Malaysia. I am from Malaysia.",
         "positive",
         0.8755095601081848,
         "design"
        ],
        [
         "2023-05-23",
         "Does it have speakers",
         "neutral",
         0.8340169191360474,
         "performance"
        ],
        [
         "2023-05-23",
         "I would like to see the on road price including the charger cost in review.",
         "neutral",
         0.8400084972381592,
         "comparison"
        ],
        [
         "2023-05-23",
         "Range test",
         "neutral",
         0.43522313237190247,
         "range"
        ],
        [
         "2023-05-23",
         "is there any speaker over hook??",
         "neutral",
         0.799923837184906,
         "range"
        ],
        [
         "2023-05-23",
         "Even ather is now 1.4L with pro pack after state subsidy including charger<br><br>And there a huge problem with simple 1 , ground clearance while cornering, its very low",
         "negative",
         0.8645634055137634,
         "vehicle_issues_faults"
        ],
        [
         "2023-05-23",
         "Bogus concept of selling chargers separately! They only have 1 option of charger and they are selling it separately!! Don&#39;t promote such 2 wheeler brands and urge everyone not to fall into those gimmicks!",
         "negative",
         0.911359965801239,
         "battery"
        ],
        [
         "2023-05-23",
         "Isse acha river indie h....... 125k",
         "neutral",
         0.3622702360153198,
         "range"
        ],
        [
         "2023-05-23",
         "Sir We need Range Test done on your Show",
         "neutral",
         0.6052867770195007,
         "range"
        ],
        [
         "2023-05-23",
         "Worth it🔥🔥",
         "positive",
         0.8747490644454956,
         "price"
        ],
        [
         "2023-05-23",
         "Where can we see it? Is it available to see somewhere in Delhi NCR?",
         "neutral",
         0.8892013430595398,
         "range"
        ],
        [
         "2023-05-23",
         "Simple is going to be dead simply after this very affordable price 😢",
         "negative",
         0.9354977011680603,
         "price"
        ],
        [
         "2023-05-23",
         "This scooter last 2 years on the internet , but not on the road, 😡😡🤬🤬🤬🤬🤬🤬🤬🤬🤬",
         "negative",
         0.8929588198661804,
         "design"
        ],
        [
         "2023-05-23",
         "From every angle I can look at it from your video, this &quot;simply&quot; looks like an Ather... 🙂",
         "positive",
         0.7444204092025757,
         "comparison"
        ],
        [
         "2023-05-23",
         "Bengaluru ke do bhai - ek ram (ather) aur ek lakhan (simple one)",
         "neutral",
         0.4031153619289398,
         "comparison"
        ],
        [
         "2023-05-23",
         "These ev startups asking for a fortune for an average product in comparison to other products available in the market seems quite over optimistic to be honest",
         "negative",
         0.718419075012207,
         "comparison"
        ],
        [
         "2023-05-23",
         "On road price with charger will be very expensive.",
         "negative",
         0.7958509922027588,
         "price"
        ],
        [
         "2023-05-23",
         "I got my Ather 450x with pro pack for 1 lakh 51, along with 750 watt charger.. ⚡️I feel that was the best purchase considering the price of simple one and slash in fame 2 subsidy! ⚠️",
         "positive",
         0.781988799571991,
         "price"
        ],
        [
         "2023-05-23",
         "Me watching the same 😢video in my platina",
         "negative",
         0.7127773761749268,
         "comparison"
        ],
        [
         "2023-05-23",
         "Ex showroom 1.45 L<br>On road price 1.70 L<br>Charger 13k<br>Total of 1.90 L<br>Very expensive I guess",
         "negative",
         0.6114089488983154,
         "price"
        ],
        [
         "2023-05-23",
         "The price seems 30% hike compared to launch price and additional 10% for charger. They cannot call it as affordable electric EV anymore and it&#39;s bit higher side for the new brands. They are comparing against reputed brands which is not fair.",
         "negative",
         0.8585587739944458,
         "price"
        ],
        [
         "2023-05-23",
         "Autocar &amp; Bikewithgirl spotted 😂",
         "neutral",
         0.7371509075164795,
         "communication_by_company"
        ],
        [
         "2023-05-23",
         "Abb baad me tire, side stand will be sold separately. 😂😂.",
         "neutral",
         0.5436733365058899,
         "sales_service"
        ],
        [
         "2023-05-23",
         "Very bad move of selling charger seperately",
         "negative",
         0.9442816376686096,
         "comparison"
        ],
        [
         "2023-05-23",
         "Every thing ok but not happy with charger 😔 13k for that?",
         "negative",
         0.8979558348655701,
         "price"
        ],
        [
         "2023-05-23",
         "Zigwheels 🔥",
         "positive",
         0.7242034077644348,
         "design"
        ],
        [
         "2023-05-23",
         "Price 😢",
         "negative",
         0.879231333732605,
         "price"
        ],
        [
         "2023-05-23",
         "Indian EV market finally started evolving ❤.",
         "positive",
         0.692009687423706,
         "comparison"
        ],
        [
         "2023-05-23",
         "Was waiting for your review",
         "neutral",
         0.5471218824386597,
         "comparison"
        ],
        [
         "2023-05-23",
         "Phirst",
         "neutral",
         0.37846896052360535,
         "comparison"
        ],
        [
         "2023-08-17",
         "Bhai...rainy season me pillion back seater ko bhi safety nahi he, kapde kharab tho pakka honge😂 full of splashes with mud or dirt etc",
         "negative",
         0.6479756832122803,
         "vehicle_issues_faults"
        ],
        [
         "2023-08-17",
         "Everything is perfect prices too much not affordable😢",
         "negative",
         0.8195828795433044,
         "price"
        ],
        [
         "2023-07-25",
         "Simple one - still no updates after your review did prebook. They are no updates from customer support. Refund also not possible. Stuck.",
         "negative",
         0.9095215201377869,
         "booking_cancellation_process"
        ],
        [
         "2023-06-17",
         "full bhikari company ,,, jo apna official website ka maintence , devolopment ka  kharcha nahi uttha sakta.... <a href=\"about:invalid#zCSafez\"></a>",
         "negative",
         0.4968014657497406,
         "communication_by_company"
        ],
        [
         "2023-06-13",
         "To my eyes, the fit and finish still looks a bit iffy! The plastics hmm.",
         "negative",
         0.919533908367157,
         "comparison"
        ],
        [
         "2023-06-09",
         "Should soon release a 3.8-4 kwh battery pack version under 1.2-1.3 lakh. more than 1.4 lakh price the market is still not beyond 10 percent of ev market.. already Ather n Hero Vida are playing in this  space.",
         "neutral",
         0.5061737895011902,
         "battery"
        ],
        [
         "2023-06-06",
         "Jangd bille",
         "neutral",
         0.3467324376106262,
         "price"
        ],
        [
         "2023-06-05",
         "Is it is sutable for 6ft Person&#39;s... ?",
         "neutral",
         0.5799164772033691,
         "comparison"
        ],
        [
         "2023-06-01",
         "You guys are really misleading false information to the viewers 😡...<br><br>The battery size has been DECREASED, NOT INCREASED... The previous prototype model has a total battery size capacity of 6.4 kW [4.8 kW (fixed battery) &amp; 1.6 kW (swappable battery)]... 🤨🤨🤨",
         "negative",
         0.8885848522186279,
         "battery"
        ],
        [
         "2023-05-31",
         "Simple one is stilllllllllllllll",
         "neutral",
         0.4449382722377777,
         "comparison"
        ],
        [
         "2023-05-31",
         "In how many cities it is ready for delivery? Is there any timeline they hv given. I am sure they didnt. The thing is, these companies throw money to auto journalist like u and u will speak watever they written down.",
         "negative",
         0.6809847950935364,
         "communication_by_company"
        ],
        [
         "2023-05-30",
         "Xsr 155 India mein launch kab tak Hoga koi information hai",
         "neutral",
         0.7412065267562866,
         "comparison"
        ],
        [
         "2023-05-30",
         "You are silent about the body plastic quality 😢",
         "negative",
         0.9087863564491272,
         "comparison"
        ],
        [
         "2023-05-30",
         "Simply fail product 🙋",
         "negative",
         0.8945894241333008,
         "comparison"
        ],
        [
         "2023-05-26",
         "Madarchod h company ek to itna time laga diya chalo time lagaya koi baat nhi par price kitna bada Diya",
         "negative",
         0.40088754892349243,
         "communication_by_company"
        ],
        [
         "2023-05-26",
         "We need to pay almost 2 laks 😕",
         "negative",
         0.854024350643158,
         "price"
        ],
        [
         "2023-05-26",
         "Bad descision just like Ultraviolet f77, India is a price sensitive market,",
         "negative",
         0.9449615478515625,
         "price"
        ],
        [
         "2023-05-26",
         "Tvs i qube is the best one for money",
         "positive",
         0.6368180513381958,
         "price"
        ],
        [
         "2023-05-26",
         "Why not add solar panels as well between 2 mirrors on the handle, 90% scooters in India are parked in open spaces and India of course has abundant sunlight",
         "neutral",
         0.5152642130851746,
         "design"
        ],
        [
         "2023-05-26",
         "Overpriced. 👎",
         "negative",
         0.9607557058334351,
         "price"
        ],
        [
         "2023-05-26",
         "False promises... Ha ha",
         "negative",
         0.48736000061035156,
         "comparison"
        ],
        [
         "2023-05-26",
         "How many Kms or years is the warranty of battery ?",
         "neutral",
         0.8879093527793884,
         "battery"
        ],
        [
         "2023-05-26",
         "Both batteries are going to charge simultaneously, when we plug in to the socket or separately v hv t charge ?",
         "neutral",
         0.7967760562896729,
         "battery"
        ],
        [
         "2023-05-26",
         "Looks are worst in simple one &amp; Ather where as performance will be good i think",
         "negative",
         0.918438732624054,
         "comparison"
        ],
        [
         "2023-05-25",
         "Bihar, Patna me show room hai",
         "neutral",
         0.48869094252586365,
         "performance"
        ],
        [
         "2023-05-24",
         "What abt standard charger? Are they giving or NOT !",
         "neutral",
         0.7153117060661316,
         "battery"
        ],
        [
         "2023-05-24",
         "I feel sorry for the people who waited for this scooter.",
         "negative",
         0.9459734559059143,
         "comparison"
        ],
        [
         "2023-05-24",
         "Another Chinese product🤦🏻‍♂️",
         "negative",
         0.8038027882575989,
         "comparison"
        ],
        [
         "2023-05-24",
         "Its not even going to go 200 km. Its clear from current scooter standards that 30km per kw is also not possible. So the max you can get from this is 150 that also if you are lucky considering the 134 kg weight",
         "negative",
         0.4856884479522705,
         "comparison"
        ],
        [
         "2023-05-24",
         "Ola is aag ka gola",
         "positive",
         0.5261735916137695,
         "comparison"
        ],
        [
         "2023-05-24",
         "भायो बहोत महंगी  है यह गड्डी",
         "negative",
         0.8346772193908691,
         "comparison"
        ],
        [
         "2023-05-24",
         "Looks very similar to Ather",
         "neutral",
         0.4211788475513458,
         "comparison"
        ],
        [
         "2023-05-24",
         "Need to know how it performs in poor rosds and crashing in steep speed bumps. Initial impressions for me is the chasis isn&#39;t sturdy enough whenu said  they need a reinforcement to fix it.",
         "negative",
         0.8203285336494446,
         "performance"
        ],
        [
         "2023-05-24",
         "Simple one has a more complex design <br>Ather 450x has a more simple design<br><br>😂<br>Change my mind",
         "neutral",
         0.4987494647502899,
         "comparison"
        ],
        [
         "2023-05-24",
         "i have booked river indie and will wait for the suv of the scooter😅",
         "neutral",
         0.6293764114379883,
         "sales_service"
        ],
        [
         "2023-05-24",
         "Big fat ather nothing else !!! I can say that as ather owner",
         "positive",
         0.5896551609039307,
         "comparison"
        ],
        [
         "2023-05-24",
         "where in &quot;outside bangalore&quot; .. @autocar ? attibele ? sarjapur ? hoskote ?",
         "neutral",
         0.5543920397758484,
         "communication_by_company"
        ],
        [
         "2023-05-24",
         "This simple one ev bike is nice and in this higher range speed bike comparatively to at her ev simple one given detachable battery that is one good plus point😊😊😊",
         "positive",
         0.7379456758499146,
         "comparison"
        ],
        [
         "2023-05-24",
         "If I am going to buy any electric scooter it will be Ather reason Gen 1 product Suck &amp; ather is already at Gen 3, Just waiting for the redesign",
         "negative",
         0.8967176675796509,
         "design"
        ],
        [
         "2023-05-24",
         "Waiting tvs st version",
         "neutral",
         0.7362059950828552,
         "comparison"
        ],
        [
         "2023-05-24",
         "They should provide ABS also with this model",
         "neutral",
         0.5021142959594727,
         "design"
        ],
        [
         "2023-05-24",
         "Seems like a cheap copy of Ather.",
         "negative",
         0.8542574048042297,
         "comparison"
        ],
        [
         "2023-05-24",
         "How long will it take to charge the scooter from the free charger provided by the company and also how many watts is the free charger please let me know soon",
         "neutral",
         0.8331363797187805,
         "communication_by_company"
        ],
        [
         "2023-05-24",
         "Better buy TVS iQube 😂😂",
         "neutral",
         0.49947816133499146,
         "sales_service"
        ],
        [
         "2023-05-24",
         "Ather on steroids 😂",
         "neutral",
         0.40092897415161133,
         "performance"
        ],
        [
         "2023-05-24",
         "We&#39;ll wait for you to test and give final review.",
         "neutral",
         0.5478237271308899,
         "performance"
        ],
        [
         "2023-05-24",
         "nice",
         "positive",
         0.4518437683582306,
         "design"
        ],
        [
         "2023-05-24",
         "After sale value???? Ill buy Aprilia😂",
         "neutral",
         0.7601854801177979,
         "comparison"
        ],
        [
         "2023-05-24",
         "Seems like duplicate of ather",
         "negative",
         0.5516183972358704,
         "comparison"
        ],
        [
         "2023-05-24",
         "What is that cost",
         "neutral",
         0.63071608543396,
         "price"
        ],
        [
         "2023-05-24",
         "Idk why people are crying. if they deliver on range and performance I feel this is still a great value for money. Lets be realistic people this was NEVER going to launch at 1.1L with all the variables considered in the current ev market.",
         "negative",
         0.488284707069397,
         "comparison"
        ],
        [
         "2023-05-24",
         "Modified Ather looks good 😅",
         "positive",
         0.7935934662818909,
         "design"
        ],
        [
         "2023-05-24",
         "How many times  first look god only knows when it is going to come",
         "neutral",
         0.6721940040588379,
         "comparison"
        ],
        [
         "2023-05-24",
         "Instead of going with secondary split battery, they shld have removed it and able to place the with 3.4kw priced near 1.1lakh",
         "neutral",
         0.5056775212287903,
         "price"
        ],
        [
         "2023-05-23",
         "What about the subsidy",
         "neutral",
         0.6195257902145386,
         "comparison"
        ],
        [
         "2023-05-23",
         "This EV scooter is everything what I&#39;ve asked for! Worth every rupee. Scam Ola and Greedy Ather can shove it. TVS and Simple for the win.",
         "positive",
         0.6602722406387329,
         "price"
        ],
        [
         "2023-05-23",
         "I don&#39;t think anyone will get to test drive this scooter in the near time. This is 3rd time they are launching this scooter in the past 2 years",
         "neutral",
         0.49349281191825867,
         "booking_cancellation_process"
        ],
        [
         "2023-05-23",
         "TVS IQUBE ST, where are you?????????????",
         "negative",
         0.5558717846870422,
         "communication_by_company"
        ],
        [
         "2023-05-23",
         "They really forgot why the company was started. Their motto was to provide a good range sccoter at lower price.... Claimed but failed to do so... Might be due to increasing competition😢",
         "negative",
         0.9228010177612305,
         "price"
        ],
        [
         "2023-05-23",
         "I&#39;ve a daily running of 50kms. Please suggest whether to go for ev or petrol scooter and which scooter brand and model to go for? I&#39;m 6 ft 2 in tall and have a heavy build.",
         "neutral",
         0.8014683723449707,
         "range"
        ],
        [
         "2023-05-23",
         "The design is anything but simple. Looks like a cheap Chinese Ather knockoff.",
         "negative",
         0.3946574330329895,
         "design"
        ],
        [
         "2023-05-23",
         "Seriously looks like a chinese ather knock off",
         "negative",
         0.8150191903114319,
         "comparison"
        ],
        [
         "2023-05-23",
         "way too much overpriced, bunch of looters",
         "negative",
         0.9475730061531067,
         "price"
        ],
        [
         "2023-05-23",
         "Being an Ather 450 owner, I can say one thing for sure - these guys have taken serious &quot;inspiration&quot; from Ather 450 design. Be it the lights, rear view mirror fix position, side stand, disc brakes, rear mud guard etc. Nonetheless, I really wish the customers get to ride an awesome overall bike experience (including the service).",
         "positive",
         0.8142216205596924,
         "design"
        ],
        [
         "2023-05-23",
         "Is it just me or does the fit and finish not look as good as the Ather&#39;s? Even the screen doesn&#39;t look as sharp or crisp in the video. Curious to know how it performs against all of its chief rivals in all aspects.",
         "negative",
         0.8427348732948303,
         "comparison"
        ],
        [
         "2023-05-23",
         "I think its a 90% copy of Ather 450x.",
         "neutral",
         0.8093534111976624,
         "comparison"
        ],
        [
         "2023-05-23",
         "Simply Ather :)",
         "positive",
         0.8616186380386353,
         "design"
        ],
        [
         "2023-05-23",
         "It&#39;s better than ola in my opinion.",
         "positive",
         0.420879602432251,
         "comparison"
        ],
        [
         "2023-05-23",
         "Turst me people will move back to petrol bike these bike are getting ao costly .. one cant take the range anxiety with the price tag more than 1.5 lakhs . We would rather buy royal Enfield..",
         "negative",
         0.6581727862358093,
         "price"
        ],
        [
         "2023-05-23",
         "I hooe the hype can deliver expectations...",
         "positive",
         0.7968313694000244,
         "comparison"
        ],
        [
         "2023-05-23",
         "Copy of ather 😂😂 just copy paste and change the colour combination ,, if any one accepted please like it",
         "neutral",
         0.4789447486400604,
         "design"
        ],
        [
         "2023-05-23",
         "Price is not simple",
         "neutral",
         0.4754587411880493,
         "comparison"
        ],
        [
         "2023-05-23",
         "Government subsidy reduced 😮<br>Simple one increased price 😂<br>Aab yea amero ka vahan hai😅<br>Affordable logo ki booking cancel 😅.<br>Merebhi cancel 😂<br><br>Simple one EV matlab = Simple one expensive vehicle 😂<br><br>Chalo bhai abb YouTube pay eska update dekhna band. Maff karo galiti hogye prebook kar k 😅.<br><br>Nahi chahiye refund.",
         "negative",
         0.4099073112010956,
         "booking_cancellation_process"
        ],
        [
         "2023-05-23",
         "So it&#39;s not really launched even this time?",
         "neutral",
         0.6538892984390259,
         "comparison"
        ],
        [
         "2023-05-23",
         "A copy which cost same as the original big 👎🏻 nooooo",
         "negative",
         0.9324045777320862,
         "price"
        ],
        [
         "2023-05-23",
         "Really I am very interested to have that❤",
         "positive",
         0.8898049592971802,
         "comparison"
        ],
        [
         "2023-05-23",
         "River Indie is already booked. There is nothing else compared to that in the market ❤",
         "positive",
         0.8926002383232117,
         "comparison"
        ],
        [
         "2023-05-23",
         "Finally !!!<br>While I admire its ‘regular scooter like’ looks, its price is really disappointing.. Not sure if higher range can become USP of a scooter since it’s mostly used for city commutes only..<br>I’d rather buy a less expensive scooter with a lesser range..",
         "negative",
         0.8769286870956421,
         "price"
        ],
        [
         "2023-05-23",
         "Copy and paste of Ather. 😂😂",
         "neutral",
         0.5049828290939331,
         "comparison"
        ],
        [
         "2023-05-23",
         "Don&#39;t buy ev they should be priced below 1 lakh",
         "negative",
         0.6537309288978577,
         "price"
        ],
        [
         "2023-05-23",
         "For the Guy who edit these videos <br><br>The skintone is too warm",
         "negative",
         0.6183266639709473,
         "comparison"
        ],
        [
         "2023-05-23",
         "The battery looses efficiency overtime as many times the module is charged, say suppose after 50 charges the time is going to increase to charge it and as well it will get heavier on the purse. The battery technology has to get better",
         "neutral",
         0.6048303842544556,
         "battery"
        ],
        [
         "2023-05-23",
         "Ather Ripoff",
         "neutral",
         0.6482087969779968,
         "comparison"
        ],
        [
         "2023-05-23",
         "Another copy of ather 450x. But the range compare to price is great.",
         "positive",
         0.8119577765464783,
         "comparison"
        ],
        [
         "2023-05-23",
         "Ather clone.😏",
         "neutral",
         0.4290615916252136,
         "comparison"
        ],
        [
         "2023-05-23",
         "Electric Scooters in market are getting better day after day 👏with a much economic price point.",
         "positive",
         0.752082109451294,
         "price"
        ],
        [
         "2023-05-23",
         "Price isn&#39;t a big issue coz new Fame 2 subsidies mean every scooter will be more expensive. I just want to wait a few months for first buyers to experience it.",
         "neutral",
         0.5351536870002747,
         "comparison"
        ],
        [
         "2023-05-23",
         "Only 1 problem-price i cant afford",
         "negative",
         0.8768168091773987,
         "price"
        ],
        [
         "2023-05-23",
         "Nice🎉",
         "positive",
         0.6449009776115417,
         "design"
        ],
        [
         "2023-05-23",
         "Cool",
         "positive",
         0.49128666520118713,
         "design"
        ],
        [
         "2023-05-23",
         "Hum first",
         "neutral",
         0.47660666704177856,
         "comparison"
        ],
        [
         "2023-05-23",
         "1st..😂🎉",
         "positive",
         0.5786173343658447,
         "comparison"
        ],
        [
         "2023-05-23",
         "1st comment😂 1st view , 1st like 😂",
         "neutral",
         0.6134026050567627,
         "comparison"
        ]
       ],
       "datasetInfos": [],
       "dbfsResultPath": null,
       "isJsonSchema": true,
       "metadata": {},
       "overflow": false,
       "plotOptions": {
        "customPlotOptions": {},
        "displayType": "table",
        "pivotAggregation": null,
        "pivotColumns": null,
        "xColumns": null,
        "yColumns": null
       },
       "removedWidgets": [],
       "schema": [
        {
         "metadata": "{}",
         "name": "date",
         "type": "\"date\""
        },
        {
         "metadata": "{}",
         "name": "comment_text",
         "type": "\"string\""
        },
        {
         "metadata": "{}",
         "name": "sentiment_label",
         "type": "\"string\""
        },
        {
         "metadata": "{}",
         "name": "sentiment_score",
         "type": "\"double\""
        },
        {
         "metadata": "{}",
         "name": "features",
         "type": "\"string\""
        }
       ],
       "type": "table"
      }
     },
     "output_type": "display_data"
    },
    {
     "output_type": "display_data",
     "data": {
      "text/plain": [
       "Databricks visualization. Run in Databricks to view."
      ]
     },
     "metadata": {
      "application/vnd.databricks.v1.subcommand+json": {
       "bindings": {},
       "collapsed": false,
       "command": "%python\n__backend_agg_display_orig = display\n__backend_agg_dfs = []\ndef __backend_agg_display_new(df):\n    __backend_agg_df_modules = [\"pandas.core.frame\", \"databricks.koalas.frame\", \"pyspark.sql.dataframe\", \"pyspark.pandas.frame\", \"pyspark.sql.connect.dataframe\"]\n    if (type(df).__module__ in __backend_agg_df_modules and type(df).__name__ == 'DataFrame') or isinstance(df, list):\n        __backend_agg_dfs.append(df)\n\ndisplay = __backend_agg_display_new\n\ndef __backend_agg_user_code_fn():\n    import base64\n    exec(base64.standard_b64decode(\"ZGlzcGxheShkZik=\").decode())\n\ntry:\n    # run user code\n    __backend_agg_user_code_fn()\n\n    #reset display function\n    display = __backend_agg_display_orig\n\n    if len(__backend_agg_dfs) > 0:\n        # create a temp view\n        if type(__backend_agg_dfs[0]).__module__ == \"databricks.koalas.frame\":\n            # koalas dataframe\n            __backend_agg_dfs[0].to_spark().createOrReplaceTempView(\"DatabricksView9a9e0fb\")\n        elif type(__backend_agg_dfs[0]).__module__ == \"pandas.core.frame\" or isinstance(__backend_agg_dfs[0], list):\n            # pandas dataframe\n            spark.createDataFrame(__backend_agg_dfs[0]).createOrReplaceTempView(\"DatabricksView9a9e0fb\")\n        else:\n            __backend_agg_dfs[0].createOrReplaceTempView(\"DatabricksView9a9e0fb\")\n        #run backend agg\n        display(spark.sql(\"\"\"WITH q AS (select * from DatabricksView9a9e0fb) SELECT `sentiment_label`,COUNT(*) `column_bf858741371` FROM q GROUP BY `sentiment_label`\"\"\"))\n    else:\n        displayHTML(\"dataframe no longer exists. If you're using dataframe.display(), use display(dataframe) instead.\")\n\n\nfinally:\n    spark.sql(\"drop view if exists DatabricksView9a9e0fb\")\n    display = __backend_agg_display_orig\n    del __backend_agg_display_new\n    del __backend_agg_display_orig\n    del __backend_agg_dfs\n    del __backend_agg_user_code_fn\n\n",
       "commandTitle": "Sentiments Overview",
       "commandType": "auto",
       "commandVersion": 0,
       "commentThread": [],
       "commentsVisible": false,
       "contentSha256Hex": null,
       "customPlotOptions": {
        "redashChart": [
         {
          "key": "type",
          "value": "CHART"
         },
         {
          "key": "options",
          "value": {
           "alignYAxesAtZero": true,
           "coefficient": 1,
           "columnConfigurationMap": {
            "x": {
             "column": "sentiment_label",
             "id": "column_bf858741369"
            },
            "y": [
             {
              "column": "*",
              "id": "column_bf858741371",
              "transform": "COUNT"
             }
            ]
           },
           "dateTimeFormat": "DD/MM/YYYY HH:mm",
           "direction": {
            "type": "counterclockwise"
           },
           "error_y": {
            "type": "data",
            "visible": true
           },
           "globalSeriesType": "column",
           "isAggregationOn": true,
           "legend": {
            "traceorder": "normal"
           },
           "missingValuesAsZero": true,
           "numberFormat": "0,0[.]00000",
           "percentFormat": "0[.]00%",
           "series": {
            "error_y": {
             "type": "data",
             "visible": true
            },
            "stacking": null
           },
           "seriesOptions": {
            "column_bf858741371": {
             "color": "#00B6EB",
             "type": "column",
             "yAxis": 0
            }
           },
           "showDataLabels": false,
           "sizemode": "diameter",
           "sortX": true,
           "sortY": true,
           "swappedAxes": false,
           "textFormat": "",
           "useAggregationsUi": true,
           "valuesOptions": {},
           "version": 2,
           "xAxis": {
            "labels": {
             "enabled": true
            },
            "title": {
             "text": "Sentiments"
            },
            "type": "-"
           },
           "yAxis": [
            {
             "title": {
              "text": "Datapoints"
             },
             "type": "-"
            },
            {
             "opposite": true,
             "type": "-"
            }
           ]
          }
         }
        ]
       },
       "datasetPreviewNameToCmdIdMap": {},
       "diffDeletes": [],
       "diffInserts": [],
       "displayType": "redashChart",
       "error": null,
       "errorSummary": null,
       "errorTraceType": null,
       "finishTime": 0,
       "globalVars": {},
       "guid": "",
       "height": "670",
       "hideCommandCode": false,
       "hideCommandResult": false,
       "iPythonMetadata": null,
       "inputWidgets": {},
       "isLockedInExamMode": false,
       "latestUser": "a user",
       "latestUserId": null,
       "listResultMetadata": null,
       "metadata": {},
       "nuid": "389d71ba-d435-4e15-96c8-da390fac6773",
       "origId": 0,
       "parentHierarchy": [],
       "pivotAggregation": null,
       "pivotColumns": null,
       "position": 1.09375,
       "resultDbfsErrorMessage": null,
       "resultDbfsStatus": "INLINED_IN_TREE",
       "results": null,
       "showCommandTitle": false,
       "startTime": 0,
       "state": "input",
       "streamStates": {},
       "subcommandOptions": {
        "queryPlan": {
         "groups": [
          {
           "column": "sentiment_label",
           "type": "column"
          }
         ],
         "selects": [
          {
           "column": "sentiment_label",
           "type": "column"
          },
          {
           "alias": "column_bf858741371",
           "args": [
            {
             "column": "*",
             "type": "column"
            }
           ],
           "function": "COUNT",
           "type": "function"
          }
         ]
        }
       },
       "submitTime": 0,
       "subtype": "tableResultSubCmd.visualization",
       "tableResultIndex": 0,
       "useConsistentColors": false,
       "version": "CommandV1",
       "width": "1031",
       "workflows": [],
       "xColumns": null,
       "yColumns": null
      }
     },
     "output_type": "display_data"
    },
    {
     "output_type": "display_data",
     "data": {
      "text/plain": [
       "Databricks visualization. Run in Databricks to view."
      ]
     },
     "metadata": {
      "application/vnd.databricks.v1.subcommand+json": {
       "bindings": {},
       "collapsed": false,
       "command": "%python\n__backend_agg_display_orig = display\n__backend_agg_dfs = []\ndef __backend_agg_display_new(df):\n    __backend_agg_df_modules = [\"pandas.core.frame\", \"databricks.koalas.frame\", \"pyspark.sql.dataframe\", \"pyspark.pandas.frame\", \"pyspark.sql.connect.dataframe\"]\n    if (type(df).__module__ in __backend_agg_df_modules and type(df).__name__ == 'DataFrame') or isinstance(df, list):\n        __backend_agg_dfs.append(df)\n\ndisplay = __backend_agg_display_new\n\ndef __backend_agg_user_code_fn():\n    import base64\n    exec(base64.standard_b64decode(\"ZGlzcGxheShkZik=\").decode())\n\ntry:\n    # run user code\n    __backend_agg_user_code_fn()\n\n    #reset display function\n    display = __backend_agg_display_orig\n\n    if len(__backend_agg_dfs) > 0:\n        # create a temp view\n        if type(__backend_agg_dfs[0]).__module__ == \"databricks.koalas.frame\":\n            # koalas dataframe\n            __backend_agg_dfs[0].to_spark().createOrReplaceTempView(\"DatabricksView9063d71\")\n        elif type(__backend_agg_dfs[0]).__module__ == \"pandas.core.frame\" or isinstance(__backend_agg_dfs[0], list):\n            # pandas dataframe\n            spark.createDataFrame(__backend_agg_dfs[0]).createOrReplaceTempView(\"DatabricksView9063d71\")\n        else:\n            __backend_agg_dfs[0].createOrReplaceTempView(\"DatabricksView9063d71\")\n        #run backend agg\n        display(spark.sql(\"\"\"WITH q AS (select * from DatabricksView9063d71) SELECT `features`,`sentiment_score` FROM q\"\"\"))\n    else:\n        displayHTML(\"dataframe no longer exists. If you're using dataframe.display(), use display(dataframe) instead.\")\n\n\nfinally:\n    spark.sql(\"drop view if exists DatabricksView9063d71\")\n    display = __backend_agg_display_orig\n    del __backend_agg_display_new\n    del __backend_agg_display_orig\n    del __backend_agg_dfs\n    del __backend_agg_user_code_fn\n\n",
       "commandTitle": "Points of Interest",
       "commandType": "auto",
       "commandVersion": 0,
       "commentThread": [],
       "commentsVisible": false,
       "contentSha256Hex": null,
       "customPlotOptions": {
        "redashChart": [
         {
          "key": "type",
          "value": "CHART"
         },
         {
          "key": "options",
          "value": {
           "alignYAxesAtZero": true,
           "coefficient": 1,
           "columnConfigurationMap": {
            "x": {
             "column": "features",
             "id": "column_bf858741357"
            },
            "y": [
             {
              "column": "sentiment_score",
              "id": "column_bf858741361"
             }
            ]
           },
           "dateTimeFormat": "DD/MM/YYYY HH:mm",
           "direction": {
            "type": "counterclockwise"
           },
           "error_y": {
            "type": "data",
            "visible": true
           },
           "globalSeriesType": "scatter",
           "legend": {
            "traceorder": "normal"
           },
           "missingValuesAsZero": true,
           "numberFormat": "0,0[.]00000",
           "percentFormat": "0[.]00%",
           "series": {
            "error_y": {
             "type": "data",
             "visible": true
            },
            "stacking": null
           },
           "seriesOptions": {
            "features": {
             "type": "scatter",
             "yAxis": 0
            },
            "sentiment_label": {
             "type": "scatter",
             "yAxis": 0
            },
            "sentiment_score": {
             "color": "#049235",
             "type": "scatter",
             "yAxis": 0
            }
           },
           "showDataLabels": false,
           "sizemode": "diameter",
           "sortX": true,
           "sortY": true,
           "swappedAxes": false,
           "textFormat": "",
           "useAggregationsUi": true,
           "valuesOptions": {},
           "version": 2,
           "xAxis": {
            "labels": {
             "enabled": true
            },
            "title": {
             "text": "Features"
            },
            "type": "-"
           },
           "yAxis": [
            {
             "title": {
              "text": "Sentiment Score"
             },
             "type": "-"
            },
            {
             "opposite": true,
             "title": {
              "text": null
             },
             "type": "-"
            }
           ]
          }
         }
        ]
       },
       "datasetPreviewNameToCmdIdMap": {},
       "diffDeletes": [],
       "diffInserts": [],
       "displayType": "redashChart",
       "error": null,
       "errorSummary": null,
       "errorTraceType": null,
       "finishTime": 0,
       "globalVars": {},
       "guid": "",
       "height": "615",
       "hideCommandCode": false,
       "hideCommandResult": false,
       "iPythonMetadata": null,
       "inputWidgets": {},
       "isLockedInExamMode": false,
       "latestUser": "a user",
       "latestUserId": null,
       "listResultMetadata": null,
       "metadata": {},
       "nuid": "5c6d22b8-ed0d-4150-abaa-cd45cf415c4b",
       "origId": 0,
       "parentHierarchy": [],
       "pivotAggregation": null,
       "pivotColumns": null,
       "position": 2.1875,
       "resultDbfsErrorMessage": null,
       "resultDbfsStatus": "INLINED_IN_TREE",
       "results": null,
       "showCommandTitle": false,
       "startTime": 0,
       "state": "input",
       "streamStates": {},
       "subcommandOptions": {
        "queryPlan": {
         "selects": [
          {
           "column": "features",
           "type": "column"
          },
          {
           "column": "sentiment_score",
           "type": "column"
          }
         ]
        }
       },
       "submitTime": 0,
       "subtype": "tableResultSubCmd.visualization",
       "tableResultIndex": 0,
       "useConsistentColors": false,
       "version": "CommandV1",
       "width": "1732",
       "workflows": [],
       "xColumns": null,
       "yColumns": null
      }
     },
     "output_type": "display_data"
    },
    {
     "output_type": "display_data",
     "data": {
      "text/plain": [
       "Databricks visualization. Run in Databricks to view."
      ]
     },
     "metadata": {
      "application/vnd.databricks.v1.subcommand+json": {
       "bindings": {},
       "collapsed": false,
       "command": "%python\n__backend_agg_display_orig = display\n__backend_agg_dfs = []\ndef __backend_agg_display_new(df):\n    __backend_agg_df_modules = [\"pandas.core.frame\", \"databricks.koalas.frame\", \"pyspark.sql.dataframe\", \"pyspark.pandas.frame\", \"pyspark.sql.connect.dataframe\"]\n    if (type(df).__module__ in __backend_agg_df_modules and type(df).__name__ == 'DataFrame') or isinstance(df, list):\n        __backend_agg_dfs.append(df)\n\ndisplay = __backend_agg_display_new\n\ndef __backend_agg_user_code_fn():\n    import base64\n    exec(base64.standard_b64decode(\"ZGlzcGxheShkZik=\").decode())\n\ntry:\n    # run user code\n    __backend_agg_user_code_fn()\n\n    #reset display function\n    display = __backend_agg_display_orig\n\n    if len(__backend_agg_dfs) > 0:\n        # create a temp view\n        if type(__backend_agg_dfs[0]).__module__ == \"databricks.koalas.frame\":\n            # koalas dataframe\n            __backend_agg_dfs[0].to_spark().createOrReplaceTempView(\"DatabricksViewe7493fd\")\n        elif type(__backend_agg_dfs[0]).__module__ == \"pandas.core.frame\" or isinstance(__backend_agg_dfs[0], list):\n            # pandas dataframe\n            spark.createDataFrame(__backend_agg_dfs[0]).createOrReplaceTempView(\"DatabricksViewe7493fd\")\n        else:\n            __backend_agg_dfs[0].createOrReplaceTempView(\"DatabricksViewe7493fd\")\n        #run backend agg\n        display(spark.sql(\"\"\"WITH q AS (select * from DatabricksViewe7493fd) SELECT `sentiment_label` FROM q GROUP BY `sentiment_label`\"\"\"))\n    else:\n        displayHTML(\"dataframe no longer exists. If you're using dataframe.display(), use display(dataframe) instead.\")\n\n\nfinally:\n    spark.sql(\"drop view if exists DatabricksViewe7493fd\")\n    display = __backend_agg_display_orig\n    del __backend_agg_display_new\n    del __backend_agg_display_orig\n    del __backend_agg_dfs\n    del __backend_agg_user_code_fn\n\n",
       "commandTitle": "Sentiment %",
       "commandType": "auto",
       "commandVersion": 0,
       "commentThread": [],
       "commentsVisible": false,
       "contentSha256Hex": null,
       "customPlotOptions": {
        "redashChart": [
         {
          "key": "type",
          "value": "CHART"
         },
         {
          "key": "options",
          "value": {
           "alignYAxesAtZero": true,
           "coefficient": 1,
           "columnConfigurationMap": {
            "x": {
             "column": "sentiment_label",
             "id": "column_bf858741314"
            },
            "y": [
             {
              "column": "sentiment_score",
              "id": "column_bf858741337",
              "transform": "SUM"
             }
            ]
           },
           "dateTimeFormat": "DD/MM/YYYY HH:mm",
           "direction": {
            "type": "clockwise"
           },
           "error_y": {
            "type": "data",
            "visible": true
           },
           "globalSeriesType": "pie",
           "isAggregationOn": true,
           "legend": {
            "traceorder": "normal"
           },
           "missingValuesAsZero": false,
           "numberFormat": "0,0[.]00000",
           "percentFormat": "0[.]00%",
           "series": {
            "error_y": {
             "type": "data",
             "visible": true
            },
            "stacking": null
           },
           "seriesOptions": {
            "column_bf858741333": {
             "type": "pie",
             "yAxis": 0
            },
            "column_bf858741337": {
             "name": "Sentiment %",
             "type": "pie",
             "yAxis": 0
            }
           },
           "showDataLabels": true,
           "sizemode": "diameter",
           "sortX": true,
           "sortY": true,
           "swappedAxes": false,
           "textFormat": "",
           "useAggregationsUi": true,
           "valuesOptions": {
            "negative": {
             "color": "#E92828"
            },
            "neutral": {
             "color": "#799CFF"
            },
            "positive": {
             "color": "#8CFFB4"
            }
           },
           "version": 2,
           "xAxis": {
            "labels": {
             "enabled": true
            },
            "type": "-"
           },
           "yAxis": [
            {
             "type": "-"
            },
            {
             "opposite": true,
             "type": "-"
            }
           ]
          }
         }
        ]
       },
       "datasetPreviewNameToCmdIdMap": {},
       "diffDeletes": [],
       "diffInserts": [],
       "displayType": "redashChart",
       "error": null,
       "errorSummary": null,
       "errorTraceType": null,
       "finishTime": 0,
       "globalVars": {},
       "guid": "",
       "height": "468",
       "hideCommandCode": false,
       "hideCommandResult": false,
       "iPythonMetadata": null,
       "inputWidgets": {},
       "isLockedInExamMode": false,
       "latestUser": "a user",
       "latestUserId": null,
       "listResultMetadata": null,
       "metadata": {},
       "nuid": "a8eec760-b601-4fa2-ba12-3c5aa226e583",
       "origId": 0,
       "parentHierarchy": [],
       "pivotAggregation": null,
       "pivotColumns": null,
       "position": 4.375,
       "resultDbfsErrorMessage": null,
       "resultDbfsStatus": "INLINED_IN_TREE",
       "results": null,
       "showCommandTitle": false,
       "startTime": 0,
       "state": "input",
       "streamStates": {},
       "subcommandOptions": {
        "queryPlan": {
         "groups": [
          {
           "column": "sentiment_label",
           "type": "column"
          }
         ],
         "selects": [
          {
           "column": "sentiment_label",
           "type": "column"
          },
          {
           "alias": "column_bf858741337",
           "args": [
            {
             "column": "sentiment_score",
             "type": "column"
            }
           ],
           "function": "SUM",
           "type": "function"
          }
         ]
        }
       },
       "submitTime": 0,
       "subtype": "tableResultSubCmd.visualization",
       "tableResultIndex": 0,
       "useConsistentColors": false,
       "version": "CommandV1",
       "width": "772",
       "workflows": [],
       "xColumns": null,
       "yColumns": null
      }
     },
     "output_type": "display_data"
    },
    {
     "output_type": "display_data",
     "data": {
      "text/plain": [
       "Databricks visualization. Run in Databricks to view."
      ]
     },
     "metadata": {
      "application/vnd.databricks.v1.subcommand+json": {
       "bindings": {},
       "collapsed": false,
       "command": "%python\n__backend_agg_display_orig = display\n__backend_agg_dfs = []\ndef __backend_agg_display_new(df):\n    __backend_agg_df_modules = [\"pandas.core.frame\", \"databricks.koalas.frame\", \"pyspark.sql.dataframe\", \"pyspark.pandas.frame\", \"pyspark.sql.connect.dataframe\"]\n    if (type(df).__module__ in __backend_agg_df_modules and type(df).__name__ == 'DataFrame') or isinstance(df, list):\n        __backend_agg_dfs.append(df)\n\ndisplay = __backend_agg_display_new\n\ndef __backend_agg_user_code_fn():\n    import base64\n    exec(base64.standard_b64decode(\"ZGlzcGxheShkZik=\").decode())\n\ntry:\n    # run user code\n    __backend_agg_user_code_fn()\n\n    #reset display function\n    display = __backend_agg_display_orig\n\n    if len(__backend_agg_dfs) > 0:\n        # create a temp view\n        if type(__backend_agg_dfs[0]).__module__ == \"databricks.koalas.frame\":\n            # koalas dataframe\n            __backend_agg_dfs[0].to_spark().createOrReplaceTempView(\"DatabricksView07b280f\")\n        elif type(__backend_agg_dfs[0]).__module__ == \"pandas.core.frame\" or isinstance(__backend_agg_dfs[0], list):\n            # pandas dataframe\n            spark.createDataFrame(__backend_agg_dfs[0]).createOrReplaceTempView(\"DatabricksView07b280f\")\n        else:\n            __backend_agg_dfs[0].createOrReplaceTempView(\"DatabricksView07b280f\")\n        #run backend agg\n        display(spark.sql(\"\"\"WITH q AS (select * from DatabricksView07b280f) SELECT `sentiment_label`,COUNT(`sentiment_score`) `column_bf858741325`,`features` FROM q GROUP BY `features`,`sentiment_label`\"\"\"))\n    else:\n        displayHTML(\"dataframe no longer exists. If you're using dataframe.display(), use display(dataframe) instead.\")\n\n\nfinally:\n    spark.sql(\"drop view if exists DatabricksView07b280f\")\n    display = __backend_agg_display_orig\n    del __backend_agg_display_new\n    del __backend_agg_display_orig\n    del __backend_agg_dfs\n    del __backend_agg_user_code_fn\n\n",
       "commandTitle": "Sentiments w.r.t. Features",
       "commandType": "auto",
       "commandVersion": 0,
       "commentThread": [],
       "commentsVisible": false,
       "contentSha256Hex": null,
       "customPlotOptions": {
        "redashChart": [
         {
          "key": "type",
          "value": "CHART"
         },
         {
          "key": "options",
          "value": {
           "alignYAxesAtZero": true,
           "coefficient": 1,
           "columnConfigurationMap": {
            "series": {
             "column": "features",
             "id": "column_bf858741327"
            },
            "x": {
             "column": "sentiment_label",
             "id": "column_bf858741323"
            },
            "y": [
             {
              "column": "sentiment_score",
              "id": "column_bf858741325",
              "transform": "SUM"
             }
            ]
           },
           "dateTimeFormat": "DD/MM/YYYY HH:mm",
           "direction": {
            "type": "counterclockwise"
           },
           "error_y": {
            "type": "data",
            "visible": true
           },
           "globalSeriesType": "column",
           "isAggregationOn": true,
           "legend": {
            "traceorder": "normal"
           },
           "missingValuesAsZero": true,
           "numberFormat": "0,0[.]00000",
           "percentFormat": "0[.]00%",
           "series": {
            "error_y": {
             "type": "data",
             "visible": true
            },
            "stacking": null
           },
           "seriesOptions": {
            "battery": {
             "name": "Battery",
             "yAxis": 0
            },
            "booking_cancellation_process": {
             "name": "Booking and Cancellations"
            },
            "column_bf858741325": {
             "type": "column",
             "yAxis": 0
            },
            "communication_by_company": {
             "name": "Communication by company"
            },
            "comparison": {
             "name": "Comparison"
            },
            "design": {
             "name": "Design"
            },
            "performance": {
             "name": "Performance"
            },
            "price": {
             "name": "Price"
            },
            "range": {
             "name": "Range"
            },
            "reliability_quality": {
             "name": "Quality and Reliability"
            },
            "sales_service": {
             "name": "Sales & Service"
            },
            "vehicle_issues_faults": {
             "name": "Vehicle Faults"
            }
           },
           "showDataLabels": false,
           "sizemode": "diameter",
           "sortX": true,
           "sortY": true,
           "swappedAxes": false,
           "textFormat": "",
           "useAggregationsUi": true,
           "valuesOptions": {},
           "version": 2,
           "xAxis": {
            "labels": {
             "enabled": true
            },
            "title": {
             "text": "Sentiment"
            },
            "type": "-"
           },
           "yAxis": [
            {
             "title": {
              "text": "Score"
             },
             "type": "-"
            },
            {
             "opposite": true,
             "type": "-"
            }
           ]
          }
         }
        ]
       },
       "datasetPreviewNameToCmdIdMap": {},
       "diffDeletes": [],
       "diffInserts": [],
       "displayType": "redashChart",
       "error": null,
       "errorSummary": null,
       "errorTraceType": null,
       "finishTime": 0,
       "globalVars": {},
       "guid": "",
       "height": "829",
       "hideCommandCode": false,
       "hideCommandResult": false,
       "iPythonMetadata": null,
       "inputWidgets": {},
       "isLockedInExamMode": false,
       "latestUser": "a user",
       "latestUserId": null,
       "listResultMetadata": null,
       "metadata": {},
       "nuid": "c086310b-045a-48c2-b8c7-2e861fa6afb4",
       "origId": 0,
       "parentHierarchy": [],
       "pivotAggregation": null,
       "pivotColumns": null,
       "position": 5.375,
       "resultDbfsErrorMessage": null,
       "resultDbfsStatus": "INLINED_IN_TREE",
       "results": null,
       "showCommandTitle": false,
       "startTime": 0,
       "state": "input",
       "streamStates": {},
       "subcommandOptions": {
        "queryPlan": {
         "groups": [
          {
           "column": "sentiment_label",
           "type": "column"
          },
          {
           "column": "features",
           "type": "column"
          }
         ],
         "selects": [
          {
           "column": "sentiment_label",
           "type": "column"
          },
          {
           "alias": "column_bf858741325",
           "args": [
            {
             "column": "sentiment_score",
             "type": "column"
            }
           ],
           "function": "SUM",
           "type": "function"
          },
          {
           "column": "features",
           "type": "column"
          }
         ]
        }
       },
       "submitTime": 0,
       "subtype": "tableResultSubCmd.visualization",
       "tableResultIndex": 0,
       "useConsistentColors": false,
       "version": "CommandV1",
       "width": "1379",
       "workflows": [],
       "xColumns": null,
       "yColumns": null
      }
     },
     "output_type": "display_data"
    }
   ],
   "source": [
    "display(df)"
   ]
  },
  {
   "cell_type": "code",
   "execution_count": 0,
   "metadata": {
    "application/vnd.databricks.v1+cell": {
     "cellMetadata": {},
     "inputWidgets": {},
     "nuid": "fca6ac4d-d4ef-4e28-9e63-c82313c11784",
     "showTitle": false,
     "title": ""
    }
   },
   "outputs": [],
   "source": [
    "# Initialize an MLflow experiment\n",
    "mlflow.set_experiment(\"/Users/mohamed.zahid@simpleenergy.in/sentiment_analysis\")\n",
    "\n",
    "# Define the zero-shot classification pipeline\n",
    "classifier = pipeline(\"zero-shot-classification\", model=\"MoritzLaurer/DeBERTa-v3-base-mnli-fever-anli\")\n",
    "\n",
    "# Function to classify a single row and return the label with the highest score\n",
    "def classify_and_get_highest_label(row):\n",
    "    output = classifier(row['comment_text'], feature_labels, multi_label=False)\n",
    "    index_of_highest_score = output[\"scores\"].index(max(output[\"scores\"]))\n",
    "    return output[\"labels\"][index_of_highest_score]\n",
    "\n",
    "feature_labels = [\n",
    "    \"booking_cancellation_process\",\n",
    "    \"range\",\n",
    "    \"battery\",\n",
    "    \"reliability_quality\",\n",
    "    \"communication_by_company\",\n",
    "    \"comparison\",\n",
    "    \"price\",\n",
    "    \"sales_service\",\n",
    "    \"delivery_time\",\n",
    "    \"performance\",\n",
    "    \"design\",\n",
    "    \"vehicle_issues_faults\"\n",
    "]\n",
    "\n",
    "with mlflow.start_run():\n",
    "    # Log parameters\n",
    "    mlflow.log_params({\"feature_labels\": feature_labels})\n",
    "    df['features'] = df.apply(classify_and_get_highest_label, axis=1)\n",
    "\n",
    "    # Log artifacts\n",
    "    mlflow.log_artifacts(\"dbfs:/FileStore\")\n",
    "\n",
    "    # Save the model for model registry\n",
    "    mlflow.huggingface.save_model(\n",
    "        model_name=\"sentiment_analysis_model\",\n",
    "        path=\"dbfs:/FileStore\",\n",
    "        registered_model_name=\"sentiment_analysis_model_v1\"\n",
    "    )\n",
    "    \n",
    "df\n"
   ]
  },
  {
   "cell_type": "code",
   "execution_count": 0,
   "metadata": {
    "application/vnd.databricks.v1+cell": {
     "cellMetadata": {},
     "inputWidgets": {},
     "nuid": "dff11fb3-12f6-424e-855e-36352249ec9e",
     "showTitle": false,
     "title": ""
    }
   },
   "outputs": [],
   "source": [
    "# Initialize an MLflow experiment\n",
    "mlflow.set_experiment(\"/Users/mohamed.zahid@simpleenergy.in/sentiment_analysis\")\n",
    "\n",
    "# Define the zero-shot classification pipeline\n",
    "classifier = pipeline(\"zero-shot-classification\", model=\"MoritzLaurer/DeBERTa-v3-base-mnli-fever-anli\")\n",
    "\n",
    "# Function to classify a single row and return the label with the highest score\n",
    "def classify_and_get_highest_label(row):\n",
    "    output = classifier(row['comment_text'], feature_labels, multi_label=False)\n",
    "    index_of_highest_score = output[\"scores\"].index(max(output[\"scores\"]))\n",
    "    return output[\"labels\"][index_of_highest_score]\n",
    "\n",
    "# Apply the classification function to each row and append the result to a new 'features' column\n",
    "#candidate_labels = [\"politics\", \"economy\", \"entertainment\", \"environment\"]\n",
    "feature_labels = [\n",
    "    \"booking_cancellation_process\",\n",
    "    \"range\",\n",
    "    \"battery\",\n",
    "    \"reliability_quality\",\n",
    "    \"communication_by_company\",\n",
    "    \"comparison\",\n",
    "    \"price\",\n",
    "    \"sales_service\",\n",
    "    \"delivery_time\",\n",
    "    \"performance\",\n",
    "    \"design\",\n",
    "    \"vehicle_issues_faults\"\n",
    "]\n",
    "\n",
    "with mlflow.start_run():\n",
    "    # Log parameters\n",
    "    mlflow.log_params({\"feature_labels\": feature_labels})\n",
    "    # Load your DataFrame 'df'\n",
    "    # df = pd.read_csv(\"your_data.csv\")\n",
    "\n",
    "    df['features'] = df.apply(classify_and_get_highest_label, axis=1)\n",
    "\n",
    "    # Log artifacts\n",
    "    mlflow.log_artifacts(\"dbfs:/FileStore\")\n",
    "    \n",
    "df"
   ]
  },
  {
   "cell_type": "code",
   "execution_count": 0,
   "metadata": {
    "application/vnd.databricks.v1+cell": {
     "cellMetadata": {},
     "inputWidgets": {},
     "nuid": "b8e86a67-d7a3-4fed-930b-d95655f993bc",
     "showTitle": false,
     "title": ""
    }
   },
   "outputs": [],
   "source": [
    "# Initialize an MLflow experiment\n",
    "mlflow.set_experiment(\"/Users/mohamed.zahid@simpleenergy.in/sentiment_analysis\")\n",
    "\n",
    "# Define the zero-shot classification pipeline\n",
    "classifier = pipeline(\"zero-shot-classification\", model=\"MoritzLaurer/DeBERTa-v3-base-mnli-fever-anli\")\n",
    "\n",
    "# Function to classify a single row and return the label with the highest score\n",
    "def classify_and_get_highest_label(row):\n",
    "    output = classifier(row['comment_text'], feature_labels, multi_label=False)\n",
    "    index_of_highest_score = output[\"scores\"].index(max(output[\"scores\"]))\n",
    "    return output[\"labels\"][index_of_highest_score]\n",
    "\n",
    "# Apply the classification function to each row and append the result to a new 'features' column\n",
    "#candidate_labels = [\"politics\", \"economy\", \"entertainment\", \"environment\"]\n",
    "feature_labels = [\n",
    "    \"booking_cancellation_process\",\n",
    "    \"range\",\n",
    "    \"battery\",\n",
    "    \"reliability_quality\",\n",
    "    \"communication_by_company\",\n",
    "    \"comparison\",\n",
    "    \"price\",\n",
    "    \"sales_service\",\n",
    "    \"delivery_time\",\n",
    "    \"performance\",\n",
    "    \"design\",\n",
    "    \"vehicle_issues_faults\"\n",
    "]\n",
    "\n",
    "with mlflow.start_run():\n",
    "    # Log parameters\n",
    "    mlflow.log_params({\"feature_labels\": feature_labels})\n",
    "    # Load your DataFrame 'df'\n",
    "    # df = pd.read_csv(\"your_data.csv\")\n",
    "\n",
    "    df['features'] = df.apply(classify_and_get_highest_label, axis=1)\n",
    "\n",
    "df"
   ]
  }
 ],
 "metadata": {
  "application/vnd.databricks.v1+notebook": {
   "dashboards": [
    {
     "elements": [],
     "globalVars": {},
     "guid": "",
     "layoutOption": {
      "grid": true,
      "stack": true
     },
     "nuid": "b038e025-a698-4084-aea4-1e84387d8082",
     "origId": 0,
     "title": "Untitled",
     "version": "DashboardViewV1",
     "width": 1024
    },
    {
     "elements": [
      {
       "dashboardResultIndex": null,
       "elementNUID": "389d71ba-d435-4e15-96c8-da390fac6773",
       "elementType": "command",
       "guid": "168188f4-d203-4741-8ef1-3adebb215f5d",
       "options": null,
       "position": {
        "height": 10,
        "width": 12,
        "x": 12,
        "y": 0,
        "z": null
       },
       "resultIndex": null
      },
      {
       "dashboardResultIndex": null,
       "elementNUID": "a8eec760-b601-4fa2-ba12-3c5aa226e583",
       "elementType": "command",
       "guid": "47fa8311-bce5-423f-ae47-f5e14d1b9fbd",
       "options": null,
       "position": {
        "height": 9,
        "width": 12,
        "x": 0,
        "y": 0,
        "z": null
       },
       "resultIndex": null
      },
      {
       "dashboardResultIndex": null,
       "elementNUID": "5c6d22b8-ed0d-4150-abaa-cd45cf415c4b",
       "elementType": "command",
       "guid": "6615e8e0-3910-4e58-94ef-7727715abf72",
       "options": null,
       "position": {
        "height": 11,
        "width": 24,
        "x": 0,
        "y": 10,
        "z": null
       },
       "resultIndex": null
      },
      {
       "dashboardResultIndex": null,
       "elementNUID": "c086310b-045a-48c2-b8c7-2e861fa6afb4",
       "elementType": "command",
       "guid": "e4194fb2-ed31-4671-8078-caf69aa8c07c",
       "options": null,
       "position": {
        "height": 10,
        "width": 24,
        "x": 0,
        "y": 21,
        "z": null
       },
       "resultIndex": null
      }
     ],
     "globalVars": {},
     "guid": "",
     "layoutOption": {
      "grid": true,
      "stack": true
     },
     "nuid": "0d3b9761-a613-4863-9a9e-1162a1a44d8e",
     "origId": 0,
     "title": "Sentiment analysis",
     "version": "DashboardViewV1",
     "width": 1024
    },
    {
     "elements": [],
     "globalVars": {},
     "guid": "",
     "layoutOption": {
      "grid": true,
      "stack": true
     },
     "nuid": "a942d910-8990-4182-bb23-a307fbc1d19f",
     "origId": 0,
     "title": "Untitled",
     "version": "DashboardViewV1",
     "width": 1024
    },
    {
     "elements": [
      {
       "dashboardResultIndex": null,
       "elementNUID": "c086310b-045a-48c2-b8c7-2e861fa6afb4",
       "elementType": "command",
       "guid": "0f1cf11e-390e-4690-8970-92e55d488047",
       "options": null,
       "position": {
        "height": 12,
        "width": 24,
        "x": 0,
        "y": 22,
        "z": null
       },
       "resultIndex": null
      },
      {
       "dashboardResultIndex": null,
       "elementNUID": "5c6d22b8-ed0d-4150-abaa-cd45cf415c4b",
       "elementType": "command",
       "guid": "273d3fb4-370e-4bfc-88d1-65e6c17bf221",
       "options": null,
       "position": {
        "height": 11,
        "width": 24,
        "x": 0,
        "y": 11,
        "z": null
       },
       "resultIndex": null
      },
      {
       "dashboardResultIndex": null,
       "elementNUID": "389d71ba-d435-4e15-96c8-da390fac6773",
       "elementType": "command",
       "guid": "5e1d4f3b-f5a4-4a1f-9167-38b5653bfd20",
       "options": null,
       "position": {
        "height": 11,
        "width": 12,
        "x": 0,
        "y": 0,
        "z": null
       },
       "resultIndex": null
      },
      {
       "dashboardResultIndex": null,
       "elementNUID": "a8eec760-b601-4fa2-ba12-3c5aa226e583",
       "elementType": "command",
       "guid": "5e6eaf35-b5cf-46b5-a756-6322bbec9bf4",
       "options": null,
       "position": {
        "height": 11,
        "width": 12,
        "x": 12,
        "y": 0,
        "z": null
       },
       "resultIndex": null
      }
     ],
     "globalVars": {},
     "guid": "",
     "layoutOption": {
      "grid": true,
      "stack": true
     },
     "nuid": "b4f3206f-c0d9-4590-9de7-e854d7bad341",
     "origId": 0,
     "title": "Sentiment Analysis",
     "version": "DashboardViewV1",
     "width": 1024
    }
   ],
   "language": "python",
   "notebookMetadata": {
    "pythonIndentUnit": 4
   },
   "notebookName": "LLM Application",
   "widgets": {}
  }
 },
 "nbformat": 4,
 "nbformat_minor": 0
}
